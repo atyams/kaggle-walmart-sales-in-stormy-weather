{
 "cells": [
  {
   "cell_type": "markdown",
   "metadata": {},
   "source": [
    "# Walmart : Sales in Stormy Weather"
   ]
  },
  {
   "cell_type": "markdown",
   "metadata": {},
   "source": [
    "<img src=\"data/walmart.jpg\">"
   ]
  },
  {
   "cell_type": "markdown",
   "metadata": {},
   "source": [
    "# [ Overview ]\n",
    "\n",
    "### (1) 목표 : \n",
    "> ### 20 지역에서 관측한 날씨에 따른, 월마트 매장 45곳에서 판매하는 111가지 품목의 판매량( `units` )을 예측한다.\n",
    "\n",
    "### (2) 데이터\n",
    "> #### train : 4617600 rows, 4 columns  \n",
    "> - 2012년 1월 1일 ~ 2014년 10월 31일 사이 월마트 매장 45곳에서 판매하는 111가지 품목의 판매량 데이터  \n",
    "\n",
    "> #### key : 45 rows, 2 columns\n",
    "> - 20 지역의 관측소와, 같은 지역에 위치한 월마트 매장 45곳의 표  \n",
    "\n",
    "> #### weather : 20517 rows, 20 columns\n",
    "> - 2012년 1월 1일 ~ 2014년 10월 31일 사이 20지역의 날씨 데이터  \n",
    "> - 온도 : Fahrenheit\n",
    "- 풍속 : mph\n",
    "- `snowfall`, `preciptotal` : inch  \n",
    "- M : Missing \n",
    "- T : Trace ( 땅이 젖었 때 )\n",
    "**Weather Data 각 Columns**\n",
    "    - date : 날짜\n",
    "    - tmax : 최대 온도\n",
    "    - tmin : 최저 온도\n",
    "    - depart : 과거 30년 동안의 최대온도의 평균과 `tmax`값의 차\n",
    "    - dewpoint : 평균 이슬점\n",
    "    - wetbulb : 평균 습도\n",
    "    - heat : 난방 지수 (65 - `avg`) 1 ~ 6월 적용\n",
    "    - cool : 냉방 지수 (`tavg` - 65) 7 ~ 12월 적용\n",
    "    - sunrise : 일출 시간\n",
    "    - sunset : 일몰 시간 \n",
    "    - codesum : 특이 날씨 코드\n",
    "        - +FC : TORNADO/WATERSPOUT\n",
    "        - FC : FUNNEL CLOUD\n",
    "        - TS : THUNDERSTORM\n",
    "        - GR : HAIL\n",
    "        - RA : RAIN\n",
    "        - DZ : DRIZZLE\n",
    "        - SN : SNOW\n",
    "        - SG : SNOW GRAINS\n",
    "        - GS : SMALL HAIL &/OR SNOW PELLETS\n",
    "        - PL : ICE PELLETS\n",
    "        - IC : ICE CRYSTALS\n",
    "        - FG+: HEAVY FOG (FG & LE.25 MILES VISIBILITY)\n",
    "        - FG : FOG\n",
    "        - BR : MIST\n",
    "        - UP : UNKNOWN PRECIPITATION\n",
    "        - HZ : HAZE\n",
    "        - FU : SMOKE\n",
    "        - VA : VOLCANIC ASH\n",
    "        - DU : WIDESPREAD DUST\n",
    "        - DS : DUSTSTORM\n",
    "        - PO : SAND/DUST WHIRLS\n",
    "        - SA : SAND\n",
    "        - SS : SANDSTORM\n",
    "        - PY : SPRAY\n",
    "        - SQ : SQUALL\n",
    "        - DR : LOW DRIFTING\n",
    "        - SH : SHOWER\n",
    "        - FZ : FREEZING\n",
    "        - MI : SHALLOW\n",
    "        - PR : PARTIAL\n",
    "        - BC : PATCHES\n",
    "        - BL : BLOWING\n",
    "        - VC : VICINITY\n",
    "        - (-) : LIGHT\n",
    "        - (+) : HEAVY\n",
    "        - \"NO SIGN\" : MODERATE\n",
    "    - snowfall : 눈이 쌓인 정도 (inches)\n",
    "    - precipitotal : 24시간 기준 강수량 (inches)\n",
    "    - stnpressure : 평균 기압\n",
    "    - sealevel : 해수면 압력\n",
    "    - resultspeed : 합성 풍속 (mph)\n",
    "    - resultdir : 합성 풍향 (10도씩) \n",
    "    - avgspeed : 평균 풍속 (mph)\n",
    "\n",
    "        \n",
    "> #### test : 526917 rows, 3 columns\n",
    "> - 2013년 4월 1일 ~ 2014년 10월 26일 사이 월마트 매장 44곳 (35번 매장 누락) 에 대한 템플릿 "
   ]
  },
  {
   "cell_type": "markdown",
   "metadata": {},
   "source": [
    "# Load Data"
   ]
  },
  {
   "cell_type": "code",
   "execution_count": 1,
   "metadata": {},
   "outputs": [],
   "source": [
    "import warnings\n",
    "warnings.simplefilter(action='ignore', category=FutureWarning)\n",
    "import numpy as np\n",
    "import pandas as pd"
   ]
  },
  {
   "cell_type": "markdown",
   "metadata": {},
   "source": [
    "### train"
   ]
  },
  {
   "cell_type": "code",
   "execution_count": 2,
   "metadata": {},
   "outputs": [
    {
     "name": "stdout",
     "output_type": "stream",
     "text": [
      "(4617600, 4)\n"
     ]
    },
    {
     "data": {
      "text/html": [
       "<div>\n",
       "<style scoped>\n",
       "    .dataframe tbody tr th:only-of-type {\n",
       "        vertical-align: middle;\n",
       "    }\n",
       "\n",
       "    .dataframe tbody tr th {\n",
       "        vertical-align: top;\n",
       "    }\n",
       "\n",
       "    .dataframe thead th {\n",
       "        text-align: right;\n",
       "    }\n",
       "</style>\n",
       "<table border=\"1\" class=\"dataframe\">\n",
       "  <thead>\n",
       "    <tr style=\"text-align: right;\">\n",
       "      <th></th>\n",
       "      <th>date</th>\n",
       "      <th>store_nbr</th>\n",
       "      <th>item_nbr</th>\n",
       "      <th>units</th>\n",
       "    </tr>\n",
       "  </thead>\n",
       "  <tbody>\n",
       "    <tr>\n",
       "      <th>4617595</th>\n",
       "      <td>2014-10-31</td>\n",
       "      <td>45</td>\n",
       "      <td>107</td>\n",
       "      <td>0</td>\n",
       "    </tr>\n",
       "    <tr>\n",
       "      <th>4617596</th>\n",
       "      <td>2014-10-31</td>\n",
       "      <td>45</td>\n",
       "      <td>108</td>\n",
       "      <td>0</td>\n",
       "    </tr>\n",
       "    <tr>\n",
       "      <th>4617597</th>\n",
       "      <td>2014-10-31</td>\n",
       "      <td>45</td>\n",
       "      <td>109</td>\n",
       "      <td>0</td>\n",
       "    </tr>\n",
       "    <tr>\n",
       "      <th>4617598</th>\n",
       "      <td>2014-10-31</td>\n",
       "      <td>45</td>\n",
       "      <td>110</td>\n",
       "      <td>0</td>\n",
       "    </tr>\n",
       "    <tr>\n",
       "      <th>4617599</th>\n",
       "      <td>2014-10-31</td>\n",
       "      <td>45</td>\n",
       "      <td>111</td>\n",
       "      <td>0</td>\n",
       "    </tr>\n",
       "  </tbody>\n",
       "</table>\n",
       "</div>"
      ],
      "text/plain": [
       "               date  store_nbr  item_nbr  units\n",
       "4617595  2014-10-31         45       107      0\n",
       "4617596  2014-10-31         45       108      0\n",
       "4617597  2014-10-31         45       109      0\n",
       "4617598  2014-10-31         45       110      0\n",
       "4617599  2014-10-31         45       111      0"
      ]
     },
     "execution_count": 2,
     "metadata": {},
     "output_type": "execute_result"
    }
   ],
   "source": [
    "train = pd.read_csv(\"data/train.csv\")\n",
    "print(train.shape)\n",
    "train.tail()"
   ]
  },
  {
   "cell_type": "markdown",
   "metadata": {},
   "source": [
    "### keys"
   ]
  },
  {
   "cell_type": "code",
   "execution_count": 3,
   "metadata": {},
   "outputs": [
    {
     "name": "stdout",
     "output_type": "stream",
     "text": [
      "(45, 2)\n"
     ]
    },
    {
     "data": {
      "text/html": [
       "<div>\n",
       "<style scoped>\n",
       "    .dataframe tbody tr th:only-of-type {\n",
       "        vertical-align: middle;\n",
       "    }\n",
       "\n",
       "    .dataframe tbody tr th {\n",
       "        vertical-align: top;\n",
       "    }\n",
       "\n",
       "    .dataframe thead th {\n",
       "        text-align: right;\n",
       "    }\n",
       "</style>\n",
       "<table border=\"1\" class=\"dataframe\">\n",
       "  <thead>\n",
       "    <tr style=\"text-align: right;\">\n",
       "      <th></th>\n",
       "      <th>store_nbr</th>\n",
       "      <th>station_nbr</th>\n",
       "    </tr>\n",
       "  </thead>\n",
       "  <tbody>\n",
       "    <tr>\n",
       "      <th>0</th>\n",
       "      <td>1</td>\n",
       "      <td>1</td>\n",
       "    </tr>\n",
       "    <tr>\n",
       "      <th>1</th>\n",
       "      <td>2</td>\n",
       "      <td>14</td>\n",
       "    </tr>\n",
       "    <tr>\n",
       "      <th>2</th>\n",
       "      <td>3</td>\n",
       "      <td>7</td>\n",
       "    </tr>\n",
       "    <tr>\n",
       "      <th>3</th>\n",
       "      <td>4</td>\n",
       "      <td>9</td>\n",
       "    </tr>\n",
       "    <tr>\n",
       "      <th>4</th>\n",
       "      <td>5</td>\n",
       "      <td>12</td>\n",
       "    </tr>\n",
       "  </tbody>\n",
       "</table>\n",
       "</div>"
      ],
      "text/plain": [
       "   store_nbr  station_nbr\n",
       "0          1            1\n",
       "1          2           14\n",
       "2          3            7\n",
       "3          4            9\n",
       "4          5           12"
      ]
     },
     "execution_count": 3,
     "metadata": {},
     "output_type": "execute_result"
    }
   ],
   "source": [
    "keys = pd.read_csv(\"data/key.csv\")\n",
    "print(keys.shape)\n",
    "keys.head()"
   ]
  },
  {
   "cell_type": "markdown",
   "metadata": {},
   "source": [
    "### weather"
   ]
  },
  {
   "cell_type": "code",
   "execution_count": 4,
   "metadata": {},
   "outputs": [
    {
     "name": "stdout",
     "output_type": "stream",
     "text": [
      "(20517, 20)\n"
     ]
    },
    {
     "data": {
      "text/html": [
       "<div>\n",
       "<style scoped>\n",
       "    .dataframe tbody tr th:only-of-type {\n",
       "        vertical-align: middle;\n",
       "    }\n",
       "\n",
       "    .dataframe tbody tr th {\n",
       "        vertical-align: top;\n",
       "    }\n",
       "\n",
       "    .dataframe thead th {\n",
       "        text-align: right;\n",
       "    }\n",
       "</style>\n",
       "<table border=\"1\" class=\"dataframe\">\n",
       "  <thead>\n",
       "    <tr style=\"text-align: right;\">\n",
       "      <th></th>\n",
       "      <th>station_nbr</th>\n",
       "      <th>date</th>\n",
       "      <th>tmax</th>\n",
       "      <th>tmin</th>\n",
       "      <th>tavg</th>\n",
       "      <th>depart</th>\n",
       "      <th>dewpoint</th>\n",
       "      <th>wetbulb</th>\n",
       "      <th>heat</th>\n",
       "      <th>cool</th>\n",
       "      <th>sunrise</th>\n",
       "      <th>sunset</th>\n",
       "      <th>codesum</th>\n",
       "      <th>snowfall</th>\n",
       "      <th>preciptotal</th>\n",
       "      <th>stnpressure</th>\n",
       "      <th>sealevel</th>\n",
       "      <th>resultspeed</th>\n",
       "      <th>resultdir</th>\n",
       "      <th>avgspeed</th>\n",
       "    </tr>\n",
       "  </thead>\n",
       "  <tbody>\n",
       "    <tr>\n",
       "      <th>0</th>\n",
       "      <td>1</td>\n",
       "      <td>2012-01-01</td>\n",
       "      <td>52</td>\n",
       "      <td>31</td>\n",
       "      <td>42</td>\n",
       "      <td>M</td>\n",
       "      <td>36</td>\n",
       "      <td>40</td>\n",
       "      <td>23</td>\n",
       "      <td>0</td>\n",
       "      <td>-</td>\n",
       "      <td>-</td>\n",
       "      <td>RA FZFG BR</td>\n",
       "      <td>M</td>\n",
       "      <td>0.05</td>\n",
       "      <td>29.78</td>\n",
       "      <td>29.92</td>\n",
       "      <td>3.6</td>\n",
       "      <td>20</td>\n",
       "      <td>4.6</td>\n",
       "    </tr>\n",
       "    <tr>\n",
       "      <th>1</th>\n",
       "      <td>2</td>\n",
       "      <td>2012-01-01</td>\n",
       "      <td>48</td>\n",
       "      <td>33</td>\n",
       "      <td>41</td>\n",
       "      <td>16</td>\n",
       "      <td>37</td>\n",
       "      <td>39</td>\n",
       "      <td>24</td>\n",
       "      <td>0</td>\n",
       "      <td>0716</td>\n",
       "      <td>1626</td>\n",
       "      <td>RA</td>\n",
       "      <td>0.0</td>\n",
       "      <td>0.07</td>\n",
       "      <td>28.82</td>\n",
       "      <td>29.91</td>\n",
       "      <td>9.1</td>\n",
       "      <td>23</td>\n",
       "      <td>11.3</td>\n",
       "    </tr>\n",
       "    <tr>\n",
       "      <th>2</th>\n",
       "      <td>3</td>\n",
       "      <td>2012-01-01</td>\n",
       "      <td>55</td>\n",
       "      <td>34</td>\n",
       "      <td>45</td>\n",
       "      <td>9</td>\n",
       "      <td>24</td>\n",
       "      <td>36</td>\n",
       "      <td>20</td>\n",
       "      <td>0</td>\n",
       "      <td>0735</td>\n",
       "      <td>1720</td>\n",
       "      <td>moderate</td>\n",
       "      <td>0.0</td>\n",
       "      <td>0.00</td>\n",
       "      <td>29.77</td>\n",
       "      <td>30.47</td>\n",
       "      <td>9.9</td>\n",
       "      <td>31</td>\n",
       "      <td>10.0</td>\n",
       "    </tr>\n",
       "    <tr>\n",
       "      <th>3</th>\n",
       "      <td>4</td>\n",
       "      <td>2012-01-01</td>\n",
       "      <td>63</td>\n",
       "      <td>47</td>\n",
       "      <td>55</td>\n",
       "      <td>4</td>\n",
       "      <td>28</td>\n",
       "      <td>43</td>\n",
       "      <td>10</td>\n",
       "      <td>0</td>\n",
       "      <td>0728</td>\n",
       "      <td>1742</td>\n",
       "      <td>moderate</td>\n",
       "      <td>0.0</td>\n",
       "      <td>0.00</td>\n",
       "      <td>29.79</td>\n",
       "      <td>30.48</td>\n",
       "      <td>8.0</td>\n",
       "      <td>35</td>\n",
       "      <td>8.2</td>\n",
       "    </tr>\n",
       "    <tr>\n",
       "      <th>4</th>\n",
       "      <td>6</td>\n",
       "      <td>2012-01-01</td>\n",
       "      <td>63</td>\n",
       "      <td>34</td>\n",
       "      <td>49</td>\n",
       "      <td>0</td>\n",
       "      <td>31</td>\n",
       "      <td>43</td>\n",
       "      <td>16</td>\n",
       "      <td>0</td>\n",
       "      <td>0727</td>\n",
       "      <td>1742</td>\n",
       "      <td>moderate</td>\n",
       "      <td>0.0</td>\n",
       "      <td>0.00</td>\n",
       "      <td>29.95</td>\n",
       "      <td>30.47</td>\n",
       "      <td>14.0</td>\n",
       "      <td>36</td>\n",
       "      <td>13.8</td>\n",
       "    </tr>\n",
       "  </tbody>\n",
       "</table>\n",
       "</div>"
      ],
      "text/plain": [
       "   station_nbr        date tmax tmin tavg depart dewpoint wetbulb heat cool  \\\n",
       "0            1  2012-01-01   52   31   42      M       36      40   23    0   \n",
       "1            2  2012-01-01   48   33   41     16       37      39   24    0   \n",
       "2            3  2012-01-01   55   34   45      9       24      36   20    0   \n",
       "3            4  2012-01-01   63   47   55      4       28      43   10    0   \n",
       "4            6  2012-01-01   63   34   49      0       31      43   16    0   \n",
       "\n",
       "  sunrise sunset     codesum snowfall preciptotal stnpressure sealevel  \\\n",
       "0       -      -  RA FZFG BR        M        0.05       29.78    29.92   \n",
       "1    0716   1626          RA      0.0        0.07       28.82    29.91   \n",
       "2    0735   1720    moderate      0.0        0.00       29.77    30.47   \n",
       "3    0728   1742    moderate      0.0        0.00       29.79    30.48   \n",
       "4    0727   1742    moderate      0.0        0.00       29.95    30.47   \n",
       "\n",
       "  resultspeed resultdir avgspeed  \n",
       "0         3.6        20      4.6  \n",
       "1         9.1        23     11.3  \n",
       "2         9.9        31     10.0  \n",
       "3         8.0        35      8.2  \n",
       "4        14.0        36     13.8  "
      ]
     },
     "execution_count": 4,
     "metadata": {},
     "output_type": "execute_result"
    }
   ],
   "source": [
    "weather_1 = pd.read_csv(\"data/weather.csv\")\n",
    "\n",
    "# input data in order to reflect [ \"NO SIGN\" : MODERATE ] in description\n",
    "def codesum_moderate(codesum):\n",
    "    if codesum == \" \":\n",
    "        return \"moderate\"\n",
    "    else:\n",
    "        return codesum\n",
    "        \n",
    "weather_1['codesum'] = weather_1['codesum'].apply(codesum_moderate)\n",
    "\n",
    "print(weather_1.shape)\n",
    "weather_1.head()"
   ]
  },
  {
   "cell_type": "markdown",
   "metadata": {},
   "source": [
    "### Merge train & weather by keys"
   ]
  },
  {
   "cell_type": "code",
   "execution_count": 5,
   "metadata": {},
   "outputs": [
    {
     "name": "stdout",
     "output_type": "stream",
     "text": [
      "(4617600, 23)\n"
     ]
    },
    {
     "data": {
      "text/html": [
       "<div>\n",
       "<style scoped>\n",
       "    .dataframe tbody tr th:only-of-type {\n",
       "        vertical-align: middle;\n",
       "    }\n",
       "\n",
       "    .dataframe tbody tr th {\n",
       "        vertical-align: top;\n",
       "    }\n",
       "\n",
       "    .dataframe thead th {\n",
       "        text-align: right;\n",
       "    }\n",
       "</style>\n",
       "<table border=\"1\" class=\"dataframe\">\n",
       "  <thead>\n",
       "    <tr style=\"text-align: right;\">\n",
       "      <th></th>\n",
       "      <th>station_nbr</th>\n",
       "      <th>date</th>\n",
       "      <th>tmax</th>\n",
       "      <th>tmin</th>\n",
       "      <th>tavg</th>\n",
       "      <th>depart</th>\n",
       "      <th>dewpoint</th>\n",
       "      <th>wetbulb</th>\n",
       "      <th>heat</th>\n",
       "      <th>cool</th>\n",
       "      <th>...</th>\n",
       "      <th>snowfall</th>\n",
       "      <th>preciptotal</th>\n",
       "      <th>stnpressure</th>\n",
       "      <th>sealevel</th>\n",
       "      <th>resultspeed</th>\n",
       "      <th>resultdir</th>\n",
       "      <th>avgspeed</th>\n",
       "      <th>store_nbr</th>\n",
       "      <th>item_nbr</th>\n",
       "      <th>units</th>\n",
       "    </tr>\n",
       "  </thead>\n",
       "  <tbody>\n",
       "    <tr>\n",
       "      <th>0</th>\n",
       "      <td>1</td>\n",
       "      <td>2012-01-01</td>\n",
       "      <td>52</td>\n",
       "      <td>31</td>\n",
       "      <td>42</td>\n",
       "      <td>M</td>\n",
       "      <td>36</td>\n",
       "      <td>40</td>\n",
       "      <td>23</td>\n",
       "      <td>0</td>\n",
       "      <td>...</td>\n",
       "      <td>M</td>\n",
       "      <td>0.05</td>\n",
       "      <td>29.78</td>\n",
       "      <td>29.92</td>\n",
       "      <td>3.6</td>\n",
       "      <td>20</td>\n",
       "      <td>4.6</td>\n",
       "      <td>1</td>\n",
       "      <td>1</td>\n",
       "      <td>0</td>\n",
       "    </tr>\n",
       "    <tr>\n",
       "      <th>1</th>\n",
       "      <td>1</td>\n",
       "      <td>2012-01-01</td>\n",
       "      <td>52</td>\n",
       "      <td>31</td>\n",
       "      <td>42</td>\n",
       "      <td>M</td>\n",
       "      <td>36</td>\n",
       "      <td>40</td>\n",
       "      <td>23</td>\n",
       "      <td>0</td>\n",
       "      <td>...</td>\n",
       "      <td>M</td>\n",
       "      <td>0.05</td>\n",
       "      <td>29.78</td>\n",
       "      <td>29.92</td>\n",
       "      <td>3.6</td>\n",
       "      <td>20</td>\n",
       "      <td>4.6</td>\n",
       "      <td>1</td>\n",
       "      <td>2</td>\n",
       "      <td>0</td>\n",
       "    </tr>\n",
       "    <tr>\n",
       "      <th>2</th>\n",
       "      <td>1</td>\n",
       "      <td>2012-01-01</td>\n",
       "      <td>52</td>\n",
       "      <td>31</td>\n",
       "      <td>42</td>\n",
       "      <td>M</td>\n",
       "      <td>36</td>\n",
       "      <td>40</td>\n",
       "      <td>23</td>\n",
       "      <td>0</td>\n",
       "      <td>...</td>\n",
       "      <td>M</td>\n",
       "      <td>0.05</td>\n",
       "      <td>29.78</td>\n",
       "      <td>29.92</td>\n",
       "      <td>3.6</td>\n",
       "      <td>20</td>\n",
       "      <td>4.6</td>\n",
       "      <td>1</td>\n",
       "      <td>3</td>\n",
       "      <td>0</td>\n",
       "    </tr>\n",
       "    <tr>\n",
       "      <th>3</th>\n",
       "      <td>1</td>\n",
       "      <td>2012-01-01</td>\n",
       "      <td>52</td>\n",
       "      <td>31</td>\n",
       "      <td>42</td>\n",
       "      <td>M</td>\n",
       "      <td>36</td>\n",
       "      <td>40</td>\n",
       "      <td>23</td>\n",
       "      <td>0</td>\n",
       "      <td>...</td>\n",
       "      <td>M</td>\n",
       "      <td>0.05</td>\n",
       "      <td>29.78</td>\n",
       "      <td>29.92</td>\n",
       "      <td>3.6</td>\n",
       "      <td>20</td>\n",
       "      <td>4.6</td>\n",
       "      <td>1</td>\n",
       "      <td>4</td>\n",
       "      <td>0</td>\n",
       "    </tr>\n",
       "    <tr>\n",
       "      <th>4</th>\n",
       "      <td>1</td>\n",
       "      <td>2012-01-01</td>\n",
       "      <td>52</td>\n",
       "      <td>31</td>\n",
       "      <td>42</td>\n",
       "      <td>M</td>\n",
       "      <td>36</td>\n",
       "      <td>40</td>\n",
       "      <td>23</td>\n",
       "      <td>0</td>\n",
       "      <td>...</td>\n",
       "      <td>M</td>\n",
       "      <td>0.05</td>\n",
       "      <td>29.78</td>\n",
       "      <td>29.92</td>\n",
       "      <td>3.6</td>\n",
       "      <td>20</td>\n",
       "      <td>4.6</td>\n",
       "      <td>1</td>\n",
       "      <td>5</td>\n",
       "      <td>0</td>\n",
       "    </tr>\n",
       "  </tbody>\n",
       "</table>\n",
       "<p>5 rows × 23 columns</p>\n",
       "</div>"
      ],
      "text/plain": [
       "   station_nbr        date tmax tmin tavg depart dewpoint wetbulb heat cool  \\\n",
       "0            1  2012-01-01   52   31   42      M       36      40   23    0   \n",
       "1            1  2012-01-01   52   31   42      M       36      40   23    0   \n",
       "2            1  2012-01-01   52   31   42      M       36      40   23    0   \n",
       "3            1  2012-01-01   52   31   42      M       36      40   23    0   \n",
       "4            1  2012-01-01   52   31   42      M       36      40   23    0   \n",
       "\n",
       "   ...  snowfall preciptotal stnpressure sealevel resultspeed resultdir  \\\n",
       "0  ...         M        0.05       29.78    29.92         3.6        20   \n",
       "1  ...         M        0.05       29.78    29.92         3.6        20   \n",
       "2  ...         M        0.05       29.78    29.92         3.6        20   \n",
       "3  ...         M        0.05       29.78    29.92         3.6        20   \n",
       "4  ...         M        0.05       29.78    29.92         3.6        20   \n",
       "\n",
       "  avgspeed store_nbr item_nbr units  \n",
       "0      4.6         1        1     0  \n",
       "1      4.6         1        2     0  \n",
       "2      4.6         1        3     0  \n",
       "3      4.6         1        4     0  \n",
       "4      4.6         1        5     0  \n",
       "\n",
       "[5 rows x 23 columns]"
      ]
     },
     "execution_count": 5,
     "metadata": {},
     "output_type": "execute_result"
    }
   ],
   "source": [
    "df_1 = pd.merge(weather_1, keys)\n",
    "df_1 = pd.merge(df_1, train)\n",
    "\n",
    "# # split date\n",
    "# def make_year(date):\n",
    "#     return int(date.split('-')[0])\n",
    "# def make_month(date):\n",
    "#     return int(date.split('-')[1])\n",
    "# def make_day(date):\n",
    "#     return int(date.split('-')[2])\n",
    "# df_1['year'] = df_1['date'].apply(make_year)\n",
    "# df_1['month'] = df_1['date'].apply(make_month)\n",
    "# df_1['day'] = df_1['date'].apply(make_day)\n",
    "\n",
    "# # create new column 'codesum_YN' for 'Ab' as abnormal & 'Mo' as moderate\n",
    "# def codesum_YN(codesum):\n",
    "#     if codesum == \" \":\n",
    "#         return \"Mo\"\n",
    "#     else:\n",
    "#         return \"Ab\"\n",
    "# df_1['codesum_YN'] = df_1['codesum'].apply(codesum_YN)\n",
    "\n",
    "\n",
    "print(df_1.shape)\n",
    "df_1.head()"
   ]
  },
  {
   "cell_type": "markdown",
   "metadata": {},
   "source": [
    "(description)\n",
    "\n",
    "1. 본격적으로 회귀를 시작하기 앞서, 우리가 가지고 있는 데이터에 대해 파악했음.\n",
    "2. 총 45개 store, 20개 station, 각 station마다 여러 개의store의 weather data를 관측. weather data는 2012년 2월부터 2014년까지 10월까지 있음.\n",
    "3. 아이템 종류를 의미하는 item_nbr, 각 item_nbr마다 판매량을 나타내는 units가 있다. 총 item_nbr는 111개지만 모든 store에서 111개가 전부 팔리진 않고 한 store당 4~5개 정도 팔림. 우리가 예측해야 할 예측치는 45 X 5\n",
    "4. 판매량과 날씨 데이터를 결합했을때 총 데이터 수는 460만개"
   ]
  },
  {
   "cell_type": "markdown",
   "metadata": {},
   "source": [
    "# 1. EDA\n",
    "1. 우리는 units의 예측치를 구해야 하므로 이 units에 대해 어떻게 접근할 지 고민했음\n",
    "2. 일단 각 store의 연도별 units 경향을 살펴보기로 함"
   ]
  },
  {
   "cell_type": "markdown",
   "metadata": {},
   "source": [
    "## 1. 1. Check tendency (경향을 확인하기)"
   ]
  },
  {
   "cell_type": "code",
   "execution_count": 11,
   "metadata": {},
   "outputs": [],
   "source": [
    "import scipy as sp\n",
    "import matplotlib as mpl\n",
    "import matplotlib.pylab as plt\n",
    "import seaborn as sns\n",
    "sns.set()\n",
    "sns.set_style(\"whitegrid\")\n",
    "\n",
    "df_tmp = df_1.copy()"
   ]
  },
  {
   "cell_type": "markdown",
   "metadata": {},
   "source": [
    "### 1. 1. 1.  `year` , `store_nbr` vs `units`"
   ]
  },
  {
   "cell_type": "code",
   "execution_count": null,
   "metadata": {},
   "outputs": [],
   "source": [
    "def show_tendency(store_number):\n",
    "    '''\n",
    "    input : store_nbr\n",
    "    output : graph represetning total units for each year, each month\n",
    "    '''\n",
    "    \n",
    "    # split year, month     \n",
    "    def make_year(date):\n",
    "        return int(date.split('-')[0])\n",
    "    def make_month(date):\n",
    "        return int(date.split('-')[1])\n",
    "    df_tmp['year'] = df_tmp['date'].apply(make_year)\n",
    "    df_tmp['month'] = df_tmp['date'].apply(make_month)\n",
    "    \n",
    "    \n",
    "    # show yearly units tendency by store_nbr\n",
    "    store_month = df_tmp.pivot_table(index=['year','month'],columns='store_nbr',values='units',aggfunc=np.sum)\n",
    "    \n",
    "    target_store = store_month[store_number]\n",
    "    that_2012 = target_store.loc[2012]\n",
    "    that_2013 = target_store.loc[2013]\n",
    "    that_2014 = target_store.loc[2014]\n",
    "    \n",
    "    plt.figure(figsize=(12,8))\n",
    "    plt.plot(that_2012,label='2012',c='blue',ls='--',lw=4)\n",
    "    plt.plot(that_2013,label='2013',c='green',ls=':',marker='D',ms=10,lw=4)\n",
    "    plt.plot(that_2014,label='2014',c='red',lw=4)\n",
    "    plt.legend(loc='best',prop={'size':20})\n",
    "    plt.show()"
   ]
  },
  {
   "cell_type": "code",
   "execution_count": null,
   "metadata": {},
   "outputs": [],
   "source": [
    "show_tendency(2)"
   ]
  },
  {
   "cell_type": "markdown",
   "metadata": {},
   "source": [
    "위 plot은 2번 store에서의 units경향이다.\n",
    "\n",
    "2013년과 2014년에서 units가 떨어진 것으로 보아, \n",
    "\n",
    "이 시점에서의 weather를 비교해보면 뭔가 insight를 얻을 수 있지 않을까, 그래서 해당 store에서 item_nbr는 뭐가 팔렸고 얼마나 팔렸는지 찍어봤다"
   ]
  },
  {
   "cell_type": "markdown",
   "metadata": {},
   "source": [
    "### 1. 1. 2.  `year`, `month`, `store_nbr` vs `units`"
   ]
  },
  {
   "cell_type": "code",
   "execution_count": null,
   "metadata": {},
   "outputs": [],
   "source": [
    "def item_nbr_tendency(store_nbr):\n",
    "    '''\n",
    "    input : store_nbr\n",
    "    output : graph representing units groupped by each year, each month\n",
    "    '''\n",
    "    store = df_tmp[df_tmp['store_nbr'] == store_nbr]\n",
    "\n",
    "    pivot = store.pivot_table(index=['year','month'],columns='item_nbr',values='units',aggfunc=np.sum)\n",
    "    zero_index = pivot==0\n",
    "    pivot = pivot[pivot!=0].dropna(axis=1,how='all')\n",
    "    pivot[zero_index]=0\n",
    "    \n",
    "    \n",
    "    pivot_2012 = pivot.loc[2012]\n",
    "    pivot_2013 = pivot.loc[2013]\n",
    "    pivot_2014 = pivot.loc[2014]\n",
    "    \n",
    "    plt.figure(figsize=(12,8))\n",
    "    plt.subplot(131)\n",
    "    sns.heatmap(pivot_2012,cmap=\"YlGnBu\", annot = True, fmt = '.0f')\n",
    "    plt.subplot(132)\n",
    "    sns.heatmap(pivot_2013,cmap=\"YlGnBu\", annot = True, fmt = '.0f')\n",
    "    plt.subplot(133)\n",
    "    sns.heatmap(pivot_2014,cmap=\"YlGnBu\", annot = True, fmt = '.0f')\n",
    "    plt.show()"
   ]
  },
  {
   "cell_type": "code",
   "execution_count": null,
   "metadata": {},
   "outputs": [],
   "source": [
    "item_nbr_tendency(1)"
   ]
  },
  {
   "cell_type": "markdown",
   "metadata": {},
   "source": [
    "위 plot은 해당 store에서 한번이라도 팔린 item에 대한 units를 year, month별로 출력한 것이다.\n",
    "\n",
    "어떤 item_nbr의 units가 떨어졌는지 확인할 순 있지만 month별로 출력했기 때문에 각 day별로는 확인할 수 없다.\n",
    "\n",
    "day별로 확인할 수 없다면 weather feature가 각 날짜에 얼마나 영향을 미쳤는지 정확히 조사할 수 없다.\n",
    "\n",
    "따라서 day별로 plot을 찍어봤다"
   ]
  },
  {
   "cell_type": "markdown",
   "metadata": {},
   "source": [
    "### 1. 1. 3.  `year`, `month`, `day`, `store_nbr`, `item_nbr` vs `units`"
   ]
  },
  {
   "cell_type": "code",
   "execution_count": null,
   "metadata": {},
   "outputs": [],
   "source": [
    "def item_nbr_tendency_finely(store_nbr, year, month_start=-1, month_end=-1, graph=True):\n",
    "    '''\n",
    "    input\n",
    "        1. store_nbr = 스토어 번호\n",
    "        2. year = 연도\n",
    "        3. month_start = 시작달\n",
    "        4. month_start = 끝달\n",
    "        5. graph = 위의 정보에 대한 item_nbr 그래프 출력여부\n",
    "    \n",
    "    output\n",
    "        1. store_nbr, year, month로 filtering한 item_nbr의 pivot 테이블\n",
    "    '''\n",
    "    store = df_1[(df_1['store_nbr'] == store_nbr) &\n",
    "                 (df_1['year'] == year)]\n",
    "\n",
    "    if month_start != -1:\n",
    "        if month_end == -1:\n",
    "            month_end = month_start + 1\n",
    "        store = store[(month_start <= store['month']) & (store['month'] < month_end)]\n",
    "\n",
    "    pivot = store.pivot_table(index='item_nbr',\n",
    "                              columns='date',\n",
    "                              values='units',\n",
    "                              aggfunc=np.sum)\n",
    "\n",
    "    zero_index = pivot == 0\n",
    "    pivot = pivot[pivot != 0].dropna(axis=0, how='all')\n",
    "    pivot[zero_index] = 0\n",
    "\n",
    "    if graph:\n",
    "        plt.figure(figsize=(12, 8))\n",
    "        sns.heatmap(pivot, cmap=\"YlGnBu\", annot=True, fmt='.0f')\n",
    "        plt.show()\n",
    "\n",
    "    return pivot"
   ]
  },
  {
   "cell_type": "code",
   "execution_count": null,
   "metadata": {},
   "outputs": [],
   "source": [
    "item_nbr_tendency_finely(1,2012,1)"
   ]
  },
  {
   "cell_type": "markdown",
   "metadata": {},
   "source": [
    "각 day별로 해당 item_nbr와 date, units를 pivot하여 찍은 plot이다.\n",
    "\n",
    "각 날짜에 어떤 units변화가 일어났는지 weather와 같이 비교해볼 수 있는 형태가 됬고, 아래의 plot은 위와 똑같은 기간의 weather 데이터다.\n",
    "\n",
    "\n"
   ]
  },
  {
   "cell_type": "code",
   "execution_count": null,
   "metadata": {},
   "outputs": [],
   "source": [
    "def weather_tendency(store_nbr, year, month_start = -1, month_end = -1):\n",
    "    '''\n",
    "    input:\n",
    "        위와 같음\n",
    "        \n",
    "    output:\n",
    "        위의 정보로 filtering한 train,key,weather DataFrame\n",
    "    '''\n",
    "    store = df_1[(df_1['store_nbr'] == store_nbr) &\n",
    "                 (df_1['year'] == year)]\n",
    "    \n",
    "    if month_start!=-1:\n",
    "        if month_end == -1:\n",
    "            month_end = month_start + 1\n",
    "        store = store[(month_start <= store['month']) & (store['month'] < month_end)]\n",
    "    \n",
    "    store = store.drop(labels=['item_nbr','units'],axis=1)\n",
    "#     store = store.iloc[:,:]\n",
    "    \n",
    "    store = store.drop_duplicates(keep='first').reset_index(drop=True)\n",
    "    \n",
    "    store.index.name='date'\n",
    "    store.index = store['date']\n",
    "        \n",
    "    return store"
   ]
  },
  {
   "cell_type": "code",
   "execution_count": null,
   "metadata": {},
   "outputs": [],
   "source": [
    "weather_tendency(1,2012).head()"
   ]
  },
  {
   "cell_type": "markdown",
   "metadata": {},
   "source": [
    "units의 변화량에 대해 각 날짜별로 비교할 수 있지만, \n",
    "\n",
    "일일이 비교해서 유의미한 insight를 도출하기엔 비현실적이다.\n",
    "\n",
    "그래서 아래와 같이 입력받은 스토어에 대해서,\n",
    "\n",
    "모든 item_nbr에 대한 weather feature VS units의 피어슨 상관계수를 구한 것이 아래다"
   ]
  },
  {
   "cell_type": "code",
   "execution_count": null,
   "metadata": {},
   "outputs": [],
   "source": [
    "def get_correlation(store_nbr, year, month_start=-1, month_end=-1):\n",
    "    '''\n",
    "    input:\n",
    "        위와 같음\n",
    "    output:\n",
    "        missing, tracing data를 제외한\n",
    "        팔린 item_nbr별 각 weather feature에 대한 pearsonr, pvalue를 담은 dictionary\n",
    "    '''\n",
    "\n",
    "    '''\n",
    "    Use-case\n",
    "        1. 7번 store, 2012년 1월부터 12월까지 item_nbr별 상관관계를 알고 싶다\n",
    "        get_correlation(7,2012)\n",
    "        \n",
    "        2. 7번 store, 2012년 1월부터 3월까지 item_nbr별 상관관계를 알고 싶다\n",
    "        get_correlation(7,2012,1,3)\n",
    "        \n",
    "        3. 7번 store, 2012년 5월만 item_nbr별 상관관계를 알고 싶다\n",
    "        get_correlation(7,2012,5)\n",
    "    '''\n",
    "    correlation = dict()\n",
    "\n",
    "    units_table = item_nbr_tendency_finely(store_nbr, year, month_start, month_end, graph=False)\n",
    "    weather_table = weather_tendency(store_nbr, year, month_start, month_end)\n",
    "\n",
    "    weather = list(weather_table.columns[3:20])\n",
    "    weather.remove('codesum')\n",
    "\n",
    "    item_nbr = units_table.index\n",
    "\n",
    "    inner = dict()\n",
    "\n",
    "    for feature in weather:\n",
    "        for units in item_nbr:\n",
    "\n",
    "            a = weather_table[feature].copy()\n",
    "            b = units_table.loc[units].copy()\n",
    "\n",
    "            a = a.apply(lambda x: x.replace(' ', ''))\n",
    "            a = a.apply(lambda x: x.replace('-', ''))\n",
    "\n",
    "            missing_index = (a.str.contains('M')) | (a.str.contains('T'))\n",
    "            nothing_index = a.apply(lambda x: len(x)) == 0\n",
    "\n",
    "            a[missing_index] = np.nan\n",
    "            b[missing_index] = np.nan\n",
    "\n",
    "            a[nothing_index] = np.nan\n",
    "            b[nothing_index] = np.nan\n",
    "            \n",
    "            a.dropna(axis=0, inplace=True)\n",
    "            b.dropna(axis=0, inplace=True)\n",
    "\n",
    "            inner[(units, feature, len(a))] = sp.stats.pearsonr(a.astype(float), b)\n",
    "\n",
    "            correlation[(store_nbr, year, month_start, month_end-1)] = inner\n",
    "\n",
    "    return correlation\n",
    "\n",
    "\n",
    "def show_me_pearson(pearson_dict):\n",
    "\n",
    "    for key,val in pearson_dict.items():\n",
    "        print(key, '\\n')\n",
    "        \n",
    "        if isinstance(val,dict):\n",
    "            printee = []\n",
    "            keys = list(val.keys())\n",
    "            keys.sort()\n",
    "            printee += [(k,val[k]) for k in keys]\n",
    "        \n",
    "        else:\n",
    "            printee = val\n",
    "        \n",
    "        for each in printee:\n",
    "            print('\\t',each)\n",
    "            \n",
    "            \n",
    "def trim_correlation(correlation_dict):\n",
    "\n",
    "    keys = correlation_dict.keys()\n",
    "    result = dict()\n",
    "    \n",
    "    for key in keys:\n",
    "        inner_dict = correlation_dict[key]\n",
    "        item_nbrs = list(set(each[0] for each in inner_dict.keys()))\n",
    "        sorted_filtered = filter_sort_inner_dict(inner_dict, item_nbrs)\n",
    "        \n",
    "        result[key] = sorted_filtered\n",
    "        \n",
    "    return result  \n",
    "\n",
    "\n",
    "def filter_sort_inner_dict(inner_dict, item_nbrs):\n",
    "\n",
    "    pvalue_filtered = [(key,val) for key,val in inner_dict.items() if val[1] < 0.01]\n",
    "    pearsonr_sorted = []\n",
    "    \n",
    "    for item_nbr in item_nbrs:\n",
    "        pearsonr_sorted += sort_inner_dict(item_nbr,pvalue_filtered)\n",
    "    \n",
    "    return pearsonr_sorted\n",
    "\n",
    "\n",
    "def sort_inner_dict(item_nbr, filtered):\n",
    "\n",
    "    each_item = [each for each in filtered if each[0][0]==item_nbr]\n",
    "    each_item = sorted(each_item, key = lambda each: abs(each[1][0]), reverse=True)\n",
    "    \n",
    "    return each_item"
   ]
  },
  {
   "cell_type": "code",
   "execution_count": null,
   "metadata": {},
   "outputs": [],
   "source": [
    "show_me_pearson(trim_correlation(get_correlation(1,2012)))"
   ]
  },
  {
   "cell_type": "code",
   "execution_count": null,
   "metadata": {},
   "outputs": [],
   "source": []
  },
  {
   "cell_type": "code",
   "execution_count": null,
   "metadata": {},
   "outputs": [],
   "source": []
  },
  {
   "cell_type": "markdown",
   "metadata": {},
   "source": [
    "### 1. 1. 4.  `codesum` 발생 여부 vs `units`"
   ]
  },
  {
   "cell_type": "code",
   "execution_count": 12,
   "metadata": {},
   "outputs": [],
   "source": [
    "def show_codesum_vs_units(station_nbr):\n",
    "\n",
    "    \n",
    "    # create new column 'codesum_YN' : 'Ab' as codesum occured, 'Mo' as moderate weather\n",
    "    def codesum_YN(codesum):\n",
    "        if codesum == \"moderate\":\n",
    "            return \"Mo\"\n",
    "        else:\n",
    "            return \"Ab\"\n",
    "    df_tmp['codesum_YN'] = df_tmp['codesum'].apply(codesum_YN)\n",
    "    \n",
    "    # show only rows with units sales occured\n",
    "    df_tmp_2 = df_tmp[df_tmp['units'] > 0].reset_index(drop=True)\n",
    "    \n",
    "    # caculate sales difference between codesum vs no codesum in percentage\n",
    "    pivot_data = df_tmp_2.pivot_table(index=['station_nbr', 'item_nbr'],columns=['codesum_YN'],values='units', aggfunc='sum')\n",
    "    pivot_data['Difference(%)'] = ((pivot_data['Ab'] - pivot_data['Mo']) / pivot_data['Mo'] * 100).round(2)\n",
    "    pivot_data.drop(columns=['Ab', 'Mo'], inplace=True)\n",
    "    station = pivot_data.loc[station_nbr]\n",
    "    station = station.reset_index(drop=False)\n",
    "    \n",
    "    # seaborn barplot\n",
    "    fig = plt.figure(figsize=(20, 6))\n",
    "    sns.barplot(x='item_nbr', y='Difference(%)', data=station)\n",
    "    plt.show()"
   ]
  },
  {
   "cell_type": "code",
   "execution_count": 14,
   "metadata": {},
   "outputs": [
    {
     "data": {
      "image/png": "[encoded data removed]",
      "text/plain": [
       "<matplotlib.figure.Figure at 0x1200a2630>"
      ]
     },
     "metadata": {},
     "output_type": "display_data"
    }
   ],
   "source": [
    "show_codesum_vs_units(13)"
   ]
  },
  {
   "cell_type": "markdown",
   "metadata": {},
   "source": [
    "------------------------------------------------"
   ]
  },
  {
   "cell_type": "markdown",
   "metadata": {},
   "source": [
    "# 1. 2. Identify Missing Data"
   ]
  },
  {
   "cell_type": "markdown",
   "metadata": {},
   "source": [
    "### 1. 2. 1. Transform all missing data into `np.nan`"
   ]
  },
  {
   "cell_type": "code",
   "execution_count": 15,
   "metadata": {},
   "outputs": [
    {
     "name": "stdout",
     "output_type": "stream",
     "text": [
      "station_nbr \n",
      " [ 1  2  3  4  6  7  8  9 10 11 12 13 14 15 16 17 18 19 20  5]\n",
      "date \n",
      " ['2012-01-01' '2012-01-02' '2012-01-03' ..., '2014-10-29' '2014-10-30'\n",
      " '2014-10-31']\n",
      "tmax \n",
      " ['52' '48' '55' '63' '50' '66' '34' '73' '72' '38' '56' '59' '46' '45' '60'\n",
      " '44' '21' '65' '43' '53' '25' '32' '28' '62' '61' '47' '30' '26' '71' '58'\n",
      " '39' '54' '23' '27' '31' '68' '70' '67' '36' '69' '74' '75' '33' '51' '57'\n",
      " '41' '49' '76' '35' '77' '64' '40' '16' '37' '42' '14' '22' '13' '10' '20'\n",
      " '24' '80' '4' '11' '78' '17' '18' '79' '29' '81' '82' '83' '88' '87' '92'\n",
      " '89' '84' '85' '86' '90' '91' '94' '93' '96' '95' 'M' '97' '98' '101' '99'\n",
      " '100' '105' '103' '102' '106' '104' '109' '107' '108' '110' '111' '112'\n",
      " '114' '113' '19' '15' '12' '-1' '5' '8' '9' '1' '6' '2' '3' '7' '-2' '-11'\n",
      " '-4' '-6' '0']\n",
      "tmin \n",
      " ['31' '33' '34' '47' '45' '19' '53' '48' '18' '26' '30' '38' '40' '25' '41'\n",
      " '28' '24' '37' '36' '11' '16' '29' '22' '35' '15' '9' '21' '27' '10' '5'\n",
      " '32' '20' '3' '8' '44' '46' '17' '55' '43' '57' '50' '49' '54' '42' '39'\n",
      " '52' '23' '56' '14' '59' '-1' '12' '6' '4' '2' '60' '51' '63' '-5' '7'\n",
      " '61' '13' '-11' '0' '-2' '58' '-7' '62' '66' '67' '64' '65' '69' '68' '70'\n",
      " '71' '73' '72' '75' '74' '76' '78' 'M' '77' '79' '80' '83' '81' '82' '86'\n",
      " '88' '85' '84' '1' '-3' '-6' '-9' '-4' '-10' '-8' '-13' '-12' '-17' '-19'\n",
      " '-21' '-14' '-16' '-15']\n",
      "tavg \n",
      " ['42' '41' '45' '55' '49' 'M' '27' '63' '60' '28' '37' '40' '47' '50' '32'\n",
      " '35' '16' '52' '56' '33' '36' '34' '44' '20' '43' '22' '19' '38' '18' '13'\n",
      " '57' '51' '30' '46' '29' '26' '48' '31' '65' '54' '58' '24' '61' '62' '59'\n",
      " '53' '64' '25' '39' '67' '68' '14' '11' '10' '8' '5' '17' '66' '15' '-3'\n",
      " '23' '21' '7' '9' '70' '69' '72' '71' '12' '73' '75' '74' '76' '79' '78'\n",
      " '77' '80' '81' '82' '83' '84' '85' '87' '86' '90' '88' '89' '93' '92' '91'\n",
      " '95' '94' '97' '99' '96' '100' '98' '6' '3' '-5' '2' '4' '1' '-4' '0' '-2'\n",
      " '-1' '-10' '-16' '-8' '-6' '-7']\n",
      "depart \n",
      " ['M' '16' ' 9' ' 4' ' 0' ' 7' ' 5' '10' '12' '-1' '-2' '-4' '15' '-6' ' 2'\n",
      " '-5' '-18' '-3' '-11' '11' ' 6' '-15' '-8' ' 8' '14' '19' ' 1' '24' '23'\n",
      " '13' ' 3' '17' '22' '-9' '-10' '28' '25' '-7' '20' '-13' '21' '18' '26'\n",
      " '-17' '-16' '-14' '-20' '27' '-12' '31' '29' '32' '33' '-22' '-23' '-21'\n",
      " '30' '-19' '-24' '-27' '-25' '-26' '-28' '-32' '-31' '-35']\n",
      "dewpoint \n",
      " ['36' '37' '24' '28' '31' '26' '34' '17' '55' '54' '12' '25' '35' '23' '11'\n",
      " '27' '29' '8' '33' '16' '10' '9' '21' '4' '19' '22' '2' '6' '18' '5' '-1'\n",
      " '0' '39' '41' '45' '15' '32' '13' '43' '46' '38' '52' '53' '44' '40' '47'\n",
      " '51' '48' '20' '49' '50' '14' '56' '30' '3' '7' 'M' '-5' '-3' '42' '-7'\n",
      " '59' '61' '57' '-15' '58' '60' '62' '64' '66' '-2' '65' '63' '67' '68'\n",
      " '69' '70' '71' '72' '74' '73' '75' '1' '-4' '-13' '-10' '-11' '-8' '-12'\n",
      " '-6' '-9' '76' '77' '-14' '-17' '-24' '-20' '-19' '-16']\n",
      "wetbulb \n",
      " ['40' '39' '36' '43' '35' '46' '23' '58' '56' '57' '21' '38' '37' '30' '32'\n",
      " '28' '29' '15' '44' '17' '18' '16' '31' '33' '14' '11' '47' '45' '49' '26'\n",
      " '41' '25' '50' '52' '22' '42' 'M' '48' '53' '54' '51' '27' '55' '20' '34'\n",
      " '60' '59' '12' '10' '19' '13' '7' '5' '2' '62' '63' '64' '24' '61' '-4'\n",
      " '6' '4' '9' '65' '66' '67' '8' '68' '69' '70' '71' '72' '73' '74' '75'\n",
      " '76' '77' '78' '3' '-5' '-3' '0' '1' '79' '80' '-2' '-8' '-15' '-10' '-6'\n",
      " '-9' '-7' '-1']\n",
      "heat \n",
      " ['23' '24' '20' '10' '16' 'M' '38' '2' '5' '37' '28' '25' '18' '15' '33'\n",
      " '30' '49' '13' '9' '32' '29' '31' '21' '45' '22' '43' '46' '27' '47' '52'\n",
      " '8' '14' '35' '19' '36' '39' '17' '34' '0' '11' '7' '41' '4' '3' '6' '12'\n",
      " '1' '40' '26' '51' '54' '55' '57' '60' '48' '50' '68' '42' '44' '58' '56'\n",
      " '53' '59' '62' '70' '63' '61' '64' '69' '65' '67' '66' '75' '81' '73' '71'\n",
      " '72']\n",
      "cool \n",
      " [' 0' 'M' ' 2' ' 3' ' 1' ' 5' ' 4' ' 7' ' 6' ' 8' '10' ' 9' '11' '14' '13'\n",
      " '12' '15' '16' '17' '18' '19' '20' '22' '21' '25' '23' '24' '28' '27' '26'\n",
      " '30' '29' '32' '34' '31' '35' '33']\n",
      "sunrise \n",
      " ['-' '0716' '0735' '0728' '0727' '0723' '0724' '0739' '0718' '0730' '0740'\n",
      " '0731' '0725' '0729' '0722' '0717' '0715' '0721' '0734' '0714' '0720'\n",
      " '0713' '0738' '0719' '0733' '0712' '0732' '0737' '0711' '0710' '0726'\n",
      " '0736' '0709' '0708' '0707' '0706' '0705' '0704' '0703' '0702' '0701'\n",
      " '0660' '0659' '0658' '0657' '0656' '0654' '0655' '0653' '0652' '0651'\n",
      " '0649' '0650' '0648' '0647' '0645' '0646' '0644' '0643' '0641' '0640'\n",
      " '0638' '0637' '0642' '0636' '0635' '0634' '0700' '0639' '0633' '0632'\n",
      " '0631' '0629' '0628' '0627' '0626' '0625' '0624' '0619' '0620' '0623'\n",
      " '0622' '0621' '0618' '0617' '0616' '0615' '0614' '0613' '0612' '0611'\n",
      " '0610' '0609' '0608' '0607' '0606' '0605' '0604' '0603' '0602' '0600'\n",
      " '0560' '0559' '0558' '0557' '0555' '0601' '0630' '0553' '0552' '0551'\n",
      " '0550' '0548' '0554' '0546' '0544' '0543' '0541' '0547' '0539' '0545'\n",
      " '0537' '0538' '0536' '0534' '0532' '0530' '0531' '0529' '0527' '0525'\n",
      " '0526' '0523' '0524' '0522' '0520' '0518' '0519' '0516' '0517' '0515'\n",
      " '0513' '0514' '0556' '0511' '0512' '0510' '0508' '0509' '0506' '0507'\n",
      " '0505' '0549' '0503' '0504' '0501' '0460' '0458' '0459' '0456' '0502'\n",
      " '0455' '0542' '0453' '0540' '0452' '0450' '0449' '0451' '0447' '0446'\n",
      " '0448' '0444' '0533' '0443' '0445' '0441' '0440' '0442' '0439' '0437'\n",
      " '0528' '0436' '0438' '0535' '0435' '0433' '0432' '0431' '0430' '0428'\n",
      " '0521' '0427' '0426' '0429' '0425' '0424' '0423' '0422' '0421' '0420'\n",
      " '0419' '0418' '0417' '0416' '0415' '0414' '0413' '0412' '0411' '0410'\n",
      " '0409' '0408' '0407' '0406' '0434' '0454' '0457' '0500']\n",
      "sunset \n",
      " ['-' '1626' '1720' '1742' '1738' '1737' '1729' '1621' '1732' '1628' '1627'\n",
      " '1721' '1622' '1733' '1629' '1743' '1739' '1730' '1623' '1734' '1630'\n",
      " '1722' '1744' '1740' '1731' '1624' '1631' '1723' '1745' '1625' '1735'\n",
      " '1724' '1741' '1736' '1632' '1725' '1746' '1633' '1726' '1747' '1635'\n",
      " '1634' '1727' '1748' '1636' '1749' '1637' '1728' '1638' '1750' '1639'\n",
      " '1751' '1640' '1752' '1641' '1753' '1642' '1754' '1644' '1643' '1755'\n",
      " '1645' '1646' '1756' '1647' '1757' '1648' '1758' '1650' '1649' '1759'\n",
      " '1651' '1760' '1652' '1801' '1654' '1655' '1656' '1802' '1657' '1803'\n",
      " '1659' '1658' '1804' '1800' '1700' '1805' '1701' '1806' '1703' '1807'\n",
      " '1704' '1808' '1705' '1707' '1809' '1702' '1708' '1810' '1709' '1811'\n",
      " '1711' '1812' '1706' '1712' '1813' '1713' '1814' '1715' '1710' '1716'\n",
      " '1714' '1815' '1717' '1816' '1719' '1817' '1718' '1818' '1819' '1820'\n",
      " '1821' '1822' '1823' '1824' '1825' '1826' '1827' '1828' '1829' '1830'\n",
      " '1831' '1832' '1833' '1834' '1835' '1836' '1837' '1838' '1839' '1840'\n",
      " '1841' '1842' '1843' '1844' '1845' '1846' '1847' '1848' '1849' '1850'\n",
      " '1851' '1852' '1853' '1854' '1855' '1856' '1857' '1858' '1859' '1860'\n",
      " '1901' '1902' '1903' '1904' '1905' '1900' '1906' '1907' '1908' '1909'\n",
      " '1910' '1911' '1912' '1913' '1914' '1915' '1916' '1917' '1918' '1919'\n",
      " '1920' '1921' '1922' '1923' '1924' '1925' '1926' '1927' '1928' '1929'\n",
      " '1930' '1931' '1932' '1933' '1934' '1935' '1936' '1937' '1938' '1939'\n",
      " '1940' '1941' '1942' '1943' '1944' '1945' '1946' '1947' '1948' '1949'\n",
      " '1660' '1653' '1620' '1619' '1618' '1617' '1616' '1615' '1614' '1613'\n",
      " '1612' '1611']\n",
      "codesum \n",
      " ['RA FZFG BR' 'RA' 'moderate' 'RA BR' 'UP' 'FG+ FG BR' 'RA FG+ FZFG BR'\n",
      " 'RA MIFG BR' 'RA SN BR' 'SN UP' 'BR' 'SN' 'BR HZ' 'FG+ BR'\n",
      " 'SN FG+ FZFG BR' 'RA HZ' 'RA BR HZ' 'FG BR' 'TSRA FG+ BR HZ'\n",
      " 'RA BR HZ VCTS' 'TSRA RA DZ BR' 'TSRA RA DZ BR VCTS' 'TSRA RA BR'\n",
      " 'RA BR VCTS' 'SN BR' 'TS TSRA RA DZ BR' 'SN FZFG BR'\n",
      " 'RA SN FG+ FG FZFG BR UP' 'SN FZFG BR UP' 'DZ SN BR HZ'\n",
      " 'RA FZRA FG+ FG BR UP' 'FZRA FG+ FZFG UP' 'FZRA SN BR UP' 'RA FG BR'\n",
      " 'SN BR HZ' 'RA SN BR HZ' 'RA SN FG+ BR' 'DZ BR HZ' 'RA SN FG BR'\n",
      " 'RA SN BR HZ BLSN' 'FZDZ BR' 'FG+ FG BR HZ' 'FG+ FG BCFG BR' 'FG+'\n",
      " 'SN FZFG' 'BR HZ DU' 'DZ BR' 'BR HZ BLDU' 'FG+ BR HZ' 'RA FG+ FG BR'\n",
      " 'BR HZ DU SQ' 'HZ DU' 'BR DU' 'DZ FZDZ BR' 'RA SN FG+ FG BR' 'BLDU'\n",
      " 'FG+ FG' 'DU' 'TS RA BR HZ' 'BCFG BR' 'FG+ FG FZFG BR' 'RA DZ BR'\n",
      " 'TS TSRA BR' 'TSRA RA DZ VCTS' 'RA FZRA SN BR UP' 'FZRA SN FG+ FZFG BR UP'\n",
      " 'MIFG' 'SN BR UP HZ' 'RA FZRA BR' 'DZ' 'RA BCFG BR' 'HZ'\n",
      " 'RA FG+ FG FZFG BR HZ' 'RA DZ FG+ BCFG BR' 'DZ FG BR HZ'\n",
      " 'FG+ FZFG BR UP HZ' 'RA FG+ FZFG BR HZ' 'BCFG BR HZ'\n",
      " 'RA DZ FG+ FG BR HZ VCTS' 'TSRA RA' 'TS RA BR VCTS' 'SN FZFG BR BLSN'\n",
      " 'TS RA DZ BR' 'TSRA RA BR VCTS' 'TS RA BR' 'RA VCTS' 'RA DZ' 'RA DZ BR HZ'\n",
      " 'FG+ FZFG BR' 'SN BR HZ BLSN' 'PL' 'DZ SN' 'DZ FZDZ SN BR'\n",
      " 'FZRA SN FG+ FZFG BR' 'RA DZ FG BR' 'FZDZ SN BR' 'RA DZ SN FG BR'\n",
      " 'DZ FG+ BCFG BR' 'DZ FG+ FG FZFG BR' 'RA UP' 'TSRA RA FG BR HZ'\n",
      " 'DZ FG+ BR' 'RA FG+ BR' 'RA BR UP' 'TSRA' 'RA SN' 'FG+ BCFG BR HZ'\n",
      " 'TS FG BR' 'FZFG BR' 'RA SN FG+ BR UP' 'SN BR UP' 'RA SN BR UP' 'SN FG BR'\n",
      " 'RA DZ SN BR' 'FZRA SN FZFG BR' 'RA SN FG BR UP' 'SN FG+ FZFG BR UP'\n",
      " 'RA FZRA FG+ FG FZFG BR' 'RA FZRA SN FZFG BR UP' 'FU' 'FZRA FZDZ SN BR'\n",
      " 'RA DZ HZ' 'RA MIFG' 'RA DZ BR VCTS' 'RA DZ HZ VCTS' 'TSRA RA DZ FG BR'\n",
      " 'TSRA RA DZ HZ' 'BR VCFG' 'TS' 'TS MIFG BR' 'MIFG BR' 'TSRA RA FG BR'\n",
      " 'TSRA BR' 'BCFG' 'TSRA RA BR HZ' 'TSRA RA FG+ BR' 'DZ FG BR'\n",
      " 'DZ FG+ FG BR' 'FG BCFG BR' 'TS FG+ FG BR' 'HZ FU' 'TS TSRA RA'\n",
      " 'TS TSRA RA FG BR' 'TSRA RA BR SQ' 'HZ VCTS' 'TS RA HZ VCTS'\n",
      " 'TS FG+ BR HZ' 'BR HZ VCTS' 'FG BR HZ' 'BR HZ FU' 'BR FU' 'RA BCFG BR HZ'\n",
      " 'TS TSRA BR HZ' 'TS TSRA RA BR' 'TS VCTS' 'TSRA BR HZ' 'RA DZ VCTS'\n",
      " 'TS RA' 'TSRA BR VCTS' 'VCTS' 'TS TSRA' 'TSRA RA VCTS' 'DZ HZ' 'TSRA VCTS'\n",
      " 'TS BR' 'TS RA HZ FU' 'TS TSRA RA BR HZ FU' 'TSRA RA FG+ BR VCTS'\n",
      " 'TSRA BR FU' 'TS TSRA RA DZ' 'MIFG FU' 'DZ BR HZ VCTS' 'TSRA HZ'\n",
      " 'TSRA RA DZ BR HZ' 'TS BR FU' 'TS TSRA RA BCFG BR' 'RA BR FU'\n",
      " 'TSRA RA FG BR VCTS' 'TS FU' 'RA FG BR HZ' 'TS TSRA VCTS'\n",
      " 'TS TSRA RA BR VCTS' 'RA FG+ FG BR HZ VCTS' 'TS TSRA RA VCTS'\n",
      " 'TS GR RA BR VCTS' 'BR VCTS' 'RA FG+ FG' 'RA DZ BR HZ VCTS'\n",
      " 'RA FG+ BR HZ VCTS' 'TS RA VCTS' 'FG+ BCFG BR' 'TS RA FG' 'TS HZ VCTS'\n",
      " 'RA FG+ BR VCTS' 'TS HZ' 'TS TSRA RA BR HZ' 'TS FG+ BR' 'RA BLDU SQ'\n",
      " 'TS RA HZ' 'FG' 'TSRA RA BCFG BR HZ' 'TSRA FG+' 'RA HZ VCTS' 'TSRA RA SQ'\n",
      " 'TSRA BR HZ VCTS' 'TS TSRA RA HZ' 'TS RA GS BR' 'RA FG BCFG BR'\n",
      " 'RA DZ FG+ BR HZ' 'RA FG+' 'TSRA RA FG+ FG BR' 'DZ SN BR' 'DZ FG+ BR HZ'\n",
      " 'TS RA DZ VCTS' 'TS RA BR HZ VCTS' 'RA SN FZFG BR' 'FZFG' 'RA SN BR UP HZ'\n",
      " 'TS TSSN RA FG+ FG BR VCTS' 'TSSN RA SN FG+ FZFG BR' 'MIFG BR HZ'\n",
      " 'FG+ FZFG' 'RA DZ BCFG BR' 'SN FG+ FG BR' 'FZRA SN BR'\n",
      " 'RA FZRA FG+ FG FZFG BR UP' 'RA DZ FG+ BR' 'DZ SN FG+ FG BR UP'\n",
      " 'RA FG+ FG BR UP' 'TSRA RA HZ VCTS' 'TS TSRA RA FG+ FG BR'\n",
      " 'FZRA FG+ FZFG BR HZ' 'FG+ FZFG BCFG' 'RA FZRA SN BR'\n",
      " 'RA FZRA SN FG+ FG FZFG BR' 'TS HZ BLDU' 'FZRA SN UP HZ' 'UP HZ'\n",
      " 'TS TSRA RA SN FG BR' 'RA SN FG+ FZFG BR HZ' 'DZ SN FG BR' 'SN HZ'\n",
      " 'RA SN FG FZFG BR' 'RA DZ SN FG+ BR' 'TSRA RA BCFG BR'\n",
      " 'TSRA RA DZ SN FG HZ' 'RA FG+ FG MIFG BR' 'RA FG+ BR UP' 'DZ MIFG BR'\n",
      " 'FG+ MIFG BR' 'FG MIFG BR' 'RA FZRA' 'FZRA' 'RA DZ SN' 'SG' 'BR UP HZ'\n",
      " 'TS SN GS' 'FZRA SN FZFG BR UP' 'SN BLSN' 'FZRA PL BR HZ' 'BR UP'\n",
      " 'FZRA FG+ FG FZFG BR UP' 'TSRA RA BR HZ VCTS' 'TSRA RA DZ'\n",
      " 'RA FZRA FG+ BR' 'SN UP BLSN' 'SN HZ BLSN' 'RA FG+ FG BR HZ'\n",
      " 'RA SN PL BR HZ' 'SN FG+ FZFG BR UP HZ' 'SN FG+ FG FZFG BR UP' 'SN UP HZ'\n",
      " 'SN FG+ FZFG HZ' 'TS DZ BR' 'RA FZRA SN BR UP HZ' 'TSRA DZ BR'\n",
      " 'RA FZRA SN FG+ FG FZFG BR UP' 'RA SN FG+ FG BR HZ' 'FG+ FZFG BR HZ'\n",
      " 'SN BR UP BLSN' 'RA SN PL FG+ BR' 'RA SN FG+ FG BR UP'\n",
      " 'TS TSRA RA DZ FZRA PL BR' 'TS TSRA RA FZRA BR' 'SN FZFG BR HZ'\n",
      " 'TSRA RA FZRA BR UP VCTS' 'FZRA SN FG BR' 'SN FG+ FZFG BR BLSN'\n",
      " 'TS TSRA RA SN PL BR' 'RA FZRA SN FG BR UP HZ VCTS' 'RA SN BR VCTS'\n",
      " 'SN FG BR UP' 'SN FG+ FG FZFG BR' 'BCFG HZ' 'FZRA SN BR UP HZ'\n",
      " 'RA SN FG FZFG BR UP' 'TSRA DZ HZ' 'RA SN UP' 'TS TSRA RA FG BR VCTS'\n",
      " 'TS TSSN RA DZ SN BR' 'RA DZ SN BR HZ' 'TSSN RA DZ SN BR VCTS'\n",
      " 'RA FZRA BR UP HZ' 'SN BR BLSN BLDU' 'RA FZRA BR VCTS' 'TSRA RA FZRA BR'\n",
      " 'BR SQ' 'TS TSRA RA FG+ BR HZ VCTS' 'FZDZ SN FZFG BR' 'RA DZ FG BCFG BR'\n",
      " 'TSRA RA DZ SN BR HZ VCTS' 'TSSN FG+ BR VCTS' 'TS TSRA FG+ BR HZ'\n",
      " 'TS TSRA BR SQ' 'RA FG+ FG BR VCTS' 'TS RA FG+ BR HZ VCTS'\n",
      " 'TS RA DZ BR HZ' 'TS TSRA GR RA BR' 'TSRA FG+ FG BR VCTS' 'TS TSRA DZ BR'\n",
      " 'TS RA FG BR' 'TS TSRA RA FG+ FG VCTS' 'TS TSRA RA FG+'\n",
      " 'TSRA TSSN BR HZ VCTS' 'DZ FG+ FG HZ' 'TS TSRA BR HZ VCTS' 'RA FG+ BR HZ'\n",
      " 'TS BR HZ' 'TSRA BR SQ' 'RA FG BR VCTS' 'RA FG BR HZ VCTS' 'TS BR VCTS'\n",
      " 'FG+ FG BR VCTS' 'TS RA FG+ BR' 'FG BR VCTS' 'TS SQ' 'VCFG' 'TS RA DZ'\n",
      " 'TS RA DZ BR VCTS' 'RA FG+ FG BCFG BR' 'MIFG BCFG BR' 'TS RA GS'\n",
      " 'RA FG MIFG BR' 'TSRA BCFG BR' 'RA DZ SN VCTS' 'RA FZFG BR HZ'\n",
      " 'RA MIFG BCFG BR' 'FG+ FG MIFG BR' 'RA DZ FG+ FG BR HZ' 'RA FZRA BR HZ'\n",
      " 'TS RA DZ HZ VCTS' 'RA FG BR HZ SQ' 'RA DZ FZRA FZDZ BR' 'FZRA UP'\n",
      " 'FZRA BR UP' 'RA FZRA BR UP' 'RA SN FG+' 'SN PL' 'RA PL' 'DZ FZRA'\n",
      " 'FZRA BR HZ' 'RA DZ SN HZ' 'RA FZRA SN FG+ BR UP' 'SN FG+ FG BR HZ'\n",
      " 'RA DZ FG+ FG BR' 'RA DZ FG+ MIFG BR HZ' 'DZ FG+' 'FZRA SN UP'\n",
      " 'RA FZRA FZDZ PL BR' 'FZRA BR' 'RA PL BR' 'FZDZ' 'FZDZ BR HZ'\n",
      " 'PRFG BCFG BR HZ' 'RA FZRA SN BR HZ' 'SN BR BLSN' 'RA DZ FZRA BR HZ'\n",
      " 'FZRA BR UP HZ' 'DZ FZRA FZDZ SN BR' 'DZ SN FG+ FZFG BR'\n",
      " 'RA FZRA FG+ FZFG BR UP' 'RA FZRA FG+ FG BR' 'SN FG+ FZFG BR HZ' 'BLSN'\n",
      " 'FZDZ SN BLSN' 'RA FG+ BCFG BR' 'SN FG+ BR HZ' 'TSRA FG+ FG BR'\n",
      " 'SN FG FZFG BR' 'SN FZFG UP' 'RA FZRA SN UP' 'RA FZRA PL BR' 'RA DZ UP'\n",
      " 'FZRA PL' 'RA FZRA UP' 'SN FZFG BLSN' 'FG+ FG FZFG BR HZ' 'FZFG BR HZ'\n",
      " 'SN FG+ FZFG' 'RA DZ BR UP HZ' 'RA BR UP HZ' 'FZRA SN FZFG BR UP HZ'\n",
      " 'RA FG+ BCFG BR HZ' 'RA DZ FZRA FZDZ SN FG+ FG BR HZ' 'SN FG+ FZFG UP'\n",
      " 'DZ FZDZ BR HZ' 'RA DZ BR UP' 'GS BR HZ' 'FZDZ FG BR HZ' 'RA DZ FZDZ BR'\n",
      " 'RA SN FG+ FZFG BR' 'RA SN FG+ FG FZFG BR' 'UP BLSN'\n",
      " 'FZRA SN FG+ FZFG BR HZ' 'HZ BLDU' 'TSRA RA SN FG+ BR HZ'\n",
      " 'RA FG+ FZFG BR UP' 'TSRA RA FG+ FG BR UP' 'FZRA FZDZ BR'\n",
      " 'RA FZRA FG+ FG BR HZ' 'RA DZ FZDZ FG+ BR' 'TS FZDZ SN BR BLSN'\n",
      " 'FZRA SN VCTS' 'RA DZ SN BR UP' 'TS FZDZ SN BLSN'\n",
      " 'FZRA SN FZFG BR UP BLSN' 'RA DZ FZDZ SN PL BR' 'TS TSRA FZRA'\n",
      " 'TS RA FZRA BR VCTS' 'TSSN UP VCTS' 'TSSN SN BR UP' 'RA PL HZ'\n",
      " 'RA FZRA FG BR HZ' 'FZRA FG FZFG BR' 'RA DZ SN FG FZFG BR'\n",
      " 'TS TSRA GR RA BR HZ SQ' 'TSSN BR' 'TSRA RA FG' 'RA DU' 'TSRA RA SN BR'\n",
      " 'TS TSRA FG+ BR' 'TSRA FG BR' 'DZ BR VCTS' 'TS TSRA HZ' 'TSRA FG+ BR'\n",
      " 'TS TSRA BR VCTS' 'TS RA FG+ FG BR VCTS' 'TS TSRA RA DZ FG+ FG BR VCTS'\n",
      " 'TSRA DZ BR VCTS']\n",
      "snowfall \n",
      " ['M' '0.0' '0.5' '  T' '0.2' '3.6' '3.7' '6.1' '0.6' '0.3' '2.0' '1.2'\n",
      " '1.4' '2.3' '1.3' '1.0' '4.3' '0.1' '1.7' '0.7' '1.9' '0.9' '0.4' '1.6'\n",
      " '4.7' '4.0' '2.1' '7.1' '4.2' '1.8' '5.2' '0.8' '1.5' '2.8' '3.0' '5.0'\n",
      " '9.3' '2.6' '3.1' '4.4' '3.4' '1.1' '5.5' '15.2' '7.8' '13.5' '16.2' '3.5'\n",
      " '2.2' '3.2' '13.1' '4.6' '2.4' '5.4' '7.2' '14.9' '7.7' '11.0' '2.9' '5.1'\n",
      " '3.3' '3.9' '7.0' '6.6' '8.0' '4.9' '6.2' '6.4' '4.1' '5.8' '2.7' '12.2'\n",
      " '10.5' '6.7' '3.8' '5.7' '2.5']\n",
      "preciptotal \n",
      " ['0.05' '0.07' '0.00' '  T' '0.09' '0.12' '0.01' '0.02' '0.16' '0.03'\n",
      " '0.13' '0.87' '0.62' '1.32' '1.58' '0.49' '0.30' '0.04' '0.69' '1.06'\n",
      " '0.34' '0.98' '0.35' '0.11' '0.06' '0.15' '0.08' '0.22' '0.14' '0.20'\n",
      " '0.25' '0.31' '0.17' '0.24' '0.40' '0.82' '1.52' '1.44' '1.75' '0.52'\n",
      " '3.14' '5.67' '3.00' '0.71' '3.06' '2.61' '0.21' '0.23' '0.19' '1.14'\n",
      " '1.20' '1.15' '0.38' '0.48' '0.84' '0.91' '1.33' '0.67' '1.70' '0.10'\n",
      " '0.27' '0.18' '0.53' '0.59' '0.70' '1.72' '1.10' '1.56' '1.82' '0.77'\n",
      " '1.04' '0.80' '0.50' '0.56' '0.51' '0.58' '0.47' '0.54' '0.61' '0.81'\n",
      " '0.64' '0.65' '0.45' '0.36' '0.33' '1.27' '1.08' '0.96' '0.86' '1.01'\n",
      " '0.28' '0.39' '1.39' '0.42' '0.90' '2.81' '2.34' '0.89' '3.02' '3.05'\n",
      " '2.40' '2.85' '1.43' '2.77' '2.69' '2.16' '1.07' '2.09' '2.05' '0.46'\n",
      " '0.32' '1.18' '0.75' '0.60' '1.30' '0.73' '0.88' '2.75' '0.93' '0.26'\n",
      " '0.78' '1.19' '0.92' '1.00' '0.68' '0.63' '1.05' '0.85' '1.67' '1.36'\n",
      " '1.23' '1.90' '0.83' '1.28' '0.76' '0.79' '2.45' '0.43' '0.44' '2.70'\n",
      " '1.17' '2.84' '0.37' '1.64' '0.95' '0.72' '1.12' '2.15' '1.78' '2.68'\n",
      " '1.09' '2.83' '1.40' 'M' '1.81' '1.96' '0.41' '3.32' '0.29' '2.10' '1.71'\n",
      " '0.99' '2.21' '1.66' '1.45' '5.12' '3.47' '2.91' '0.66' '1.99' '1.47'\n",
      " '1.22' '0.57' '4.65' '7.36' '6.93' '4.84' '5.20' '5.36' '1.11' '1.38'\n",
      " '1.24' '1.53' '2.23' '1.03' '0.55' '1.55' '2.50' '2.27' '2.04' '2.35'\n",
      " '1.21' '1.16' '3.91' '1.37' '1.95' '1.35' '1.41' '1.29' '1.42' '0.94'\n",
      " '3.52' '1.91' '2.38' '3.34' '2.37' '2.56' '1.49' '1.98' '2.65' '1.89'\n",
      " '1.85' '0.74' '0.97' '1.80' '3.20' '1.57' '1.79' '3.19' '2.31' '2.03'\n",
      " '2.57' '1.34' '1.13' '1.50' '2.42' '3.03' '2.06' '1.88' '2.82' '2.92'\n",
      " '3.30' '3.13' '5.59' '5.65' '2.00' '2.18' '1.94' '2.28' '1.69' '2.60'\n",
      " '2.12' '1.92' '1.73' '1.76' '1.63' '2.48' '3.53' '2.13' '1.60' '1.02'\n",
      " '1.61' '1.65' '2.32' '1.68' '1.31' '2.20' '2.76' '1.46' '1.54' '1.25'\n",
      " '2.02' '4.22' '3.16' '3.24' '2.49' '2.11' '1.83' '1.93' '1.87' '2.01'\n",
      " '1.62' '3.27' '3.07' '2.14' '2.07' '2.59' '3.17' '1.26' '2.88' '1.77'\n",
      " '2.41' '3.66' '3.45' '5.04']\n",
      "stnpressure \n",
      " ['29.78' '28.82' '29.77' '29.79' '29.95' '29.15' '30.05' '29.34' '30.16'\n",
      " '30.15' '24.60' '29.13' '29.53' '29.80' '29.83' '29.98' '29.06' '29.44'\n",
      " '28.51' '29.89' '29.93' '30.09' '29.23' '30.25' '29.67' '30.11' '30.10'\n",
      " '24.55' '29.21' '29.20' '29.48' '29.96' '29.47' '29.90' '28.69' '29.55'\n",
      " '29.70' '29.88' '28.84' '30.12' '29.26' '30.27' '30.26' '24.40' '29.61'\n",
      " '29.84' '29.43' '29.63' '29.86' '28.87' '29.72' '28.90' '30.35' '30.34'\n",
      " '24.49' '28.89' '29.59' '29.75' '29.54' '28.70' '29.35' '29.51' '29.68'\n",
      " '28.71' '29.87' '28.95' '30.20' 'M' '30.18' '24.26' '29.42' '29.66'\n",
      " '29.02' '29.46' '29.16' '29.65' '29.00' '30.14' '24.21' '28.50' '29.39'\n",
      " '29.19' '29.57' '28.63' '29.36' '24.19' '28.66' '29.60' '29.41' '29.32'\n",
      " '29.27' '29.45' '29.31' '28.78' '29.64' '30.17' '24.32' '28.76' '29.50'\n",
      " '29.56' '30.06' '29.05' '29.33' '28.79' '29.17' '30.13' '24.37' '28.77'\n",
      " '29.81' '29.52' '29.69' '28.74' '29.24' '30.03' '30.02' '24.13' '29.22'\n",
      " '29.14' '29.91' '28.92' '29.08' '29.10' '29.28' '28.47' '28.99' '24.24'\n",
      " '28.45' '28.85' '29.62' '28.62' '28.72' '28.30' '29.94' '30.04' '24.23'\n",
      " '29.11' '29.58' '28.64' '28.83' '29.99' '28.81' '29.73' '29.38' '29.29'\n",
      " '28.61' '30.36' '24.01' '29.85' '30.29' '29.03' '29.49' '28.41' '30.42'\n",
      " '30.41' '23.98' '30.32' '29.01' '30.24' '30.22' '29.40' '24.05' '28.48'\n",
      " '30.08' '23.95' '29.12' '29.30' '28.46' '24.06' '29.04' '28.56' '23.75'\n",
      " '28.27' '30.07' '23.93' '28.80' '29.97' '29.25' '29.18' '28.59' '30.00'\n",
      " '30.01' '24.16' '28.58' '29.07' '24.29' '24.36' '28.88' '24.31' '30.37'\n",
      " '24.10' '30.33' '29.71' '30.21' '24.27' '28.65' '30.23' '24.39' '28.55'\n",
      " '24.51' '28.97' '28.96' '29.82' '28.86' '24.30' '24.43' '29.92' '28.53'\n",
      " '28.94' '28.91' '28.54' '24.17' '29.74' '29.37' '28.68' '24.14' '23.89'\n",
      " '24.00' '24.03' '29.09' '28.22' '23.85' '28.40' '28.25' '24.08' '28.23'\n",
      " '28.93' '30.31' '29.76' '23.87' '28.49' '24.02' '23.94' '24.20' '28.52'\n",
      " '30.40' '24.45' '30.19' '30.30' '23.96' '30.28' '24.11' '24.09' '28.43'\n",
      " '28.98' '23.77' '28.44' '28.34' '23.82' '28.33' '28.38' '28.42' '24.18'\n",
      " '24.12' '28.67' '23.80' '28.29' '24.41' '28.75' '24.34' '23.97' '23.83'\n",
      " '28.28' '24.42' '28.39' '24.47' '28.73' '24.38' '28.18' '28.19' '28.20'\n",
      " '24.28' '28.57' '28.60' '24.22' '23.92' '23.99' '24.33' '24.25' '24.50'\n",
      " '24.44' '24.46' '24.35' '24.61' '24.15' '28.37' '24.04' '28.36' '28.35'\n",
      " '24.48' '30.53' '30.55' '30.43' '30.45' '24.07' '23.88' '23.90' '28.26'\n",
      " '23.76' '23.91' '28.32' '23.84' '30.57' '24.64' '30.44' '30.46' '30.50'\n",
      " '24.53' '24.62' '23.72' '24.57' '30.39' '30.38' '28.17' '28.16' '28.07'\n",
      " '28.31' '23.78' '30.59' '30.61' '23.74' '28.04' '24.52']\n",
      "sealevel \n",
      " ['29.92' '29.91' '30.47' '30.48' '30.54' 'M' '30.09' '30.19' '30.18'\n",
      " '30.59' '30.52' '29.89' '30.50' '30.49' '29.79' '29.62' '30.63' '30.64'\n",
      " '30.66' '30.44' '30.14' '30.65' '29.58' '29.59' '30.20' '30.62' '29.87'\n",
      " '29.85' '30.34' '30.30' '30.12' '30.33' '30.23' '29.84' '30.36' '30.41'\n",
      " '30.26' '30.03' '30.01' '30.27' '30.28' '30.31' '30.06' '30.38' '30.37'\n",
      " '30.29' '30.02' '30.00' '30.11' '30.24' '30.13' '29.73' '30.21' '30.22'\n",
      " '30.04' '29.82' '29.83' '29.81' '29.99' '29.75' '30.16' '30.17' '29.93'\n",
      " '29.71' '29.76' '30.15' '30.07' '30.05' '30.08' '29.98' '29.97' '29.96'\n",
      " '29.86' '29.94' '29.95' '29.88' '30.10' '29.78' '29.64' '29.74' '29.69'\n",
      " '29.70' '29.41' '29.40' '29.38' '30.35' '29.80' '30.25' '30.43' '29.77'\n",
      " '30.45' '30.40' '29.90' '29.66' '29.44' '29.60' '29.63' '29.65' '30.51'\n",
      " '29.57' '29.56' '29.54' '30.39' '30.42' '30.32' '29.67' '30.46' '30.57'\n",
      " '30.67' '29.72' '29.68' '29.49' '29.51' '29.52' '29.61' '29.55' '29.53'\n",
      " '29.39' '29.43' '29.37' '29.36' '29.34' '29.50' '29.47' '29.48' '29.27'\n",
      " '29.28' '30.60' '30.70' '30.69' '30.55' '30.56' '29.42' '29.22' '29.25'\n",
      " '30.53' '30.61' '30.71' '30.73' '30.80' '30.58' '29.46' '29.45' '30.68'\n",
      " '30.72' '30.74' '29.20' '29.23' '29.18' '29.16' '30.77' '30.75' '29.30']\n",
      "resultspeed \n",
      " [' 3.6' ' 9.1' ' 9.9' ' 8.0' '14.0' '10.3' '11.0' '22.8' ' 5.1' ' 4.6'\n",
      " ' 4.4' ' 2.5' '11.4' ' 4.2' ' 5.4' ' 9.0' '14.6' '10.9' ' 9.8' '12.7'\n",
      " ' 7.7' ' 3.7' ' 5.7' ' 6.2' '14.4' '10.2' '11.7' ' 6.1' ' 6.3' ' 7.1'\n",
      " ' 9.6' ' 6.7' '17.8' ' 7.9' '10.8' '12.3' '11.6' ' 3.1' '15.7' ' 3.9'\n",
      " ' 8.9' '11.8' ' 9.3' '12.9' ' 2.9' '12.4' '13.1' ' 6.9' ' 8.8' ' 5.5'\n",
      " '10.1' ' 1.3' ' 0.8' ' 5.0' ' 1.4' ' 2.8' ' 3.0' ' 2.3' ' 2.7' ' 2.1'\n",
      " ' 1.1' ' 7.3' ' 0.4' ' 0.3' '12.2' ' 0.9' ' 6.6' ' 3.5' ' 4.3' ' 8.4'\n",
      " ' 6.4' '10.6' ' 1.8' ' 2.4' ' 0.6' ' 1.6' ' 3.4' ' 8.6' ' 7.2' ' 7.0'\n",
      " ' 8.2' ' 1.0' ' 5.3' ' 1.9' ' 2.0' ' 9.2' ' 7.4' ' 5.9' ' 8.3' ' 3.8'\n",
      " '10.5' ' 6.0' ' 4.7' '11.2' ' 6.8' ' 2.2' ' 9.5' ' 7.8' ' 4.1' ' 5.2'\n",
      " ' 4.5' '11.3' ' 1.5' ' 5.8' '12.5' '13.0' '10.4' ' 8.7' '14.2' ' 3.2'\n",
      " ' 0.7' '10.7' '14.5' '13.3' '12.1' '18.0' '10.0' '16.8' ' 10.0' '12.6'\n",
      " '13.2' ' 9.7' '11.1' '16.1' ' 2.6' ' 4.0' ' 5.6' '13.6' '16.3' '18.9'\n",
      " '14.7' '13.8' '19.7' '20.6' '16.4' ' 4.9' '13.5' '15.2' ' 9.4' '13.9'\n",
      " '13.7' '17.0' ' 0.2' ' 7.5' '15.0' '14.3' ' 7.6' ' 6.5' ' 3.3' ' 1.2'\n",
      " '11.5' ' 1.7' ' 4.8' ' 8.5' '19.5' '15.9' 'M' '15.8' ' 8.1' '16.0' '19.9'\n",
      " '14.9' '16.2' ' 0.1' '12.0' '17.1' '15.1' ' 0.5' '14.8' '12.8' '18.3'\n",
      " '15.3' '17.7' '23.3' '18.1' '11.9' '22.6' '18.6' '14.1' '21.8' '28.4'\n",
      " '26.0' '19.0' '17.2' '20.2' '24.7' '22.9' '15.4' '22.3' '22.7' '17.6'\n",
      " '17.5' '18.7' '16.7' '16.9' '20.7' '20.5' '22.1' '20.1' '15.6' '18.5'\n",
      " '16.5' '17.9' '19.4' '15.5' '20.3' '16.6' '25.3' '22.4' '20.4' '13.4'\n",
      " '23.8' '22.5' '19.6' '19.8' '18.8' '26.9' '20.9' '18.2' '21.4' '17.4'\n",
      " '20.0' '23.0' ' 0.0' '19.3' '19.2' '21.7' '21.2' '19.1' '24.2' '18.4'\n",
      " '17.3' '20.8' '21.3' '23.6' '24.3' '21.5' '23.5' '21.1' '24.6' '25.1'\n",
      " '22.2' '24.1' '21.0' '21.6' '26.7' '23.4' '25.4' '22.0']\n",
      "resultdir \n",
      " ['20' '23' '31' '35' '36' '32' '30' '24' '25' '16' '17' '21' '33' '29' '26'\n",
      " '01' '34' '27' '18' '19' '22' '28' '15' '12' '02' '03' '14' '07' '09' '04'\n",
      " '08' '05' '10' '13' '11' '06' 'M']\n",
      "avgspeed \n",
      " ['4.6' '11.3' '10.0' '8.2' '13.8' '10.2' '10.9' '22.5' '5.5' '4.8' '6.1'\n",
      " '3.8' '6.8' '5.8' '8.9' '15.6' '10.8' '10.3' '13.3' '9.3' '6.9' '6.7'\n",
      " '14.7' '11.2' '11.1' '12.7' '7.4' '8.1' '18.1' '8.6' '11.6' '12.8' '11.8'\n",
      " '4.2' '15.9' '3.9' '9.2' '12.1' '9.7' '13.2' '6.3' '13.7' '7.0' '9.1'\n",
      " '8.5' '8.3' '11.7' '4.9' '2.2' '4.7' '2.6' '5.2' '3.1' '7.6' '6.4' '9.9'\n",
      " '3.3' '7.8' '1.8' '2.3' '12.4' '1.0' '2.1' 'M' '5.0' '4.4' '2.9' '2.4'\n",
      " '9.6' '5.4' '14.4' '8.0' '9.5' '6.2' '12.2' '7.5' '7.9' '3.6' '3.4' '10.4'\n",
      " '1.7' '3.0' '5.9' '0.9' '3.7' '9.4' '7.7' '6.6' '11.0' '8.4' '1.2' '1.9'\n",
      " '2.5' '1.5' '4.1' '4.5' '4.0' '7.2' '12.5' '8.8' '10.6' '5.3' '9.0' '6.5'\n",
      " '7.1' '15.8' '14.1' '13.0' '3.2' '12.3' '10.7' '15.1' '13.9' '18.2' '11.4'\n",
      " '10.5' '17.3' '12.9' '5.6' '13.5' '16.7' '4.3' '5.7' '7.3' '16.5' '19.3'\n",
      " '13.4' '12.0' '20.0' '20.9' '5.1' '16.6' '16.8' '17.9' '16.3' '13.1'\n",
      " '19.2' '17.0' '16.2' '3.5' '14.0' '11.5' '6.0' '18.5' '22.1' '14.6' '22.0'\n",
      " '15.0' '14.9' '11.9' '12.6' '14.2' '8.7' '17.2' '2.7' '10.1' '2.0' '16.4'\n",
      " '19.8' '15.7' '1.4' '20.1' '15.2' '0.3' '2.8' '0.8' '9.8' '14.5' '17.4'\n",
      " '16.1' '14.3' '15.5' '1.3' '0.6' '18.4' '20.7' '17.6' '18.8' '17.5' '18.3'\n",
      " '23.6' '22.9' '15.4' '21.0' '17.8' '18.0' '16.0' '15.3' '28.7' '26.1'\n",
      " '20.3' '24.9' '23.2' '22.7' '23.1' '19.6' '19.1' '17.1' '16.9' '13.6'\n",
      " '20.8' '22.2' '21.7' '18.7' '18.9' '1.6' '14.8' '19.7' '19.4' '20.6'\n",
      " '25.5' '23.0' '19.9' '19.0' '27.0' '21.6' '20.5' '21.1' '20.4' '19.5'\n",
      " '20.2' '1.1' '0.1' '0.5' '0.7' '23.4' '21.5' '21.9' '24.5' '0.4' '17.7'\n",
      " '21.8' '18.6' '21.2' '21.3' '22.8' '22.3' '21.4' '23.8' '24.4' '0.0'\n",
      " '24.8' '23.9' '23.7' '24.6' '22.6' '23.3' '24.7' '24.3' '26.8' '24.0'\n",
      " '25.6' '22.4' '0.2']\n"
     ]
    }
   ],
   "source": [
    "for i in weather_1.columns:\n",
    "    print(i, \"\\n\", weather_1[i].unique())"
   ]
  },
  {
   "cell_type": "markdown",
   "metadata": {},
   "source": [
    "### Types of Missing Data : ` - `, ` M `, ` T `, `  T`, `(blank)`"
   ]
  },
  {
   "cell_type": "code",
   "execution_count": 16,
   "metadata": {},
   "outputs": [],
   "source": [
    "for i in weather_1.columns:\n",
    "    weather_1[i] = weather_1[i].replace('-', np.nan)\n",
    "    weather_1[i] = weather_1[i].replace(' ', np.nan)\n",
    "    weather_1[i] = weather_1[i].replace('M', np.nan)\n",
    "    weather_1[i] = weather_1[i].replace('T', np.nan)\n",
    "    weather_1[i] = weather_1[i].replace('  T', np.nan)"
   ]
  },
  {
   "cell_type": "markdown",
   "metadata": {},
   "source": [
    "### 1. 2. 2. Visualize Missing Data"
   ]
  },
  {
   "cell_type": "markdown",
   "metadata": {},
   "source": [
    "### 1. 2. 2. 1. All"
   ]
  },
  {
   "cell_type": "code",
   "execution_count": 17,
   "metadata": {},
   "outputs": [
    {
     "data": {
      "image/png": "[encoded data removed]",
      "text/plain": [
       "<matplotlib.figure.Figure at 0x12de3db70>"
      ]
     },
     "metadata": {},
     "output_type": "display_data"
    }
   ],
   "source": [
    "plt.figure(figsize=(12,8))\n",
    "count_null = weather_1.isnull().sum()\n",
    "count_null.sort_values(ascending = False, inplace = True)\n",
    "count_null = count_null[count_null > 0]\n",
    "count_null.plot(kind = 'bar', title = 'missing data count')\n",
    "plt.show()"
   ]
  },
  {
   "cell_type": "markdown",
   "metadata": {},
   "source": [
    "### 1. 2. 2. 2. Missing Data by each Station"
   ]
  },
  {
   "cell_type": "code",
   "execution_count": 18,
   "metadata": {},
   "outputs": [],
   "source": [
    "def station_null(station_nbr):\n",
    "    print(\"Total data size of station_\" + str(station_nbr) + \" : \" + str(len(weather_1[weather_1['station_nbr'].isin([5])])))\n",
    "    \n",
    "    plt.figure(figsize=(16,4))\n",
    "    count_null = weather_1[weather_1['station_nbr'].isin([station_nbr])].isnull().sum()\n",
    "    count_null.sort_values(ascending = False, inplace = True)\n",
    "    count_null = count_null[count_null > 0]\n",
    "    count_null.plot(kind = 'bar', title = 'missing data count')\n",
    "    plt.show()"
   ]
  },
  {
   "cell_type": "code",
   "execution_count": 19,
   "metadata": {},
   "outputs": [
    {
     "name": "stdout",
     "output_type": "stream",
     "text": [
      "Total data size of station_5 : 852\n"
     ]
    },
    {
     "data": {
      "image/png": "[encoded data removed]",
      "text/plain": [
       "<matplotlib.figure.Figure at 0x12e0154a8>"
      ]
     },
     "metadata": {},
     "output_type": "display_data"
    }
   ],
   "source": [
    "station_null(5)"
   ]
  },
  {
   "cell_type": "code",
   "execution_count": null,
   "metadata": {},
   "outputs": [],
   "source": []
  },
  {
   "cell_type": "code",
   "execution_count": null,
   "metadata": {},
   "outputs": [],
   "source": []
  },
  {
   "cell_type": "code",
   "execution_count": null,
   "metadata": {},
   "outputs": [],
   "source": []
  },
  {
   "cell_type": "code",
   "execution_count": null,
   "metadata": {},
   "outputs": [],
   "source": []
  },
  {
   "cell_type": "code",
   "execution_count": null,
   "metadata": {},
   "outputs": [],
   "source": []
  },
  {
   "cell_type": "code",
   "execution_count": null,
   "metadata": {},
   "outputs": [],
   "source": []
  },
  {
   "cell_type": "code",
   "execution_count": null,
   "metadata": {},
   "outputs": [],
   "source": []
  },
  {
   "cell_type": "code",
   "execution_count": null,
   "metadata": {},
   "outputs": [],
   "source": []
  },
  {
   "cell_type": "markdown",
   "metadata": {},
   "source": [
    "# 2 Preprocessing"
   ]
  },
  {
   "cell_type": "markdown",
   "metadata": {},
   "source": [
    "## 2. 1. Missing Value Imputation"
   ]
  },
  {
   "cell_type": "markdown",
   "metadata": {},
   "source": [
    "모델링하기 전에 데이터의 복원에 대해서 고려해야 했다.\n",
    "missing value가 발행하지 않은 데이터만 가지고 modeling을 할 수는 없다\n",
    "\n",
    "1. OLS가 안 돌아간다.\n",
    "\n",
    "2. 완전한 데이터만 걸렀을 때는 \n",
    "- 빠져버리는 store가 발생하기 때문에\n",
    "- missing value가 하나도 없는 데이터는 7000개 뿐이다.\n",
    "- 제공받은 데이터 중 완전한 데이터, 즉 일부만 사용한다면 편향된 결과를 도출할 수 있기 때문에\n",
    "\n",
    "---------------"
   ]
  },
  {
   "cell_type": "markdown",
   "metadata": {},
   "source": [
    "3가지 방법의 Imputation\n",
    "\n",
    "1. yesterday = 어제 날짜를 참조하여 복원\n",
    "2. mean = 해당 station의 해당 feature의 평균으로 복원\n",
    "3. best close = missing 행과 가장 비슷한 행을 찾아 복원\n",
    "\n",
    "모델링에 쓰일 데이터는 위의 세가지 복원버전을 사용한다.\n",
    "\n",
    "--------------"
   ]
  },
  {
   "cell_type": "markdown",
   "metadata": {},
   "source": [
    "1. 전체 station에서 intact한 row들을 뽑음\n",
    "2. 모든 intact한 row를 고려하면 시간이 오래 걸리므로 DataFrame.sample함수를 이용하여 랜덤하게 추출\n",
    "3. missing이 발생한 행에 대해서 intact한 row와 가장 가까운 행을 찾음\n",
    "4. 이 때 기준은 각 feature의 Z-score (모든 feature를 공평하게 반영하여 가까운 행을 찾음)\n",
    "5. 이 Z-score의 차이가 가장 적은 행이 가장 가까운 행이다."
   ]
  },
  {
   "cell_type": "raw",
   "metadata": {},
   "source": [
    "# Raw NBconvert : 코드 실행 시간이 너무 길어서 생략하였습니다. \n",
    "\n",
    "def filling_missing_by_closest(station_nbr,precision=-1):\n",
    "    \n",
    "    weather, how, spare_columns = drop_all_missing(station_nbr)\n",
    "    full_weather = missing_to_nan_weather()\n",
    "    \n",
    "    for each in ['codesum']:\n",
    "        full_weather.drop(each,axis=1,inplace=True)\n",
    "    \n",
    "    no_nan = full_weather.dropna(axis=0, how='any').reset_index(drop=True)\n",
    "    \n",
    "    if precision!=-1:\n",
    "        no_nan = no_nan.sample(len(no_nan)//precision).reset_index(drop=True)\n",
    "    \n",
    "    weather = weather.reset_index(drop=True)\n",
    "    nan_index = list(set(weather.index)-set(weather.dropna(axis=0,how='any').index))\n",
    "    nan = weather.loc[nan_index, :]\n",
    "    \n",
    "    print(nan.index)\n",
    "    \n",
    "    feature = list(weather.columns)[2:-3]\n",
    "    table = no_nan.describe()\n",
    "\n",
    "    print('\\t','filling by best_close processing..')\n",
    "\n",
    "    print(len(no_nan))\n",
    "    print(len(nan))\n",
    "    \n",
    "    tmp=set()\n",
    "    \n",
    "    for each in nan.index:\n",
    "        nan_row = nan.loc[each, :]\n",
    "        nan_z = pd.Series([(nan_row[f] - table[f]['mean']) /\n",
    "                           table[f]['std'] for f in feature])\n",
    "\n",
    "        distance = dict()\n",
    "\n",
    "        for idx in no_nan.index:\n",
    "            intact = no_nan.loc[idx, :]\n",
    "            intact_z = pd.Series(\n",
    "                [(intact[f] - table[f]['mean']) / table[f]['std'] for f in feature])\n",
    "\n",
    "            diff = abs(nan_z - intact_z)\n",
    "            diff = diff.mean()\n",
    "\n",
    "            distance[idx] = diff\n",
    "\n",
    "        no_nan_keys = list(filter(lambda k: not np.isnan(distance[k]), distance))\n",
    "\n",
    "        if no_nan_keys:\n",
    "            best_close_idx = min(distance, key=distance.get)\n",
    "            missing_feature = nan_row.isnull()\n",
    "            nan_row[missing_feature] = no_nan.loc[best_close_idx, missing_feature]\n",
    "            weather.loc[each, :] = nan_row\n",
    "            tmp.add(each)\n",
    "        \n",
    "        else:\n",
    "            weather.drop(each)\n",
    "        \n",
    "    print('\\t','filling by best_close finished !')\n",
    "        \n",
    "    weather['codesum'] = spare_columns['codesum']\n",
    "    \n",
    "    print(set(nan.index) - tmp)\n",
    "    \n",
    "    return weather, how"
   ]
  },
  {
   "cell_type": "code",
   "execution_count": null,
   "metadata": {},
   "outputs": [],
   "source": []
  },
  {
   "cell_type": "code",
   "execution_count": null,
   "metadata": {},
   "outputs": [],
   "source": []
  },
  {
   "cell_type": "markdown",
   "metadata": {},
   "source": [
    "## 2. 3. Encoding"
   ]
  },
  {
   "cell_type": "code",
   "execution_count": null,
   "metadata": {},
   "outputs": [],
   "source": [
    "# # split date\n",
    "# def make_year(date):\n",
    "#     return int(date.split('-')[0])\n",
    "# def make_month(date):\n",
    "#     return int(date.split('-')[1])\n",
    "# def make_day(date):\n",
    "#     return int(date.split('-')[2])\n",
    "# df_1['year'] = df_1['date'].apply(make_year)\n",
    "# df_1['month'] = df_1['date'].apply(make_month)\n",
    "# df_1['day'] = df_1['date'].apply(make_day)\n",
    "\n",
    "# # create new column 'codesum_YN' for 'Ab' as abnormal & 'Mo' as moderate\n",
    "# def codesum_YN(codesum):\n",
    "#     if codesum == \" \":\n",
    "#         return \"Mo\"\n",
    "#     else:\n",
    "#         return \"Ab\"\n",
    "# df_1['codesum_YN'] = df_1['codesum'].apply(codesum_YN)"
   ]
  },
  {
   "cell_type": "code",
   "execution_count": null,
   "metadata": {},
   "outputs": [],
   "source": []
  },
  {
   "cell_type": "code",
   "execution_count": null,
   "metadata": {},
   "outputs": [],
   "source": []
  },
  {
   "cell_type": "code",
   "execution_count": null,
   "metadata": {},
   "outputs": [],
   "source": []
  },
  {
   "cell_type": "code",
   "execution_count": null,
   "metadata": {},
   "outputs": [],
   "source": []
  },
  {
   "cell_type": "code",
   "execution_count": null,
   "metadata": {},
   "outputs": [],
   "source": []
  },
  {
   "cell_type": "code",
   "execution_count": null,
   "metadata": {},
   "outputs": [],
   "source": []
  },
  {
   "cell_type": "code",
   "execution_count": null,
   "metadata": {},
   "outputs": [],
   "source": []
  },
  {
   "cell_type": "markdown",
   "metadata": {},
   "source": [
    "## 2. 4 Final Merge for Modeling"
   ]
  },
  {
   "cell_type": "code",
   "execution_count": null,
   "metadata": {},
   "outputs": [],
   "source": []
  },
  {
   "cell_type": "code",
   "execution_count": null,
   "metadata": {},
   "outputs": [],
   "source": []
  },
  {
   "cell_type": "code",
   "execution_count": null,
   "metadata": {},
   "outputs": [],
   "source": []
  },
  {
   "cell_type": "code",
   "execution_count": null,
   "metadata": {},
   "outputs": [],
   "source": []
  },
  {
   "cell_type": "code",
   "execution_count": null,
   "metadata": {},
   "outputs": [],
   "source": []
  },
  {
   "cell_type": "code",
   "execution_count": null,
   "metadata": {},
   "outputs": [],
   "source": []
  },
  {
   "cell_type": "markdown",
   "metadata": {},
   "source": [
    "# 3. Modeling"
   ]
  },
  {
   "cell_type": "markdown",
   "metadata": {},
   "source": [
    "우리의 종속변수는 units다.\n",
    "\n",
    "이에 대해 고려해야 할 독립변수는 우리가 제공받은 weather데이터의 각 feature column들이다. \n",
    "\n",
    "(tavg, tmin, dewpoint, codesum etc 2~3개 정도로 간략하게 설명)\n",
    "\n",
    "feature들은 실수형, 카테고리형 둘 다를 포함하고,\n",
    "\n",
    "우리는 기본적으로 두 형태의 모델링으로 시작했다.\n",
    "\n",
    "1. store_nbr, item_nbr별로 data를 filtering한 가중치\n",
    "2. store_nbr, item_nbr를 카테고리 변수로 갖는 가중치\n",
    "\n",
    "---------------"
   ]
  },
  {
   "cell_type": "markdown",
   "metadata": {},
   "source": [
    "### 첫번째 경우\n",
    "item_nbr로만 filtering / store_nbr,item_nbr로 filtering\n",
    "\n",
    "모두 해봤는데 알스퀘어값이 상당히 낮았고 수치가 전체적으로 unstable했음\n",
    "\n",
    "아마도 모수값을 계산하는데 원래 모든 데이터가 작용해야 하는데 filtering된 데이터가 편파적으로 작용하여 올바른 계산이 되지 않은 것으로 보인다 (방정식의 수 vs 미지수의 수)\n",
    "\n",
    "타당한 모델링이 아닌 것 같아서 이 경우는 제외함"
   ]
  },
  {
   "cell_type": "code",
   "execution_count": null,
   "metadata": {},
   "outputs": [],
   "source": [
    "from pres_first import *\n",
    "results=[0,]\n",
    "total = 0\n",
    "n = 0\n",
    "for item_nbr in range(1,112):\n",
    "    frame = data[data['item_nbr']==item_nbr]\n",
    "    \n",
    "    model = sm.OLS.from_formula(formula,data=frame)\n",
    "    \n",
    "    r2 = model.fit().rsquared\n",
    "    \n",
    "    if not np.isnan(r2):\n",
    "#         print(item_nbr, r2)\n",
    "        total+=r2\n",
    "        n+=1\n",
    "    \n",
    "    if r2>=0.3:\n",
    "        print(item_nbr,r2)\n",
    "    \n",
    "    results.append(model)"
   ]
  },
  {
   "cell_type": "code",
   "execution_count": null,
   "metadata": {},
   "outputs": [],
   "source": [
    "results[1].fit().summary()"
   ]
  },
  {
   "cell_type": "code",
   "execution_count": null,
   "metadata": {},
   "outputs": [],
   "source": [
    "# 각 item_nbr에 대한 모델의 알스퀘어값의 평균\n",
    "total/n"
   ]
  },
  {
   "cell_type": "markdown",
   "metadata": {},
   "source": [
    "### 두번째 경우\n",
    "얘는 script임. 발표할 때 따로 어디다 적어놓고 읽을 것\n",
    "1. 카테고리로 store_nbr, item_nbr를 줬을 때 알스퀘어값이 0.6정도 나옴.\n",
    "\n",
    "2. 이 상태에서 복원한 각 버전으로 아웃라이어 제거, VIF로 다중공선성 제거, 각 실수 독립변수에 대해 scaling, 변수변환으로 각각 모델링 시행.\n",
    "\n",
    "3. 독립변수에 몇가지를 더 추가하여 트레이닝한 결과 평균적으로 알스퀘어 값이 0.85정도 나옴.\n",
    "\n",
    "4. 크로스 벨리데이션으로 측정했을 때도 알스퀘어 값이 균일했음. 오버피팅이 일어나지 않음 (오버피팅 안일어났으니까 정규화도 안했음)\n",
    "\n",
    "5. 위 모든 결과를 통틀어 잔차는 정규성을 따르지 않았고 LL값도 낮았다. \n",
    "\n",
    "6. 잔차가 정규성을 따르지 않는다는 결과는 우리의 모델링이 실제를 충분히 반영하고 있지 않기 때문에, 즉 적합한 회귀선을 찾지 못해서라고 판단\n",
    "\n",
    "7. 그래서 구해진 모델에 대해 잔차가 정규성을 따르게 해주는 조치를 취해주는 것보단 실제를 충분히 반영하는 모델을 찾아야겠다고 판단\n",
    "\n",
    "8. 그 전에 구한 모델의 결과에서 어느 독립변수가 어떻게 종속변수에 끼치는지 알아보기 위해 각 독립변수와 종속변수의 plot을 찍어봤다.\n",
    "\n",
    "9. 그랬더니 모든 실수 독립변수가 종속변수와 무상관관계를 나타냈다.\n",
    "\n",
    "10. 데이터 복원이 잘못 됬나 싶어 제공받은 데이터 중 intact한 애들로만 따로 결과내서 찍어보니 모양도 똑같고 무상관관계였다.\n",
    "(데이터 복원은 없는 경향까지 만들어내지 않는다)\n",
    "\n",
    "11. 앞서 도출한 바를 바탕으로 모델링에서 실수 독립변수를 제외하고 독립변수로 카테고리 값만 줬는데도 결과엔 아무런 영향이 없었다. 실수 독립변수는 종속변수와 상관없음.\n",
    "\n",
    "12. 독립변수에 요일을 나타내는 카테고리 변수 dayofweek을 추가하여 모델링한 결과 성능이 올랐다.\n",
    "\n",
    "13. units(판매량)은 날씨에 대해선 영향을 받지 않는다. 온도가 어떻다던지, 습도가 어떻다던지. 다만 dayofweek을 추가했을 땐 영향을 받았는데 요일을 고려했을 때 실제를 더 충분히 반영하는 모델링일 것이기 때문이다.\n",
    "\n",
    "14. "
   ]
  },
  {
   "cell_type": "markdown",
   "metadata": {},
   "source": [
    "# 1."
   ]
  },
  {
   "cell_type": "code",
   "execution_count": null,
   "metadata": {},
   "outputs": [],
   "source": [
    "from pres_second import *\n",
    "formula = 'units ~ C(store_nbr) + C(item_nbr)+avgspeed + cool + depart + dewpoint + heat + preciptotal + resultdir + resultspeed + sealevel + snowfall + stnpressure + tavg + tmax + tmin + wetbulb'\n",
    "model = sm.OLS.from_formula(formula,data=data)\n",
    "result = model.fit()\n",
    "result.summary()"
   ]
  },
  {
   "cell_type": "markdown",
   "metadata": {},
   "source": [
    "# 2. 아웃라이어 제거 (R2)"
   ]
  },
  {
   "cell_type": "code",
   "execution_count": null,
   "metadata": {},
   "outputs": [],
   "source": [
    "res = result.resid_pearson\n",
    "index = result.resid.index\n",
    "outlier_index = abs(res) >= 2\n",
    "\n",
    "row = pd.Series(index=index, data=res)\n",
    "drop_index = row[outlier_index].index\n",
    "data.drop(list(drop_index),inplace=True)\n",
    "data.reset_index(drop=True,inplace=True)\n",
    "\n",
    "model = sm.OLS.from_formula(formula,data=data)\n",
    "result = model.fit()\n",
    "result.summary()"
   ]
  },
  {
   "cell_type": "code",
   "execution_count": null,
   "metadata": {
    "scrolled": true
   },
   "outputs": [],
   "source": [
    "res = result.resid_pearson\n",
    "index = result.resid.index\n",
    "outlier_index = abs(res) >= 2\n",
    "\n",
    "row = pd.Series(index=index, data=res)\n",
    "drop_index = row[outlier_index].index\n",
    "data.drop(list(drop_index),inplace=True)\n",
    "data.reset_index(drop=True,inplace=True)\n",
    "\n",
    "model = sm.OLS.from_formula(formula,data=data)\n",
    "result = model.fit()\n",
    "result.summary()"
   ]
  },
  {
   "cell_type": "markdown",
   "metadata": {},
   "source": [
    "# 2. 다중공선성 제거 (조건수)"
   ]
  },
  {
   "cell_type": "code",
   "execution_count": null,
   "metadata": {},
   "outputs": [],
   "source": [
    "tmp = data.copy()\n",
    "del tmp['tavg']\n",
    "del tmp['sealevel']\n",
    "del tmp['wetbulb']\n",
    "del tmp['stnpressure']\n",
    "del tmp['tmin']\n",
    "del tmp['tmax']\n",
    "del tmp['dewpoint']\n",
    "del tmp['avgspeed']\n",
    "del tmp['resultspeed']"
   ]
  },
  {
   "cell_type": "code",
   "execution_count": null,
   "metadata": {
    "scrolled": true
   },
   "outputs": [],
   "source": [
    "formula = 'units ~ C(store_nbr) + C(item_nbr)+ scale(cool) + scale(depart) + scale(heat) + scale(preciptotal) + scale(resultdir) + scale(snowfall)'\n",
    "model = sm.OLS.from_formula(formula,data=tmp)\n",
    "result = model.fit()\n",
    "result.summary()"
   ]
  },
  {
   "cell_type": "markdown",
   "metadata": {},
   "source": [
    "# 3. 추가한 독립변수 is_holiday, codesum"
   ]
  },
  {
   "cell_type": "code",
   "execution_count": null,
   "metadata": {},
   "outputs": [],
   "source": [
    "tmp = tmp.merge(codesum, on = ['date','store_nbr'])\n",
    "tmp['is_holiday'] = tmp['is_holiday'].apply(cate_holiday)\n",
    "tmp['codesum'] = tmp['codesum'].apply(cate_codesum)\n",
    "formula = 'units ~ C(store_nbr) + C(item_nbr)+ scale(cool) + scale(heat) + scale(preciptotal) + scale(snowfall) + is_holiday'"
   ]
  },
  {
   "cell_type": "code",
   "execution_count": null,
   "metadata": {
    "scrolled": true
   },
   "outputs": [],
   "source": [
    "model = sm.OLS.from_formula(formula,data=tmp)\n",
    "result = model.fit()\n",
    "result.summary()"
   ]
  },
  {
   "cell_type": "markdown",
   "metadata": {},
   "source": [
    "# 4. cross-validation"
   ]
  },
  {
   "cell_type": "code",
   "execution_count": null,
   "metadata": {},
   "outputs": [],
   "source": [
    "X = tmp.loc[:, ['store_nbr', 'item_nbr', 'cool', 'heat', 'preciptotal','snowfall', 'is_holiday']]\n",
    "y = tmp.loc[:, ['units']]\n",
    "\n",
    "from sklearn.model_selection import KFold\n",
    "\n",
    "trial = 4\n",
    "\n",
    "cv = KFold(n_splits=trial, shuffle=True, random_state=2)\n",
    "\n",
    "total = 0\n",
    "\n",
    "\n",
    "for train_index, test_index in cv.split(X):\n",
    "    print(\"test index :\", test_index, len(test_index))\n",
    "    print(\".\" * 80)\n",
    "    print(\"train index:\", train_index, len(train_index))\n",
    "    print(\"=\" * 80)\n",
    "\n",
    "    X_train = X.loc[train_index, :]\n",
    "    X_test = X.loc[test_index, :]\n",
    "    y_train = y.loc[train_index, :]\n",
    "    y_test = y.loc[test_index, :]\n",
    "\n",
    "    model = sm.OLS.from_formula(\n",
    "        formula, data=pd.concat([X_train, y_train], axis=1))\n",
    "    result = model.fit()\n",
    "\n",
    "    y_hat = result.predict(X_test)\n",
    "\n",
    "    ESS = ((y_hat - y_hat.mean())**2).sum()\n",
    "    TSS = ((y_test - y_test.mean())**2).sum()\n",
    "    total += ESS / TSS\n",
    "    print(ESS / TSS)\n",
    "\n",
    "total / trial"
   ]
  },
  {
   "cell_type": "markdown",
   "metadata": {},
   "source": [
    "# 5. 잔차의 정규성, LL"
   ]
  },
  {
   "cell_type": "code",
   "execution_count": null,
   "metadata": {
    "scrolled": true
   },
   "outputs": [],
   "source": [
    "result.summary()"
   ]
  },
  {
   "cell_type": "markdown",
   "metadata": {},
   "source": [
    "# 8,9,10. 실수 독립변수 vs 종속변수\n",
    "\n",
    "데이터의 경향을 보려고 했는데, 선형 관계를 확인할 수 없었다"
   ]
  },
  {
   "cell_type": "code",
   "execution_count": null,
   "metadata": {},
   "outputs": [],
   "source": [
    "formula"
   ]
  },
  {
   "cell_type": "code",
   "execution_count": null,
   "metadata": {},
   "outputs": [],
   "source": [
    "fig = sm.graphics.plot_regress_exog(result, \"scale(heat)\")\n",
    "fig.suptitle(\"\")\n",
    "plt.show()"
   ]
  },
  {
   "cell_type": "code",
   "execution_count": null,
   "metadata": {},
   "outputs": [],
   "source": [
    "fig = sm.graphics.plot_regress_exog(result, \"scale(cool)\")\n",
    "fig.suptitle(\"\")\n",
    "plt.show()"
   ]
  },
  {
   "cell_type": "code",
   "execution_count": null,
   "metadata": {},
   "outputs": [],
   "source": [
    "fig = sm.graphics.plot_regress_exog(result, \"scale(preciptotal)\")\n",
    "fig.suptitle(\"\")\n",
    "plt.show()"
   ]
  },
  {
   "cell_type": "code",
   "execution_count": null,
   "metadata": {},
   "outputs": [],
   "source": [
    "fig = sm.graphics.plot_regress_exog(result, \"scale(snowfall)\")\n",
    "fig.suptitle(\"\")\n",
    "plt.show()"
   ]
  },
  {
   "cell_type": "markdown",
   "metadata": {},
   "source": [
    "# 11. 카테고리 독립변수만 고려 (R2에 큰 차이가 없음)"
   ]
  },
  {
   "cell_type": "code",
   "execution_count": null,
   "metadata": {
    "scrolled": true
   },
   "outputs": [],
   "source": [
    "formula = 'units ~ C(store_nbr) + C(item_nbr)'\n",
    "model = sm.OLS.from_formula(formula,data=tmp)\n",
    "result = model.fit()\n",
    "result.summary()"
   ]
  },
  {
   "cell_type": "markdown",
   "metadata": {},
   "source": [
    "# 12. dayofweek 추가"
   ]
  },
  {
   "cell_type": "code",
   "execution_count": null,
   "metadata": {},
   "outputs": [],
   "source": []
  }
 ],
 "metadata": {
  "kernelspec": {
   "display_name": "Python 3",
   "language": "python",
   "name": "python3"
  },
  "language_info": {
   "codemirror_mode": {
    "name": "ipython",
    "version": 3
   },
   "file_extension": ".py",
   "mimetype": "text/x-python",
   "name": "python",
   "nbconvert_exporter": "python",
   "pygments_lexer": "ipython3",
   "version": "3.6.2"
  }
 },
 "nbformat": 4,
 "nbformat_minor": 2
}
