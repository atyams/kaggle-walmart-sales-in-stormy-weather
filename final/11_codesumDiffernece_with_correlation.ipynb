{
 "cells": [
  {
   "cell_type": "code",
   "execution_count": 1,
   "metadata": {},
   "outputs": [
    {
     "name": "stdout",
     "output_type": "stream",
     "text": [
      "import configuration completed !\n",
      "Data configuration has been started !\n",
      "Data configuration completed !\n",
      "function configuration completed ! \n",
      "Good to go !\n"
     ]
    }
   ],
   "source": [
    "from jw_package import *"
   ]
  },
  {
   "cell_type": "code",
   "execution_count": 2,
   "metadata": {},
   "outputs": [],
   "source": [
    "cdsm_sales = pd.read_csv('../data/05. data_sample_V4_WY', index_col = 0)\n",
    "cdsm_sales[cdsm_sales['units'] > 3000]\n",
    "cdsm_sales.drop(42763, inplace = True)\n",
    "cdsm_sales.drop(84317, inplace = True)\n",
    "cdsm_sales = cdsm_sales.reset_index(drop = True)"
   ]
  },
  {
   "cell_type": "code",
   "execution_count": 3,
   "metadata": {},
   "outputs": [],
   "source": [
    "count_item_nbr = cdsm_sales.groupby('item_nbr').size().reset_index(name = 'count')\n",
    "count_item_nbr = count_item_nbr.sort_values( by = ['count'], ascending = False).reset_index(drop = True)"
   ]
  },
  {
   "cell_type": "code",
   "execution_count": 4,
   "metadata": {},
   "outputs": [],
   "source": [
    "pivot_data = cdsm_sales.pivot_table(index=['store_nbr', 'item_nbr'],columns=['Cdsm_Ch'],values='units', aggfunc='sum')\n",
    "pivot_data['d'] = ((pivot_data['Abnormal'] - pivot_data['Moderate']) / pivot_data['Moderate'] * 100).round(2)\n",
    "pivot_data.drop(columns=['Abnormal', 'Moderate'], inplace=True)\n",
    "pivot_diff = pivot_data"
   ]
  },
  {
   "cell_type": "markdown",
   "metadata": {},
   "source": [
    "# get_correlation과 추이가 같은지 알아보기 위해 store_nbr별로 정리한 pivot_diff"
   ]
  },
  {
   "cell_type": "code",
   "execution_count": 5,
   "metadata": {},
   "outputs": [
    {
     "data": {
      "text/html": [
       "<div>\n",
       "<style scoped>\n",
       "    .dataframe tbody tr th:only-of-type {\n",
       "        vertical-align: middle;\n",
       "    }\n",
       "\n",
       "    .dataframe tbody tr th {\n",
       "        vertical-align: top;\n",
       "    }\n",
       "\n",
       "    .dataframe thead th {\n",
       "        text-align: right;\n",
       "    }\n",
       "</style>\n",
       "<table border=\"1\" class=\"dataframe\">\n",
       "  <thead>\n",
       "    <tr style=\"text-align: right;\">\n",
       "      <th></th>\n",
       "      <th>Cdsm_Ch</th>\n",
       "      <th>d</th>\n",
       "    </tr>\n",
       "    <tr>\n",
       "      <th>store_nbr</th>\n",
       "      <th>item_nbr</th>\n",
       "      <th></th>\n",
       "    </tr>\n",
       "  </thead>\n",
       "  <tbody>\n",
       "    <tr>\n",
       "      <th rowspan=\"8\" valign=\"top\">1</th>\n",
       "      <th>9</th>\n",
       "      <td>-2.18</td>\n",
       "    </tr>\n",
       "    <tr>\n",
       "      <th>28</th>\n",
       "      <td>-0.53</td>\n",
       "    </tr>\n",
       "    <tr>\n",
       "      <th>40</th>\n",
       "      <td>-11.85</td>\n",
       "    </tr>\n",
       "    <tr>\n",
       "      <th>47</th>\n",
       "      <td>11.87</td>\n",
       "    </tr>\n",
       "    <tr>\n",
       "      <th>51</th>\n",
       "      <td>86.38</td>\n",
       "    </tr>\n",
       "    <tr>\n",
       "      <th>89</th>\n",
       "      <td>261.76</td>\n",
       "    </tr>\n",
       "    <tr>\n",
       "      <th>93</th>\n",
       "      <td>30.75</td>\n",
       "    </tr>\n",
       "    <tr>\n",
       "      <th>99</th>\n",
       "      <td>33.18</td>\n",
       "    </tr>\n",
       "    <tr>\n",
       "      <th rowspan=\"2\" valign=\"top\">2</th>\n",
       "      <th>5</th>\n",
       "      <td>-43.96</td>\n",
       "    </tr>\n",
       "    <tr>\n",
       "      <th>11</th>\n",
       "      <td>-43.68</td>\n",
       "    </tr>\n",
       "  </tbody>\n",
       "</table>\n",
       "</div>"
      ],
      "text/plain": [
       "Cdsm_Ch                  d\n",
       "store_nbr item_nbr        \n",
       "1         9          -2.18\n",
       "          28         -0.53\n",
       "          40        -11.85\n",
       "          47         11.87\n",
       "          51         86.38\n",
       "          89        261.76\n",
       "          93         30.75\n",
       "          99         33.18\n",
       "2         5         -43.96\n",
       "          11        -43.68"
      ]
     },
     "execution_count": 5,
     "metadata": {},
     "output_type": "execute_result"
    }
   ],
   "source": [
    "pivot_diff.head(10)"
   ]
  },
  {
   "cell_type": "markdown",
   "metadata": {},
   "source": [
    "#  그 중 code_sum에 민감하게 반응하는 item_nbr"
   ]
  },
  {
   "cell_type": "code",
   "execution_count": 7,
   "metadata": {},
   "outputs": [
    {
     "data": {
      "text/html": [
       "<div>\n",
       "<style scoped>\n",
       "    .dataframe tbody tr th:only-of-type {\n",
       "        vertical-align: middle;\n",
       "    }\n",
       "\n",
       "    .dataframe tbody tr th {\n",
       "        vertical-align: top;\n",
       "    }\n",
       "\n",
       "    .dataframe thead th {\n",
       "        text-align: right;\n",
       "    }\n",
       "</style>\n",
       "<table border=\"1\" class=\"dataframe\">\n",
       "  <thead>\n",
       "    <tr style=\"text-align: right;\">\n",
       "      <th></th>\n",
       "      <th>Cdsm_Ch</th>\n",
       "      <th>d</th>\n",
       "    </tr>\n",
       "    <tr>\n",
       "      <th>store_nbr</th>\n",
       "      <th>item_nbr</th>\n",
       "      <th></th>\n",
       "    </tr>\n",
       "  </thead>\n",
       "  <tbody>\n",
       "    <tr>\n",
       "      <th rowspan=\"2\" valign=\"top\">1</th>\n",
       "      <th>51</th>\n",
       "      <td>86.38</td>\n",
       "    </tr>\n",
       "    <tr>\n",
       "      <th>89</th>\n",
       "      <td>261.76</td>\n",
       "    </tr>\n",
       "    <tr>\n",
       "      <th>2</th>\n",
       "      <th>93</th>\n",
       "      <td>58.10</td>\n",
       "    </tr>\n",
       "    <tr>\n",
       "      <th rowspan=\"2\" valign=\"top\">3</th>\n",
       "      <th>93</th>\n",
       "      <td>98.84</td>\n",
       "    </tr>\n",
       "    <tr>\n",
       "      <th>102</th>\n",
       "      <td>187.50</td>\n",
       "    </tr>\n",
       "  </tbody>\n",
       "</table>\n",
       "</div>"
      ],
      "text/plain": [
       "Cdsm_Ch                  d\n",
       "store_nbr item_nbr        \n",
       "1         51         86.38\n",
       "          89        261.76\n",
       "2         93         58.10\n",
       "3         93         98.84\n",
       "          102       187.50"
      ]
     },
     "execution_count": 7,
     "metadata": {},
     "output_type": "execute_result"
    }
   ],
   "source": [
    "pivot_diff[pivot_diff['d'].apply(lambda x: abs(x)) >= 50].head(5)"
   ]
  },
  {
   "cell_type": "markdown",
   "metadata": {},
   "source": [
    "# 2012년의 1번 store에서 get_correlation을 test해보자"
   ]
  },
  {
   "cell_type": "code",
   "execution_count": 8,
   "metadata": {},
   "outputs": [
    {
     "name": "stderr",
     "output_type": "stream",
     "text": [
      "C:\\Users\\WJ\\Anaconda3\\lib\\site-packages\\scipy\\stats\\stats.py:2998: RuntimeWarning: Mean of empty slice.\n",
      "  mx = x.mean()\n",
      "C:\\Users\\WJ\\Anaconda3\\lib\\site-packages\\numpy\\core\\_methods.py:80: RuntimeWarning: invalid value encountered in double_scalars\n",
      "  ret = ret.dtype.type(ret / rcount)\n",
      "C:\\Users\\WJ\\Anaconda3\\lib\\site-packages\\scipy\\stats\\stats.py:2999: RuntimeWarning: Mean of empty slice.\n",
      "  my = y.mean()\n",
      "C:\\Users\\WJ\\Anaconda3\\lib\\site-packages\\scipy\\stats\\stats.py:3003: RuntimeWarning: invalid value encountered in double_scalars\n",
      "  r = r_num / r_den\n",
      "C:\\Users\\WJ\\Anaconda3\\lib\\site-packages\\scipy\\stats\\stats.py:5240: RuntimeWarning: invalid value encountered in less\n",
      "  x = np.where(x < 1.0, x, 1.0)  # if x > 1 then return 1.0\n"
     ]
    }
   ],
   "source": [
    "store_1 = get_correlation(1, 2012)"
   ]
  },
  {
   "cell_type": "code",
   "execution_count": 9,
   "metadata": {
    "scrolled": false
   },
   "outputs": [
    {
     "name": "stdout",
     "output_type": "stream",
     "text": [
      "(1, 2012, -1, -1)\n",
      "\t (9, 'avgspeed', 364) (0.029413892409414884, 0.5759077562060245)\n",
      "\t (9, 'cool', 362) (-0.06507347742720462, 0.21678034409391772)\n",
      "\t (9, 'depart', 0) (nan, nan)\n",
      "\t (9, 'dewpoint', 363) (-0.16263173725428326, 0.0018798601109756173)\n",
      "\t (9, 'heat', 362) (0.1962103722989204, 0.00017208151618507012)\n",
      "\t (9, 'preciptotal', 303) (-0.07761708837800624, 0.17781222909816158)\n",
      "\t (9, 'resultdir', 363) (0.05088556611367485, 0.33365257830459105)\n",
      "\t (9, 'resultspeed', 363) (0.048113484264033224, 0.36068909407025174)\n",
      "\t (9, 'sealevel', 361) (0.10930797729412822, 0.03790572490368731)\n",
      "\t (9, 'snowfall', 0) (nan, nan)\n",
      "\t (9, 'stnpressure', 363) (0.10580652394994502, 0.04394758191932755)\n",
      "\t (9, 'sunrise', 0) (nan, nan)\n",
      "\t (9, 'sunset', 0) (nan, nan)\n",
      "\t (9, 'tavg', 362) (-0.1777482034736896, 0.0006805793222412667)\n",
      "\t (9, 'tmin', 364) (-0.1657085413387121, 0.00151077966541003)\n",
      "\t (9, 'wetbulb', 360) (-0.16325684039123894, 0.0018855999939363544)\n",
      "\t (28, 'avgspeed', 364) (0.06836867776596853, 0.1931119899051655)\n",
      "\t (28, 'cool', 362) (-0.10465634897145375, 0.046612591413558155)\n",
      "\t (28, 'depart', 0) (nan, nan)\n",
      "\t (28, 'dewpoint', 363) (-0.18903102103743483, 0.0002925504953855691)\n",
      "\t (28, 'heat', 362) (0.22214275229546435, 1.9959104841288733e-05)\n",
      "\t (28, 'preciptotal', 303) (-0.04028591639684458, 0.48477832943637034)\n",
      "\t (28, 'resultdir', 363) (-0.015435803053261523, 0.7694497756846645)\n",
      "\t (28, 'resultspeed', 363) (0.09640084790403149, 0.0665615592051267)\n",
      "\t (28, 'sealevel', 361) (-0.028638882369791927, 0.5875685457169322)\n",
      "\t (28, 'snowfall', 0) (nan, nan)\n",
      "\t (28, 'stnpressure', 363) (-0.028025719873774207, 0.5945704454767735)\n",
      "\t (28, 'sunrise', 0) (nan, nan)\n",
      "\t (28, 'sunset', 0) (nan, nan)\n",
      "\t (28, 'tavg', 362) (-0.21008151274211265, 5.618347971048283e-05)\n",
      "\t (28, 'tmin', 364) (-0.1904219684357257, 0.00025817326518129223)\n",
      "\t (28, 'wetbulb', 360) (-0.20579720533600876, 8.377692607432305e-05)\n",
      "\t (40, 'avgspeed', 364) (0.01946820387696334, 0.7112430050570886)\n",
      "\t (40, 'cool', 362) (-0.17878773214082763, 0.0006320391888293028)\n",
      "\t (40, 'depart', 0) (nan, nan)\n",
      "\t (40, 'dewpoint', 363) (-0.25763556532294596, 6.493338474359796e-07)\n",
      "\t (40, 'heat', 362) (0.3499211026685748, 7.2561712206726976e-12)\n",
      "\t (40, 'preciptotal', 303) (-0.012501516466538883, 0.8284253089117684)\n",
      "\t (40, 'resultdir', 363) (-0.08794299808417223, 0.0943266982775609)\n",
      "\t (40, 'resultspeed', 363) (0.0425976710309646, 0.41842151111034154)\n",
      "\t (40, 'sealevel', 361) (0.07884747512375069, 0.13485309153328578)\n",
      "\t (40, 'snowfall', 0) (nan, nan)\n",
      "\t (40, 'stnpressure', 363) (0.06868626009065786, 0.19166209865091696)\n",
      "\t (40, 'sunrise', 0) (nan, nan)\n",
      "\t (40, 'sunset', 0) (nan, nan)\n",
      "\t (40, 'tavg', 362) (-0.3348977719122911, 6.167367009299315e-11)\n",
      "\t (40, 'tmin', 364) (-0.305428266612124, 2.6825967727965087e-09)\n",
      "\t (40, 'wetbulb', 360) (-0.2982182391821733, 7.906522553245026e-09)\n",
      "\t (51, 'avgspeed', 364) (0.19747782031040184, 0.00014938687453896698)\n",
      "\t (51, 'cool', 362) (-0.1631272425818976, 0.0018465931901326393)\n",
      "\t (51, 'depart', 0) (nan, nan)\n",
      "\t (51, 'dewpoint', 363) (-0.27723212358810434, 7.901195526514752e-08)\n",
      "\t (51, 'heat', 362) (0.38893305066929107, 1.605986179524999e-14)\n",
      "\t (51, 'preciptotal', 303) (0.059960198625619764, 0.29818046949847776)\n",
      "\t (51, 'resultdir', 363) (-0.1631364284502618, 0.001818591629081795)\n",
      "\t (51, 'resultspeed', 363) (0.2286645066934192, 1.0822550048767228e-05)\n",
      "\t (51, 'sealevel', 361) (0.07491531235412142, 0.1554763776950899)\n",
      "\t (51, 'snowfall', 0) (nan, nan)\n",
      "\t (51, 'stnpressure', 363) (0.0811173153162329, 0.12290230473059391)\n",
      "\t (51, 'sunrise', 0) (nan, nan)\n",
      "\t (51, 'sunset', 0) (nan, nan)\n",
      "\t (51, 'tavg', 362) (-0.36207808003831177, 1.1791845273109334e-12)\n",
      "\t (51, 'tmin', 364) (-0.3250468459847653, 2.104490668753544e-10)\n",
      "\t (51, 'wetbulb', 360) (-0.330921760987871, 1.200400191223995e-10)\n",
      "\t (89, 'avgspeed', 364) (-0.06692650386323602, 0.20269417951327742)\n",
      "\t (89, 'cool', 362) (0.1067972010275438, 0.04228148504905267)\n",
      "\t (89, 'depart', 0) (nan, nan)\n",
      "\t (89, 'dewpoint', 363) (0.18165177605914276, 0.0005052204029778447)\n",
      "\t (89, 'heat', 362) (-0.1100637484722527, 0.03632894410963094)\n",
      "\t (89, 'preciptotal', 303) (0.05229435461664673, 0.3643323630190569)\n",
      "\t (89, 'resultdir', 363) (-0.09084155500119569, 0.08392194067049148)\n",
      "\t (89, 'resultspeed', 363) (-0.07956493213923099, 0.13025760266243136)\n",
      "\t (89, 'sealevel', 361) (-0.053412162948856715, 0.3115217531697009)\n",
      "\t (89, 'snowfall', 0) (nan, nan)\n",
      "\t (89, 'stnpressure', 363) (-0.047651723966284074, 0.3653221892823034)\n",
      "\t (89, 'sunrise', 0) (nan, nan)\n",
      "\t (89, 'sunset', 0) (nan, nan)\n",
      "\t (89, 'tavg', 362) (0.11976636883770671, 0.022664774073714127)\n",
      "\t (89, 'tmin', 364) (0.14867992454161216, 0.004473432796925761)\n",
      "\t (89, 'wetbulb', 360) (0.14856475610300207, 0.0047323961028015215)\n",
      "\t (93, 'avgspeed', 364) (-0.15971049641717475, 0.0022412999854160543)\n",
      "\t (93, 'cool', 362) (0.14953096406593225, 0.004355073731329249)\n",
      "\t (93, 'depart', 0) (nan, nan)\n",
      "\t (93, 'dewpoint', 363) (0.2548711579067639, 8.623577549232007e-07)\n",
      "\t (93, 'heat', 362) (-0.2584205481422939, 6.205683536841512e-07)\n",
      "\t (93, 'preciptotal', 303) (0.04162443324836042, 0.47037422262160045)\n",
      "\t (93, 'resultdir', 363) (-0.10255867661423013, 0.050888726313622394)\n",
      "\t (93, 'resultspeed', 363) (-0.16611893216205165, 0.0014923304903301262)\n",
      "\t (93, 'sealevel', 361) (-0.041860469391460355, 0.42781384970491065)\n",
      "\t (93, 'snowfall', 0) (nan, nan)\n",
      "\t (93, 'stnpressure', 363) (-0.03441434793608488, 0.5133607891815828)\n",
      "\t (93, 'sunrise', 0) (nan, nan)\n",
      "\t (93, 'sunset', 0) (nan, nan)\n",
      "\t (93, 'tavg', 362) (0.25231775248594795, 1.1563424713393026e-06)\n",
      "\t (93, 'tmin', 364) (0.2682215544876473, 2.044536970493358e-07)\n",
      "\t (93, 'wetbulb', 360) (0.2543487893033915, 1.009412154326218e-06)\n",
      "\t (99, 'avgspeed', 364) (-0.10114934628212233, 0.053840622067152594)\n",
      "\t (99, 'cool', 362) (0.23360735334567914, 7.068685749589456e-06)\n",
      "\t (99, 'depart', 0) (nan, nan)\n",
      "\t (99, 'dewpoint', 363) (0.22037814773777978, 2.2704690497583713e-05)\n",
      "\t (99, 'heat', 362) (-0.18171028709217207, 0.0005122189784035525)\n",
      "\t (99, 'preciptotal', 303) (-0.04642473373925672, 0.42070163055836274)\n",
      "\t (99, 'resultdir', 363) (-0.07466206133260982, 0.1557302451100929)\n",
      "\t (99, 'resultspeed', 363) (-0.09645224442632687, 0.0664159810837416)\n",
      "\t (99, 'sealevel', 361) (0.010646552508375462, 0.8402383098952614)\n",
      "\t (99, 'snowfall', 0) (nan, nan)\n",
      "\t (99, 'stnpressure', 363) (0.011257568132848332, 0.8307400727440667)\n",
      "\t (99, 'sunrise', 0) (nan, nan)\n",
      "\t (99, 'sunset', 0) (nan, nan)\n",
      "\t (99, 'tavg', 362) (0.2140769226856364, 4.013315906375752e-05)\n",
      "\t (99, 'tmin', 364) (0.21596943064827212, 3.247128857492015e-05)\n",
      "\t (99, 'wetbulb', 360) (0.22639519766547406, 1.4440842669249175e-05)\n"
     ]
    }
   ],
   "source": [
    "show_me_pearson(store_1)"
   ]
  },
  {
   "cell_type": "markdown",
   "metadata": {},
   "source": [
    "### 맨 위 튜플은 (가게번호, 연도, 시작달, 끝달)을 의미한다\n",
    "### 들여쓰기 된 튜플들은 (item_nbr, weather_feature, missing data를 거른 샘플 수)를 의미한다\n",
    "### 그 옆의 수치들은 (0~1 사이의 피어슨 상관계수, 0~1 사이의 p-value)를 뜻한다\n",
    "### 왼쪽 수치는 높으면 높을수록, 오른쪽 수치는 낮으면 낮을수록 상관관계가 강한 것을 의미한다\n",
    "### (jw/good_correlation.txt 참조)\n",
    "\n",
    "# 89번 item에 주목하면,\n",
    "# tmin, wetbulb, dewpoint와 상관관계가 강한 것을 확인할 수 있다"
   ]
  },
  {
   "cell_type": "markdown",
   "metadata": {},
   "source": [
    "---------------"
   ]
  },
  {
   "cell_type": "markdown",
   "metadata": {},
   "source": [
    "# 결론\n",
    "> 1. ### codesum으로 Differnece(%)를 관찰 후 어떤 feature가 영향을 끼치는 지는 get_correlation으로\n",
    "\n",
    "> 2. 우리가 해야 할 Linear regression modeling은 아래와 같지 않을까 생각한다\n",
    "$$ A*w = b$$\n",
    "    * A = M X N matrix that row = tuples, column = features\n",
    "    * w = N vector that weight for each feature\n",
    "    * b = M vector that label for desired 'units'\n",
    "    \n",
    "    \n",
    "    위의 process가 w의 가중치를 구하는데 도움이 되지 않을까 (만약 중간에 논리적인 오류가 없다면)"
   ]
  },
  {
   "cell_type": "code",
   "execution_count": null,
   "metadata": {},
   "outputs": [],
   "source": []
  }
 ],
 "metadata": {
  "anaconda-cloud": {},
  "kernelspec": {
   "display_name": "Python 3",
   "language": "python",
   "name": "python3"
  },
  "language_info": {
   "codemirror_mode": {
    "name": "ipython",
    "version": 3
   },
   "file_extension": ".py",
   "mimetype": "text/x-python",
   "name": "python",
   "nbconvert_exporter": "python",
   "pygments_lexer": "ipython3",
   "version": "3.6.2"
  }
 },
 "nbformat": 4,
 "nbformat_minor": 2
}
