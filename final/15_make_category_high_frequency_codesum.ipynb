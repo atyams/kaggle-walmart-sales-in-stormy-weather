{
 "cells": [
  {
   "cell_type": "markdown",
   "metadata": {},
   "source": [
    "# load weather data"
   ]
  },
  {
   "cell_type": "code",
   "execution_count": 1,
   "metadata": {},
   "outputs": [],
   "source": [
    "weather = pd.read_csv('../data/weather.csv', index_col = 0)"
   ]
  },
  {
   "cell_type": "code",
   "execution_count": 2,
   "metadata": {},
   "outputs": [],
   "source": [
    "weather = weather.reset_index()"
   ]
  },
  {
   "cell_type": "markdown",
   "metadata": {},
   "source": [
    "# 분류 내용\n",
    "\n",
    "### 유형 1. moderate한 날짜 vs 그렇지 않은날짜  >> 카테고리 2개\n",
    "\n",
    "### 유형 2. codesum조합에 대해 빈도수 별 분류 >> 카테고리 ??\n",
    "     1. 100번 이상 발생한 것\n",
    "     2. 200번 이상 발생한 것"
   ]
  },
  {
   "cell_type": "markdown",
   "metadata": {},
   "source": [
    "## 유형 1. moderate한 날짜 vs 그렇지 않은 날짜 분류"
   ]
  },
  {
   "cell_type": "code",
   "execution_count": 3,
   "metadata": {},
   "outputs": [],
   "source": [
    "weather_v1 = weather.copy()"
   ]
  },
  {
   "cell_type": "code",
   "execution_count": 4,
   "metadata": {},
   "outputs": [],
   "source": [
    "def distribution_codesum(codesum):\n",
    "    if codesum == \" \":\n",
    "        return \"MO\"\n",
    "    else:\n",
    "        return \"Not_MO\""
   ]
  },
  {
   "cell_type": "code",
   "execution_count": 5,
   "metadata": {},
   "outputs": [],
   "source": [
    "weather_v1['codesum'] = weather_v1['codesum'].apply(distribution_codesum)"
   ]
  },
  {
   "cell_type": "code",
   "execution_count": 6,
   "metadata": {},
   "outputs": [
    {
     "data": {
      "text/html": [
       "<div>\n",
       "<style scoped>\n",
       "    .dataframe tbody tr th:only-of-type {\n",
       "        vertical-align: middle;\n",
       "    }\n",
       "\n",
       "    .dataframe tbody tr th {\n",
       "        vertical-align: top;\n",
       "    }\n",
       "\n",
       "    .dataframe thead th {\n",
       "        text-align: right;\n",
       "    }\n",
       "</style>\n",
       "<table border=\"1\" class=\"dataframe\">\n",
       "  <thead>\n",
       "    <tr style=\"text-align: right;\">\n",
       "      <th></th>\n",
       "      <th>station_nbr</th>\n",
       "      <th>date</th>\n",
       "      <th>tmax</th>\n",
       "      <th>tmin</th>\n",
       "      <th>tavg</th>\n",
       "      <th>depart</th>\n",
       "      <th>dewpoint</th>\n",
       "      <th>wetbulb</th>\n",
       "      <th>heat</th>\n",
       "      <th>cool</th>\n",
       "      <th>sunrise</th>\n",
       "      <th>sunset</th>\n",
       "      <th>codesum</th>\n",
       "      <th>snowfall</th>\n",
       "      <th>preciptotal</th>\n",
       "      <th>stnpressure</th>\n",
       "      <th>sealevel</th>\n",
       "      <th>resultspeed</th>\n",
       "      <th>resultdir</th>\n",
       "      <th>avgspeed</th>\n",
       "    </tr>\n",
       "  </thead>\n",
       "  <tbody>\n",
       "    <tr>\n",
       "      <th>0</th>\n",
       "      <td>1</td>\n",
       "      <td>2012-01-01</td>\n",
       "      <td>52</td>\n",
       "      <td>31</td>\n",
       "      <td>42</td>\n",
       "      <td>M</td>\n",
       "      <td>36</td>\n",
       "      <td>40</td>\n",
       "      <td>23</td>\n",
       "      <td>0</td>\n",
       "      <td>-</td>\n",
       "      <td>-</td>\n",
       "      <td>Not_MO</td>\n",
       "      <td>M</td>\n",
       "      <td>0.05</td>\n",
       "      <td>29.78</td>\n",
       "      <td>29.92</td>\n",
       "      <td>3.6</td>\n",
       "      <td>20</td>\n",
       "      <td>4.6</td>\n",
       "    </tr>\n",
       "    <tr>\n",
       "      <th>1</th>\n",
       "      <td>2</td>\n",
       "      <td>2012-01-01</td>\n",
       "      <td>48</td>\n",
       "      <td>33</td>\n",
       "      <td>41</td>\n",
       "      <td>16</td>\n",
       "      <td>37</td>\n",
       "      <td>39</td>\n",
       "      <td>24</td>\n",
       "      <td>0</td>\n",
       "      <td>0716</td>\n",
       "      <td>1626</td>\n",
       "      <td>Not_MO</td>\n",
       "      <td>0.0</td>\n",
       "      <td>0.07</td>\n",
       "      <td>28.82</td>\n",
       "      <td>29.91</td>\n",
       "      <td>9.1</td>\n",
       "      <td>23</td>\n",
       "      <td>11.3</td>\n",
       "    </tr>\n",
       "    <tr>\n",
       "      <th>2</th>\n",
       "      <td>3</td>\n",
       "      <td>2012-01-01</td>\n",
       "      <td>55</td>\n",
       "      <td>34</td>\n",
       "      <td>45</td>\n",
       "      <td>9</td>\n",
       "      <td>24</td>\n",
       "      <td>36</td>\n",
       "      <td>20</td>\n",
       "      <td>0</td>\n",
       "      <td>0735</td>\n",
       "      <td>1720</td>\n",
       "      <td>MO</td>\n",
       "      <td>0.0</td>\n",
       "      <td>0.00</td>\n",
       "      <td>29.77</td>\n",
       "      <td>30.47</td>\n",
       "      <td>9.9</td>\n",
       "      <td>31</td>\n",
       "      <td>10.0</td>\n",
       "    </tr>\n",
       "    <tr>\n",
       "      <th>3</th>\n",
       "      <td>4</td>\n",
       "      <td>2012-01-01</td>\n",
       "      <td>63</td>\n",
       "      <td>47</td>\n",
       "      <td>55</td>\n",
       "      <td>4</td>\n",
       "      <td>28</td>\n",
       "      <td>43</td>\n",
       "      <td>10</td>\n",
       "      <td>0</td>\n",
       "      <td>0728</td>\n",
       "      <td>1742</td>\n",
       "      <td>MO</td>\n",
       "      <td>0.0</td>\n",
       "      <td>0.00</td>\n",
       "      <td>29.79</td>\n",
       "      <td>30.48</td>\n",
       "      <td>8.0</td>\n",
       "      <td>35</td>\n",
       "      <td>8.2</td>\n",
       "    </tr>\n",
       "    <tr>\n",
       "      <th>4</th>\n",
       "      <td>6</td>\n",
       "      <td>2012-01-01</td>\n",
       "      <td>63</td>\n",
       "      <td>34</td>\n",
       "      <td>49</td>\n",
       "      <td>0</td>\n",
       "      <td>31</td>\n",
       "      <td>43</td>\n",
       "      <td>16</td>\n",
       "      <td>0</td>\n",
       "      <td>0727</td>\n",
       "      <td>1742</td>\n",
       "      <td>MO</td>\n",
       "      <td>0.0</td>\n",
       "      <td>0.00</td>\n",
       "      <td>29.95</td>\n",
       "      <td>30.47</td>\n",
       "      <td>14.0</td>\n",
       "      <td>36</td>\n",
       "      <td>13.8</td>\n",
       "    </tr>\n",
       "  </tbody>\n",
       "</table>\n",
       "</div>"
      ],
      "text/plain": [
       "   station_nbr        date tmax tmin tavg depart dewpoint wetbulb heat cool  \\\n",
       "0            1  2012-01-01   52   31   42      M       36      40   23    0   \n",
       "1            2  2012-01-01   48   33   41     16       37      39   24    0   \n",
       "2            3  2012-01-01   55   34   45      9       24      36   20    0   \n",
       "3            4  2012-01-01   63   47   55      4       28      43   10    0   \n",
       "4            6  2012-01-01   63   34   49      0       31      43   16    0   \n",
       "\n",
       "  sunrise sunset codesum snowfall preciptotal stnpressure sealevel  \\\n",
       "0       -      -  Not_MO        M        0.05       29.78    29.92   \n",
       "1    0716   1626  Not_MO      0.0        0.07       28.82    29.91   \n",
       "2    0735   1720      MO      0.0        0.00       29.77    30.47   \n",
       "3    0728   1742      MO      0.0        0.00       29.79    30.48   \n",
       "4    0727   1742      MO      0.0        0.00       29.95    30.47   \n",
       "\n",
       "  resultspeed resultdir avgspeed  \n",
       "0         3.6        20      4.6  \n",
       "1         9.1        23     11.3  \n",
       "2         9.9        31     10.0  \n",
       "3         8.0        35      8.2  \n",
       "4        14.0        36     13.8  "
      ]
     },
     "execution_count": 6,
     "metadata": {},
     "output_type": "execute_result"
    }
   ],
   "source": [
    "weather_v1.head()"
   ]
  },
  {
   "cell_type": "markdown",
   "metadata": {},
   "source": [
    "## codesum 이 Moderate 한지 아닌지 2가지로 분류한 weather를 weather_v1.csv 로 저장"
   ]
  },
  {
   "cell_type": "code",
   "execution_count": 7,
   "metadata": {},
   "outputs": [],
   "source": [
    "weather_v1.to_csv('../data/weather_v1.csv', sep = ',')"
   ]
  },
  {
   "cell_type": "markdown",
   "metadata": {},
   "source": [
    "## 유형 2. codesum조합에 대해 빈도수 별 분류 >> 카테고리 ??\n",
    "     1. 100번 이상 발생한 것\n",
    "     2. 200번 이상 발생한 것"
   ]
  },
  {
   "cell_type": "markdown",
   "metadata": {},
   "source": [
    "# moderate한 날짜에 `MO` 채워넣기"
   ]
  },
  {
   "cell_type": "code",
   "execution_count": 8,
   "metadata": {},
   "outputs": [],
   "source": [
    "weather_v2 = weather.copy()"
   ]
  },
  {
   "cell_type": "code",
   "execution_count": 9,
   "metadata": {},
   "outputs": [],
   "source": [
    "def fill_value_codesum(codesum):\n",
    "    if codesum == \" \":\n",
    "        return \"MO\"\n",
    "    else:\n",
    "        return codesum"
   ]
  },
  {
   "cell_type": "code",
   "execution_count": 10,
   "metadata": {},
   "outputs": [],
   "source": [
    "data = pd.DataFrame(weather_v2, columns=['date', 'codesum'])"
   ]
  },
  {
   "cell_type": "code",
   "execution_count": 11,
   "metadata": {},
   "outputs": [],
   "source": [
    "data['codesum'] = data['codesum'].apply(fill_value_codesum)"
   ]
  },
  {
   "cell_type": "code",
   "execution_count": 12,
   "metadata": {},
   "outputs": [
    {
     "data": {
      "text/html": [
       "<div>\n",
       "<style scoped>\n",
       "    .dataframe tbody tr th:only-of-type {\n",
       "        vertical-align: middle;\n",
       "    }\n",
       "\n",
       "    .dataframe tbody tr th {\n",
       "        vertical-align: top;\n",
       "    }\n",
       "\n",
       "    .dataframe thead th {\n",
       "        text-align: right;\n",
       "    }\n",
       "</style>\n",
       "<table border=\"1\" class=\"dataframe\">\n",
       "  <thead>\n",
       "    <tr style=\"text-align: right;\">\n",
       "      <th></th>\n",
       "      <th>date</th>\n",
       "      <th>codesum</th>\n",
       "    </tr>\n",
       "  </thead>\n",
       "  <tbody>\n",
       "    <tr>\n",
       "      <th>20512</th>\n",
       "      <td>2014-10-31</td>\n",
       "      <td>MO</td>\n",
       "    </tr>\n",
       "    <tr>\n",
       "      <th>20513</th>\n",
       "      <td>2014-10-31</td>\n",
       "      <td>RA</td>\n",
       "    </tr>\n",
       "    <tr>\n",
       "      <th>20514</th>\n",
       "      <td>2014-10-31</td>\n",
       "      <td>MO</td>\n",
       "    </tr>\n",
       "    <tr>\n",
       "      <th>20515</th>\n",
       "      <td>2014-10-31</td>\n",
       "      <td>RA SN</td>\n",
       "    </tr>\n",
       "    <tr>\n",
       "      <th>20516</th>\n",
       "      <td>2014-10-31</td>\n",
       "      <td>MO</td>\n",
       "    </tr>\n",
       "  </tbody>\n",
       "</table>\n",
       "</div>"
      ],
      "text/plain": [
       "             date codesum\n",
       "20512  2014-10-31      MO\n",
       "20513  2014-10-31      RA\n",
       "20514  2014-10-31      MO\n",
       "20515  2014-10-31   RA SN\n",
       "20516  2014-10-31      MO"
      ]
     },
     "execution_count": 12,
     "metadata": {},
     "output_type": "execute_result"
    }
   ],
   "source": [
    "data.tail()"
   ]
  },
  {
   "cell_type": "markdown",
   "metadata": {},
   "source": [
    "## 유형 2-1"
   ]
  },
  {
   "cell_type": "markdown",
   "metadata": {},
   "source": [
    "# codesum 데이터를 읽기 좋게 바꾸기\n",
    "- ex \"FG+ EXEX EX\" -> \"FG,EX,EX,EX\" 이런식으로\n"
   ]
  },
  {
   "cell_type": "code",
   "execution_count": 13,
   "metadata": {},
   "outputs": [],
   "source": [
    "def ch_codesum(codesum):\n",
    "    result = \"\"\n",
    "    \n",
    "    codesum = codesum.replace(\" \",\"\")\n",
    "    codesum = codesum.replace(\"+\",\"\")\n",
    "    \n",
    "    for s in range(0,len(codesum)):\n",
    "        if s % 2 == 0 and s != 0:\n",
    "            result += ',' + codesum[s]\n",
    "        else:\n",
    "            result += codesum[s]\n",
    "    return result"
   ]
  },
  {
   "cell_type": "code",
   "execution_count": 14,
   "metadata": {},
   "outputs": [],
   "source": [
    "data['codesum'] = data['codesum'].apply(ch_codesum)"
   ]
  },
  {
   "cell_type": "markdown",
   "metadata": {},
   "source": [
    "# Counter 함수를 이용해 codesum마다 얼만큼 쓰였는지 확인"
   ]
  },
  {
   "cell_type": "code",
   "execution_count": 15,
   "metadata": {},
   "outputs": [],
   "source": [
    "from collections import Counter"
   ]
  },
  {
   "cell_type": "code",
   "execution_count": 16,
   "metadata": {},
   "outputs": [],
   "source": [
    "tmp_list = list(data['codesum'])"
   ]
  },
  {
   "cell_type": "code",
   "execution_count": 17,
   "metadata": {
    "scrolled": false
   },
   "outputs": [
    {
     "data": {
      "text/plain": [
       "['RA,FZ,FG,BR',\n",
       " 'RA',\n",
       " 'MO',\n",
       " 'MO',\n",
       " 'MO',\n",
       " 'MO',\n",
       " 'RA,BR',\n",
       " 'UP',\n",
       " 'FG,FG,BR',\n",
       " 'FG,FG,BR']"
      ]
     },
     "execution_count": 17,
     "metadata": {},
     "output_type": "execute_result"
    }
   ],
   "source": [
    "tmp_list[:10]"
   ]
  },
  {
   "cell_type": "markdown",
   "metadata": {},
   "source": [
    "#### + 가 있는 경우 2개 중복이 되므로 이부분은 set을 이용해 없애주자"
   ]
  },
  {
   "cell_type": "code",
   "execution_count": 18,
   "metadata": {},
   "outputs": [
    {
     "data": {
      "text/plain": [
       "'FG,FG,BR'"
      ]
     },
     "execution_count": 18,
     "metadata": {},
     "output_type": "execute_result"
    }
   ],
   "source": [
    "tmp_list[8]"
   ]
  },
  {
   "cell_type": "code",
   "execution_count": 19,
   "metadata": {},
   "outputs": [
    {
     "data": {
      "text/plain": [
       "['FG', 'BR']"
      ]
     },
     "execution_count": 19,
     "metadata": {},
     "output_type": "execute_result"
    }
   ],
   "source": [
    "list(set(tmp_list[8].split(',')))"
   ]
  },
  {
   "cell_type": "code",
   "execution_count": 20,
   "metadata": {},
   "outputs": [],
   "source": [
    "counts = []\n",
    "for i in tmp_list:\n",
    "    i = list(set(i.split(',')))\n",
    "    for j in i:\n",
    "        counts.append(j)"
   ]
  },
  {
   "cell_type": "code",
   "execution_count": 21,
   "metadata": {},
   "outputs": [
    {
     "data": {
      "text/plain": [
       "['BR', 'RA', 'FG', 'FZ', 'RA', 'MO', 'MO', 'MO', 'MO', 'RA']"
      ]
     },
     "execution_count": 21,
     "metadata": {},
     "output_type": "execute_result"
    }
   ],
   "source": [
    "counts[:10]"
   ]
  },
  {
   "cell_type": "code",
   "execution_count": 22,
   "metadata": {
    "scrolled": false
   },
   "outputs": [],
   "source": [
    "counts_codesum = dict(Counter(counts))"
   ]
  },
  {
   "cell_type": "markdown",
   "metadata": {},
   "source": [
    "# `codesum` : `갯수`       `퍼센트(%)`"
   ]
  },
  {
   "cell_type": "code",
   "execution_count": 23,
   "metadata": {},
   "outputs": [
    {
     "name": "stdout",
     "output_type": "stream",
     "text": [
      "DU : 28          0.14%\n",
      "SN : 1008        4.91%\n",
      "FG : 1307        6.37%\n",
      "FZ : 332         1.62%\n",
      "SQ : 14          0.07%\n",
      "BL : 59          0.29%\n",
      "VC : 571         2.78%\n",
      "FU : 33          0.16%\n",
      "RA : 5325        25.95%\n",
      "MI : 52          0.25%\n",
      "PR : 1           0.0%\n",
      "PL : 20          0.1%\n",
      "MO : 11051       53.86%\n",
      "HZ : 1482        7.22%\n",
      "UP : 230         1.12%\n",
      "GS : 5           0.02%\n",
      "GR : 3           0.01%\n",
      "SG : 1           0.0%\n",
      "DZ : 497         2.42%\n",
      "BR : 6359        30.99%\n",
      "TS : 1888        9.2%\n",
      "BC : 111         0.54%\n"
     ]
    }
   ],
   "source": [
    "\n",
    "for idx, val in counts_codesum.items():\n",
    "    sum_val = 0\n",
    "    sum_percentage = 0\n",
    "    tmp_percentage = 0\n",
    "    percentage = round((val / 20517) * 100,2)\n",
    "    \n",
    "    print(idx,\":\",val,\" \"*(10 - len(str(val))),str(percentage)+\"%\")\n",
    "    tmp_percentage += percentage\n",
    "    "
   ]
  },
  {
   "cell_type": "code",
   "execution_count": 24,
   "metadata": {},
   "outputs": [],
   "source": [
    "counts_set = []\n",
    "for i in tmp_list:\n",
    "    i = ','.join(list(set(i.split(','))))\n",
    "    counts_set.append(i)"
   ]
  },
  {
   "cell_type": "code",
   "execution_count": 25,
   "metadata": {},
   "outputs": [
    {
     "data": {
      "text/plain": [
       "['BR,RA,FG,FZ', 'RA', 'MO', 'MO', 'MO', 'MO', 'RA,BR', 'UP', 'FG,BR', 'FG,BR']"
      ]
     },
     "execution_count": 25,
     "metadata": {},
     "output_type": "execute_result"
    }
   ],
   "source": [
    "counts_set[:10]"
   ]
  },
  {
   "cell_type": "code",
   "execution_count": 26,
   "metadata": {},
   "outputs": [],
   "source": [
    "counts_codesum_set = dict(Counter(counts_set))"
   ]
  },
  {
   "cell_type": "code",
   "execution_count": null,
   "metadata": {},
   "outputs": [],
   "source": []
  },
  {
   "cell_type": "markdown",
   "metadata": {},
   "source": [
    "# 모든 codesum 조합에 대해 묶어서 100개 이상만 뽑았을 때\n",
    "- 전체의 90%를 차지\n",
    "- 18개의 카테고리 + 1 = 0\n",
    "- 같은 코드섬이 2개 들어가 있는 경우는 그 코드에 +가 있었던 경우임"
   ]
  },
  {
   "cell_type": "code",
   "execution_count": 27,
   "metadata": {},
   "outputs": [
    {
     "name": "stdout",
     "output_type": "stream",
     "text": [
      "VC,RA,TS      132      0.64%\n",
      "RA,BR         1476     7.19%\n",
      "HZ            365      1.78%\n",
      "FG,BR         354      1.73%\n",
      "BR            1431     6.97%\n",
      "SN            198      0.97%\n",
      "RA,BR,TS      481      2.34%\n",
      "SN,BR         244      1.19%\n",
      "RA,BR,DZ      126      0.61%\n",
      "BR,HZ         400      1.95%\n",
      "MO            11051    53.86%\n",
      "TS            189      0.92%\n",
      "RA            1281     6.24%\n",
      "BR,RA,FG      251      1.22%\n",
      "RA,TS         416      2.03%\n",
      "RA,BR,HZ      147      0.72%\n",
      "VC,RA,BR,TS   207      1.01%\n",
      "-------total_percentage---------\n",
      "91.36999999999999%\n"
     ]
    }
   ],
   "source": [
    "code_name = []\n",
    "sum_percentage = 0\n",
    "for idx,val in counts_codesum_set.items():\n",
    "    \n",
    "    if val > 100:\n",
    "        percentage = round((val / 20517) * 100,2)\n",
    "        print(idx,\" \"*(12 - len(idx)),val,\" \"*(7 - len(str(val))),str(percentage)+\"%\")\n",
    "        sum_percentage += percentage\n",
    "        for i in idx.split(','):\n",
    "            code_name.append(i)\n",
    "            \n",
    "print(\"-------total_percentage---------\")\n",
    "print(str(sum_percentage) + \"%\")"
   ]
  },
  {
   "cell_type": "code",
   "execution_count": 28,
   "metadata": {},
   "outputs": [
    {
     "data": {
      "text/plain": [
       "{'BR', 'DZ', 'FG', 'HZ', 'MO', 'RA', 'SN', 'TS', 'VC'}"
      ]
     },
     "execution_count": 28,
     "metadata": {},
     "output_type": "execute_result"
    }
   ],
   "source": [
    "set(code_name)"
   ]
  },
  {
   "cell_type": "markdown",
   "metadata": {},
   "source": [
    "### 카테고리를 좀 더 줄이고자 고민하면서 현재 위의 경우 `RA BR TS VC`, `BR RA TS` 가 다르게 인식이 되고 있다. 그래서 그냥 위의 경우 `RA BR TS` 로 분류하고 싶어졌다"
   ]
  },
  {
   "cell_type": "markdown",
   "metadata": {},
   "source": [
    "### 2개까지 잡냐 or 3개까지 잡냐... 둘다 해보자"
   ]
  },
  {
   "cell_type": "markdown",
   "metadata": {},
   "source": [
    "### 2개부터"
   ]
  },
  {
   "cell_type": "markdown",
   "metadata": {},
   "source": [
    "# codesum이 2개 이상 기록된 데이터를 분류하자"
   ]
  },
  {
   "cell_type": "code",
   "execution_count": 29,
   "metadata": {},
   "outputs": [],
   "source": [
    "counts_set = []\n",
    "for i in tmp_list:\n",
    "    i = ','.join(list(set(i.split(','))))\n",
    "    counts_set.append(i)"
   ]
  },
  {
   "cell_type": "code",
   "execution_count": 30,
   "metadata": {
    "scrolled": true
   },
   "outputs": [
    {
     "data": {
      "text/plain": [
       "['BR,RA,FG,FZ', 'RA', 'MO', 'MO', 'MO', 'MO', 'RA,BR', 'UP', 'FG,BR', 'FG,BR']"
      ]
     },
     "execution_count": 30,
     "metadata": {},
     "output_type": "execute_result"
    }
   ],
   "source": [
    "counts_set[:10]"
   ]
  },
  {
   "cell_type": "code",
   "execution_count": 31,
   "metadata": {},
   "outputs": [],
   "source": [
    "exp_list = []\n",
    "for i in counts_set:\n",
    "    if len(i.split(',')) == 2:\n",
    "        exp_list.append(i)"
   ]
  },
  {
   "cell_type": "code",
   "execution_count": 32,
   "metadata": {
    "scrolled": true
   },
   "outputs": [],
   "source": [
    "exp_dict = dict((Counter(exp_list)))"
   ]
  },
  {
   "cell_type": "code",
   "execution_count": 33,
   "metadata": {},
   "outputs": [],
   "source": [
    "exp = list(exp_dict)"
   ]
  },
  {
   "cell_type": "code",
   "execution_count": 34,
   "metadata": {},
   "outputs": [
    {
     "name": "stdout",
     "output_type": "stream",
     "text": [
      "DU,BR : 4\n",
      "SN,RA : 225\n",
      "FU,HZ : 5\n",
      "RA,DZ : 34\n",
      "FU,TS : 1\n",
      "RA,BR : 3292\n",
      "UP,RA : 47\n",
      "FG,FZ : 24\n",
      "BR,TS : 990\n",
      "PL,SN : 6\n",
      "UP,SN : 114\n",
      "HZ,TS : 10\n",
      "RA,TS : 576\n",
      "DU,RA : 1\n",
      "SQ,TS : 1\n",
      "DZ,BR : 143\n",
      "FG,MI : 24\n",
      "VC,FG : 30\n",
      "SN,HZ : 36\n",
      "FG,BC : 16\n",
      "FU,BR : 10\n",
      "DZ,FG : 2\n",
      "SN,BR : 341\n",
      "RA,HZ : 80\n",
      "BR,HZ : 776\n",
      "PL,RA : 9\n",
      "VC,TS : 78\n",
      "SN,BL : 14\n",
      "DU,HZ : 6\n",
      "FG,BR : 665\n",
      "RA,FZ : 9\n",
      "DU,BL : 8\n",
      "DZ,FZ : 10\n",
      "SQ,BR : 2\n",
      "DZ,HZ : 37\n",
      "RA,FG : 15\n",
      "SN,DZ : 24\n",
      "UP,HZ : 4\n",
      "UP,BR : 6\n",
      "총합 7675\n"
     ]
    }
   ],
   "source": [
    "sum_count = 0\n",
    "for idx in exp:\n",
    "    count = 0\n",
    "    # 2개씩 조합해서 비교\n",
    "    for code in counts_set:\n",
    "        code = code.split(',')\n",
    "        if len(code) >= 2:\n",
    "            for i in range(0,len(code)-1):\n",
    "                if idx.split(',') == list(set(code))[i:i+2]:\n",
    "                    count += 1\n",
    "    sum_count += count\n",
    "    \n",
    "    print(idx,\":\",count)\n",
    "print('총합',sum_count)"
   ]
  },
  {
   "cell_type": "markdown",
   "metadata": {},
   "source": [
    "# 1개인것만"
   ]
  },
  {
   "cell_type": "code",
   "execution_count": 35,
   "metadata": {},
   "outputs": [],
   "source": [
    "exp_list = []\n",
    "for i in counts_set:\n",
    "    if len(i.split(',')) == 1:\n",
    "        exp_list.append(i)"
   ]
  },
  {
   "cell_type": "code",
   "execution_count": 36,
   "metadata": {},
   "outputs": [],
   "source": [
    "exp_dict = dict(Counter(exp_list))"
   ]
  },
  {
   "cell_type": "code",
   "execution_count": 37,
   "metadata": {},
   "outputs": [
    {
     "name": "stdout",
     "output_type": "stream",
     "text": [
      "SN 198\n",
      "MO 11051\n",
      "HZ 365\n",
      "TS 189\n",
      "RA 1281\n",
      "BR 1431\n"
     ]
    }
   ],
   "source": [
    "for idx,val in exp_dict.items():\n",
    "    if val > 100:\n",
    "        print(idx, val)"
   ]
  },
  {
   "cell_type": "markdown",
   "metadata": {},
   "source": [
    "### 결과를 보니 20517보다 개수가 많다. 그이유는?? 예를들어 `RA BR SN` 인 경우 `RA BR`, `BR SN` 에 둘다 count를 했기 때문"
   ]
  },
  {
   "cell_type": "markdown",
   "metadata": {},
   "source": [
    "# 3개를 기준으로 해보면?"
   ]
  },
  {
   "cell_type": "code",
   "execution_count": 38,
   "metadata": {},
   "outputs": [],
   "source": [
    "exp_list = []\n",
    "for i in counts_set:\n",
    "    if len(i.split(',')) == 3:\n",
    "        exp_list.append(i)"
   ]
  },
  {
   "cell_type": "code",
   "execution_count": 39,
   "metadata": {},
   "outputs": [],
   "source": [
    "exp_dict = dict(Counter(exp_list))"
   ]
  },
  {
   "cell_type": "code",
   "execution_count": 40,
   "metadata": {},
   "outputs": [],
   "source": [
    "exp = list(exp_dict)"
   ]
  },
  {
   "cell_type": "code",
   "execution_count": 41,
   "metadata": {
    "scrolled": true
   },
   "outputs": [
    {
     "name": "stdout",
     "output_type": "stream",
     "text": [
      "SN,DZ,BR : 16\n",
      "UP,RA,FZ : 2\n",
      "RA,FG,TS : 7\n",
      "UP,BR,HZ : 3\n",
      "HZ,BR,TS : 0\n",
      "SN,FG,FZ : 17\n",
      "VC,BR,TS : 20\n",
      "DZ,BR,TS : 2\n",
      "PL,RA,FZ : 2\n",
      "SN,RA,DZ : 3\n",
      "FG,BR,FZ : 34\n",
      "PL,RA,BR : 5\n",
      "RA,BR,TS : 559\n",
      "SN,GS,TS : 1\n",
      "BR,RA,FG : 0\n",
      "DZ,FG,HZ : 1\n",
      "SN,FG,BR : 99\n",
      "SN,HZ,BL : 3\n",
      "UP,SN,RA : 40\n",
      "SN,BR,HZ : 62\n",
      "VC,RA,TS : 151\n",
      "UP,SN,BL : 4\n",
      "RA,HZ,DZ : 11\n",
      "RA,TS,DZ : 4\n",
      "FG,FZ,BC : 1\n",
      "SN,RA,BR : 114\n",
      "DZ,BR,HZ : 23\n",
      "FU,FG,MI : 0\n",
      "FG,HZ,BC : 1\n",
      "RA,TS,FZ : 1\n",
      "FU,BR,TS : 2\n",
      "DZ,FZ,RA : 1\n",
      "DZ,BR,FZ : 7\n",
      "BR,FG,MI : 3\n",
      "SN,RA,FG : 1\n",
      "FG,BR,HZ : 67\n",
      "VC,TS,HZ : 4\n",
      "BR,GS,HZ : 0\n",
      "SQ,RA,TS : 1\n",
      "SN,BR,TS : 1\n",
      "FG,RA,MI : 3\n",
      "FG,BR,BC : 54\n",
      "SN,BR,BL : 5\n",
      "UP,SN,BR : 28\n",
      "RA,BR,FZ : 21\n",
      "FG,BR,TS : 7\n",
      "DU,HZ,BL : 1\n",
      "BR,DZ,FG : 0\n",
      "UP,SN,HZ : 5\n",
      "VC,HZ,TS : 5\n",
      "FU,BR,HZ : 3\n",
      "RA,BR,HZ : 147\n",
      "FU,RA,BR : 0\n",
      "DU,BR,HZ : 3\n",
      "PL,RA,HZ : 1\n",
      "RA,BR,DZ : 150\n",
      "UP,RA,DZ : 1\n",
      "UP,RA,BR : 26\n",
      "VC,FG,BR : 4\n",
      "RA,HZ,TS : 0\n",
      "RA,GS,TS : 2\n",
      "총합 1739\n"
     ]
    }
   ],
   "source": [
    "sum_count = 0\n",
    "for idx in exp:\n",
    "    count = 0\n",
    "    # 4개 중 3개씩 조합해서 비교\n",
    "    for code in counts_set:\n",
    "        code = code.split(',')\n",
    "        if len(code) >= 3 and idx.split(',') == list(set(code))[:3]:\n",
    "\n",
    "            count += 1\n",
    "    sum_count += count\n",
    "    \n",
    "    print(idx,\":\",count)\n",
    "print('총합',sum_count)"
   ]
  },
  {
   "cell_type": "markdown",
   "metadata": {},
   "source": [
    "# codesum 조합을 다시 만들자 조합이 3개인것 까지만!"
   ]
  },
  {
   "cell_type": "code",
   "execution_count": 42,
   "metadata": {},
   "outputs": [
    {
     "data": {
      "text/plain": [
       "{'BC': 111,\n",
       " 'BL': 59,\n",
       " 'BR': 6359,\n",
       " 'DU': 28,\n",
       " 'DZ': 497,\n",
       " 'FG': 1307,\n",
       " 'FU': 33,\n",
       " 'FZ': 332,\n",
       " 'GR': 3,\n",
       " 'GS': 5,\n",
       " 'HZ': 1482,\n",
       " 'MI': 52,\n",
       " 'MO': 11051,\n",
       " 'PL': 20,\n",
       " 'PR': 1,\n",
       " 'RA': 5325,\n",
       " 'SG': 1,\n",
       " 'SN': 1008,\n",
       " 'SQ': 14,\n",
       " 'TS': 1888,\n",
       " 'UP': 230,\n",
       " 'VC': 571}"
      ]
     },
     "execution_count": 42,
     "metadata": {},
     "output_type": "execute_result"
    }
   ],
   "source": [
    "counts_codesum"
   ]
  },
  {
   "cell_type": "markdown",
   "metadata": {},
   "source": [
    "## 만약 codesum에 들어간 code가 4개 이상인 것만 뽑아서 그중 빈도수가 가장 높은 code top3를 return 하도록 한다"
   ]
  },
  {
   "cell_type": "code",
   "execution_count": 43,
   "metadata": {},
   "outputs": [],
   "source": [
    "def codesum_three(codesum):\n",
    "    codesum = codesum.split(',')\n",
    "    if len(codesum) > 3:\n",
    "        tmp_code = []\n",
    "        tmp_list = [counts_codesum[code] for code in codesum]\n",
    "        tmp_list.sort()\n",
    "        top3_code = tmp_list[-3:]\n",
    "        for idx,val in counts_codesum.items():\n",
    "            if val in top3_code:\n",
    "                tmp_code.append(idx)\n",
    "            else:\n",
    "                continue\n",
    "        return \",\".join(tmp_code)\n",
    "    return \",\".join(codesum)"
   ]
  },
  {
   "cell_type": "code",
   "execution_count": 44,
   "metadata": {},
   "outputs": [
    {
     "data": {
      "text/html": [
       "<div>\n",
       "<style scoped>\n",
       "    .dataframe tbody tr th:only-of-type {\n",
       "        vertical-align: middle;\n",
       "    }\n",
       "\n",
       "    .dataframe tbody tr th {\n",
       "        vertical-align: top;\n",
       "    }\n",
       "\n",
       "    .dataframe thead th {\n",
       "        text-align: right;\n",
       "    }\n",
       "</style>\n",
       "<table border=\"1\" class=\"dataframe\">\n",
       "  <thead>\n",
       "    <tr style=\"text-align: right;\">\n",
       "      <th></th>\n",
       "      <th>date</th>\n",
       "      <th>codesum</th>\n",
       "    </tr>\n",
       "  </thead>\n",
       "  <tbody>\n",
       "    <tr>\n",
       "      <th>0</th>\n",
       "      <td>2012-01-01</td>\n",
       "      <td>RA,FZ,FG,BR</td>\n",
       "    </tr>\n",
       "    <tr>\n",
       "      <th>1</th>\n",
       "      <td>2012-01-01</td>\n",
       "      <td>RA</td>\n",
       "    </tr>\n",
       "    <tr>\n",
       "      <th>2</th>\n",
       "      <td>2012-01-01</td>\n",
       "      <td>MO</td>\n",
       "    </tr>\n",
       "    <tr>\n",
       "      <th>3</th>\n",
       "      <td>2012-01-01</td>\n",
       "      <td>MO</td>\n",
       "    </tr>\n",
       "    <tr>\n",
       "      <th>4</th>\n",
       "      <td>2012-01-01</td>\n",
       "      <td>MO</td>\n",
       "    </tr>\n",
       "  </tbody>\n",
       "</table>\n",
       "</div>"
      ],
      "text/plain": [
       "         date      codesum\n",
       "0  2012-01-01  RA,FZ,FG,BR\n",
       "1  2012-01-01           RA\n",
       "2  2012-01-01           MO\n",
       "3  2012-01-01           MO\n",
       "4  2012-01-01           MO"
      ]
     },
     "execution_count": 44,
     "metadata": {},
     "output_type": "execute_result"
    }
   ],
   "source": [
    "data.head()"
   ]
  },
  {
   "cell_type": "code",
   "execution_count": 45,
   "metadata": {},
   "outputs": [],
   "source": [
    "data_v1 = data.copy()"
   ]
  },
  {
   "cell_type": "code",
   "execution_count": 46,
   "metadata": {
    "scrolled": true
   },
   "outputs": [],
   "source": [
    "data_v1['codesum'] = data_v1['codesum'].apply(codesum_three)"
   ]
  },
  {
   "cell_type": "code",
   "execution_count": 47,
   "metadata": {
    "scrolled": true
   },
   "outputs": [
    {
     "data": {
      "text/html": [
       "<div>\n",
       "<style scoped>\n",
       "    .dataframe tbody tr th:only-of-type {\n",
       "        vertical-align: middle;\n",
       "    }\n",
       "\n",
       "    .dataframe tbody tr th {\n",
       "        vertical-align: top;\n",
       "    }\n",
       "\n",
       "    .dataframe thead th {\n",
       "        text-align: right;\n",
       "    }\n",
       "</style>\n",
       "<table border=\"1\" class=\"dataframe\">\n",
       "  <thead>\n",
       "    <tr style=\"text-align: right;\">\n",
       "      <th></th>\n",
       "      <th>date</th>\n",
       "      <th>codesum</th>\n",
       "    </tr>\n",
       "  </thead>\n",
       "  <tbody>\n",
       "    <tr>\n",
       "      <th>0</th>\n",
       "      <td>2012-01-01</td>\n",
       "      <td>FG,RA,BR</td>\n",
       "    </tr>\n",
       "    <tr>\n",
       "      <th>1</th>\n",
       "      <td>2012-01-01</td>\n",
       "      <td>RA</td>\n",
       "    </tr>\n",
       "    <tr>\n",
       "      <th>2</th>\n",
       "      <td>2012-01-01</td>\n",
       "      <td>MO</td>\n",
       "    </tr>\n",
       "    <tr>\n",
       "      <th>3</th>\n",
       "      <td>2012-01-01</td>\n",
       "      <td>MO</td>\n",
       "    </tr>\n",
       "    <tr>\n",
       "      <th>4</th>\n",
       "      <td>2012-01-01</td>\n",
       "      <td>MO</td>\n",
       "    </tr>\n",
       "  </tbody>\n",
       "</table>\n",
       "</div>"
      ],
      "text/plain": [
       "         date   codesum\n",
       "0  2012-01-01  FG,RA,BR\n",
       "1  2012-01-01        RA\n",
       "2  2012-01-01        MO\n",
       "3  2012-01-01        MO\n",
       "4  2012-01-01        MO"
      ]
     },
     "execution_count": 47,
     "metadata": {},
     "output_type": "execute_result"
    }
   ],
   "source": [
    "data_v1.head()"
   ]
  },
  {
   "cell_type": "code",
   "execution_count": 48,
   "metadata": {
    "scrolled": true
   },
   "outputs": [],
   "source": [
    "tmp_list = list(data_v1['codesum'])"
   ]
  },
  {
   "cell_type": "code",
   "execution_count": 49,
   "metadata": {},
   "outputs": [],
   "source": [
    "counts_set = []\n",
    "for i in tmp_list:\n",
    "    i = ','.join(list(set(i.split(','))))\n",
    "    counts_set.append(i)"
   ]
  },
  {
   "cell_type": "code",
   "execution_count": 50,
   "metadata": {},
   "outputs": [],
   "source": [
    "counts_codesum_set = dict(Counter(counts_set))"
   ]
  },
  {
   "cell_type": "markdown",
   "metadata": {},
   "source": [
    "# 유형 2-1. 100개 이상\n",
    "\n",
    "- 전체 중 94.67%\n",
    "- 카테고리 16개 + another code 1 = 17 개"
   ]
  },
  {
   "cell_type": "code",
   "execution_count": 51,
   "metadata": {},
   "outputs": [
    {
     "name": "stdout",
     "output_type": "stream",
     "text": [
      "SN            198      0.97%\n",
      "RA,BR,TS      396      1.93%\n",
      "RA,BR,HZ      235      1.15%\n",
      "RA,TS         499      2.43%\n",
      "SN,BR         252      1.23%\n",
      "RA            1281     6.24%\n",
      "TS            189      0.92%\n",
      "RA,BR,DZ      130      0.63%\n",
      "SN,RA,BR      119      0.58%\n",
      "RA,BR         2046     9.97%\n",
      "BR,RA,FG      166      0.81%\n",
      "FG,BR,RA      195      0.95%\n",
      "HZ            365      1.78%\n",
      "BR,HZ         400      1.95%\n",
      "MO            11051    53.86%\n",
      "FG,BR         471      2.3%\n",
      "BR            1431     6.97%\n",
      "-------total_percentage---------\n",
      "94.67%\n"
     ]
    }
   ],
   "source": [
    "code_name = []\n",
    "sum_percentage = 0\n",
    "for idx,val in counts_codesum_set.items():\n",
    "    \n",
    "    if val > 100:\n",
    "        percentage = round((val / 20517) * 100,2)\n",
    "        print(idx,\" \"*(12 - len(idx)),val,\" \"*(7 - len(str(val))),str(percentage)+\"%\")\n",
    "        sum_percentage += percentage\n",
    "        \n",
    "        code_name.append(idx)\n",
    "            \n",
    "print(\"-------total_percentage---------\")\n",
    "print(str(sum_percentage) + \"%\")"
   ]
  },
  {
   "cell_type": "code",
   "execution_count": 52,
   "metadata": {},
   "outputs": [
    {
     "data": {
      "text/plain": [
       "['SN',\n",
       " 'RA,BR,TS',\n",
       " 'RA,BR,HZ',\n",
       " 'RA,TS',\n",
       " 'SN,BR',\n",
       " 'RA',\n",
       " 'TS',\n",
       " 'RA,BR,DZ',\n",
       " 'SN,RA,BR',\n",
       " 'RA,BR',\n",
       " 'BR,RA,FG',\n",
       " 'FG,BR,RA',\n",
       " 'HZ',\n",
       " 'BR,HZ',\n",
       " 'MO',\n",
       " 'FG,BR',\n",
       " 'BR']"
      ]
     },
     "execution_count": 52,
     "metadata": {},
     "output_type": "execute_result"
    }
   ],
   "source": [
    "(code_name)"
   ]
  },
  {
   "cell_type": "markdown",
   "metadata": {},
   "source": [
    "### 16개 code 이외에는 'AN' 으로 분류"
   ]
  },
  {
   "cell_type": "code",
   "execution_count": 53,
   "metadata": {},
   "outputs": [],
   "source": [
    "def last_classification(codesum):\n",
    "    if \",\".join(list(set(codesum.split(',')))) in code_name:\n",
    "        return codesum\n",
    "    else:\n",
    "        return \"AN\""
   ]
  },
  {
   "cell_type": "code",
   "execution_count": 54,
   "metadata": {},
   "outputs": [],
   "source": [
    "data_v1['codesum'] = data_v1['codesum'].apply(last_classification)"
   ]
  },
  {
   "cell_type": "code",
   "execution_count": 55,
   "metadata": {
    "scrolled": true
   },
   "outputs": [
    {
     "data": {
      "text/html": [
       "<div>\n",
       "<style scoped>\n",
       "    .dataframe tbody tr th:only-of-type {\n",
       "        vertical-align: middle;\n",
       "    }\n",
       "\n",
       "    .dataframe tbody tr th {\n",
       "        vertical-align: top;\n",
       "    }\n",
       "\n",
       "    .dataframe thead th {\n",
       "        text-align: right;\n",
       "    }\n",
       "</style>\n",
       "<table border=\"1\" class=\"dataframe\">\n",
       "  <thead>\n",
       "    <tr style=\"text-align: right;\">\n",
       "      <th></th>\n",
       "      <th>date</th>\n",
       "      <th>codesum</th>\n",
       "    </tr>\n",
       "  </thead>\n",
       "  <tbody>\n",
       "    <tr>\n",
       "      <th>20512</th>\n",
       "      <td>2014-10-31</td>\n",
       "      <td>MO</td>\n",
       "    </tr>\n",
       "    <tr>\n",
       "      <th>20513</th>\n",
       "      <td>2014-10-31</td>\n",
       "      <td>RA</td>\n",
       "    </tr>\n",
       "    <tr>\n",
       "      <th>20514</th>\n",
       "      <td>2014-10-31</td>\n",
       "      <td>MO</td>\n",
       "    </tr>\n",
       "    <tr>\n",
       "      <th>20515</th>\n",
       "      <td>2014-10-31</td>\n",
       "      <td>AN</td>\n",
       "    </tr>\n",
       "    <tr>\n",
       "      <th>20516</th>\n",
       "      <td>2014-10-31</td>\n",
       "      <td>MO</td>\n",
       "    </tr>\n",
       "  </tbody>\n",
       "</table>\n",
       "</div>"
      ],
      "text/plain": [
       "             date codesum\n",
       "20512  2014-10-31      MO\n",
       "20513  2014-10-31      RA\n",
       "20514  2014-10-31      MO\n",
       "20515  2014-10-31      AN\n",
       "20516  2014-10-31      MO"
      ]
     },
     "execution_count": 55,
     "metadata": {},
     "output_type": "execute_result"
    }
   ],
   "source": [
    "data_v1.tail()"
   ]
  },
  {
   "cell_type": "code",
   "execution_count": 56,
   "metadata": {},
   "outputs": [],
   "source": [
    "weather_v2 = weather.copy()"
   ]
  },
  {
   "cell_type": "code",
   "execution_count": 57,
   "metadata": {},
   "outputs": [],
   "source": [
    "weather_v2['codesum'] = data_v1['codesum']"
   ]
  },
  {
   "cell_type": "markdown",
   "metadata": {},
   "source": [
    "## 100개 이상인 코드 조합에 대해 나눈 것을 weather_v2.csv 로 저장"
   ]
  },
  {
   "cell_type": "code",
   "execution_count": 58,
   "metadata": {},
   "outputs": [],
   "source": [
    "weather_v2.to_csv('../data/weather_v2.csv', sep = ',')"
   ]
  },
  {
   "cell_type": "markdown",
   "metadata": {},
   "source": [
    "# 유형 2-2. 200개 이상\n",
    "- 전체 중 89.81%\n",
    "- 카테고리 12개 + another code 1 = 13 개"
   ]
  },
  {
   "cell_type": "code",
   "execution_count": 69,
   "metadata": {},
   "outputs": [
    {
     "name": "stdout",
     "output_type": "stream",
     "text": [
      "RA,BR,TS      396      1.93%\n",
      "RA,BR,HZ      235      1.15%\n",
      "RA,TS         499      2.43%\n",
      "SN,BR         252      1.23%\n",
      "RA            1281     6.24%\n",
      "RA,BR         2046     9.97%\n",
      "HZ            365      1.78%\n",
      "BR,HZ         400      1.95%\n",
      "MO            11051    53.86%\n",
      "FG,BR         471      2.3%\n",
      "BR            1431     6.97%\n",
      "-------total_percentage---------\n",
      "89.81%\n"
     ]
    }
   ],
   "source": [
    "code_name = []\n",
    "sum_percentage = 0\n",
    "for idx,val in counts_codesum_set.items():\n",
    "    \n",
    "    if val > 200:\n",
    "        percentage = round((val / 20517) * 100,2)\n",
    "        print(idx,\" \"*(12 - len(idx)),val,\" \"*(7 - len(str(val))),str(percentage)+\"%\")\n",
    "        sum_percentage += percentage\n",
    "        \n",
    "        code_name.append(idx)\n",
    "            \n",
    "print(\"-------total_percentage---------\")\n",
    "print(str(sum_percentage) + \"%\")"
   ]
  },
  {
   "cell_type": "code",
   "execution_count": 60,
   "metadata": {},
   "outputs": [],
   "source": [
    "data_v2 = data.copy()"
   ]
  },
  {
   "cell_type": "code",
   "execution_count": 61,
   "metadata": {},
   "outputs": [
    {
     "data": {
      "text/html": [
       "<div>\n",
       "<style scoped>\n",
       "    .dataframe tbody tr th:only-of-type {\n",
       "        vertical-align: middle;\n",
       "    }\n",
       "\n",
       "    .dataframe tbody tr th {\n",
       "        vertical-align: top;\n",
       "    }\n",
       "\n",
       "    .dataframe thead th {\n",
       "        text-align: right;\n",
       "    }\n",
       "</style>\n",
       "<table border=\"1\" class=\"dataframe\">\n",
       "  <thead>\n",
       "    <tr style=\"text-align: right;\">\n",
       "      <th></th>\n",
       "      <th>date</th>\n",
       "      <th>codesum</th>\n",
       "    </tr>\n",
       "  </thead>\n",
       "  <tbody>\n",
       "    <tr>\n",
       "      <th>0</th>\n",
       "      <td>2012-01-01</td>\n",
       "      <td>FG,RA,BR</td>\n",
       "    </tr>\n",
       "    <tr>\n",
       "      <th>1</th>\n",
       "      <td>2012-01-01</td>\n",
       "      <td>RA</td>\n",
       "    </tr>\n",
       "    <tr>\n",
       "      <th>2</th>\n",
       "      <td>2012-01-01</td>\n",
       "      <td>MO</td>\n",
       "    </tr>\n",
       "    <tr>\n",
       "      <th>3</th>\n",
       "      <td>2012-01-01</td>\n",
       "      <td>MO</td>\n",
       "    </tr>\n",
       "    <tr>\n",
       "      <th>4</th>\n",
       "      <td>2012-01-01</td>\n",
       "      <td>MO</td>\n",
       "    </tr>\n",
       "  </tbody>\n",
       "</table>\n",
       "</div>"
      ],
      "text/plain": [
       "         date   codesum\n",
       "0  2012-01-01  FG,RA,BR\n",
       "1  2012-01-01        RA\n",
       "2  2012-01-01        MO\n",
       "3  2012-01-01        MO\n",
       "4  2012-01-01        MO"
      ]
     },
     "execution_count": 61,
     "metadata": {},
     "output_type": "execute_result"
    }
   ],
   "source": [
    "data_v2['codesum'] = data_v2['codesum'].apply(codesum_three)\n",
    "data_v2.head()"
   ]
  },
  {
   "cell_type": "code",
   "execution_count": 62,
   "metadata": {},
   "outputs": [
    {
     "data": {
      "text/plain": [
       "['RA,BR,TS',\n",
       " 'RA,BR,HZ',\n",
       " 'RA,TS',\n",
       " 'SN,BR',\n",
       " 'RA',\n",
       " 'RA,BR',\n",
       " 'HZ',\n",
       " 'BR,HZ',\n",
       " 'MO',\n",
       " 'FG,BR',\n",
       " 'BR']"
      ]
     },
     "execution_count": 62,
     "metadata": {},
     "output_type": "execute_result"
    }
   ],
   "source": [
    "code_name"
   ]
  },
  {
   "cell_type": "code",
   "execution_count": 63,
   "metadata": {},
   "outputs": [],
   "source": [
    "def last_classification(codesum):\n",
    "    if \",\".join(list(set(codesum.split(',')))) in code_name:\n",
    "        return codesum\n",
    "    else:\n",
    "        return \"AN\""
   ]
  },
  {
   "cell_type": "code",
   "execution_count": 64,
   "metadata": {},
   "outputs": [],
   "source": [
    "data_v2['codesum'] = data_v2['codesum'].apply(last_classification)"
   ]
  },
  {
   "cell_type": "code",
   "execution_count": 65,
   "metadata": {},
   "outputs": [
    {
     "data": {
      "text/html": [
       "<div>\n",
       "<style scoped>\n",
       "    .dataframe tbody tr th:only-of-type {\n",
       "        vertical-align: middle;\n",
       "    }\n",
       "\n",
       "    .dataframe tbody tr th {\n",
       "        vertical-align: top;\n",
       "    }\n",
       "\n",
       "    .dataframe thead th {\n",
       "        text-align: right;\n",
       "    }\n",
       "</style>\n",
       "<table border=\"1\" class=\"dataframe\">\n",
       "  <thead>\n",
       "    <tr style=\"text-align: right;\">\n",
       "      <th></th>\n",
       "      <th>date</th>\n",
       "      <th>codesum</th>\n",
       "    </tr>\n",
       "  </thead>\n",
       "  <tbody>\n",
       "    <tr>\n",
       "      <th>20512</th>\n",
       "      <td>2014-10-31</td>\n",
       "      <td>MO</td>\n",
       "    </tr>\n",
       "    <tr>\n",
       "      <th>20513</th>\n",
       "      <td>2014-10-31</td>\n",
       "      <td>RA</td>\n",
       "    </tr>\n",
       "    <tr>\n",
       "      <th>20514</th>\n",
       "      <td>2014-10-31</td>\n",
       "      <td>MO</td>\n",
       "    </tr>\n",
       "    <tr>\n",
       "      <th>20515</th>\n",
       "      <td>2014-10-31</td>\n",
       "      <td>AN</td>\n",
       "    </tr>\n",
       "    <tr>\n",
       "      <th>20516</th>\n",
       "      <td>2014-10-31</td>\n",
       "      <td>MO</td>\n",
       "    </tr>\n",
       "  </tbody>\n",
       "</table>\n",
       "</div>"
      ],
      "text/plain": [
       "             date codesum\n",
       "20512  2014-10-31      MO\n",
       "20513  2014-10-31      RA\n",
       "20514  2014-10-31      MO\n",
       "20515  2014-10-31      AN\n",
       "20516  2014-10-31      MO"
      ]
     },
     "execution_count": 65,
     "metadata": {},
     "output_type": "execute_result"
    }
   ],
   "source": [
    "data_v2.tail()"
   ]
  },
  {
   "cell_type": "code",
   "execution_count": 66,
   "metadata": {},
   "outputs": [],
   "source": [
    "weather_v3 = weather.copy()"
   ]
  },
  {
   "cell_type": "code",
   "execution_count": 67,
   "metadata": {},
   "outputs": [],
   "source": [
    "weather_v3['codesum'] = data_v2['codesum']"
   ]
  },
  {
   "cell_type": "markdown",
   "metadata": {},
   "source": [
    "## 200개 이상인 코드 조합에 대해 나눈 것을 weather_v3.csv 로 저장"
   ]
  },
  {
   "cell_type": "code",
   "execution_count": 68,
   "metadata": {},
   "outputs": [],
   "source": [
    "weather_v3.to_csv('../data/weather_v3.csv', sep = ',')"
   ]
  },
  {
   "cell_type": "code",
   "execution_count": null,
   "metadata": {},
   "outputs": [],
   "source": []
  }
 ],
 "metadata": {
  "kernelspec": {
   "display_name": "Python 3",
   "language": "python",
   "name": "python3"
  },
  "language_info": {
   "codemirror_mode": {
    "name": "ipython",
    "version": 3
   },
   "file_extension": ".py",
   "mimetype": "text/x-python",
   "name": "python",
   "nbconvert_exporter": "python",
   "pygments_lexer": "ipython3",
   "version": "3.5.0"
  }
 },
 "nbformat": 4,
 "nbformat_minor": 2
}
