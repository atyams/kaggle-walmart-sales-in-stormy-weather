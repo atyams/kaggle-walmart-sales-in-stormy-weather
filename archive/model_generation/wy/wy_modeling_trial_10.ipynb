{
 "cells": [
  {
   "cell_type": "code",
   "execution_count": 1,
   "metadata": {},
   "outputs": [
    {
     "name": "stdout",
     "output_type": "stream",
     "text": [
      "sympy imported\n",
      "pandas imported\n",
      "numpy imported\n",
      "scipy imported\n",
      "statsmodels imported\n",
      "statsmodels.formula imported\n",
      "statasmodels.stats.api imported\n"
     ]
    },
    {
     "name": "stderr",
     "output_type": "stream",
     "text": [
      "/Library/Frameworks/Python.framework/Versions/3.6/lib/python3.6/site-packages/statsmodels/compat/pandas.py:56: FutureWarning: The pandas.core.datetools module is deprecated and will be removed in a future version. Please use the pandas.tseries module instead.\n",
      "  from pandas.core import datetools\n"
     ]
    }
   ],
   "source": [
    "from set_math import *"
   ]
  },
  {
   "cell_type": "code",
   "execution_count": 2,
   "metadata": {},
   "outputs": [
    {
     "name": "stdout",
     "output_type": "stream",
     "text": [
      "matplotlib imported\n",
      "pyplot imported\n",
      "seaborn imported\n",
      "sns.set\n",
      "sns.set_style(whitegrid)\n",
      "sns.set_color_codes()\n",
      "type (% matplotlib inline) if necessary\n",
      "type (% config InlineBackend.figure_formats = {‘png’, ‘retina’}) if necessary\n"
     ]
    }
   ],
   "source": [
    "from set_visualization import *"
   ]
  },
  {
   "cell_type": "markdown",
   "metadata": {},
   "source": [
    "# load & merge dataset"
   ]
  },
  {
   "cell_type": "code",
   "execution_count": 3,
   "metadata": {},
   "outputs": [],
   "source": [
    "sales = pd.read_csv('../../data/basic/train.csv')\n",
    "key = pd.read_csv('../../data/basic/key.csv')\n",
    "weather = pd.read_csv('../../data/weather_v8_with_holiday.csv', index_col=0)"
   ]
  },
  {
   "cell_type": "code",
   "execution_count": 4,
   "metadata": {},
   "outputs": [
    {
     "name": "stdout",
     "output_type": "stream",
     "text": [
      "(4617600, 4)\n"
     ]
    },
    {
     "data": {
      "text/html": [
       "<div>\n",
       "<style scoped>\n",
       "    .dataframe tbody tr th:only-of-type {\n",
       "        vertical-align: middle;\n",
       "    }\n",
       "\n",
       "    .dataframe tbody tr th {\n",
       "        vertical-align: top;\n",
       "    }\n",
       "\n",
       "    .dataframe thead th {\n",
       "        text-align: right;\n",
       "    }\n",
       "</style>\n",
       "<table border=\"1\" class=\"dataframe\">\n",
       "  <thead>\n",
       "    <tr style=\"text-align: right;\">\n",
       "      <th></th>\n",
       "      <th>date</th>\n",
       "      <th>store_nbr</th>\n",
       "      <th>item_nbr</th>\n",
       "      <th>units</th>\n",
       "    </tr>\n",
       "  </thead>\n",
       "  <tbody>\n",
       "    <tr>\n",
       "      <th>0</th>\n",
       "      <td>2012-01-01</td>\n",
       "      <td>1</td>\n",
       "      <td>1</td>\n",
       "      <td>0</td>\n",
       "    </tr>\n",
       "    <tr>\n",
       "      <th>1</th>\n",
       "      <td>2012-01-01</td>\n",
       "      <td>1</td>\n",
       "      <td>2</td>\n",
       "      <td>0</td>\n",
       "    </tr>\n",
       "    <tr>\n",
       "      <th>2</th>\n",
       "      <td>2012-01-01</td>\n",
       "      <td>1</td>\n",
       "      <td>3</td>\n",
       "      <td>0</td>\n",
       "    </tr>\n",
       "    <tr>\n",
       "      <th>3</th>\n",
       "      <td>2012-01-01</td>\n",
       "      <td>1</td>\n",
       "      <td>4</td>\n",
       "      <td>0</td>\n",
       "    </tr>\n",
       "    <tr>\n",
       "      <th>4</th>\n",
       "      <td>2012-01-01</td>\n",
       "      <td>1</td>\n",
       "      <td>5</td>\n",
       "      <td>0</td>\n",
       "    </tr>\n",
       "  </tbody>\n",
       "</table>\n",
       "</div>"
      ],
      "text/plain": [
       "         date  store_nbr  item_nbr  units\n",
       "0  2012-01-01          1         1      0\n",
       "1  2012-01-01          1         2      0\n",
       "2  2012-01-01          1         3      0\n",
       "3  2012-01-01          1         4      0\n",
       "4  2012-01-01          1         5      0"
      ]
     },
     "execution_count": 4,
     "metadata": {},
     "output_type": "execute_result"
    }
   ],
   "source": [
    "print(sales.shape)\n",
    "sales.head()"
   ]
  },
  {
   "cell_type": "code",
   "execution_count": 5,
   "metadata": {},
   "outputs": [
    {
     "name": "stdout",
     "output_type": "stream",
     "text": [
      "(45, 2)\n"
     ]
    },
    {
     "data": {
      "text/html": [
       "<div>\n",
       "<style scoped>\n",
       "    .dataframe tbody tr th:only-of-type {\n",
       "        vertical-align: middle;\n",
       "    }\n",
       "\n",
       "    .dataframe tbody tr th {\n",
       "        vertical-align: top;\n",
       "    }\n",
       "\n",
       "    .dataframe thead th {\n",
       "        text-align: right;\n",
       "    }\n",
       "</style>\n",
       "<table border=\"1\" class=\"dataframe\">\n",
       "  <thead>\n",
       "    <tr style=\"text-align: right;\">\n",
       "      <th></th>\n",
       "      <th>store_nbr</th>\n",
       "      <th>station_nbr</th>\n",
       "    </tr>\n",
       "  </thead>\n",
       "  <tbody>\n",
       "    <tr>\n",
       "      <th>0</th>\n",
       "      <td>1</td>\n",
       "      <td>1</td>\n",
       "    </tr>\n",
       "    <tr>\n",
       "      <th>1</th>\n",
       "      <td>2</td>\n",
       "      <td>14</td>\n",
       "    </tr>\n",
       "    <tr>\n",
       "      <th>2</th>\n",
       "      <td>3</td>\n",
       "      <td>7</td>\n",
       "    </tr>\n",
       "    <tr>\n",
       "      <th>3</th>\n",
       "      <td>4</td>\n",
       "      <td>9</td>\n",
       "    </tr>\n",
       "    <tr>\n",
       "      <th>4</th>\n",
       "      <td>5</td>\n",
       "      <td>12</td>\n",
       "    </tr>\n",
       "  </tbody>\n",
       "</table>\n",
       "</div>"
      ],
      "text/plain": [
       "   store_nbr  station_nbr\n",
       "0          1            1\n",
       "1          2           14\n",
       "2          3            7\n",
       "3          4            9\n",
       "4          5           12"
      ]
     },
     "execution_count": 5,
     "metadata": {},
     "output_type": "execute_result"
    }
   ],
   "source": [
    "print(key.shape)\n",
    "key.head()"
   ]
  },
  {
   "cell_type": "code",
   "execution_count": 6,
   "metadata": {},
   "outputs": [
    {
     "name": "stdout",
     "output_type": "stream",
     "text": [
      "(20517, 27)\n"
     ]
    },
    {
     "data": {
      "text/html": [
       "<div>\n",
       "<style scoped>\n",
       "    .dataframe tbody tr th:only-of-type {\n",
       "        vertical-align: middle;\n",
       "    }\n",
       "\n",
       "    .dataframe tbody tr th {\n",
       "        vertical-align: top;\n",
       "    }\n",
       "\n",
       "    .dataframe thead th {\n",
       "        text-align: right;\n",
       "    }\n",
       "</style>\n",
       "<table border=\"1\" class=\"dataframe\">\n",
       "  <thead>\n",
       "    <tr style=\"text-align: right;\">\n",
       "      <th></th>\n",
       "      <th>station_nbr</th>\n",
       "      <th>date</th>\n",
       "      <th>tmax</th>\n",
       "      <th>tmin</th>\n",
       "      <th>tavg</th>\n",
       "      <th>depart</th>\n",
       "      <th>dewpoint</th>\n",
       "      <th>wetbulb</th>\n",
       "      <th>heat</th>\n",
       "      <th>cool</th>\n",
       "      <th>...</th>\n",
       "      <th>sealevel</th>\n",
       "      <th>resultspeed</th>\n",
       "      <th>resultdir</th>\n",
       "      <th>avgspeed</th>\n",
       "      <th>codesum_2</th>\n",
       "      <th>year</th>\n",
       "      <th>monthday</th>\n",
       "      <th>days</th>\n",
       "      <th>dayofweek</th>\n",
       "      <th>is_holiday</th>\n",
       "    </tr>\n",
       "  </thead>\n",
       "  <tbody>\n",
       "    <tr>\n",
       "      <th>0</th>\n",
       "      <td>1</td>\n",
       "      <td>2012-01-01</td>\n",
       "      <td>52.0</td>\n",
       "      <td>31.0</td>\n",
       "      <td>42.0</td>\n",
       "      <td>0.0</td>\n",
       "      <td>36.0</td>\n",
       "      <td>40.0</td>\n",
       "      <td>23.0</td>\n",
       "      <td>0.0</td>\n",
       "      <td>...</td>\n",
       "      <td>29.92</td>\n",
       "      <td>3.6</td>\n",
       "      <td>20.0</td>\n",
       "      <td>4.6</td>\n",
       "      <td>FG,RA,BR</td>\n",
       "      <td>2012</td>\n",
       "      <td>['01', '01']</td>\n",
       "      <td>1</td>\n",
       "      <td>Sun</td>\n",
       "      <td>holiday</td>\n",
       "    </tr>\n",
       "    <tr>\n",
       "      <th>1</th>\n",
       "      <td>1</td>\n",
       "      <td>2012-01-02</td>\n",
       "      <td>50.0</td>\n",
       "      <td>31.0</td>\n",
       "      <td>41.0</td>\n",
       "      <td>0.0</td>\n",
       "      <td>26.0</td>\n",
       "      <td>35.0</td>\n",
       "      <td>24.0</td>\n",
       "      <td>0.0</td>\n",
       "      <td>...</td>\n",
       "      <td>29.62</td>\n",
       "      <td>9.8</td>\n",
       "      <td>24.0</td>\n",
       "      <td>10.3</td>\n",
       "      <td>RA</td>\n",
       "      <td>2012</td>\n",
       "      <td>['01', '02']</td>\n",
       "      <td>2</td>\n",
       "      <td>Mon</td>\n",
       "      <td>holiday_work</td>\n",
       "    </tr>\n",
       "    <tr>\n",
       "      <th>2</th>\n",
       "      <td>1</td>\n",
       "      <td>2012-01-03</td>\n",
       "      <td>32.0</td>\n",
       "      <td>11.0</td>\n",
       "      <td>22.0</td>\n",
       "      <td>0.0</td>\n",
       "      <td>4.0</td>\n",
       "      <td>18.0</td>\n",
       "      <td>43.0</td>\n",
       "      <td>0.0</td>\n",
       "      <td>...</td>\n",
       "      <td>29.87</td>\n",
       "      <td>10.8</td>\n",
       "      <td>31.0</td>\n",
       "      <td>11.6</td>\n",
       "      <td>MO</td>\n",
       "      <td>2012</td>\n",
       "      <td>['01', '03']</td>\n",
       "      <td>3</td>\n",
       "      <td>Tue</td>\n",
       "      <td>workday</td>\n",
       "    </tr>\n",
       "    <tr>\n",
       "      <th>3</th>\n",
       "      <td>1</td>\n",
       "      <td>2012-01-04</td>\n",
       "      <td>28.0</td>\n",
       "      <td>9.0</td>\n",
       "      <td>19.0</td>\n",
       "      <td>0.0</td>\n",
       "      <td>-1.0</td>\n",
       "      <td>14.0</td>\n",
       "      <td>46.0</td>\n",
       "      <td>0.0</td>\n",
       "      <td>...</td>\n",
       "      <td>30.03</td>\n",
       "      <td>6.3</td>\n",
       "      <td>27.0</td>\n",
       "      <td>8.3</td>\n",
       "      <td>MO</td>\n",
       "      <td>2012</td>\n",
       "      <td>['01', '04']</td>\n",
       "      <td>4</td>\n",
       "      <td>Wed</td>\n",
       "      <td>workday</td>\n",
       "    </tr>\n",
       "    <tr>\n",
       "      <th>4</th>\n",
       "      <td>1</td>\n",
       "      <td>2012-01-05</td>\n",
       "      <td>38.0</td>\n",
       "      <td>25.0</td>\n",
       "      <td>32.0</td>\n",
       "      <td>0.0</td>\n",
       "      <td>13.0</td>\n",
       "      <td>25.0</td>\n",
       "      <td>33.0</td>\n",
       "      <td>0.0</td>\n",
       "      <td>...</td>\n",
       "      <td>29.84</td>\n",
       "      <td>6.9</td>\n",
       "      <td>25.0</td>\n",
       "      <td>7.8</td>\n",
       "      <td>MO</td>\n",
       "      <td>2012</td>\n",
       "      <td>['01', '05']</td>\n",
       "      <td>5</td>\n",
       "      <td>Thi</td>\n",
       "      <td>workday</td>\n",
       "    </tr>\n",
       "  </tbody>\n",
       "</table>\n",
       "<p>5 rows × 27 columns</p>\n",
       "</div>"
      ],
      "text/plain": [
       "   station_nbr        date  tmax  tmin  tavg  depart  dewpoint  wetbulb  heat  \\\n",
       "0            1  2012-01-01  52.0  31.0  42.0     0.0      36.0     40.0  23.0   \n",
       "1            1  2012-01-02  50.0  31.0  41.0     0.0      26.0     35.0  24.0   \n",
       "2            1  2012-01-03  32.0  11.0  22.0     0.0       4.0     18.0  43.0   \n",
       "3            1  2012-01-04  28.0   9.0  19.0     0.0      -1.0     14.0  46.0   \n",
       "4            1  2012-01-05  38.0  25.0  32.0     0.0      13.0     25.0  33.0   \n",
       "\n",
       "   cool      ...       sealevel  resultspeed resultdir  avgspeed  codesum_2  \\\n",
       "0   0.0      ...          29.92          3.6      20.0       4.6   FG,RA,BR   \n",
       "1   0.0      ...          29.62          9.8      24.0      10.3         RA   \n",
       "2   0.0      ...          29.87         10.8      31.0      11.6         MO   \n",
       "3   0.0      ...          30.03          6.3      27.0       8.3         MO   \n",
       "4   0.0      ...          29.84          6.9      25.0       7.8         MO   \n",
       "\n",
       "   year      monthday  days  dayofweek    is_holiday  \n",
       "0  2012  ['01', '01']     1        Sun       holiday  \n",
       "1  2012  ['01', '02']     2        Mon  holiday_work  \n",
       "2  2012  ['01', '03']     3        Tue       workday  \n",
       "3  2012  ['01', '04']     4        Wed       workday  \n",
       "4  2012  ['01', '05']     5        Thi       workday  \n",
       "\n",
       "[5 rows x 27 columns]"
      ]
     },
     "execution_count": 6,
     "metadata": {},
     "output_type": "execute_result"
    }
   ],
   "source": [
    "print(weather.shape)\n",
    "weather.head()"
   ]
  },
  {
   "cell_type": "code",
   "execution_count": 7,
   "metadata": {},
   "outputs": [
    {
     "data": {
      "text/plain": [
       "Index(['station_nbr', 'date', 'tmax', 'tmin', 'tavg', 'depart', 'dewpoint',\n",
       "       'wetbulb', 'heat', 'cool', 'sunrise', 'sunset', 'codesum', 'codesum_YN',\n",
       "       'snowfall', 'preciptotal', 'stnpressure', 'sealevel', 'resultspeed',\n",
       "       'resultdir', 'avgspeed', 'codesum_2', 'year', 'monthday', 'days',\n",
       "       'dayofweek', 'is_holiday'],\n",
       "      dtype='object')"
      ]
     },
     "execution_count": 7,
     "metadata": {},
     "output_type": "execute_result"
    }
   ],
   "source": [
    "weather.columns"
   ]
  },
  {
   "cell_type": "code",
   "execution_count": 8,
   "metadata": {},
   "outputs": [],
   "source": [
    "sales = pd.merge(sales, key)"
   ]
  },
  {
   "cell_type": "code",
   "execution_count": 9,
   "metadata": {},
   "outputs": [],
   "source": [
    "df = pd.merge(sales, weather)"
   ]
  },
  {
   "cell_type": "code",
   "execution_count": 10,
   "metadata": {},
   "outputs": [
    {
     "name": "stdout",
     "output_type": "stream",
     "text": [
      "(4617600, 30)\n"
     ]
    },
    {
     "data": {
      "text/html": [
       "<div>\n",
       "<style scoped>\n",
       "    .dataframe tbody tr th:only-of-type {\n",
       "        vertical-align: middle;\n",
       "    }\n",
       "\n",
       "    .dataframe tbody tr th {\n",
       "        vertical-align: top;\n",
       "    }\n",
       "\n",
       "    .dataframe thead th {\n",
       "        text-align: right;\n",
       "    }\n",
       "</style>\n",
       "<table border=\"1\" class=\"dataframe\">\n",
       "  <thead>\n",
       "    <tr style=\"text-align: right;\">\n",
       "      <th></th>\n",
       "      <th>date</th>\n",
       "      <th>store_nbr</th>\n",
       "      <th>item_nbr</th>\n",
       "      <th>units</th>\n",
       "      <th>station_nbr</th>\n",
       "      <th>tmax</th>\n",
       "      <th>tmin</th>\n",
       "      <th>tavg</th>\n",
       "      <th>depart</th>\n",
       "      <th>dewpoint</th>\n",
       "      <th>...</th>\n",
       "      <th>sealevel</th>\n",
       "      <th>resultspeed</th>\n",
       "      <th>resultdir</th>\n",
       "      <th>avgspeed</th>\n",
       "      <th>codesum_2</th>\n",
       "      <th>year</th>\n",
       "      <th>monthday</th>\n",
       "      <th>days</th>\n",
       "      <th>dayofweek</th>\n",
       "      <th>is_holiday</th>\n",
       "    </tr>\n",
       "  </thead>\n",
       "  <tbody>\n",
       "    <tr>\n",
       "      <th>0</th>\n",
       "      <td>2012-01-01</td>\n",
       "      <td>1</td>\n",
       "      <td>1</td>\n",
       "      <td>0</td>\n",
       "      <td>1</td>\n",
       "      <td>52.0</td>\n",
       "      <td>31.0</td>\n",
       "      <td>42.0</td>\n",
       "      <td>0.0</td>\n",
       "      <td>36.0</td>\n",
       "      <td>...</td>\n",
       "      <td>29.92</td>\n",
       "      <td>3.6</td>\n",
       "      <td>20.0</td>\n",
       "      <td>4.6</td>\n",
       "      <td>FG,RA,BR</td>\n",
       "      <td>2012</td>\n",
       "      <td>['01', '01']</td>\n",
       "      <td>1</td>\n",
       "      <td>Sun</td>\n",
       "      <td>holiday</td>\n",
       "    </tr>\n",
       "    <tr>\n",
       "      <th>1</th>\n",
       "      <td>2012-01-01</td>\n",
       "      <td>1</td>\n",
       "      <td>2</td>\n",
       "      <td>0</td>\n",
       "      <td>1</td>\n",
       "      <td>52.0</td>\n",
       "      <td>31.0</td>\n",
       "      <td>42.0</td>\n",
       "      <td>0.0</td>\n",
       "      <td>36.0</td>\n",
       "      <td>...</td>\n",
       "      <td>29.92</td>\n",
       "      <td>3.6</td>\n",
       "      <td>20.0</td>\n",
       "      <td>4.6</td>\n",
       "      <td>FG,RA,BR</td>\n",
       "      <td>2012</td>\n",
       "      <td>['01', '01']</td>\n",
       "      <td>1</td>\n",
       "      <td>Sun</td>\n",
       "      <td>holiday</td>\n",
       "    </tr>\n",
       "    <tr>\n",
       "      <th>2</th>\n",
       "      <td>2012-01-01</td>\n",
       "      <td>1</td>\n",
       "      <td>3</td>\n",
       "      <td>0</td>\n",
       "      <td>1</td>\n",
       "      <td>52.0</td>\n",
       "      <td>31.0</td>\n",
       "      <td>42.0</td>\n",
       "      <td>0.0</td>\n",
       "      <td>36.0</td>\n",
       "      <td>...</td>\n",
       "      <td>29.92</td>\n",
       "      <td>3.6</td>\n",
       "      <td>20.0</td>\n",
       "      <td>4.6</td>\n",
       "      <td>FG,RA,BR</td>\n",
       "      <td>2012</td>\n",
       "      <td>['01', '01']</td>\n",
       "      <td>1</td>\n",
       "      <td>Sun</td>\n",
       "      <td>holiday</td>\n",
       "    </tr>\n",
       "    <tr>\n",
       "      <th>3</th>\n",
       "      <td>2012-01-01</td>\n",
       "      <td>1</td>\n",
       "      <td>4</td>\n",
       "      <td>0</td>\n",
       "      <td>1</td>\n",
       "      <td>52.0</td>\n",
       "      <td>31.0</td>\n",
       "      <td>42.0</td>\n",
       "      <td>0.0</td>\n",
       "      <td>36.0</td>\n",
       "      <td>...</td>\n",
       "      <td>29.92</td>\n",
       "      <td>3.6</td>\n",
       "      <td>20.0</td>\n",
       "      <td>4.6</td>\n",
       "      <td>FG,RA,BR</td>\n",
       "      <td>2012</td>\n",
       "      <td>['01', '01']</td>\n",
       "      <td>1</td>\n",
       "      <td>Sun</td>\n",
       "      <td>holiday</td>\n",
       "    </tr>\n",
       "    <tr>\n",
       "      <th>4</th>\n",
       "      <td>2012-01-01</td>\n",
       "      <td>1</td>\n",
       "      <td>5</td>\n",
       "      <td>0</td>\n",
       "      <td>1</td>\n",
       "      <td>52.0</td>\n",
       "      <td>31.0</td>\n",
       "      <td>42.0</td>\n",
       "      <td>0.0</td>\n",
       "      <td>36.0</td>\n",
       "      <td>...</td>\n",
       "      <td>29.92</td>\n",
       "      <td>3.6</td>\n",
       "      <td>20.0</td>\n",
       "      <td>4.6</td>\n",
       "      <td>FG,RA,BR</td>\n",
       "      <td>2012</td>\n",
       "      <td>['01', '01']</td>\n",
       "      <td>1</td>\n",
       "      <td>Sun</td>\n",
       "      <td>holiday</td>\n",
       "    </tr>\n",
       "  </tbody>\n",
       "</table>\n",
       "<p>5 rows × 30 columns</p>\n",
       "</div>"
      ],
      "text/plain": [
       "         date  store_nbr  item_nbr  units  station_nbr  tmax  tmin  tavg  \\\n",
       "0  2012-01-01          1         1      0            1  52.0  31.0  42.0   \n",
       "1  2012-01-01          1         2      0            1  52.0  31.0  42.0   \n",
       "2  2012-01-01          1         3      0            1  52.0  31.0  42.0   \n",
       "3  2012-01-01          1         4      0            1  52.0  31.0  42.0   \n",
       "4  2012-01-01          1         5      0            1  52.0  31.0  42.0   \n",
       "\n",
       "   depart  dewpoint     ...      sealevel  resultspeed  resultdir  avgspeed  \\\n",
       "0     0.0      36.0     ...         29.92          3.6       20.0       4.6   \n",
       "1     0.0      36.0     ...         29.92          3.6       20.0       4.6   \n",
       "2     0.0      36.0     ...         29.92          3.6       20.0       4.6   \n",
       "3     0.0      36.0     ...         29.92          3.6       20.0       4.6   \n",
       "4     0.0      36.0     ...         29.92          3.6       20.0       4.6   \n",
       "\n",
       "   codesum_2  year      monthday  days  dayofweek  is_holiday  \n",
       "0   FG,RA,BR  2012  ['01', '01']     1        Sun     holiday  \n",
       "1   FG,RA,BR  2012  ['01', '01']     1        Sun     holiday  \n",
       "2   FG,RA,BR  2012  ['01', '01']     1        Sun     holiday  \n",
       "3   FG,RA,BR  2012  ['01', '01']     1        Sun     holiday  \n",
       "4   FG,RA,BR  2012  ['01', '01']     1        Sun     holiday  \n",
       "\n",
       "[5 rows x 30 columns]"
      ]
     },
     "execution_count": 10,
     "metadata": {},
     "output_type": "execute_result"
    }
   ],
   "source": [
    "print(df.shape)\n",
    "df.head()"
   ]
  },
  {
   "cell_type": "code",
   "execution_count": 11,
   "metadata": {},
   "outputs": [],
   "source": [
    "df = pd.DataFrame(data=df, columns=['date', 'units', 'store_nbr', 'item_nbr', 'station_nbr', \n",
    "                                    'tmax', 'tmin', 'tavg', 'depart', 'dewpoint', 'wetbulb', \n",
    "                                    'heat', 'cool', 'sunrise', 'sunset', 'codesum', 'codesum_2', 'codesum_YN', \n",
    "                                    'snowfall', 'preciptotal', 'stnpressure', 'sealevel', 'resultspeed', 'resultdir', 'avgspeed',\n",
    "                                    'year', 'monthday', 'days', 'dayofweek', 'is_holiday'])"
   ]
  },
  {
   "cell_type": "markdown",
   "metadata": {},
   "source": [
    "### 판매가 이루어진 데이터로 한정"
   ]
  },
  {
   "cell_type": "code",
   "execution_count": 12,
   "metadata": {},
   "outputs": [],
   "source": [
    "df = df[df['units'] > 0].reset_index(drop=True)"
   ]
  },
  {
   "cell_type": "code",
   "execution_count": 13,
   "metadata": {},
   "outputs": [
    {
     "data": {
      "text/plain": [
       "(118696, 30)"
      ]
     },
     "execution_count": 13,
     "metadata": {},
     "output_type": "execute_result"
    }
   ],
   "source": [
    "df.shape"
   ]
  },
  {
   "cell_type": "markdown",
   "metadata": {},
   "source": [
    "### 날짜 데이터 encoding"
   ]
  },
  {
   "cell_type": "code",
   "execution_count": 14,
   "metadata": {},
   "outputs": [],
   "source": [
    "def make_year(date):\n",
    "    return int(date.split('-')[0])\n",
    "\n",
    "def make_month(date):\n",
    "    return int(date.split('-')[1])\n",
    "\n",
    "def make_day(date):\n",
    "    return int(date.split('-')[2])\n",
    "\n",
    "def make_monthday(date):\n",
    "    return (date.split('-')[1:3])\n",
    "\n",
    "def dayofweek_num(dayofweek):\n",
    "    if dayofweek == 'Mon':\n",
    "        return 1\n",
    "    elif dayofweek == 'Tue':\n",
    "        return 2\n",
    "    elif dayofweek == 'Wed':\n",
    "        return 3\n",
    "    elif dayofweek == 'Thi':\n",
    "        return 4\n",
    "    elif dayofweek == 'Fri':\n",
    "        return 5\n",
    "    elif dayofweek == 'Sat':\n",
    "        return 6\n",
    "    elif dayofweek == 'Sun':\n",
    "        return 7"
   ]
  },
  {
   "cell_type": "code",
   "execution_count": 15,
   "metadata": {},
   "outputs": [],
   "source": [
    "df['year'] = df['date'].apply(make_year)\n",
    "df['month'] = df['date'].apply(make_month)\n",
    "df['day'] = df['date'].apply(make_day)\n",
    "df['dayofweek'] = df['dayofweek'].apply(dayofweek_num)\n",
    "df['dayofweek'] = df['dayofweek'].astype(int)"
   ]
  },
  {
   "cell_type": "markdown",
   "metadata": {},
   "source": [
    "# OLS 모델 생성 카테고리형 독립변수만 고려"
   ]
  },
  {
   "cell_type": "code",
   "execution_count": 16,
   "metadata": {},
   "outputs": [],
   "source": [
    "df_test = df"
   ]
  },
  {
   "cell_type": "code",
   "execution_count": 17,
   "metadata": {},
   "outputs": [
    {
     "data": {
      "text/plain": [
       "Index(['date', 'units', 'store_nbr', 'item_nbr', 'station_nbr', 'tmax', 'tmin',\n",
       "       'tavg', 'depart', 'dewpoint', 'wetbulb', 'heat', 'cool', 'sunrise',\n",
       "       'sunset', 'codesum', 'codesum_2', 'codesum_YN', 'snowfall',\n",
       "       'preciptotal', 'stnpressure', 'sealevel', 'resultspeed', 'resultdir',\n",
       "       'avgspeed', 'year', 'monthday', 'days', 'dayofweek', 'is_holiday',\n",
       "       'month', 'day'],\n",
       "      dtype='object')"
      ]
     },
     "execution_count": 17,
     "metadata": {},
     "output_type": "execute_result"
    }
   ],
   "source": [
    "df_test.columns"
   ]
  },
  {
   "cell_type": "code",
   "execution_count": 19,
   "metadata": {},
   "outputs": [
    {
     "name": "stdout",
     "output_type": "stream",
     "text": [
      "                            OLS Regression Results                            \n",
      "==============================================================================\n",
      "Dep. Variable:                  units   R-squared:                       0.595\n",
      "Model:                            OLS   Adj. R-squared:                  0.595\n",
      "Method:                 Least Squares   F-statistic:                     1089.\n",
      "Date:                Wed, 14 Mar 2018   Prob (F-statistic):               0.00\n",
      "Time:                        02:22:15   Log-Likelihood:            -5.7563e+05\n",
      "No. Observations:              118696   AIC:                         1.152e+06\n",
      "Df Residuals:                  118535   BIC:                         1.153e+06\n",
      "Df Model:                         160                                         \n",
      "Covariance Type:            nonrobust                                         \n",
      "======================================================================================\n",
      "                         coef    std err          t      P>|t|      [0.025      0.975]\n",
      "--------------------------------------------------------------------------------------\n",
      "Intercept             19.1112      2.140      8.930      0.000      14.917      23.306\n",
      "C(item_nbr)[T.2]     -24.9054      2.260    -11.021      0.000     -29.335     -20.476\n",
      "C(item_nbr)[T.3]     -50.9616      2.860    -17.820      0.000     -56.567     -45.356\n",
      "C(item_nbr)[T.4]       0.9711      3.149      0.308      0.758      -5.201       7.144\n",
      "C(item_nbr)[T.5]      16.2047      1.976      8.203      0.000      12.333      20.077\n",
      "C(item_nbr)[T.6]     -60.1603      4.905    -12.266      0.000     -69.773     -50.547\n",
      "C(item_nbr)[T.7]     -45.8527      2.714    -16.894      0.000     -51.172     -40.533\n",
      "C(item_nbr)[T.8]      -2.6330      2.372     -1.110      0.267      -7.282       2.016\n",
      "C(item_nbr)[T.9]      19.3678      1.942      9.974      0.000      15.562      23.174\n",
      "C(item_nbr)[T.10]    -33.8994      2.673    -12.682      0.000     -39.138     -28.660\n",
      "C(item_nbr)[T.11]    -49.0596      2.706    -18.132      0.000     -54.363     -43.757\n",
      "C(item_nbr)[T.12]    -58.5647      2.666    -21.965      0.000     -63.791     -53.339\n",
      "C(item_nbr)[T.13]    -62.8889      2.895    -21.722      0.000     -68.563     -57.214\n",
      "C(item_nbr)[T.14]    -33.1020      3.205    -10.330      0.000     -39.383     -26.821\n",
      "C(item_nbr)[T.15]    -23.8196      2.324    -10.250      0.000     -28.375     -19.265\n",
      "C(item_nbr)[T.16]    -18.2761      2.025     -9.024      0.000     -22.246     -14.307\n",
      "C(item_nbr)[T.17]    -48.6923      2.590    -18.799      0.000     -53.769     -43.616\n",
      "C(item_nbr)[T.18]    -54.0472      2.694    -20.065      0.000     -59.326     -48.768\n",
      "C(item_nbr)[T.19]    -21.4830      2.594     -8.282      0.000     -26.567     -16.399\n",
      "C(item_nbr)[T.20]    -42.0428      2.530    -16.614      0.000     -47.003     -37.083\n",
      "C(item_nbr)[T.21]    -34.4629      2.261    -15.241      0.000     -38.895     -30.031\n",
      "C(item_nbr)[T.22]      1.4006      4.016      0.349      0.727      -6.471       9.273\n",
      "C(item_nbr)[T.23]    -18.4374      2.195     -8.398      0.000     -22.740     -14.135\n",
      "C(item_nbr)[T.24]    -31.9320      2.882    -11.081      0.000     -37.580     -26.284\n",
      "C(item_nbr)[T.25]     56.4846      2.186     25.839      0.000      52.200      60.769\n",
      "C(item_nbr)[T.26]      3.3699      2.429      1.388      0.165      -1.390       8.130\n",
      "C(item_nbr)[T.27]    -85.1679      2.381    -35.767      0.000     -89.835     -80.501\n",
      "C(item_nbr)[T.28]    -12.7054      2.365     -5.372      0.000     -17.341      -8.070\n",
      "C(item_nbr)[T.29]    -10.4864      2.520     -4.161      0.000     -15.426      -5.547\n",
      "C(item_nbr)[T.30]     -0.6758      2.174     -0.311      0.756      -4.937       3.586\n",
      "C(item_nbr)[T.31]    -47.8781      2.677    -17.884      0.000     -53.125     -42.631\n",
      "C(item_nbr)[T.32]    -42.3802      2.784    -15.221      0.000     -47.837     -36.923\n",
      "C(item_nbr)[T.33]     15.2107      2.933      5.186      0.000       9.462      20.960\n",
      "C(item_nbr)[T.34]      1.5103      4.774      0.316      0.752      -7.846      10.867\n",
      "C(item_nbr)[T.35]    -19.4249      2.640     -7.357      0.000     -24.600     -14.250\n",
      "C(item_nbr)[T.36]     24.7817      2.187     11.331      0.000      20.495      29.068\n",
      "C(item_nbr)[T.37]    -31.9924      2.037    -15.709      0.000     -35.984     -28.001\n",
      "C(item_nbr)[T.38]    -20.7429      2.725     -7.612      0.000     -26.084     -15.402\n",
      "C(item_nbr)[T.39]    -50.1508      3.229    -15.531      0.000     -56.480     -43.822\n",
      "C(item_nbr)[T.40]    -16.6408      3.594     -4.630      0.000     -23.686      -9.596\n",
      "C(item_nbr)[T.41]    -19.7650      2.201     -8.981      0.000     -24.079     -15.451\n",
      "C(item_nbr)[T.42]    -27.0858      2.504    -10.816      0.000     -31.994     -22.177\n",
      "C(item_nbr)[T.43]    -54.7716      4.905    -11.167      0.000     -64.385     -45.159\n",
      "C(item_nbr)[T.44]     80.4399      1.942     41.423      0.000      76.634      84.246\n",
      "C(item_nbr)[T.45]     30.7188      1.976     15.543      0.000      26.845      34.592\n",
      "C(item_nbr)[T.46]    -52.0209      2.835    -18.346      0.000     -57.578     -46.463\n",
      "C(item_nbr)[T.47]     -9.8292      2.780     -3.535      0.000     -15.279      -4.380\n",
      "C(item_nbr)[T.48]     47.3438      2.516     18.820      0.000      42.413      52.274\n",
      "C(item_nbr)[T.49]    -49.1376      2.901    -16.939      0.000     -54.823     -43.452\n",
      "C(item_nbr)[T.50]    -29.2424      2.375    -12.312      0.000     -33.898     -24.587\n",
      "C(item_nbr)[T.51]    -26.2741      2.372    -11.078      0.000     -30.923     -21.626\n",
      "C(item_nbr)[T.52]    -50.1366      2.230    -22.487      0.000     -54.507     -45.767\n",
      "C(item_nbr)[T.53]    -27.0951      2.679    -10.114      0.000     -32.346     -21.844\n",
      "C(item_nbr)[T.54]    -30.2803      2.699    -11.218      0.000     -35.571     -24.990\n",
      "C(item_nbr)[T.55]    -30.6055      2.598    -11.780      0.000     -35.698     -25.514\n",
      "C(item_nbr)[T.56]    -19.0492      2.397     -7.947      0.000     -23.747     -14.351\n",
      "C(item_nbr)[T.57]    -21.1924      2.904     -7.297      0.000     -26.885     -15.500\n",
      "C(item_nbr)[T.58]    -20.0336      2.643     -7.581      0.000     -25.213     -14.854\n",
      "C(item_nbr)[T.59]    -25.4115      2.520    -10.086      0.000     -30.350     -20.473\n",
      "C(item_nbr)[T.60]   -102.1500      5.009    -20.395      0.000    -111.967     -92.333\n",
      "C(item_nbr)[T.61]    -39.0725      2.232    -17.509      0.000     -43.446     -34.699\n",
      "C(item_nbr)[T.62]    -31.8973      2.766    -11.533      0.000     -37.318     -26.477\n",
      "C(item_nbr)[T.63]    -35.5984      2.833    -12.566      0.000     -41.151     -30.046\n",
      "C(item_nbr)[T.64]    -68.5989      3.023    -22.694      0.000     -74.523     -62.674\n",
      "C(item_nbr)[T.65]    -64.7476      2.648    -24.454      0.000     -69.937     -59.558\n",
      "C(item_nbr)[T.66]    -25.0905      2.441    -10.279      0.000     -29.875     -20.306\n",
      "C(item_nbr)[T.67]    -32.0969      2.413    -13.304      0.000     -36.826     -27.368\n",
      "C(item_nbr)[T.68]      6.3818      2.035      3.136      0.002       2.394      10.370\n",
      "C(item_nbr)[T.69]    -35.8927      2.637    -13.613      0.000     -41.060     -30.725\n",
      "C(item_nbr)[T.70]     16.2643      3.051      5.331      0.000      10.285      22.244\n",
      "C(item_nbr)[T.71]   -109.6847      2.814    -38.985      0.000    -115.199    -104.170\n",
      "C(item_nbr)[T.72]    -21.9471      2.654     -8.269      0.000     -27.149     -16.745\n",
      "C(item_nbr)[T.73]    -52.0653      2.775    -18.760      0.000     -57.505     -46.626\n",
      "C(item_nbr)[T.74]    -52.4089      2.783    -18.831      0.000     -57.864     -46.954\n",
      "C(item_nbr)[T.75]    -36.3579      2.955    -12.305      0.000     -42.149     -30.567\n",
      "C(item_nbr)[T.76]   -101.9014      5.310    -19.190      0.000    -112.309     -91.494\n",
      "C(item_nbr)[T.77]    -68.3978      2.851    -23.988      0.000     -73.986     -62.809\n",
      "C(item_nbr)[T.78]    -28.3406      2.970     -9.543      0.000     -34.161     -22.520\n",
      "C(item_nbr)[T.79]    -48.4045      2.759    -17.542      0.000     -53.813     -42.996\n",
      "C(item_nbr)[T.80]    -25.5559      2.863     -8.925      0.000     -31.168     -19.944\n",
      "C(item_nbr)[T.81]    -47.2257      2.602    -18.149      0.000     -52.326     -42.126\n",
      "C(item_nbr)[T.82]    -27.6793      2.770     -9.993      0.000     -33.108     -22.250\n",
      "C(item_nbr)[T.83]    -27.9037      2.423    -11.515      0.000     -32.653     -23.154\n",
      "C(item_nbr)[T.84]    -41.8908      3.180    -13.174      0.000     -48.123     -35.658\n",
      "C(item_nbr)[T.85]    -71.9104      3.110    -23.119      0.000     -78.007     -65.814\n",
      "C(item_nbr)[T.86]    -38.4439      2.421    -15.881      0.000     -43.189     -33.699\n",
      "C(item_nbr)[T.87]    -26.0897      2.556    -10.206      0.000     -31.100     -21.080\n",
      "C(item_nbr)[T.88]    -17.7276      3.429     -5.170      0.000     -24.449     -11.007\n",
      "C(item_nbr)[T.89]    -16.4876      4.137     -3.986      0.000     -24.596      -8.380\n",
      "C(item_nbr)[T.90]    -95.0763      2.531    -37.561      0.000    -100.037     -90.115\n",
      "C(item_nbr)[T.91]    -13.6179      2.701     -5.041      0.000     -18.912      -8.323\n",
      "C(item_nbr)[T.92]   -103.0017      2.681    -38.425      0.000    -108.256     -97.748\n",
      "C(item_nbr)[T.93]    -36.3965      2.001    -18.191      0.000     -40.318     -32.475\n",
      "C(item_nbr)[T.94]    -31.5431      2.556    -12.339      0.000     -36.553     -26.533\n",
      "C(item_nbr)[T.95]     -4.7109      2.647     -1.780      0.075      -9.899       0.477\n",
      "C(item_nbr)[T.96]    -91.8909      3.811    -24.114      0.000     -99.360     -84.422\n",
      "C(item_nbr)[T.97]    -90.9991      3.633    -25.045      0.000     -98.121     -83.878\n",
      "C(item_nbr)[T.98]    -46.8924      2.354    -19.918      0.000     -51.507     -42.278\n",
      "C(item_nbr)[T.99]    -16.1613      3.088     -5.233      0.000     -22.215     -10.108\n",
      "C(item_nbr)[T.100]   -24.8125      2.846     -8.720      0.000     -30.390     -19.235\n",
      "C(item_nbr)[T.101]   -95.5203      2.980    -32.059      0.000    -101.360     -89.681\n",
      "C(item_nbr)[T.102]   -38.6453      6.640     -5.820      0.000     -51.661     -25.630\n",
      "C(item_nbr)[T.103]    16.0913      3.354      4.798      0.000       9.518      22.664\n",
      "C(item_nbr)[T.104]   -32.3078      2.715    -11.899      0.000     -37.630     -26.986\n",
      "C(item_nbr)[T.105]   -35.1371      2.599    -13.522      0.000     -40.230     -30.044\n",
      "C(item_nbr)[T.106]   -38.3749      4.192     -9.154      0.000     -46.591     -30.159\n",
      "C(item_nbr)[T.107]   -32.5921      2.992    -10.894      0.000     -38.456     -26.729\n",
      "C(item_nbr)[T.108]   -34.5395      2.782    -12.415      0.000     -39.992     -29.087\n",
      "C(item_nbr)[T.109]   -21.2385      2.357     -9.010      0.000     -25.859     -16.618\n",
      "C(item_nbr)[T.110]   -17.8903      3.351     -5.339      0.000     -24.458     -11.323\n",
      "C(item_nbr)[T.111]    17.5096      4.251      4.119      0.000       9.177      25.842\n",
      "C(store_nbr)[T.2]     32.2386      1.201     26.851      0.000      29.885      34.592\n",
      "C(store_nbr)[T.3]     22.3333      1.151     19.395      0.000      20.076      24.590\n",
      "C(store_nbr)[T.4]     78.7532      1.297     60.740      0.000      76.212      81.294\n",
      "C(store_nbr)[T.5]     25.7862      1.227     21.010      0.000      23.381      28.192\n",
      "C(store_nbr)[T.6]     16.9625      1.167     14.540      0.000      14.676      19.249\n",
      "C(store_nbr)[T.7]     29.2389      1.271     23.001      0.000      26.747      31.730\n",
      "C(store_nbr)[T.8]      8.7454      1.255      6.966      0.000       6.285      11.206\n",
      "C(store_nbr)[T.9]     17.7142      1.167     15.184      0.000      15.428      20.001\n",
      "C(store_nbr)[T.10]    29.6925      1.160     25.594      0.000      27.419      31.966\n",
      "C(store_nbr)[T.11]     9.9713      1.153      8.646      0.000       7.711      12.232\n",
      "C(store_nbr)[T.12]    32.2704      1.216     26.549      0.000      29.888      34.653\n",
      "C(store_nbr)[T.13]    36.5183      1.240     29.444      0.000      34.087      38.949\n",
      "C(store_nbr)[T.14]   -31.9268      1.209    -26.415      0.000     -34.296     -29.558\n",
      "C(store_nbr)[T.15]    31.6795      1.116     28.379      0.000      29.492      33.867\n",
      "C(store_nbr)[T.16]    53.3533      1.275     41.852      0.000      50.855      55.852\n",
      "C(store_nbr)[T.17]    92.1112      1.178     78.223      0.000      89.803      94.419\n",
      "C(store_nbr)[T.18]     4.8648      1.218      3.992      0.000       2.477       7.253\n",
      "C(store_nbr)[T.19]    19.4366      1.358     14.309      0.000      16.774      22.099\n",
      "C(store_nbr)[T.20]    36.8311      1.276     28.861      0.000      34.330      39.332\n",
      "C(store_nbr)[T.21]    -2.9514      1.203     -2.454      0.014      -5.308      -0.594\n",
      "C(store_nbr)[T.22]    13.8533      1.145     12.098      0.000      11.609      16.098\n",
      "C(store_nbr)[T.23]    -6.3550      1.181     -5.381      0.000      -8.670      -4.040\n",
      "C(store_nbr)[T.24]    85.3560      4.480     19.052      0.000      76.575      94.137\n",
      "C(store_nbr)[T.25]    41.7060      1.106     37.721      0.000      39.539      43.873\n",
      "C(store_nbr)[T.26]     6.5769      1.173      5.607      0.000       4.278       8.876\n",
      "C(store_nbr)[T.27]     8.2927      1.128      7.349      0.000       6.081      10.504\n",
      "C(store_nbr)[T.28]     3.2571      1.188      2.742      0.006       0.929       5.585\n",
      "C(store_nbr)[T.29]    17.9887      1.272     14.138      0.000      15.495      20.482\n",
      "C(store_nbr)[T.30]    47.4718      1.227     38.681      0.000      45.066      49.877\n",
      "C(store_nbr)[T.31]    25.4512      1.113     22.871      0.000      23.270      27.632\n",
      "C(store_nbr)[T.32]     4.2575      1.084      3.926      0.000       2.132       6.383\n",
      "C(store_nbr)[T.33]    87.2246      1.165     74.872      0.000      84.941      89.508\n",
      "C(store_nbr)[T.34]    30.8294      1.111     27.745      0.000      28.652      33.007\n",
      "C(store_nbr)[T.35]    22.7825      1.378     16.533      0.000      20.082      25.483\n",
      "C(store_nbr)[T.36]   -16.0219      1.174    -13.649      0.000     -18.323     -13.721\n",
      "C(store_nbr)[T.37]     8.7981      1.152      7.637      0.000       6.540      11.056\n",
      "C(store_nbr)[T.38]    37.6209      1.110     33.900      0.000      35.446      39.796\n",
      "C(store_nbr)[T.39]   -32.1728      1.280    -25.136      0.000     -34.682     -29.664\n",
      "C(store_nbr)[T.40]    13.7042      1.126     12.170      0.000      11.497      15.911\n",
      "C(store_nbr)[T.41]    23.6995      1.173     20.203      0.000      21.400      25.999\n",
      "C(store_nbr)[T.42]    11.1562      1.212      9.208      0.000       8.782      13.531\n",
      "C(store_nbr)[T.43]    35.0470      1.240     28.255      0.000      32.616      37.478\n",
      "C(store_nbr)[T.44]    15.1822      1.184     12.826      0.000      12.862      17.502\n",
      "C(store_nbr)[T.45]   -17.4160      1.330    -13.093      0.000     -20.023     -14.809\n",
      "C(dayofweek)[T.2]     -4.4613      0.338    -13.186      0.000      -5.124      -3.798\n",
      "C(dayofweek)[T.3]     -6.2211      0.338    -18.384      0.000      -6.884      -5.558\n",
      "C(dayofweek)[T.4]     -6.5388      0.337    -19.375      0.000      -7.200      -5.877\n",
      "C(dayofweek)[T.5]     -3.1635      0.335     -9.438      0.000      -3.821      -2.507\n",
      "C(dayofweek)[T.6]      4.0631      0.334     12.174      0.000       3.409       4.717\n",
      "C(dayofweek)[T.7]      8.9469      0.334     26.764      0.000       8.292       9.602\n",
      "==============================================================================\n",
      "Omnibus:                   399343.282   Durbin-Watson:                   1.885\n",
      "Prob(Omnibus):                  0.000   Jarque-Bera (JB):     474006626650.200\n",
      "Skew:                          59.808   Prob(JB):                         0.00\n",
      "Kurtosis:                    9792.204   Cond. No.                         254.\n",
      "==============================================================================\n",
      "\n",
      "Warnings:\n",
      "[1] Standard Errors assume that the covariance matrix of the errors is correctly specified.\n"
     ]
    }
   ],
   "source": [
    "model_1 = sm.OLS.from_formula('units ~ 'tmax', 'tmin',\n",
    "       'tavg', 'depart', 'dewpoint', 'wetbulb', 'heat', 'cool', 'sunrise',\n",
    "       'sunset', 'codesum', 'codesum_2', 'codesum_YN', 'snowfall',\n",
    "       'preciptotal', 'stnpressure', 'sealevel', 'resultspeed', 'resultdir',\n",
    "       'avgspeed', 'year', 'monthday', 'days', 'dayofweek', 'is_holiday',\n",
    "       'month', 'day'', data=df_test)\n",
    "result_1 = model_1.fit()\n",
    "print(result_1.summary())"
   ]
  },
  {
   "cell_type": "code",
   "execution_count": null,
   "metadata": {},
   "outputs": [],
   "source": [
    "sp.stats.probplot(result_1.resid, plot=plt)\n",
    "plt.show()\n",
    "\n",
    "test = sms.omni_normtest(result_1.resid)\n",
    "for xi in zip(['Chi^2', 'P-value'], test):\n",
    "    print(\"%-12s: %6.3f\" % xi)"
   ]
  },
  {
   "cell_type": "markdown",
   "metadata": {},
   "source": [
    "# Outlier 제거"
   ]
  },
  {
   "cell_type": "code",
   "execution_count": null,
   "metadata": {},
   "outputs": [],
   "source": [
    "# 1차\n",
    "res = result_1.resid_pearson\n",
    "index = result_1.resid.index\n",
    "outlier_index = abs(res) >= 2\n",
    "\n",
    "row = pd.Series(index=index, data=res)\n",
    "drop_index = row[outlier_index].index"
   ]
  },
  {
   "cell_type": "code",
   "execution_count": null,
   "metadata": {},
   "outputs": [],
   "source": [
    "df_test.drop(list(drop_index),inplace=True)"
   ]
  },
  {
   "cell_type": "code",
   "execution_count": null,
   "metadata": {},
   "outputs": [],
   "source": [
    "model_1 = sm.OLS.from_formula('units ~ C(item_nbr) + C(store_nbr) + C(dayofweek)', data=df_test)\n",
    "result_1 = model_1.fit()\n",
    "print(result_1.summary())"
   ]
  },
  {
   "cell_type": "code",
   "execution_count": null,
   "metadata": {},
   "outputs": [],
   "source": [
    "sp.stats.probplot(result_1.resid, plot=plt)\n",
    "plt.show()\n",
    "\n",
    "test = sms.omni_normtest(result_1.resid)\n",
    "for xi in zip(['Chi^2', 'P-value'], test):\n",
    "    print(\"%-12s: %6.3f\" % xi)"
   ]
  },
  {
   "cell_type": "code",
   "execution_count": null,
   "metadata": {},
   "outputs": [],
   "source": [
    "# 2차\n",
    "res = result_1.resid_pearson\n",
    "index = result_1.resid.index\n",
    "outlier_index = abs(res) >= 2\n",
    "\n",
    "row = pd.Series(index=index, data=res)\n",
    "drop_index = row[outlier_index].index"
   ]
  },
  {
   "cell_type": "code",
   "execution_count": null,
   "metadata": {},
   "outputs": [],
   "source": [
    "df_test.drop(list(drop_index),inplace=True)"
   ]
  },
  {
   "cell_type": "code",
   "execution_count": null,
   "metadata": {},
   "outputs": [],
   "source": [
    "model_1 = sm.OLS.from_formula('units ~ C(item_nbr) + C(store_nbr) + C(dayofweek)', data=df_test)\n",
    "result_1 = model_1.fit()\n",
    "print(result_1.summary())"
   ]
  },
  {
   "cell_type": "code",
   "execution_count": null,
   "metadata": {},
   "outputs": [],
   "source": [
    "sp.stats.probplot(result_1.resid, plot=plt)\n",
    "plt.show()\n",
    "\n",
    "test = sms.omni_normtest(result_1.resid)\n",
    "for xi in zip(['Chi^2', 'P-value'], test):\n",
    "    print(\"%-12s: %6.3f\" % xi)"
   ]
  },
  {
   "cell_type": "code",
   "execution_count": null,
   "metadata": {},
   "outputs": [],
   "source": [
    "# 3차\n",
    "res = result_1.resid_pearson\n",
    "index = result_1.resid.index\n",
    "outlier_index = abs(res) >= 2\n",
    "\n",
    "row = pd.Series(index=index, data=res)\n",
    "drop_index = row[outlier_index].index"
   ]
  },
  {
   "cell_type": "code",
   "execution_count": null,
   "metadata": {},
   "outputs": [],
   "source": [
    "df_test.drop(list(drop_index),inplace=True)"
   ]
  },
  {
   "cell_type": "code",
   "execution_count": null,
   "metadata": {},
   "outputs": [],
   "source": [
    "model_1 = sm.OLS.from_formula('units ~ C(item_nbr) + C(store_nbr) + C(dayofweek)', data=df_test)\n",
    "result_1 = model_1.fit()\n",
    "print(result_1.summary())"
   ]
  },
  {
   "cell_type": "code",
   "execution_count": null,
   "metadata": {},
   "outputs": [],
   "source": [
    "sp.stats.probplot(result_1.resid, plot=plt)\n",
    "plt.show()\n",
    "\n",
    "test = sms.omni_normtest(result_1.resid)\n",
    "for xi in zip(['Chi^2', 'P-value'], test):\n",
    "    print(\"%-12s: %6.3f\" % xi)"
   ]
  },
  {
   "cell_type": "code",
   "execution_count": null,
   "metadata": {},
   "outputs": [],
   "source": [
    "# 4차\n",
    "res = result_1.resid_pearson\n",
    "index = result_1.resid.index\n",
    "outlier_index = abs(res) >= 2\n",
    "\n",
    "row = pd.Series(index=index, data=res)\n",
    "drop_index = row[outlier_index].index"
   ]
  },
  {
   "cell_type": "code",
   "execution_count": null,
   "metadata": {},
   "outputs": [],
   "source": [
    "df_test.drop(list(drop_index),inplace=True)"
   ]
  },
  {
   "cell_type": "code",
   "execution_count": null,
   "metadata": {},
   "outputs": [],
   "source": [
    "model_1 = sm.OLS.from_formula('units ~ C(item_nbr) + C(store_nbr) + C(dayofweek)', data=df_test)\n",
    "result_1 = model_1.fit()\n",
    "print(result_1.summary())"
   ]
  },
  {
   "cell_type": "code",
   "execution_count": null,
   "metadata": {},
   "outputs": [],
   "source": [
    "sp.stats.probplot(result_1.resid, plot=plt)\n",
    "plt.show()\n",
    "\n",
    "test = sms.omni_normtest(result_1.resid)\n",
    "for xi in zip(['Chi^2', 'P-value'], test):\n",
    "    print(\"%-12s: %6.3f\" % xi)"
   ]
  },
  {
   "cell_type": "code",
   "execution_count": null,
   "metadata": {},
   "outputs": [],
   "source": [
    "# 5차\n",
    "res = result_1.resid_pearson\n",
    "index = result_1.resid.index\n",
    "outlier_index = abs(res) >= 2\n",
    "\n",
    "row = pd.Series(index=index, data=res)\n",
    "drop_index = row[outlier_index].index"
   ]
  },
  {
   "cell_type": "code",
   "execution_count": null,
   "metadata": {},
   "outputs": [],
   "source": [
    "df_test.drop(list(drop_index),inplace=True)"
   ]
  },
  {
   "cell_type": "code",
   "execution_count": null,
   "metadata": {},
   "outputs": [],
   "source": [
    "model_1 = sm.OLS.from_formula('units ~ C(item_nbr) + C(store_nbr) + C(dayofweek)', data=df_test)\n",
    "result_1 = model_1.fit()\n",
    "print(result_1.summary())"
   ]
  },
  {
   "cell_type": "code",
   "execution_count": null,
   "metadata": {},
   "outputs": [],
   "source": [
    "sp.stats.probplot(result_1.resid, plot=plt)\n",
    "plt.show()\n",
    "\n",
    "test = sms.omni_normtest(result_1.resid)\n",
    "for xi in zip(['Chi^2', 'P-value'], test):\n",
    "    print(\"%-12s: %6.3f\" % xi)"
   ]
  },
  {
   "cell_type": "code",
   "execution_count": null,
   "metadata": {},
   "outputs": [],
   "source": [
    "# 6차 제거\n",
    "res = result_1.resid_pearson\n",
    "index = result_1.resid.index\n",
    "outlier_index = abs(res) >= 2\n",
    "\n",
    "row = pd.Series(index=index, data=res)\n",
    "drop_index = row[outlier_index].index"
   ]
  },
  {
   "cell_type": "code",
   "execution_count": null,
   "metadata": {},
   "outputs": [],
   "source": [
    "df_test.drop(list(drop_index),inplace=True)"
   ]
  },
  {
   "cell_type": "code",
   "execution_count": null,
   "metadata": {},
   "outputs": [],
   "source": [
    "model_1 = sm.OLS.from_formula('units ~ C(item_nbr) + C(store_nbr) + C(dayofweek)', data=df_test)\n",
    "result_1 = model_1.fit()\n",
    "print(result_1.summary())"
   ]
  },
  {
   "cell_type": "code",
   "execution_count": null,
   "metadata": {},
   "outputs": [],
   "source": [
    "sp.stats.probplot(result_1.resid, plot=plt)\n",
    "plt.show()\n",
    "\n",
    "test = sms.omni_normtest(result_1.resid)\n",
    "for xi in zip(['Chi^2', 'P-value'], test):\n",
    "    print(\"%-12s: %6.3f\" % xi)"
   ]
  },
  {
   "cell_type": "code",
   "execution_count": null,
   "metadata": {},
   "outputs": [],
   "source": []
  },
  {
   "cell_type": "code",
   "execution_count": null,
   "metadata": {},
   "outputs": [],
   "source": []
  },
  {
   "cell_type": "code",
   "execution_count": null,
   "metadata": {},
   "outputs": [],
   "source": []
  },
  {
   "cell_type": "code",
   "execution_count": null,
   "metadata": {},
   "outputs": [],
   "source": []
  },
  {
   "cell_type": "code",
   "execution_count": null,
   "metadata": {},
   "outputs": [],
   "source": []
  },
  {
   "cell_type": "code",
   "execution_count": null,
   "metadata": {},
   "outputs": [],
   "source": []
  },
  {
   "cell_type": "markdown",
   "metadata": {},
   "source": [
    "# 정규화 (sci-kit learn)"
   ]
  },
  {
   "cell_type": "code",
   "execution_count": null,
   "metadata": {},
   "outputs": [],
   "source": [
    "from sklearn.datasets import make_regression\n",
    "from patsy import dmatrices\n",
    "from sklearn.model_selection import cross_val_score\n",
    "from sklearn.linear_model import LinearRegression, Ridge, Lasso, ElasticNet"
   ]
  },
  {
   "cell_type": "code",
   "execution_count": null,
   "metadata": {},
   "outputs": [],
   "source": [
    "# patsy를 통한 formula 생성\n",
    "y, X = dmatrices( \"np.log(units) ~ C(item_nbr) + C(store_nbr) + C(dayofweek)\", df_test , return_type = 'dataframe' )"
   ]
  },
  {
   "cell_type": "code",
   "execution_count": null,
   "metadata": {},
   "outputs": [],
   "source": [
    "# y, X, Linear Regression, Ridge, Lasso, ElasticNet\n",
    "model_LR = LinearRegression().fit(X, y)\n",
    "model_ridge = Ridge(alpha=0.5).fit(X, y)\n",
    "model_lasso = Lasso(alpha=0.5).fit(X, y)\n",
    "model_EN = ElasticNet(alpha=0.5).fit(X, y)"
   ]
  },
  {
   "cell_type": "code",
   "execution_count": null,
   "metadata": {},
   "outputs": [],
   "source": [
    "from sklearn.model_selection import KFold\n",
    "\n",
    "cv = KFold(10, shuffle=True)\n",
    "#cross_val_score(model1_LR, X, y, scoring=\"r2\", cv=cv)\n",
    "print('[Original LR]')\n",
    "print('score : ', cross_val_score(model_LR, X, y, scoring=\"r2\", cv=cv),'\\n',\n",
    "      'mean : ', np.mean(cross_val_score(model_LR, X, y, scoring=\"r2\", cv=cv)),'\\n')\n",
    "\n",
    "print('[Ridge]')\n",
    "print('score : ', cross_val_score(model_ridge, X, y, scoring=\"r2\", cv=cv),'\\n',\n",
    "      'mean : ', np.mean(cross_val_score(model_ridge, X, y, scoring=\"r2\", cv=cv)),'\\n')\n",
    "      #'std : ', np.std(cross_val_score(model1_ridge, X, y, scoring=\"r2\", cv=cv)))\n",
    "\n",
    "print('\\n[Lasso]')\n",
    "print('score : ', cross_val_score(model_lasso, X, y, scoring=\"r2\", cv=cv),'\\n',\n",
    "      'mean : ', np.mean(cross_val_score(model_lasso, X, y, scoring=\"r2\", cv=cv)),'\\n')\n",
    "      #'std : ', np.std(cross_val_score(model1_lasso, X, y, scoring=\"r2\", cv=cv)))\n",
    "\n",
    "print('\\n[Elastic-net]')\n",
    "print('score : ', cross_val_score(model_EN, X, y, scoring=\"r2\", cv=cv),'\\n',\n",
    "      'mean : ', np.mean(cross_val_score(model_EN, X, y, scoring=\"r2\", cv=cv)),'\\n')\n",
    "#      'std : ', np.std(cross_val_score(model1_EN, X, y, scoring=\"r2\", cv=cv)))"
   ]
  },
  {
   "cell_type": "markdown",
   "metadata": {},
   "source": [
    "# 모델에 제출하기에 앞선 cross-validation 결과 및 RMSLE 채점 결과"
   ]
  },
  {
   "cell_type": "code",
   "execution_count": null,
   "metadata": {},
   "outputs": [],
   "source": [
    "# RMSLE 구현 / 긁어왔습니다 \n",
    "from sklearn.metrics import make_scorer\n",
    "def rmsle(predict, actual):\n",
    "    predict = np.array(predict)\n",
    "    actual = np.array(actual)\n",
    "    \n",
    "    log_predict = np.log(predict + 1)\n",
    "    log_actual = np.log(actual + 1)\n",
    "    \n",
    "    difference = log_predict - log_actual\n",
    "    square_difference = difference ** 2\n",
    "    mean_square_difference = square_difference.mean()\n",
    "    \n",
    "    score = np.sqrt(mean_square_difference)\n",
    "    \n",
    "    return score\n",
    "\n",
    "rmsle_score = make_scorer(rmsle)\n",
    "rmsle_score"
   ]
  },
  {
   "cell_type": "code",
   "execution_count": null,
   "metadata": {},
   "outputs": [],
   "source": [
    "cross_val_score(model_ridge, X, y, cv=10, scoring=rmsle_score).mean()"
   ]
  },
  {
   "cell_type": "markdown",
   "metadata": {},
   "source": [
    "# 제출을 위한 test파일 준비"
   ]
  },
  {
   "cell_type": "markdown",
   "metadata": {},
   "source": [
    "### test file preprocessing"
   ]
  },
  {
   "cell_type": "code",
   "execution_count": null,
   "metadata": {},
   "outputs": [],
   "source": [
    "test = pd.read_csv('../../data/basic/test.csv')\n",
    "print(test.shape)\n",
    "test.head()"
   ]
  },
  {
   "cell_type": "code",
   "execution_count": null,
   "metadata": {},
   "outputs": [],
   "source": [
    "key = pd.read_csv('../../data/basic/key.csv')\n",
    "weather = pd.read_csv('../../data/weather_v8_with_holiday.csv')"
   ]
  },
  {
   "cell_type": "code",
   "execution_count": null,
   "metadata": {},
   "outputs": [],
   "source": [
    "test = pd.merge(test, key)"
   ]
  },
  {
   "cell_type": "code",
   "execution_count": null,
   "metadata": {},
   "outputs": [],
   "source": [
    "test = pd.merge(test, weather)"
   ]
  },
  {
   "cell_type": "code",
   "execution_count": null,
   "metadata": {},
   "outputs": [],
   "source": [
    "test.columns"
   ]
  },
  {
   "cell_type": "code",
   "execution_count": null,
   "metadata": {},
   "outputs": [],
   "source": [
    "test = pd.DataFrame(test, columns=['date','dayofweek', 'is_holiday', 'store_nbr', 'item_nbr', 'station_nbr', 'tmax',\n",
    "       'tmin', 'tavg', 'depart', 'dewpoint', 'wetbulb', 'heat', 'cool',\n",
    "       'sunrise', 'sunset', 'codesum', 'codesum_YN', 'snowfall', 'preciptotal',\n",
    "       'stnpressure', 'sealevel', 'resultspeed', 'resultdir', 'avgspeed',\n",
    "       ])"
   ]
  },
  {
   "cell_type": "code",
   "execution_count": null,
   "metadata": {},
   "outputs": [],
   "source": [
    "test.head()"
   ]
  },
  {
   "cell_type": "code",
   "execution_count": null,
   "metadata": {},
   "outputs": [],
   "source": [
    "def is_holiday(holiday):\n",
    "    if holiday == 'holiday':\n",
    "        return 1\n",
    "    elif holiday == 'holiday_work':\n",
    "        return 1\n",
    "    elif holiday == \"workday\":\n",
    "        return 0"
   ]
  },
  {
   "cell_type": "code",
   "execution_count": null,
   "metadata": {},
   "outputs": [],
   "source": [
    "test['is_holiday'] = test['is_holiday'].apply(is_holiday)"
   ]
  },
  {
   "cell_type": "code",
   "execution_count": null,
   "metadata": {},
   "outputs": [],
   "source": [
    "test['year'] = test['date'].apply(make_year)\n",
    "test['month'] = test['date'].apply(make_month)\n",
    "test['day'] = test['date'].apply(make_day)\n",
    "test['dayofweek'] = test['dayofweek'].apply(dayofweek_num)"
   ]
  },
  {
   "cell_type": "code",
   "execution_count": null,
   "metadata": {},
   "outputs": [],
   "source": [
    "test_sample = test.drop(columns=['date', 'tmax', 'tmin', 'tavg', 'dewpoint', 'wetbulb',\n",
    "       'sunrise', 'sunset','depart',  'codesum', 'codesum_YN', 'snowfall',\n",
    "       'stnpressure', 'sealevel','resultdir', 'avgspeed',\n",
    "       'station_nbr', 'heat', 'cool', 'preciptotal', 'is_holiday', 'resultspeed'])"
   ]
  },
  {
   "cell_type": "code",
   "execution_count": null,
   "metadata": {},
   "outputs": [],
   "source": [
    "test_sample.head()"
   ]
  },
  {
   "cell_type": "code",
   "execution_count": null,
   "metadata": {},
   "outputs": [],
   "source": [
    "test_X_df = pd.DataFrame(columns=['item_nbr', 'store_nbr','dayofweek', 'year', 'month', 'day'])\n",
    "\n",
    "for nbr in range(1, 45+1):\n",
    "    store_nbr = df_test[df_test['store_nbr'].isin([nbr])]\n",
    "    sold_item_list = list(store_nbr['item_nbr'].unique())\n",
    "    sold_item_list\n",
    "\n",
    "    test_store_nbr = test_sample[test_sample['store_nbr'].isin([nbr])]\n",
    "    to_test_df = test_store_nbr[test_store_nbr['item_nbr'].isin(sold_item_list)]\n",
    "\n",
    "    test_X_df = pd.concat([test_X_df, to_test_df], axis = 0)\n",
    "    \n",
    "test_X_df.shape"
   ]
  },
  {
   "cell_type": "code",
   "execution_count": null,
   "metadata": {},
   "outputs": [],
   "source": [
    "test_X_df.head()"
   ]
  },
  {
   "cell_type": "code",
   "execution_count": null,
   "metadata": {},
   "outputs": [],
   "source": [
    "test_X_df['store_nbr'] = test_X_df['store_nbr'].astype(int)\n",
    "test_X_df['item_nbr'] = test_X_df['item_nbr'].astype(int)\n",
    "test_X_df['year'] = test_X_df['year'].astype(int)\n",
    "test_X_df['month'] = test_X_df['month'].astype(int)\n",
    "test_X_df['day'] = test_X_df['day'].astype(int)\n",
    "test_X_df['dayofweek'] = test_X_df['dayofweek'].astype(object)"
   ]
  },
  {
   "cell_type": "markdown",
   "metadata": {},
   "source": [
    "### Predict"
   ]
  },
  {
   "cell_type": "code",
   "execution_count": null,
   "metadata": {},
   "outputs": [],
   "source": [
    "result_1 = model_1.fit_regularized(alpha=0.5, L1_wt=0)"
   ]
  },
  {
   "cell_type": "code",
   "execution_count": null,
   "metadata": {},
   "outputs": [],
   "source": [
    "test_result = result_1.predict(test_X_df)"
   ]
  },
  {
   "cell_type": "markdown",
   "metadata": {},
   "source": [
    "### create submission file"
   ]
  },
  {
   "cell_type": "code",
   "execution_count": null,
   "metadata": {},
   "outputs": [],
   "source": [
    "result = pd.concat([test, test_result], axis=1)"
   ]
  },
  {
   "cell_type": "code",
   "execution_count": null,
   "metadata": {},
   "outputs": [],
   "source": [
    "print(result.shape)\n",
    "result.head()"
   ]
  },
  {
   "cell_type": "code",
   "execution_count": null,
   "metadata": {},
   "outputs": [],
   "source": [
    "result['units'] = result[0]"
   ]
  },
  {
   "cell_type": "code",
   "execution_count": null,
   "metadata": {},
   "outputs": [],
   "source": [
    "def itiszero(units):\n",
    "    if units > 0:\n",
    "        return units\n",
    "    else:\n",
    "        return 0"
   ]
  },
  {
   "cell_type": "code",
   "execution_count": null,
   "metadata": {},
   "outputs": [],
   "source": [
    "result['units'] = result['units'].apply(itiszero)"
   ]
  },
  {
   "cell_type": "code",
   "execution_count": null,
   "metadata": {},
   "outputs": [],
   "source": [
    "result['units'] = result['units'].astype(int)"
   ]
  },
  {
   "cell_type": "code",
   "execution_count": null,
   "metadata": {},
   "outputs": [],
   "source": [
    "result = pd.DataFrame(data=result, columns=['store_nbr', 'item_nbr', 'date', 'units'])"
   ]
  },
  {
   "cell_type": "code",
   "execution_count": null,
   "metadata": {},
   "outputs": [],
   "source": [
    "for col in result[['store_nbr', 'item_nbr']]:\n",
    "    result[col] = result[col].astype(int)"
   ]
  },
  {
   "cell_type": "code",
   "execution_count": null,
   "metadata": {},
   "outputs": [],
   "source": [
    "result['id'] = result['store_nbr'].astype(str)+'_'+result['item_nbr'].astype(str)+'_'+result['date'].astype(str)"
   ]
  },
  {
   "cell_type": "code",
   "execution_count": null,
   "metadata": {},
   "outputs": [],
   "source": [
    "for_submission = result.loc[:,['id','units']]"
   ]
  },
  {
   "cell_type": "code",
   "execution_count": null,
   "metadata": {},
   "outputs": [],
   "source": [
    "for_submission.head()"
   ]
  },
  {
   "cell_type": "code",
   "execution_count": null,
   "metadata": {},
   "outputs": [],
   "source": [
    "for_submission.to_csv('submission_sample19.csv', index=False)"
   ]
  },
  {
   "cell_type": "code",
   "execution_count": null,
   "metadata": {},
   "outputs": [],
   "source": []
  },
  {
   "cell_type": "code",
   "execution_count": null,
   "metadata": {},
   "outputs": [],
   "source": []
  },
  {
   "cell_type": "markdown",
   "metadata": {},
   "source": [
    "### 제출\n",
    "\n",
    "1차 제출 : fox outlier recommendation 1번 --> submission_sample12.csv --> 0.328\n",
    "\n",
    "2차 제출 : outlier 제거 1번 --> submission_sample13.csv --> 0.327\n",
    "\n",
    "3차 제출 : outlier 제거 2번 --> submission_sample14.csv --> 0.313\n",
    "\n",
    "4차 제출 : outlier 제거 3번 --> submission_sample15.csv --> 0.287\n",
    "\n",
    "5차 제출 : outlier 제거 4번 --> submission_sample16.csv --> 0.267\n",
    "\n",
    "6차 제출 : outlier 제거 5번 --> submission_sample17.csv --> 0.277\n",
    "\n",
    "7차 제출 : outlier 제거 6번 --> submission_sample18.csv --> 0.274\n",
    "\n",
    "8차 제출 : outlier 제거 6번 + 릿지 정규화 --> submission_sample19.csv --> 0.46"
   ]
  },
  {
   "cell_type": "code",
   "execution_count": null,
   "metadata": {},
   "outputs": [],
   "source": []
  },
  {
   "cell_type": "code",
   "execution_count": null,
   "metadata": {},
   "outputs": [],
   "source": []
  },
  {
   "cell_type": "code",
   "execution_count": null,
   "metadata": {},
   "outputs": [],
   "source": []
  },
  {
   "cell_type": "markdown",
   "metadata": {},
   "source": [
    "# 이번 시도의 결론, \n",
    "\n",
    "- 아웃라이어 제거 6번 이후에는 효과가 미비함\n",
    "- 정규화의 영향 : 더 안 좋음"
   ]
  },
  {
   "cell_type": "code",
   "execution_count": null,
   "metadata": {},
   "outputs": [],
   "source": []
  }
 ],
 "metadata": {
  "kernelspec": {
   "display_name": "Python 3",
   "language": "python",
   "name": "python3"
  },
  "language_info": {
   "codemirror_mode": {
    "name": "ipython",
    "version": 3
   },
   "file_extension": ".py",
   "mimetype": "text/x-python",
   "name": "python",
   "nbconvert_exporter": "python",
   "pygments_lexer": "ipython3",
   "version": "3.6.2"
  }
 },
 "nbformat": 4,
 "nbformat_minor": 2
}
