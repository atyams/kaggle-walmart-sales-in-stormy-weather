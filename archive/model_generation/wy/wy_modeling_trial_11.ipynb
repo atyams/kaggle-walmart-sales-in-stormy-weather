{
 "cells": [
  {
   "cell_type": "code",
   "execution_count": 1,
   "metadata": {},
   "outputs": [
    {
     "name": "stdout",
     "output_type": "stream",
     "text": [
      "sympy imported\n",
      "pandas imported\n",
      "numpy imported\n",
      "scipy imported\n",
      "statsmodels imported\n",
      "statsmodels.formula imported\n",
      "statasmodels.stats.api imported\n"
     ]
    },
    {
     "name": "stderr",
     "output_type": "stream",
     "text": [
      "/Library/Frameworks/Python.framework/Versions/3.6/lib/python3.6/site-packages/statsmodels/compat/pandas.py:56: FutureWarning: The pandas.core.datetools module is deprecated and will be removed in a future version. Please use the pandas.tseries module instead.\n",
      "  from pandas.core import datetools\n"
     ]
    }
   ],
   "source": [
    "from set_math import *"
   ]
  },
  {
   "cell_type": "code",
   "execution_count": 2,
   "metadata": {},
   "outputs": [
    {
     "name": "stdout",
     "output_type": "stream",
     "text": [
      "matplotlib imported\n",
      "pyplot imported\n",
      "seaborn imported\n",
      "sns.set\n",
      "sns.set_style(whitegrid)\n",
      "sns.set_color_codes()\n",
      "type (% matplotlib inline) if necessary\n",
      "type (% config InlineBackend.figure_formats = {‘png’, ‘retina’}) if necessary\n"
     ]
    }
   ],
   "source": [
    "from set_visualization import *"
   ]
  },
  {
   "cell_type": "markdown",
   "metadata": {},
   "source": [
    "# load & merge dataset"
   ]
  },
  {
   "cell_type": "code",
   "execution_count": 3,
   "metadata": {},
   "outputs": [],
   "source": [
    "sales = pd.read_csv('../../data/basic/train.csv')\n",
    "key = pd.read_csv('../../data/basic/key.csv')\n",
    "weather = pd.read_csv('../../data/weather_v8_with_holiday.csv', index_col=0)"
   ]
  },
  {
   "cell_type": "code",
   "execution_count": 4,
   "metadata": {},
   "outputs": [
    {
     "name": "stdout",
     "output_type": "stream",
     "text": [
      "(4617600, 4)\n"
     ]
    },
    {
     "data": {
      "text/html": [
       "<div>\n",
       "<style scoped>\n",
       "    .dataframe tbody tr th:only-of-type {\n",
       "        vertical-align: middle;\n",
       "    }\n",
       "\n",
       "    .dataframe tbody tr th {\n",
       "        vertical-align: top;\n",
       "    }\n",
       "\n",
       "    .dataframe thead th {\n",
       "        text-align: right;\n",
       "    }\n",
       "</style>\n",
       "<table border=\"1\" class=\"dataframe\">\n",
       "  <thead>\n",
       "    <tr style=\"text-align: right;\">\n",
       "      <th></th>\n",
       "      <th>date</th>\n",
       "      <th>store_nbr</th>\n",
       "      <th>item_nbr</th>\n",
       "      <th>units</th>\n",
       "    </tr>\n",
       "  </thead>\n",
       "  <tbody>\n",
       "    <tr>\n",
       "      <th>0</th>\n",
       "      <td>2012-01-01</td>\n",
       "      <td>1</td>\n",
       "      <td>1</td>\n",
       "      <td>0</td>\n",
       "    </tr>\n",
       "    <tr>\n",
       "      <th>1</th>\n",
       "      <td>2012-01-01</td>\n",
       "      <td>1</td>\n",
       "      <td>2</td>\n",
       "      <td>0</td>\n",
       "    </tr>\n",
       "    <tr>\n",
       "      <th>2</th>\n",
       "      <td>2012-01-01</td>\n",
       "      <td>1</td>\n",
       "      <td>3</td>\n",
       "      <td>0</td>\n",
       "    </tr>\n",
       "    <tr>\n",
       "      <th>3</th>\n",
       "      <td>2012-01-01</td>\n",
       "      <td>1</td>\n",
       "      <td>4</td>\n",
       "      <td>0</td>\n",
       "    </tr>\n",
       "    <tr>\n",
       "      <th>4</th>\n",
       "      <td>2012-01-01</td>\n",
       "      <td>1</td>\n",
       "      <td>5</td>\n",
       "      <td>0</td>\n",
       "    </tr>\n",
       "  </tbody>\n",
       "</table>\n",
       "</div>"
      ],
      "text/plain": [
       "         date  store_nbr  item_nbr  units\n",
       "0  2012-01-01          1         1      0\n",
       "1  2012-01-01          1         2      0\n",
       "2  2012-01-01          1         3      0\n",
       "3  2012-01-01          1         4      0\n",
       "4  2012-01-01          1         5      0"
      ]
     },
     "execution_count": 4,
     "metadata": {},
     "output_type": "execute_result"
    }
   ],
   "source": [
    "print(sales.shape)\n",
    "sales.head()"
   ]
  },
  {
   "cell_type": "code",
   "execution_count": 5,
   "metadata": {},
   "outputs": [
    {
     "name": "stdout",
     "output_type": "stream",
     "text": [
      "(45, 2)\n"
     ]
    },
    {
     "data": {
      "text/html": [
       "<div>\n",
       "<style scoped>\n",
       "    .dataframe tbody tr th:only-of-type {\n",
       "        vertical-align: middle;\n",
       "    }\n",
       "\n",
       "    .dataframe tbody tr th {\n",
       "        vertical-align: top;\n",
       "    }\n",
       "\n",
       "    .dataframe thead th {\n",
       "        text-align: right;\n",
       "    }\n",
       "</style>\n",
       "<table border=\"1\" class=\"dataframe\">\n",
       "  <thead>\n",
       "    <tr style=\"text-align: right;\">\n",
       "      <th></th>\n",
       "      <th>store_nbr</th>\n",
       "      <th>station_nbr</th>\n",
       "    </tr>\n",
       "  </thead>\n",
       "  <tbody>\n",
       "    <tr>\n",
       "      <th>0</th>\n",
       "      <td>1</td>\n",
       "      <td>1</td>\n",
       "    </tr>\n",
       "    <tr>\n",
       "      <th>1</th>\n",
       "      <td>2</td>\n",
       "      <td>14</td>\n",
       "    </tr>\n",
       "    <tr>\n",
       "      <th>2</th>\n",
       "      <td>3</td>\n",
       "      <td>7</td>\n",
       "    </tr>\n",
       "    <tr>\n",
       "      <th>3</th>\n",
       "      <td>4</td>\n",
       "      <td>9</td>\n",
       "    </tr>\n",
       "    <tr>\n",
       "      <th>4</th>\n",
       "      <td>5</td>\n",
       "      <td>12</td>\n",
       "    </tr>\n",
       "  </tbody>\n",
       "</table>\n",
       "</div>"
      ],
      "text/plain": [
       "   store_nbr  station_nbr\n",
       "0          1            1\n",
       "1          2           14\n",
       "2          3            7\n",
       "3          4            9\n",
       "4          5           12"
      ]
     },
     "execution_count": 5,
     "metadata": {},
     "output_type": "execute_result"
    }
   ],
   "source": [
    "print(key.shape)\n",
    "key.head()"
   ]
  },
  {
   "cell_type": "code",
   "execution_count": 6,
   "metadata": {},
   "outputs": [
    {
     "name": "stdout",
     "output_type": "stream",
     "text": [
      "(20517, 27)\n"
     ]
    },
    {
     "data": {
      "text/html": [
       "<div>\n",
       "<style scoped>\n",
       "    .dataframe tbody tr th:only-of-type {\n",
       "        vertical-align: middle;\n",
       "    }\n",
       "\n",
       "    .dataframe tbody tr th {\n",
       "        vertical-align: top;\n",
       "    }\n",
       "\n",
       "    .dataframe thead th {\n",
       "        text-align: right;\n",
       "    }\n",
       "</style>\n",
       "<table border=\"1\" class=\"dataframe\">\n",
       "  <thead>\n",
       "    <tr style=\"text-align: right;\">\n",
       "      <th></th>\n",
       "      <th>station_nbr</th>\n",
       "      <th>date</th>\n",
       "      <th>tmax</th>\n",
       "      <th>tmin</th>\n",
       "      <th>tavg</th>\n",
       "      <th>depart</th>\n",
       "      <th>dewpoint</th>\n",
       "      <th>wetbulb</th>\n",
       "      <th>heat</th>\n",
       "      <th>cool</th>\n",
       "      <th>...</th>\n",
       "      <th>sealevel</th>\n",
       "      <th>resultspeed</th>\n",
       "      <th>resultdir</th>\n",
       "      <th>avgspeed</th>\n",
       "      <th>codesum_2</th>\n",
       "      <th>year</th>\n",
       "      <th>monthday</th>\n",
       "      <th>days</th>\n",
       "      <th>dayofweek</th>\n",
       "      <th>is_holiday</th>\n",
       "    </tr>\n",
       "  </thead>\n",
       "  <tbody>\n",
       "    <tr>\n",
       "      <th>0</th>\n",
       "      <td>1</td>\n",
       "      <td>2012-01-01</td>\n",
       "      <td>52.0</td>\n",
       "      <td>31.0</td>\n",
       "      <td>42.0</td>\n",
       "      <td>0.0</td>\n",
       "      <td>36.0</td>\n",
       "      <td>40.0</td>\n",
       "      <td>23.0</td>\n",
       "      <td>0.0</td>\n",
       "      <td>...</td>\n",
       "      <td>29.92</td>\n",
       "      <td>3.6</td>\n",
       "      <td>20.0</td>\n",
       "      <td>4.6</td>\n",
       "      <td>FG,RA,BR</td>\n",
       "      <td>2012</td>\n",
       "      <td>['01', '01']</td>\n",
       "      <td>1</td>\n",
       "      <td>Sun</td>\n",
       "      <td>holiday</td>\n",
       "    </tr>\n",
       "    <tr>\n",
       "      <th>1</th>\n",
       "      <td>1</td>\n",
       "      <td>2012-01-02</td>\n",
       "      <td>50.0</td>\n",
       "      <td>31.0</td>\n",
       "      <td>41.0</td>\n",
       "      <td>0.0</td>\n",
       "      <td>26.0</td>\n",
       "      <td>35.0</td>\n",
       "      <td>24.0</td>\n",
       "      <td>0.0</td>\n",
       "      <td>...</td>\n",
       "      <td>29.62</td>\n",
       "      <td>9.8</td>\n",
       "      <td>24.0</td>\n",
       "      <td>10.3</td>\n",
       "      <td>RA</td>\n",
       "      <td>2012</td>\n",
       "      <td>['01', '02']</td>\n",
       "      <td>2</td>\n",
       "      <td>Mon</td>\n",
       "      <td>holiday_work</td>\n",
       "    </tr>\n",
       "    <tr>\n",
       "      <th>2</th>\n",
       "      <td>1</td>\n",
       "      <td>2012-01-03</td>\n",
       "      <td>32.0</td>\n",
       "      <td>11.0</td>\n",
       "      <td>22.0</td>\n",
       "      <td>0.0</td>\n",
       "      <td>4.0</td>\n",
       "      <td>18.0</td>\n",
       "      <td>43.0</td>\n",
       "      <td>0.0</td>\n",
       "      <td>...</td>\n",
       "      <td>29.87</td>\n",
       "      <td>10.8</td>\n",
       "      <td>31.0</td>\n",
       "      <td>11.6</td>\n",
       "      <td>MO</td>\n",
       "      <td>2012</td>\n",
       "      <td>['01', '03']</td>\n",
       "      <td>3</td>\n",
       "      <td>Tue</td>\n",
       "      <td>workday</td>\n",
       "    </tr>\n",
       "    <tr>\n",
       "      <th>3</th>\n",
       "      <td>1</td>\n",
       "      <td>2012-01-04</td>\n",
       "      <td>28.0</td>\n",
       "      <td>9.0</td>\n",
       "      <td>19.0</td>\n",
       "      <td>0.0</td>\n",
       "      <td>-1.0</td>\n",
       "      <td>14.0</td>\n",
       "      <td>46.0</td>\n",
       "      <td>0.0</td>\n",
       "      <td>...</td>\n",
       "      <td>30.03</td>\n",
       "      <td>6.3</td>\n",
       "      <td>27.0</td>\n",
       "      <td>8.3</td>\n",
       "      <td>MO</td>\n",
       "      <td>2012</td>\n",
       "      <td>['01', '04']</td>\n",
       "      <td>4</td>\n",
       "      <td>Wed</td>\n",
       "      <td>workday</td>\n",
       "    </tr>\n",
       "    <tr>\n",
       "      <th>4</th>\n",
       "      <td>1</td>\n",
       "      <td>2012-01-05</td>\n",
       "      <td>38.0</td>\n",
       "      <td>25.0</td>\n",
       "      <td>32.0</td>\n",
       "      <td>0.0</td>\n",
       "      <td>13.0</td>\n",
       "      <td>25.0</td>\n",
       "      <td>33.0</td>\n",
       "      <td>0.0</td>\n",
       "      <td>...</td>\n",
       "      <td>29.84</td>\n",
       "      <td>6.9</td>\n",
       "      <td>25.0</td>\n",
       "      <td>7.8</td>\n",
       "      <td>MO</td>\n",
       "      <td>2012</td>\n",
       "      <td>['01', '05']</td>\n",
       "      <td>5</td>\n",
       "      <td>Thi</td>\n",
       "      <td>workday</td>\n",
       "    </tr>\n",
       "  </tbody>\n",
       "</table>\n",
       "<p>5 rows × 27 columns</p>\n",
       "</div>"
      ],
      "text/plain": [
       "   station_nbr        date  tmax  tmin  tavg  depart  dewpoint  wetbulb  heat  \\\n",
       "0            1  2012-01-01  52.0  31.0  42.0     0.0      36.0     40.0  23.0   \n",
       "1            1  2012-01-02  50.0  31.0  41.0     0.0      26.0     35.0  24.0   \n",
       "2            1  2012-01-03  32.0  11.0  22.0     0.0       4.0     18.0  43.0   \n",
       "3            1  2012-01-04  28.0   9.0  19.0     0.0      -1.0     14.0  46.0   \n",
       "4            1  2012-01-05  38.0  25.0  32.0     0.0      13.0     25.0  33.0   \n",
       "\n",
       "   cool      ...       sealevel  resultspeed resultdir  avgspeed  codesum_2  \\\n",
       "0   0.0      ...          29.92          3.6      20.0       4.6   FG,RA,BR   \n",
       "1   0.0      ...          29.62          9.8      24.0      10.3         RA   \n",
       "2   0.0      ...          29.87         10.8      31.0      11.6         MO   \n",
       "3   0.0      ...          30.03          6.3      27.0       8.3         MO   \n",
       "4   0.0      ...          29.84          6.9      25.0       7.8         MO   \n",
       "\n",
       "   year      monthday  days  dayofweek    is_holiday  \n",
       "0  2012  ['01', '01']     1        Sun       holiday  \n",
       "1  2012  ['01', '02']     2        Mon  holiday_work  \n",
       "2  2012  ['01', '03']     3        Tue       workday  \n",
       "3  2012  ['01', '04']     4        Wed       workday  \n",
       "4  2012  ['01', '05']     5        Thi       workday  \n",
       "\n",
       "[5 rows x 27 columns]"
      ]
     },
     "execution_count": 6,
     "metadata": {},
     "output_type": "execute_result"
    }
   ],
   "source": [
    "print(weather.shape)\n",
    "weather.head()"
   ]
  },
  {
   "cell_type": "code",
   "execution_count": 7,
   "metadata": {},
   "outputs": [
    {
     "data": {
      "text/plain": [
       "Index(['station_nbr', 'date', 'tmax', 'tmin', 'tavg', 'depart', 'dewpoint',\n",
       "       'wetbulb', 'heat', 'cool', 'sunrise', 'sunset', 'codesum', 'codesum_YN',\n",
       "       'snowfall', 'preciptotal', 'stnpressure', 'sealevel', 'resultspeed',\n",
       "       'resultdir', 'avgspeed', 'codesum_2', 'year', 'monthday', 'days',\n",
       "       'dayofweek', 'is_holiday'],\n",
       "      dtype='object')"
      ]
     },
     "execution_count": 7,
     "metadata": {},
     "output_type": "execute_result"
    }
   ],
   "source": [
    "weather.columns"
   ]
  },
  {
   "cell_type": "code",
   "execution_count": 8,
   "metadata": {},
   "outputs": [],
   "source": [
    "sales = pd.merge(sales, key)"
   ]
  },
  {
   "cell_type": "code",
   "execution_count": 9,
   "metadata": {},
   "outputs": [],
   "source": [
    "df = pd.merge(sales, weather)"
   ]
  },
  {
   "cell_type": "code",
   "execution_count": 10,
   "metadata": {},
   "outputs": [
    {
     "name": "stdout",
     "output_type": "stream",
     "text": [
      "(4617600, 30)\n"
     ]
    },
    {
     "data": {
      "text/html": [
       "<div>\n",
       "<style scoped>\n",
       "    .dataframe tbody tr th:only-of-type {\n",
       "        vertical-align: middle;\n",
       "    }\n",
       "\n",
       "    .dataframe tbody tr th {\n",
       "        vertical-align: top;\n",
       "    }\n",
       "\n",
       "    .dataframe thead th {\n",
       "        text-align: right;\n",
       "    }\n",
       "</style>\n",
       "<table border=\"1\" class=\"dataframe\">\n",
       "  <thead>\n",
       "    <tr style=\"text-align: right;\">\n",
       "      <th></th>\n",
       "      <th>date</th>\n",
       "      <th>store_nbr</th>\n",
       "      <th>item_nbr</th>\n",
       "      <th>units</th>\n",
       "      <th>station_nbr</th>\n",
       "      <th>tmax</th>\n",
       "      <th>tmin</th>\n",
       "      <th>tavg</th>\n",
       "      <th>depart</th>\n",
       "      <th>dewpoint</th>\n",
       "      <th>...</th>\n",
       "      <th>sealevel</th>\n",
       "      <th>resultspeed</th>\n",
       "      <th>resultdir</th>\n",
       "      <th>avgspeed</th>\n",
       "      <th>codesum_2</th>\n",
       "      <th>year</th>\n",
       "      <th>monthday</th>\n",
       "      <th>days</th>\n",
       "      <th>dayofweek</th>\n",
       "      <th>is_holiday</th>\n",
       "    </tr>\n",
       "  </thead>\n",
       "  <tbody>\n",
       "    <tr>\n",
       "      <th>0</th>\n",
       "      <td>2012-01-01</td>\n",
       "      <td>1</td>\n",
       "      <td>1</td>\n",
       "      <td>0</td>\n",
       "      <td>1</td>\n",
       "      <td>52.0</td>\n",
       "      <td>31.0</td>\n",
       "      <td>42.0</td>\n",
       "      <td>0.0</td>\n",
       "      <td>36.0</td>\n",
       "      <td>...</td>\n",
       "      <td>29.92</td>\n",
       "      <td>3.6</td>\n",
       "      <td>20.0</td>\n",
       "      <td>4.6</td>\n",
       "      <td>FG,RA,BR</td>\n",
       "      <td>2012</td>\n",
       "      <td>['01', '01']</td>\n",
       "      <td>1</td>\n",
       "      <td>Sun</td>\n",
       "      <td>holiday</td>\n",
       "    </tr>\n",
       "    <tr>\n",
       "      <th>1</th>\n",
       "      <td>2012-01-01</td>\n",
       "      <td>1</td>\n",
       "      <td>2</td>\n",
       "      <td>0</td>\n",
       "      <td>1</td>\n",
       "      <td>52.0</td>\n",
       "      <td>31.0</td>\n",
       "      <td>42.0</td>\n",
       "      <td>0.0</td>\n",
       "      <td>36.0</td>\n",
       "      <td>...</td>\n",
       "      <td>29.92</td>\n",
       "      <td>3.6</td>\n",
       "      <td>20.0</td>\n",
       "      <td>4.6</td>\n",
       "      <td>FG,RA,BR</td>\n",
       "      <td>2012</td>\n",
       "      <td>['01', '01']</td>\n",
       "      <td>1</td>\n",
       "      <td>Sun</td>\n",
       "      <td>holiday</td>\n",
       "    </tr>\n",
       "    <tr>\n",
       "      <th>2</th>\n",
       "      <td>2012-01-01</td>\n",
       "      <td>1</td>\n",
       "      <td>3</td>\n",
       "      <td>0</td>\n",
       "      <td>1</td>\n",
       "      <td>52.0</td>\n",
       "      <td>31.0</td>\n",
       "      <td>42.0</td>\n",
       "      <td>0.0</td>\n",
       "      <td>36.0</td>\n",
       "      <td>...</td>\n",
       "      <td>29.92</td>\n",
       "      <td>3.6</td>\n",
       "      <td>20.0</td>\n",
       "      <td>4.6</td>\n",
       "      <td>FG,RA,BR</td>\n",
       "      <td>2012</td>\n",
       "      <td>['01', '01']</td>\n",
       "      <td>1</td>\n",
       "      <td>Sun</td>\n",
       "      <td>holiday</td>\n",
       "    </tr>\n",
       "    <tr>\n",
       "      <th>3</th>\n",
       "      <td>2012-01-01</td>\n",
       "      <td>1</td>\n",
       "      <td>4</td>\n",
       "      <td>0</td>\n",
       "      <td>1</td>\n",
       "      <td>52.0</td>\n",
       "      <td>31.0</td>\n",
       "      <td>42.0</td>\n",
       "      <td>0.0</td>\n",
       "      <td>36.0</td>\n",
       "      <td>...</td>\n",
       "      <td>29.92</td>\n",
       "      <td>3.6</td>\n",
       "      <td>20.0</td>\n",
       "      <td>4.6</td>\n",
       "      <td>FG,RA,BR</td>\n",
       "      <td>2012</td>\n",
       "      <td>['01', '01']</td>\n",
       "      <td>1</td>\n",
       "      <td>Sun</td>\n",
       "      <td>holiday</td>\n",
       "    </tr>\n",
       "    <tr>\n",
       "      <th>4</th>\n",
       "      <td>2012-01-01</td>\n",
       "      <td>1</td>\n",
       "      <td>5</td>\n",
       "      <td>0</td>\n",
       "      <td>1</td>\n",
       "      <td>52.0</td>\n",
       "      <td>31.0</td>\n",
       "      <td>42.0</td>\n",
       "      <td>0.0</td>\n",
       "      <td>36.0</td>\n",
       "      <td>...</td>\n",
       "      <td>29.92</td>\n",
       "      <td>3.6</td>\n",
       "      <td>20.0</td>\n",
       "      <td>4.6</td>\n",
       "      <td>FG,RA,BR</td>\n",
       "      <td>2012</td>\n",
       "      <td>['01', '01']</td>\n",
       "      <td>1</td>\n",
       "      <td>Sun</td>\n",
       "      <td>holiday</td>\n",
       "    </tr>\n",
       "  </tbody>\n",
       "</table>\n",
       "<p>5 rows × 30 columns</p>\n",
       "</div>"
      ],
      "text/plain": [
       "         date  store_nbr  item_nbr  units  station_nbr  tmax  tmin  tavg  \\\n",
       "0  2012-01-01          1         1      0            1  52.0  31.0  42.0   \n",
       "1  2012-01-01          1         2      0            1  52.0  31.0  42.0   \n",
       "2  2012-01-01          1         3      0            1  52.0  31.0  42.0   \n",
       "3  2012-01-01          1         4      0            1  52.0  31.0  42.0   \n",
       "4  2012-01-01          1         5      0            1  52.0  31.0  42.0   \n",
       "\n",
       "   depart  dewpoint     ...      sealevel  resultspeed  resultdir  avgspeed  \\\n",
       "0     0.0      36.0     ...         29.92          3.6       20.0       4.6   \n",
       "1     0.0      36.0     ...         29.92          3.6       20.0       4.6   \n",
       "2     0.0      36.0     ...         29.92          3.6       20.0       4.6   \n",
       "3     0.0      36.0     ...         29.92          3.6       20.0       4.6   \n",
       "4     0.0      36.0     ...         29.92          3.6       20.0       4.6   \n",
       "\n",
       "   codesum_2  year      monthday  days  dayofweek  is_holiday  \n",
       "0   FG,RA,BR  2012  ['01', '01']     1        Sun     holiday  \n",
       "1   FG,RA,BR  2012  ['01', '01']     1        Sun     holiday  \n",
       "2   FG,RA,BR  2012  ['01', '01']     1        Sun     holiday  \n",
       "3   FG,RA,BR  2012  ['01', '01']     1        Sun     holiday  \n",
       "4   FG,RA,BR  2012  ['01', '01']     1        Sun     holiday  \n",
       "\n",
       "[5 rows x 30 columns]"
      ]
     },
     "execution_count": 10,
     "metadata": {},
     "output_type": "execute_result"
    }
   ],
   "source": [
    "print(df.shape)\n",
    "df.head()"
   ]
  },
  {
   "cell_type": "code",
   "execution_count": 11,
   "metadata": {},
   "outputs": [],
   "source": [
    "df = pd.DataFrame(data=df, columns=['date', 'units', 'store_nbr', 'item_nbr', 'station_nbr', \n",
    "                                    'tmax', 'tmin', 'tavg', 'depart', 'dewpoint', 'wetbulb', \n",
    "                                    'heat', 'cool', 'sunrise', 'sunset', 'codesum', 'codesum_2', 'codesum_YN', \n",
    "                                    'snowfall', 'preciptotal', 'stnpressure', 'sealevel', 'resultspeed', 'resultdir', 'avgspeed',\n",
    "                                    'year', 'monthday', 'days', 'dayofweek', 'is_holiday'])"
   ]
  },
  {
   "cell_type": "markdown",
   "metadata": {},
   "source": [
    "### 판매가 이루어진 데이터로 한정"
   ]
  },
  {
   "cell_type": "code",
   "execution_count": 12,
   "metadata": {},
   "outputs": [],
   "source": [
    "# df = df[df['units'] > 0].reset_index(drop=True)"
   ]
  },
  {
   "cell_type": "code",
   "execution_count": 12,
   "metadata": {},
   "outputs": [],
   "source": [
    "# df.shape"
   ]
  },
  {
   "cell_type": "markdown",
   "metadata": {},
   "source": [
    "### 날짜 데이터 encoding"
   ]
  },
  {
   "cell_type": "code",
   "execution_count": 13,
   "metadata": {},
   "outputs": [],
   "source": [
    "def make_year(date):\n",
    "    return int(date.split('-')[0])\n",
    "\n",
    "def make_month(date):\n",
    "    return int(date.split('-')[1])\n",
    "\n",
    "def make_day(date):\n",
    "    return int(date.split('-')[2])\n",
    "\n",
    "def make_monthday(date):\n",
    "    return (date.split('-')[1:3])\n",
    "\n",
    "def dayofweek_num(dayofweek):\n",
    "    if dayofweek == 'Mon':\n",
    "        return 1\n",
    "    elif dayofweek == 'Tue':\n",
    "        return 2\n",
    "    elif dayofweek == 'Wed':\n",
    "        return 3\n",
    "    elif dayofweek == 'Thi':\n",
    "        return 4\n",
    "    elif dayofweek == 'Fri':\n",
    "        return 5\n",
    "    elif dayofweek == 'Sat':\n",
    "        return 6\n",
    "    elif dayofweek == 'Sun':\n",
    "        return 7"
   ]
  },
  {
   "cell_type": "code",
   "execution_count": 14,
   "metadata": {},
   "outputs": [],
   "source": [
    "df['year'] = df['date'].apply(make_year)\n",
    "df['month'] = df['date'].apply(make_month)\n",
    "df['day'] = df['date'].apply(make_day)\n",
    "df['dayofweek'] = df['dayofweek'].apply(dayofweek_num)\n",
    "df['dayofweek'] = df['dayofweek'].astype(int)"
   ]
  },
  {
   "cell_type": "markdown",
   "metadata": {},
   "source": [
    "# OLS 모델 생성 카테고리형 독립변수만 고려"
   ]
  },
  {
   "cell_type": "code",
   "execution_count": 15,
   "metadata": {},
   "outputs": [],
   "source": [
    "df_test = df"
   ]
  },
  {
   "cell_type": "code",
   "execution_count": 16,
   "metadata": {},
   "outputs": [
    {
     "data": {
      "text/plain": [
       "Index(['date', 'units', 'store_nbr', 'item_nbr', 'station_nbr', 'tmax', 'tmin',\n",
       "       'tavg', 'depart', 'dewpoint', 'wetbulb', 'heat', 'cool', 'sunrise',\n",
       "       'sunset', 'codesum', 'codesum_2', 'codesum_YN', 'snowfall',\n",
       "       'preciptotal', 'stnpressure', 'sealevel', 'resultspeed', 'resultdir',\n",
       "       'avgspeed', 'year', 'monthday', 'days', 'dayofweek', 'is_holiday',\n",
       "       'month', 'day'],\n",
       "      dtype='object')"
      ]
     },
     "execution_count": 16,
     "metadata": {},
     "output_type": "execute_result"
    }
   ],
   "source": [
    "df_test.columns"
   ]
  },
  {
   "cell_type": "code",
   "execution_count": null,
   "metadata": {},
   "outputs": [],
   "source": [
    "model_1 = sm.OLS.from_formula('units ~ C(item_nbr) + C(store_nbr) + C(dayofweek)', data=df_test)\n",
    "result_1 = model_1.fit()\n",
    "print(result_1.summary())"
   ]
  },
  {
   "cell_type": "code",
   "execution_count": null,
   "metadata": {},
   "outputs": [],
   "source": [
    "sp.stats.probplot(result_1.resid, plot=plt)\n",
    "plt.show()\n",
    "\n",
    "test = sms.omni_normtest(result_1.resid)\n",
    "for xi in zip(['Chi^2', 'P-value'], test):\n",
    "    print(\"%-12s: %6.3f\" % xi)"
   ]
  },
  {
   "cell_type": "markdown",
   "metadata": {},
   "source": [
    "# Outlier 제거"
   ]
  },
  {
   "cell_type": "code",
   "execution_count": null,
   "metadata": {},
   "outputs": [],
   "source": [
    "# 1차\n",
    "res = result_1.resid_pearson\n",
    "index = result_1.resid.index\n",
    "outlier_index = abs(res) >= 2\n",
    "\n",
    "row = pd.Series(index=index, data=res)\n",
    "drop_index = row[outlier_index].index"
   ]
  },
  {
   "cell_type": "code",
   "execution_count": null,
   "metadata": {},
   "outputs": [],
   "source": [
    "df_test.drop(list(drop_index),inplace=True)"
   ]
  },
  {
   "cell_type": "code",
   "execution_count": null,
   "metadata": {},
   "outputs": [],
   "source": [
    "model_1 = sm.OLS.from_formula('units ~ C(item_nbr) + C(store_nbr) + C(dayofweek)', data=df_test)\n",
    "result_1 = model_1.fit()\n",
    "print(result_1.summary())"
   ]
  },
  {
   "cell_type": "code",
   "execution_count": null,
   "metadata": {},
   "outputs": [],
   "source": [
    "sp.stats.probplot(result_1.resid, plot=plt)\n",
    "plt.show()\n",
    "\n",
    "test = sms.omni_normtest(result_1.resid)\n",
    "for xi in zip(['Chi^2', 'P-value'], test):\n",
    "    print(\"%-12s: %6.3f\" % xi)"
   ]
  },
  {
   "cell_type": "code",
   "execution_count": null,
   "metadata": {},
   "outputs": [],
   "source": [
    "# 2차\n",
    "res = result_1.resid_pearson\n",
    "index = result_1.resid.index\n",
    "outlier_index = abs(res) >= 2\n",
    "\n",
    "row = pd.Series(index=index, data=res)\n",
    "drop_index = row[outlier_index].index"
   ]
  },
  {
   "cell_type": "code",
   "execution_count": null,
   "metadata": {},
   "outputs": [],
   "source": [
    "df_test.drop(list(drop_index),inplace=True)"
   ]
  },
  {
   "cell_type": "code",
   "execution_count": null,
   "metadata": {},
   "outputs": [],
   "source": [
    "model_1 = sm.OLS.from_formula('units ~ C(item_nbr) + C(store_nbr) + C(dayofweek)', data=df_test)\n",
    "result_1 = model_1.fit()\n",
    "print(result_1.summary())"
   ]
  },
  {
   "cell_type": "code",
   "execution_count": null,
   "metadata": {},
   "outputs": [],
   "source": [
    "sp.stats.probplot(result_1.resid, plot=plt)\n",
    "plt.show()\n",
    "\n",
    "test = sms.omni_normtest(result_1.resid)\n",
    "for xi in zip(['Chi^2', 'P-value'], test):\n",
    "    print(\"%-12s: %6.3f\" % xi)"
   ]
  },
  {
   "cell_type": "code",
   "execution_count": null,
   "metadata": {},
   "outputs": [],
   "source": [
    "# 3차\n",
    "res = result_1.resid_pearson\n",
    "index = result_1.resid.index\n",
    "outlier_index = abs(res) >= 2\n",
    "\n",
    "row = pd.Series(index=index, data=res)\n",
    "drop_index = row[outlier_index].index"
   ]
  },
  {
   "cell_type": "code",
   "execution_count": null,
   "metadata": {},
   "outputs": [],
   "source": [
    "df_test.drop(list(drop_index),inplace=True)"
   ]
  },
  {
   "cell_type": "code",
   "execution_count": null,
   "metadata": {},
   "outputs": [],
   "source": [
    "model_1 = sm.OLS.from_formula('units ~ C(item_nbr) + C(store_nbr) + C(dayofweek)', data=df_test)\n",
    "result_1 = model_1.fit()\n",
    "print(result_1.summary())"
   ]
  },
  {
   "cell_type": "code",
   "execution_count": null,
   "metadata": {},
   "outputs": [],
   "source": [
    "sp.stats.probplot(result_1.resid, plot=plt)\n",
    "plt.show()\n",
    "\n",
    "test = sms.omni_normtest(result_1.resid)\n",
    "for xi in zip(['Chi^2', 'P-value'], test):\n",
    "    print(\"%-12s: %6.3f\" % xi)"
   ]
  },
  {
   "cell_type": "code",
   "execution_count": null,
   "metadata": {},
   "outputs": [],
   "source": [
    "# 4차\n",
    "res = result_1.resid_pearson\n",
    "index = result_1.resid.index\n",
    "outlier_index = abs(res) >= 2\n",
    "\n",
    "row = pd.Series(index=index, data=res)\n",
    "drop_index = row[outlier_index].index"
   ]
  },
  {
   "cell_type": "code",
   "execution_count": null,
   "metadata": {},
   "outputs": [],
   "source": [
    "df_test.drop(list(drop_index),inplace=True)"
   ]
  },
  {
   "cell_type": "code",
   "execution_count": null,
   "metadata": {},
   "outputs": [],
   "source": [
    "model_1 = sm.OLS.from_formula('units ~ C(item_nbr) + C(store_nbr) + C(dayofweek)', data=df_test)\n",
    "result_1 = model_1.fit()\n",
    "print(result_1.summary())"
   ]
  },
  {
   "cell_type": "code",
   "execution_count": null,
   "metadata": {},
   "outputs": [],
   "source": [
    "sp.stats.probplot(result_1.resid, plot=plt)\n",
    "plt.show()\n",
    "\n",
    "test = sms.omni_normtest(result_1.resid)\n",
    "for xi in zip(['Chi^2', 'P-value'], test):\n",
    "    print(\"%-12s: %6.3f\" % xi)"
   ]
  },
  {
   "cell_type": "code",
   "execution_count": null,
   "metadata": {},
   "outputs": [],
   "source": [
    "# 5차\n",
    "res = result_1.resid_pearson\n",
    "index = result_1.resid.index\n",
    "outlier_index = abs(res) >= 2\n",
    "\n",
    "row = pd.Series(index=index, data=res)\n",
    "drop_index = row[outlier_index].index"
   ]
  },
  {
   "cell_type": "code",
   "execution_count": null,
   "metadata": {},
   "outputs": [],
   "source": [
    "df_test.drop(list(drop_index),inplace=True)"
   ]
  },
  {
   "cell_type": "code",
   "execution_count": null,
   "metadata": {},
   "outputs": [],
   "source": [
    "model_1 = sm.OLS.from_formula('units ~ C(item_nbr) + C(store_nbr) + C(dayofweek)', data=df_test)\n",
    "result_1 = model_1.fit()\n",
    "print(result_1.summary())"
   ]
  },
  {
   "cell_type": "code",
   "execution_count": null,
   "metadata": {},
   "outputs": [],
   "source": [
    "sp.stats.probplot(result_1.resid, plot=plt)\n",
    "plt.show()\n",
    "\n",
    "test = sms.omni_normtest(result_1.resid)\n",
    "for xi in zip(['Chi^2', 'P-value'], test):\n",
    "    print(\"%-12s: %6.3f\" % xi)"
   ]
  },
  {
   "cell_type": "code",
   "execution_count": null,
   "metadata": {},
   "outputs": [],
   "source": [
    "# 6차 제거\n",
    "res = result_1.resid_pearson\n",
    "index = result_1.resid.index\n",
    "outlier_index = abs(res) >= 2\n",
    "\n",
    "row = pd.Series(index=index, data=res)\n",
    "drop_index = row[outlier_index].index"
   ]
  },
  {
   "cell_type": "code",
   "execution_count": null,
   "metadata": {},
   "outputs": [],
   "source": [
    "df_test.drop(list(drop_index),inplace=True)"
   ]
  },
  {
   "cell_type": "code",
   "execution_count": null,
   "metadata": {},
   "outputs": [],
   "source": [
    "model_1 = sm.OLS.from_formula('units ~ C(item_nbr) + C(store_nbr) + C(dayofweek)', data=df_test)\n",
    "result_1 = model_1.fit()\n",
    "print(result_1.summary())"
   ]
  },
  {
   "cell_type": "code",
   "execution_count": null,
   "metadata": {},
   "outputs": [],
   "source": [
    "sp.stats.probplot(result_1.resid, plot=plt)\n",
    "plt.show()\n",
    "\n",
    "test = sms.omni_normtest(result_1.resid)\n",
    "for xi in zip(['Chi^2', 'P-value'], test):\n",
    "    print(\"%-12s: %6.3f\" % xi)"
   ]
  },
  {
   "cell_type": "code",
   "execution_count": null,
   "metadata": {},
   "outputs": [],
   "source": []
  },
  {
   "cell_type": "code",
   "execution_count": null,
   "metadata": {},
   "outputs": [],
   "source": []
  },
  {
   "cell_type": "code",
   "execution_count": null,
   "metadata": {},
   "outputs": [],
   "source": []
  },
  {
   "cell_type": "code",
   "execution_count": null,
   "metadata": {},
   "outputs": [],
   "source": []
  },
  {
   "cell_type": "code",
   "execution_count": null,
   "metadata": {},
   "outputs": [],
   "source": []
  },
  {
   "cell_type": "code",
   "execution_count": null,
   "metadata": {},
   "outputs": [],
   "source": []
  },
  {
   "cell_type": "markdown",
   "metadata": {},
   "source": [
    "# 정규화 (sci-kit learn)"
   ]
  },
  {
   "cell_type": "code",
   "execution_count": null,
   "metadata": {},
   "outputs": [],
   "source": [
    "from sklearn.datasets import make_regression\n",
    "from patsy import dmatrices\n",
    "from sklearn.model_selection import cross_val_score\n",
    "from sklearn.linear_model import LinearRegression, Ridge, Lasso, ElasticNet"
   ]
  },
  {
   "cell_type": "code",
   "execution_count": null,
   "metadata": {},
   "outputs": [],
   "source": [
    "# patsy를 통한 formula 생성\n",
    "y, X = dmatrices( \"np.log(units) ~ C(item_nbr) + C(store_nbr) + C(dayofweek)\", df_test , return_type = 'dataframe' )"
   ]
  },
  {
   "cell_type": "code",
   "execution_count": null,
   "metadata": {},
   "outputs": [],
   "source": [
    "# y, X, Linear Regression, Ridge, Lasso, ElasticNet\n",
    "model_LR = LinearRegression().fit(X, y)\n",
    "model_ridge = Ridge(alpha=0.5).fit(X, y)\n",
    "model_lasso = Lasso(alpha=0.5).fit(X, y)\n",
    "model_EN = ElasticNet(alpha=0.5).fit(X, y)"
   ]
  },
  {
   "cell_type": "code",
   "execution_count": null,
   "metadata": {},
   "outputs": [],
   "source": [
    "from sklearn.model_selection import KFold\n",
    "\n",
    "cv = KFold(10, shuffle=True)\n",
    "#cross_val_score(model1_LR, X, y, scoring=\"r2\", cv=cv)\n",
    "print('[Original LR]')\n",
    "print('score : ', cross_val_score(model_LR, X, y, scoring=\"r2\", cv=cv),'\\n',\n",
    "      'mean : ', np.mean(cross_val_score(model_LR, X, y, scoring=\"r2\", cv=cv)),'\\n')\n",
    "\n",
    "print('[Ridge]')\n",
    "print('score : ', cross_val_score(model_ridge, X, y, scoring=\"r2\", cv=cv),'\\n',\n",
    "      'mean : ', np.mean(cross_val_score(model_ridge, X, y, scoring=\"r2\", cv=cv)),'\\n')\n",
    "      #'std : ', np.std(cross_val_score(model1_ridge, X, y, scoring=\"r2\", cv=cv)))\n",
    "\n",
    "print('\\n[Lasso]')\n",
    "print('score : ', cross_val_score(model_lasso, X, y, scoring=\"r2\", cv=cv),'\\n',\n",
    "      'mean : ', np.mean(cross_val_score(model_lasso, X, y, scoring=\"r2\", cv=cv)),'\\n')\n",
    "      #'std : ', np.std(cross_val_score(model1_lasso, X, y, scoring=\"r2\", cv=cv)))\n",
    "\n",
    "print('\\n[Elastic-net]')\n",
    "print('score : ', cross_val_score(model_EN, X, y, scoring=\"r2\", cv=cv),'\\n',\n",
    "      'mean : ', np.mean(cross_val_score(model_EN, X, y, scoring=\"r2\", cv=cv)),'\\n')\n",
    "#      'std : ', np.std(cross_val_score(model1_EN, X, y, scoring=\"r2\", cv=cv)))"
   ]
  },
  {
   "cell_type": "markdown",
   "metadata": {},
   "source": [
    "# 모델에 제출하기에 앞선 cross-validation 결과 및 RMSLE 채점 결과"
   ]
  },
  {
   "cell_type": "code",
   "execution_count": null,
   "metadata": {},
   "outputs": [],
   "source": [
    "# RMSLE 구현 / 긁어왔습니다 \n",
    "from sklearn.metrics import make_scorer\n",
    "def rmsle(predict, actual):\n",
    "    predict = np.array(predict)\n",
    "    actual = np.array(actual)\n",
    "    \n",
    "    log_predict = np.log(predict + 1)\n",
    "    log_actual = np.log(actual + 1)\n",
    "    \n",
    "    difference = log_predict - log_actual\n",
    "    square_difference = difference ** 2\n",
    "    mean_square_difference = square_difference.mean()\n",
    "    \n",
    "    score = np.sqrt(mean_square_difference)\n",
    "    \n",
    "    return score\n",
    "\n",
    "rmsle_score = make_scorer(rmsle)\n",
    "rmsle_score"
   ]
  },
  {
   "cell_type": "code",
   "execution_count": null,
   "metadata": {},
   "outputs": [],
   "source": [
    "cross_val_score(model_ridge, X, y, cv=10, scoring=rmsle_score).mean()"
   ]
  },
  {
   "cell_type": "markdown",
   "metadata": {},
   "source": [
    "# 제출을 위한 test파일 준비"
   ]
  },
  {
   "cell_type": "markdown",
   "metadata": {},
   "source": [
    "### test file preprocessing"
   ]
  },
  {
   "cell_type": "code",
   "execution_count": null,
   "metadata": {},
   "outputs": [],
   "source": [
    "test = pd.read_csv('../../data/basic/test.csv')\n",
    "print(test.shape)\n",
    "test.head()"
   ]
  },
  {
   "cell_type": "code",
   "execution_count": null,
   "metadata": {},
   "outputs": [],
   "source": [
    "key = pd.read_csv('../../data/basic/key.csv')\n",
    "weather = pd.read_csv('../../data/weather_v8_with_holiday.csv')"
   ]
  },
  {
   "cell_type": "code",
   "execution_count": null,
   "metadata": {},
   "outputs": [],
   "source": [
    "test = pd.merge(test, key)"
   ]
  },
  {
   "cell_type": "code",
   "execution_count": null,
   "metadata": {},
   "outputs": [],
   "source": [
    "test = pd.merge(test, weather)"
   ]
  },
  {
   "cell_type": "code",
   "execution_count": null,
   "metadata": {},
   "outputs": [],
   "source": [
    "test.columns"
   ]
  },
  {
   "cell_type": "code",
   "execution_count": null,
   "metadata": {},
   "outputs": [],
   "source": [
    "test = pd.DataFrame(test, columns=['date','dayofweek', 'is_holiday', 'store_nbr', 'item_nbr', 'station_nbr', 'tmax',\n",
    "       'tmin', 'tavg', 'depart', 'dewpoint', 'wetbulb', 'heat', 'cool',\n",
    "       'sunrise', 'sunset', 'codesum', 'codesum_YN', 'snowfall', 'preciptotal',\n",
    "       'stnpressure', 'sealevel', 'resultspeed', 'resultdir', 'avgspeed',\n",
    "       ])"
   ]
  },
  {
   "cell_type": "code",
   "execution_count": null,
   "metadata": {},
   "outputs": [],
   "source": [
    "test.head()"
   ]
  },
  {
   "cell_type": "code",
   "execution_count": null,
   "metadata": {},
   "outputs": [],
   "source": [
    "def is_holiday(holiday):\n",
    "    if holiday == 'holiday':\n",
    "        return 1\n",
    "    elif holiday == 'holiday_work':\n",
    "        return 1\n",
    "    elif holiday == \"workday\":\n",
    "        return 0"
   ]
  },
  {
   "cell_type": "code",
   "execution_count": null,
   "metadata": {},
   "outputs": [],
   "source": [
    "test['is_holiday'] = test['is_holiday'].apply(is_holiday)"
   ]
  },
  {
   "cell_type": "code",
   "execution_count": null,
   "metadata": {},
   "outputs": [],
   "source": [
    "test['year'] = test['date'].apply(make_year)\n",
    "test['month'] = test['date'].apply(make_month)\n",
    "test['day'] = test['date'].apply(make_day)\n",
    "test['dayofweek'] = test['dayofweek'].apply(dayofweek_num)"
   ]
  },
  {
   "cell_type": "code",
   "execution_count": null,
   "metadata": {},
   "outputs": [],
   "source": [
    "test_sample = test.drop(columns=['date', 'tmax', 'tmin', 'tavg', 'dewpoint', 'wetbulb',\n",
    "       'sunrise', 'sunset','depart',  'codesum', 'codesum_YN', 'snowfall',\n",
    "       'stnpressure', 'sealevel','resultdir', 'avgspeed',\n",
    "       'station_nbr', 'heat', 'cool', 'preciptotal', 'is_holiday', 'resultspeed'])"
   ]
  },
  {
   "cell_type": "code",
   "execution_count": null,
   "metadata": {},
   "outputs": [],
   "source": [
    "test_sample.head()"
   ]
  },
  {
   "cell_type": "code",
   "execution_count": null,
   "metadata": {},
   "outputs": [],
   "source": [
    "test_X_df = pd.DataFrame(columns=['item_nbr', 'store_nbr','dayofweek', 'year', 'month', 'day'])\n",
    "\n",
    "for nbr in range(1, 45+1):\n",
    "    store_nbr = df_test[df_test['store_nbr'].isin([nbr])]\n",
    "    sold_item_list = list(store_nbr['item_nbr'].unique())\n",
    "    sold_item_list\n",
    "\n",
    "    test_store_nbr = test_sample[test_sample['store_nbr'].isin([nbr])]\n",
    "    to_test_df = test_store_nbr[test_store_nbr['item_nbr'].isin(sold_item_list)]\n",
    "\n",
    "    test_X_df = pd.concat([test_X_df, to_test_df], axis = 0)\n",
    "    \n",
    "test_X_df.shape"
   ]
  },
  {
   "cell_type": "code",
   "execution_count": null,
   "metadata": {},
   "outputs": [],
   "source": [
    "test_X_df.head()"
   ]
  },
  {
   "cell_type": "code",
   "execution_count": null,
   "metadata": {},
   "outputs": [],
   "source": [
    "test_X_df['store_nbr'] = test_X_df['store_nbr'].astype(int)\n",
    "test_X_df['item_nbr'] = test_X_df['item_nbr'].astype(int)\n",
    "test_X_df['year'] = test_X_df['year'].astype(int)\n",
    "test_X_df['month'] = test_X_df['month'].astype(int)\n",
    "test_X_df['day'] = test_X_df['day'].astype(int)\n",
    "test_X_df['dayofweek'] = test_X_df['dayofweek'].astype(object)"
   ]
  },
  {
   "cell_type": "markdown",
   "metadata": {},
   "source": [
    "### Predict"
   ]
  },
  {
   "cell_type": "code",
   "execution_count": null,
   "metadata": {},
   "outputs": [],
   "source": [
    "result_1 = model_1.fit_regularized(alpha=0.5, L1_wt=0)"
   ]
  },
  {
   "cell_type": "code",
   "execution_count": null,
   "metadata": {},
   "outputs": [],
   "source": [
    "test_result = result_1.predict(test_X_df)"
   ]
  },
  {
   "cell_type": "markdown",
   "metadata": {},
   "source": [
    "### create submission file"
   ]
  },
  {
   "cell_type": "code",
   "execution_count": null,
   "metadata": {},
   "outputs": [],
   "source": [
    "result = pd.concat([test, test_result], axis=1)"
   ]
  },
  {
   "cell_type": "code",
   "execution_count": null,
   "metadata": {},
   "outputs": [],
   "source": [
    "print(result.shape)\n",
    "result.head()"
   ]
  },
  {
   "cell_type": "code",
   "execution_count": null,
   "metadata": {},
   "outputs": [],
   "source": [
    "result['units'] = result[0]"
   ]
  },
  {
   "cell_type": "code",
   "execution_count": null,
   "metadata": {},
   "outputs": [],
   "source": [
    "def itiszero(units):\n",
    "    if units > 0:\n",
    "        return units\n",
    "    else:\n",
    "        return 0"
   ]
  },
  {
   "cell_type": "code",
   "execution_count": null,
   "metadata": {},
   "outputs": [],
   "source": [
    "result['units'] = result['units'].apply(itiszero)"
   ]
  },
  {
   "cell_type": "code",
   "execution_count": null,
   "metadata": {},
   "outputs": [],
   "source": [
    "result['units'] = result['units'].astype(int)"
   ]
  },
  {
   "cell_type": "code",
   "execution_count": null,
   "metadata": {},
   "outputs": [],
   "source": [
    "result = pd.DataFrame(data=result, columns=['store_nbr', 'item_nbr', 'date', 'units'])"
   ]
  },
  {
   "cell_type": "code",
   "execution_count": null,
   "metadata": {},
   "outputs": [],
   "source": [
    "for col in result[['store_nbr', 'item_nbr']]:\n",
    "    result[col] = result[col].astype(int)"
   ]
  },
  {
   "cell_type": "code",
   "execution_count": null,
   "metadata": {},
   "outputs": [],
   "source": [
    "result['id'] = result['store_nbr'].astype(str)+'_'+result['item_nbr'].astype(str)+'_'+result['date'].astype(str)"
   ]
  },
  {
   "cell_type": "code",
   "execution_count": null,
   "metadata": {},
   "outputs": [],
   "source": [
    "for_submission = result.loc[:,['id','units']]"
   ]
  },
  {
   "cell_type": "code",
   "execution_count": null,
   "metadata": {},
   "outputs": [],
   "source": [
    "for_submission.head()"
   ]
  },
  {
   "cell_type": "code",
   "execution_count": null,
   "metadata": {},
   "outputs": [],
   "source": [
    "for_submission.to_csv('submission_sample19.csv', index=False)"
   ]
  },
  {
   "cell_type": "code",
   "execution_count": null,
   "metadata": {},
   "outputs": [],
   "source": []
  },
  {
   "cell_type": "code",
   "execution_count": null,
   "metadata": {},
   "outputs": [],
   "source": []
  },
  {
   "cell_type": "markdown",
   "metadata": {},
   "source": [
    "### 제출\n",
    "\n",
    "1차 제출 : fox outlier recommendation 1번 --> submission_sample12.csv --> 0.328\n",
    "\n",
    "2차 제출 : outlier 제거 1번 --> submission_sample13.csv --> 0.327\n",
    "\n",
    "3차 제출 : outlier 제거 2번 --> submission_sample14.csv --> 0.313\n",
    "\n",
    "4차 제출 : outlier 제거 3번 --> submission_sample15.csv --> 0.287\n",
    "\n",
    "5차 제출 : outlier 제거 4번 --> submission_sample16.csv --> 0.267\n",
    "\n",
    "6차 제출 : outlier 제거 5번 --> submission_sample17.csv --> 0.277\n",
    "\n",
    "7차 제출 : outlier 제거 6번 --> submission_sample18.csv --> 0.274\n",
    "\n",
    "8차 제출 : outlier 제거 6번 + 릿지 정규화 --> submission_sample19.csv --> 0.46"
   ]
  },
  {
   "cell_type": "code",
   "execution_count": null,
   "metadata": {},
   "outputs": [],
   "source": []
  },
  {
   "cell_type": "code",
   "execution_count": null,
   "metadata": {},
   "outputs": [],
   "source": []
  },
  {
   "cell_type": "code",
   "execution_count": null,
   "metadata": {},
   "outputs": [],
   "source": []
  },
  {
   "cell_type": "markdown",
   "metadata": {},
   "source": [
    "# 이번 시도의 결론, \n",
    "\n",
    "- 아웃라이어 제거 6번 이후에는 효과가 미비함\n",
    "- 정규화의 영향 : 더 안 좋음"
   ]
  },
  {
   "cell_type": "code",
   "execution_count": null,
   "metadata": {},
   "outputs": [],
   "source": []
  }
 ],
 "metadata": {
  "kernelspec": {
   "display_name": "Python 3",
   "language": "python",
   "name": "python3"
  },
  "language_info": {
   "codemirror_mode": {
    "name": "ipython",
    "version": 3
   },
   "file_extension": ".py",
   "mimetype": "text/x-python",
   "name": "python",
   "nbconvert_exporter": "python",
   "pygments_lexer": "ipython3",
   "version": "3.6.2"
  }
 },
 "nbformat": 4,
 "nbformat_minor": 2
}
