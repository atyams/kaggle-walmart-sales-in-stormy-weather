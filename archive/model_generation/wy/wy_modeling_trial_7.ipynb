{
 "cells": [
  {
   "cell_type": "code",
   "execution_count": 1,
   "metadata": {},
   "outputs": [
    {
     "name": "stdout",
     "output_type": "stream",
     "text": [
      "sympy imported\n",
      "pandas imported\n",
      "numpy imported\n",
      "scipy imported\n",
      "statsmodels imported\n",
      "statsmodels.formula imported\n",
      "statasmodels.stats.api imported\n"
     ]
    },
    {
     "name": "stderr",
     "output_type": "stream",
     "text": [
      "/Library/Frameworks/Python.framework/Versions/3.6/lib/python3.6/site-packages/statsmodels/compat/pandas.py:56: FutureWarning: The pandas.core.datetools module is deprecated and will be removed in a future version. Please use the pandas.tseries module instead.\n",
      "  from pandas.core import datetools\n"
     ]
    }
   ],
   "source": [
    "from set_math import *"
   ]
  },
  {
   "cell_type": "code",
   "execution_count": 2,
   "metadata": {},
   "outputs": [
    {
     "name": "stdout",
     "output_type": "stream",
     "text": [
      "matplotlib imported\n",
      "pyplot imported\n",
      "seaborn imported\n",
      "sns.set\n",
      "sns.set_style(whitegrid)\n",
      "sns.set_color_codes()\n",
      "type (% matplotlib inline) if necessary\n",
      "type (% config InlineBackend.figure_formats = {‘png’, ‘retina’}) if necessary\n"
     ]
    }
   ],
   "source": [
    "from set_visualization import *"
   ]
  },
  {
   "cell_type": "markdown",
   "metadata": {},
   "source": [
    "# load dataset"
   ]
  },
  {
   "cell_type": "markdown",
   "metadata": {},
   "source": [
    "train2.csv 파일 경로 : dss7-walmart-project/model_generation/wy"
   ]
  },
  {
   "cell_type": "code",
   "execution_count": 3,
   "metadata": {},
   "outputs": [],
   "source": [
    "df = pd.read_csv('train2.csv', index_col=0)"
   ]
  },
  {
   "cell_type": "code",
   "execution_count": 4,
   "metadata": {},
   "outputs": [
    {
     "name": "stdout",
     "output_type": "stream",
     "text": [
      "(118694, 26)\n"
     ]
    }
   ],
   "source": [
    "print(df.shape)"
   ]
  },
  {
   "cell_type": "code",
   "execution_count": 5,
   "metadata": {},
   "outputs": [],
   "source": [
    "def make_year(date):\n",
    "    return int(date.split('-')[0])\n",
    "\n",
    "def make_month(date):\n",
    "    return int(date.split('-')[1])\n",
    "\n",
    "def make_day(date):\n",
    "    return int(date.split('-')[2])\n",
    "\n",
    "def make_monthday(date):\n",
    "    return (date.split('-')[1:3])\n",
    "\n",
    "def dayofweek_num(dayofweek):\n",
    "    if dayofweek == 'Mon':\n",
    "        return 1\n",
    "    elif dayofweek == 'Tue':\n",
    "        return 2\n",
    "    elif dayofweek == 'Wed':\n",
    "        return 3\n",
    "    elif dayofweek == 'Thi':\n",
    "        return 4\n",
    "    elif dayofweek == 'Fri':\n",
    "        return 5\n",
    "    elif dayofweek == 'Sat':\n",
    "        return 6\n",
    "    elif dayofweek == 'Sun':\n",
    "        return 7"
   ]
  },
  {
   "cell_type": "code",
   "execution_count": 6,
   "metadata": {},
   "outputs": [],
   "source": [
    "df['year'] = df['date'].apply(make_year)\n",
    "df['month'] = df['date'].apply(make_month)\n",
    "df['day'] = df['date'].apply(make_day)\n",
    "df['dayofweek'] = df['dayofweek'].apply(dayofweek_num)\n",
    "df['dayofweek'] = df['dayofweek'].astype(int)"
   ]
  },
  {
   "cell_type": "code",
   "execution_count": null,
   "metadata": {},
   "outputs": [],
   "source": [
    "## 분포 그리기\n",
    "# fig = plt.figure(figsize=(20, 15))\n",
    "# for i in range(0,30):\n",
    "#     plt.subplot(10, 3, i+1)\n",
    "#     plt.hist(df[df.columns[i]], bins=50)\n",
    "#     plt.xlabel(df.columns[i], fontsize = 20)\n",
    "# plt.tight_layout()"
   ]
  },
  {
   "cell_type": "code",
   "execution_count": null,
   "metadata": {},
   "outputs": [],
   "source": []
  },
  {
   "cell_type": "markdown",
   "metadata": {},
   "source": [
    "# 카테고리형 독립변수만 고려"
   ]
  },
  {
   "cell_type": "code",
   "execution_count": 7,
   "metadata": {
    "scrolled": true
   },
   "outputs": [
    {
     "name": "stdout",
     "output_type": "stream",
     "text": [
      "                            OLS Regression Results                            \n",
      "==============================================================================\n",
      "Dep. Variable:          np.log(units)   R-squared:                       0.860\n",
      "Model:                            OLS   Adj. R-squared:                  0.860\n",
      "Method:                 Least Squares   F-statistic:                     3600.\n",
      "Date:                Tue, 13 Mar 2018   Prob (F-statistic):               0.00\n",
      "Time:                        19:57:06   Log-Likelihood:            -1.0428e+05\n",
      "No. Observations:              118694   AIC:                         2.090e+05\n",
      "Df Residuals:                  118490   BIC:                         2.109e+05\n",
      "Df Model:                         203                                         \n",
      "Covariance Type:            nonrobust                                         \n",
      "======================================================================================\n",
      "                         coef    std err          t      P>|t|      [0.025      0.975]\n",
      "--------------------------------------------------------------------------------------\n",
      "Intercept              1.1059      0.042     26.344      0.000       1.024       1.188\n",
      "C(item_nbr)[T.2]       0.1106      0.043      2.596      0.009       0.027       0.194\n",
      "C(item_nbr)[T.3]      -0.4043      0.054     -7.496      0.000      -0.510      -0.299\n",
      "C(item_nbr)[T.4]       0.5430      0.059      9.142      0.000       0.427       0.659\n",
      "C(item_nbr)[T.5]       2.6518      0.037     71.112      0.000       2.579       2.725\n",
      "C(item_nbr)[T.6]       1.0498      0.093     11.348      0.000       0.868       1.231\n",
      "C(item_nbr)[T.7]      -0.8558      0.051    -16.715      0.000      -0.956      -0.755\n",
      "C(item_nbr)[T.8]       2.2312      0.045     49.851      0.000       2.144       2.319\n",
      "C(item_nbr)[T.9]       2.6134      0.037     71.294      0.000       2.542       2.685\n",
      "C(item_nbr)[T.10]     -0.4991      0.050     -9.897      0.000      -0.598      -0.400\n",
      "C(item_nbr)[T.11]     -0.8113      0.051    -15.890      0.000      -0.911      -0.711\n",
      "C(item_nbr)[T.12]     -1.1525      0.050    -22.907      0.000      -1.251      -1.054\n",
      "C(item_nbr)[T.13]     -0.6288      0.055    -11.514      0.000      -0.736      -0.522\n",
      "C(item_nbr)[T.14]     -0.7679      0.060    -12.705      0.000      -0.886      -0.649\n",
      "C(item_nbr)[T.15]      0.5016      0.044     11.408      0.000       0.415       0.588\n",
      "C(item_nbr)[T.16]      2.2256      0.038     58.221      0.000       2.151       2.301\n",
      "C(item_nbr)[T.17]     -0.8344      0.049    -17.062      0.000      -0.930      -0.739\n",
      "C(item_nbr)[T.18]     -1.2044      0.051    -23.689      0.000      -1.304      -1.105\n",
      "C(item_nbr)[T.19]     -0.6778      0.049    -13.843      0.000      -0.774      -0.582\n",
      "C(item_nbr)[T.20]     -0.5001      0.048    -10.470      0.000      -0.594      -0.406\n",
      "C(item_nbr)[T.21]     -0.6193      0.043    -14.505      0.000      -0.703      -0.536\n",
      "C(item_nbr)[T.22]      0.7455      0.076      9.830      0.000       0.597       0.894\n",
      "C(item_nbr)[T.23]      1.7130      0.041     41.345      0.000       1.632       1.794\n",
      "C(item_nbr)[T.24]      0.9665      0.054     17.771      0.000       0.860       1.073\n",
      "C(item_nbr)[T.25]      3.1378      0.041     76.052      0.000       3.057       3.219\n",
      "C(item_nbr)[T.26]      1.2555      0.046     27.397      0.000       1.166       1.345\n",
      "C(item_nbr)[T.27]      0.3233      0.045      7.194      0.000       0.235       0.411\n",
      "C(item_nbr)[T.28]      0.7874      0.045     17.645      0.000       0.700       0.875\n",
      "C(item_nbr)[T.29]     -0.2480      0.048     -5.214      0.000      -0.341      -0.155\n",
      "C(item_nbr)[T.30]     -0.3714      0.041     -9.051      0.000      -0.452      -0.291\n",
      "C(item_nbr)[T.31]     -0.9468      0.051    -18.739      0.000      -1.046      -0.848\n",
      "C(item_nbr)[T.32]     -0.4484      0.053     -8.536      0.000      -0.551      -0.345\n",
      "C(item_nbr)[T.33]      0.5187      0.055      9.371      0.000       0.410       0.627\n",
      "C(item_nbr)[T.34]      0.3965      0.090      4.401      0.000       0.220       0.573\n",
      "C(item_nbr)[T.35]     -0.2482      0.050     -4.979      0.000      -0.346      -0.150\n",
      "C(item_nbr)[T.36]      3.0918      0.041     74.914      0.000       3.011       3.173\n",
      "C(item_nbr)[T.37]      1.6056      0.038     41.770      0.000       1.530       1.681\n",
      "C(item_nbr)[T.38]      0.8559      0.051     16.625      0.000       0.755       0.957\n",
      "C(item_nbr)[T.39]     -0.4705      0.061     -7.713      0.000      -0.590      -0.351\n",
      "C(item_nbr)[T.40]     -0.2432      0.068     -3.582      0.000      -0.376      -0.110\n",
      "C(item_nbr)[T.41]      1.9143      0.042     46.089      0.000       1.833       1.996\n",
      "C(item_nbr)[T.42]      0.8913      0.047     18.860      0.000       0.799       0.984\n",
      "C(item_nbr)[T.43]      1.3507      0.093     14.601      0.000       1.169       1.532\n",
      "C(item_nbr)[T.44]      3.4409      0.037     93.866      0.000       3.369       3.513\n",
      "C(item_nbr)[T.45]      3.0278      0.037     81.161      0.000       2.955       3.101\n",
      "C(item_nbr)[T.46]     -0.6120      0.054    -11.428      0.000      -0.717      -0.507\n",
      "C(item_nbr)[T.47]      1.2611      0.053     24.020      0.000       1.158       1.364\n",
      "C(item_nbr)[T.48]      2.5852      0.047     54.430      0.000       2.492       2.678\n",
      "C(item_nbr)[T.49]     -0.6086      0.055    -11.098      0.000      -0.716      -0.501\n",
      "C(item_nbr)[T.50]      0.0607      0.045      1.351      0.177      -0.027       0.149\n",
      "C(item_nbr)[T.51]     -0.1967      0.045     -4.386      0.000      -0.285      -0.109\n",
      "C(item_nbr)[T.52]     -0.8695      0.042    -20.655      0.000      -0.952      -0.787\n",
      "C(item_nbr)[T.53]     -0.5071      0.051    -10.030      0.000      -0.606      -0.408\n",
      "C(item_nbr)[T.54]     -0.8304      0.051    -16.302      0.000      -0.930      -0.731\n",
      "C(item_nbr)[T.55]     -0.3495      0.049     -7.130      0.000      -0.446      -0.253\n",
      "C(item_nbr)[T.56]     -0.0773      0.045     -1.710      0.087      -0.166       0.011\n",
      "C(item_nbr)[T.57]      0.1139      0.055      2.079      0.038       0.007       0.221\n",
      "C(item_nbr)[T.58]     -0.1564      0.050     -3.137      0.002      -0.254      -0.059\n",
      "C(item_nbr)[T.59]     -0.3845      0.048     -8.088      0.000      -0.478      -0.291\n",
      "C(item_nbr)[T.60]     -2.1368      0.094    -22.619      0.000      -2.322      -1.952\n",
      "C(item_nbr)[T.61]     -0.5630      0.042    -13.370      0.000      -0.646      -0.480\n",
      "C(item_nbr)[T.62]     -0.6579      0.052    -12.611      0.000      -0.760      -0.556\n",
      "C(item_nbr)[T.63]      0.4245      0.053      7.945      0.000       0.320       0.529\n",
      "C(item_nbr)[T.64]     -0.3338      0.057     -5.847      0.000      -0.446      -0.222\n",
      "C(item_nbr)[T.65]     -1.1532      0.050    -23.083      0.000      -1.251      -1.055\n",
      "C(item_nbr)[T.66]      1.8140      0.046     39.383      0.000       1.724       1.904\n",
      "C(item_nbr)[T.67]      1.0630      0.046     23.350      0.000       0.974       1.152\n",
      "C(item_nbr)[T.68]      2.4624      0.038     64.114      0.000       2.387       2.538\n",
      "C(item_nbr)[T.69]     -0.1824      0.050     -3.665      0.000      -0.280      -0.085\n",
      "C(item_nbr)[T.70]      1.0008      0.058     17.393      0.000       0.888       1.114\n",
      "C(item_nbr)[T.71]     -2.0791      0.053    -39.164      0.000      -2.183      -1.975\n",
      "C(item_nbr)[T.72]     -0.2328      0.050     -4.648      0.000      -0.331      -0.135\n",
      "C(item_nbr)[T.73]     -0.8933      0.052    -17.059      0.000      -0.996      -0.791\n",
      "C(item_nbr)[T.74]     -0.6895      0.052    -13.135      0.000      -0.792      -0.587\n",
      "C(item_nbr)[T.75]     -0.1624      0.056     -2.913      0.004      -0.272      -0.053\n",
      "C(item_nbr)[T.76]     -2.0627      0.100    -20.595      0.000      -2.259      -1.866\n",
      "C(item_nbr)[T.77]     -0.5021      0.054     -9.338      0.000      -0.608      -0.397\n",
      "C(item_nbr)[T.78]     -0.0770      0.056     -1.374      0.169      -0.187       0.033\n",
      "C(item_nbr)[T.79]     -0.5601      0.052    -10.759      0.000      -0.662      -0.458\n",
      "C(item_nbr)[T.80]     -0.6640      0.054    -12.289      0.000      -0.770      -0.558\n",
      "C(item_nbr)[T.81]      0.8612      0.049     17.518      0.000       0.765       0.958\n",
      "C(item_nbr)[T.82]     -0.7050      0.052    -13.486      0.000      -0.807      -0.603\n",
      "C(item_nbr)[T.83]      1.4009      0.046     30.636      0.000       1.311       1.491\n",
      "C(item_nbr)[T.84]     -0.9079      0.060    -15.131      0.000      -1.026      -0.790\n",
      "C(item_nbr)[T.85]     -1.3452      0.059    -22.910      0.000      -1.460      -1.230\n",
      "C(item_nbr)[T.86]     -0.7748      0.046    -16.957      0.000      -0.864      -0.685\n",
      "C(item_nbr)[T.87]     -0.2986      0.048     -6.190      0.000      -0.393      -0.204\n",
      "C(item_nbr)[T.88]     -0.0897      0.065     -1.386      0.166      -0.217       0.037\n",
      "C(item_nbr)[T.89]     -0.2661      0.078     -3.410      0.001      -0.419      -0.113\n",
      "C(item_nbr)[T.90]     -1.4281      0.048    -29.903      0.000      -1.522      -1.335\n",
      "C(item_nbr)[T.91]     -0.6008      0.051    -11.786      0.000      -0.701      -0.501\n",
      "C(item_nbr)[T.92]     -1.1875      0.051    -23.486      0.000      -1.287      -1.088\n",
      "C(item_nbr)[T.93]      0.1132      0.038      2.993      0.003       0.039       0.187\n",
      "C(item_nbr)[T.94]     -0.6612      0.048    -13.708      0.000      -0.756      -0.567\n",
      "C(item_nbr)[T.95]      2.3985      0.050     47.989      0.000       2.301       2.496\n",
      "C(item_nbr)[T.96]     -0.8669      0.072    -12.040      0.000      -1.008      -0.726\n",
      "C(item_nbr)[T.97]     -0.9523      0.069    -13.874      0.000      -1.087      -0.818\n",
      "C(item_nbr)[T.98]     -0.7905      0.044    -17.787      0.000      -0.878      -0.703\n",
      "C(item_nbr)[T.99]      0.0877      0.058      1.504      0.133      -0.027       0.202\n",
      "C(item_nbr)[T.100]    -0.1113      0.054     -2.072      0.038      -0.217      -0.006\n",
      "C(item_nbr)[T.101]    -1.4254      0.056    -25.351      0.000      -1.536      -1.315\n",
      "C(item_nbr)[T.102]    -0.8964      0.125     -7.157      0.000      -1.142      -0.651\n",
      "C(item_nbr)[T.103]     1.4278      0.063     22.566      0.000       1.304       1.552\n",
      "C(item_nbr)[T.104]    -0.3982      0.051     -7.769      0.000      -0.499      -0.298\n",
      "C(item_nbr)[T.105]    -0.4928      0.049    -10.044      0.000      -0.589      -0.397\n",
      "C(item_nbr)[T.106]    -0.6760      0.079     -8.546      0.000      -0.831      -0.521\n",
      "C(item_nbr)[T.107]    -0.2419      0.056     -4.282      0.000      -0.353      -0.131\n",
      "C(item_nbr)[T.108]     0.7651      0.053     14.562      0.000       0.662       0.868\n",
      "C(item_nbr)[T.109]     0.7128      0.045     16.002      0.000       0.625       0.800\n",
      "C(item_nbr)[T.110]     1.0426      0.063     16.477      0.000       0.919       1.167\n",
      "C(item_nbr)[T.111]     2.2795      0.080     28.382      0.000       2.122       2.437\n",
      "C(store_nbr)[T.2]      0.6344      0.023     28.017      0.000       0.590       0.679\n",
      "C(store_nbr)[T.3]      0.4582      0.022     21.100      0.000       0.416       0.501\n",
      "C(store_nbr)[T.4]      1.2486      0.024     51.066      0.000       1.201       1.297\n",
      "C(store_nbr)[T.5]      0.1990      0.023      8.597      0.000       0.154       0.244\n",
      "C(store_nbr)[T.6]      0.4670      0.022     21.224      0.000       0.424       0.510\n",
      "C(store_nbr)[T.7]      0.7026      0.024     29.307      0.000       0.656       0.750\n",
      "C(store_nbr)[T.8]     -0.0255      0.024     -1.079      0.281      -0.072       0.021\n",
      "C(store_nbr)[T.9]      0.4008      0.022     18.217      0.000       0.358       0.444\n",
      "C(store_nbr)[T.10]     0.5083      0.022     23.234      0.000       0.465       0.551\n",
      "C(store_nbr)[T.11]     0.2864      0.022     13.171      0.000       0.244       0.329\n",
      "C(store_nbr)[T.12]     0.5034      0.023     21.958      0.000       0.458       0.548\n",
      "C(store_nbr)[T.13]     0.6155      0.023     26.316      0.000       0.570       0.661\n",
      "C(store_nbr)[T.14]    -0.9936      0.023    -43.589      0.000      -1.038      -0.949\n",
      "C(store_nbr)[T.15]     0.5641      0.021     26.798      0.000       0.523       0.605\n",
      "C(store_nbr)[T.16]     0.7054      0.024     29.341      0.000       0.658       0.753\n",
      "C(store_nbr)[T.17]     1.6427      0.022     73.975      0.000       1.599       1.686\n",
      "C(store_nbr)[T.18]    -0.3014      0.023    -13.118      0.000      -0.346      -0.256\n",
      "C(store_nbr)[T.19]     0.0158      0.026      0.616      0.538      -0.034       0.066\n",
      "C(store_nbr)[T.20]     0.7354      0.024     30.558      0.000       0.688       0.783\n",
      "C(store_nbr)[T.21]     0.3094      0.023     13.643      0.000       0.265       0.354\n",
      "C(store_nbr)[T.22]     0.4080      0.022     18.893      0.000       0.366       0.450\n",
      "C(store_nbr)[T.23]    -0.0891      0.022     -4.000      0.000      -0.133      -0.045\n",
      "C(store_nbr)[T.24]     1.7162      0.084     20.312      0.000       1.551       1.882\n",
      "C(store_nbr)[T.25]     0.7706      0.021     36.956      0.000       0.730       0.811\n",
      "C(store_nbr)[T.26]     0.2220      0.022     10.035      0.000       0.179       0.265\n",
      "C(store_nbr)[T.27]     0.2313      0.021     10.868      0.000       0.190       0.273\n",
      "C(store_nbr)[T.28]     0.0952      0.022      4.249      0.000       0.051       0.139\n",
      "C(store_nbr)[T.29]     0.3508      0.024     14.619      0.000       0.304       0.398\n",
      "C(store_nbr)[T.30]     0.6520      0.023     28.171      0.000       0.607       0.697\n",
      "C(store_nbr)[T.31]     0.5526      0.021     26.331      0.000       0.511       0.594\n",
      "C(store_nbr)[T.32]     0.1886      0.020      9.222      0.000       0.148       0.229\n",
      "C(store_nbr)[T.33]     1.1081      0.022     50.436      0.000       1.065       1.151\n",
      "C(store_nbr)[T.34]     0.6285      0.021     29.994      0.000       0.587       0.670\n",
      "C(store_nbr)[T.35]     0.1849      0.026      7.112      0.000       0.134       0.236\n",
      "C(store_nbr)[T.36]     0.0449      0.022      2.028      0.043       0.002       0.088\n",
      "C(store_nbr)[T.37]     0.1652      0.022      7.605      0.000       0.123       0.208\n",
      "C(store_nbr)[T.38]     0.7126      0.021     34.048      0.000       0.672       0.754\n",
      "C(store_nbr)[T.39]    -1.7620      0.024    -72.995      0.000      -1.809      -1.715\n",
      "C(store_nbr)[T.40]     0.3169      0.021     14.920      0.000       0.275       0.358\n",
      "C(store_nbr)[T.41]     0.3936      0.022     17.792      0.000       0.350       0.437\n",
      "C(store_nbr)[T.42]     0.2456      0.023     10.749      0.000       0.201       0.290\n",
      "C(store_nbr)[T.43]     0.4376      0.023     18.706      0.000       0.392       0.483\n",
      "C(store_nbr)[T.44]     0.3879      0.022     17.377      0.000       0.344       0.432\n",
      "C(store_nbr)[T.45]    -0.7662      0.025    -30.544      0.000      -0.815      -0.717\n",
      "C(dayofweek)[T.2]     -0.1080      0.006    -16.873      0.000      -0.121      -0.095\n",
      "C(dayofweek)[T.3]     -0.1538      0.006    -24.053      0.000      -0.166      -0.141\n",
      "C(dayofweek)[T.4]     -0.1686      0.006    -26.417      0.000      -0.181      -0.156\n",
      "C(dayofweek)[T.5]     -0.0641      0.006    -10.116      0.000      -0.077      -0.052\n",
      "C(dayofweek)[T.6]      0.1036      0.006     16.418      0.000       0.091       0.116\n",
      "C(dayofweek)[T.7]      0.1620      0.006     25.621      0.000       0.150       0.174\n",
      "C(year)[T.2013]       -0.0741      0.004    -18.224      0.000      -0.082      -0.066\n",
      "C(year)[T.2014]       -0.2402      0.005    -52.058      0.000      -0.249      -0.231\n",
      "C(month)[T.2]         -0.0401      0.008     -5.090      0.000      -0.056      -0.025\n",
      "C(month)[T.3]         -0.0868      0.008    -11.277      0.000      -0.102      -0.072\n",
      "C(month)[T.4]         -0.1379      0.008    -17.417      0.000      -0.153      -0.122\n",
      "C(month)[T.5]         -0.1373      0.008    -17.221      0.000      -0.153      -0.122\n",
      "C(month)[T.6]         -0.0846      0.008    -10.475      0.000      -0.100      -0.069\n",
      "C(month)[T.7]         -0.1015      0.008    -12.578      0.000      -0.117      -0.086\n",
      "C(month)[T.8]         -0.0594      0.008     -7.510      0.000      -0.075      -0.044\n",
      "C(month)[T.9]         -0.1261      0.008    -15.312      0.000      -0.142      -0.110\n",
      "C(month)[T.10]        -0.1596      0.008    -19.982      0.000      -0.175      -0.144\n",
      "C(month)[T.11]        -0.1935      0.009    -21.773      0.000      -0.211      -0.176\n",
      "C(month)[T.12]        -0.0769      0.009     -8.862      0.000      -0.094      -0.060\n",
      "C(day)[T.2]           -0.0852      0.013     -6.380      0.000      -0.111      -0.059\n",
      "C(day)[T.3]           -0.0902      0.013     -6.780      0.000      -0.116      -0.064\n",
      "C(day)[T.4]           -0.1291      0.013     -9.654      0.000      -0.155      -0.103\n",
      "C(day)[T.5]           -0.0121      0.013     -0.905      0.366      -0.038       0.014\n",
      "C(day)[T.6]           -0.1070      0.013     -8.073      0.000      -0.133      -0.081\n",
      "C(day)[T.7]           -0.1149      0.013     -8.685      0.000      -0.141      -0.089\n",
      "C(day)[T.8]           -0.1336      0.013    -10.043      0.000      -0.160      -0.108\n",
      "C(day)[T.9]           -0.1459      0.013    -10.945      0.000      -0.172      -0.120\n",
      "C(day)[T.10]          -0.0372      0.013     -2.807      0.005      -0.063      -0.011\n",
      "C(day)[T.11]          -0.1026      0.013     -7.721      0.000      -0.129      -0.077\n",
      "C(day)[T.12]          -0.1253      0.013     -9.382      0.000      -0.152      -0.099\n",
      "C(day)[T.13]          -0.1440      0.013    -10.822      0.000      -0.170      -0.118\n",
      "C(day)[T.14]          -0.1854      0.013    -13.871      0.000      -0.212      -0.159\n",
      "C(day)[T.15]          -0.1596      0.013    -11.906      0.000      -0.186      -0.133\n",
      "C(day)[T.16]          -0.2061      0.013    -15.399      0.000      -0.232      -0.180\n",
      "C(day)[T.17]          -0.2290      0.013    -17.164      0.000      -0.255      -0.203\n",
      "C(day)[T.18]          -0.2142      0.013    -16.137      0.000      -0.240      -0.188\n",
      "C(day)[T.19]          -0.2316      0.013    -17.461      0.000      -0.258      -0.206\n",
      "C(day)[T.20]          -0.2353      0.013    -17.754      0.000      -0.261      -0.209\n",
      "C(day)[T.21]          -0.2435      0.013    -18.451      0.000      -0.269      -0.218\n",
      "C(day)[T.22]          -0.2677      0.013    -20.304      0.000      -0.294      -0.242\n",
      "C(day)[T.23]          -0.2493      0.013    -18.895      0.000      -0.275      -0.223\n",
      "C(day)[T.24]          -0.2561      0.013    -19.469      0.000      -0.282      -0.230\n",
      "C(day)[T.25]          -0.2335      0.013    -17.398      0.000      -0.260      -0.207\n",
      "C(day)[T.26]          -0.2542      0.013    -19.218      0.000      -0.280      -0.228\n",
      "C(day)[T.27]          -0.2706      0.013    -20.403      0.000      -0.297      -0.245\n",
      "C(day)[T.28]          -0.2825      0.013    -21.232      0.000      -0.309      -0.256\n",
      "C(day)[T.29]          -0.2902      0.014    -21.374      0.000      -0.317      -0.264\n",
      "C(day)[T.30]          -0.2701      0.014    -19.609      0.000      -0.297      -0.243\n",
      "C(day)[T.31]          -0.2877      0.016    -18.325      0.000      -0.318      -0.257\n",
      "==============================================================================\n",
      "Omnibus:                     8634.496   Durbin-Watson:                   1.969\n",
      "Prob(Omnibus):                  0.000   Jarque-Bera (JB):            38220.594\n",
      "Skew:                          -0.225   Prob(JB):                         0.00\n",
      "Kurtosis:                       5.743   Cond. No.                         283.\n",
      "==============================================================================\n",
      "\n",
      "Warnings:\n",
      "[1] Standard Errors assume that the covariance matrix of the errors is correctly specified.\n"
     ]
    }
   ],
   "source": [
    "model_1 = sm.OLS.from_formula('np.log(units) ~ C(item_nbr) + C(store_nbr) + C(dayofweek) + C(year) + C(month) + C(day)', data=df)\n",
    "result_1 = model_1.fit()\n",
    "print(result_1.summary())"
   ]
  },
  {
   "cell_type": "code",
   "execution_count": 8,
   "metadata": {},
   "outputs": [
    {
     "data": {
      "image/png": "[encoded data removed]",
      "text/plain": [
       "<matplotlib.figure.Figure at 0x113de2f98>"
      ]
     },
     "metadata": {},
     "output_type": "display_data"
    }
   ],
   "source": [
    "sp.stats.probplot(result_1.resid, plot=plt)\n",
    "plt.show()"
   ]
  },
  {
   "cell_type": "code",
   "execution_count": 11,
   "metadata": {},
   "outputs": [
    {
     "name": "stdout",
     "output_type": "stream",
     "text": [
      "                            OLS Regression Results                            \n",
      "==============================================================================\n",
      "Dep. Variable:          np.log(units)   R-squared:                       0.860\n",
      "Model:                            OLS   Adj. R-squared:                  0.860\n",
      "Method:                 Least Squares   F-statistic:                     3599.\n",
      "Date:                Tue, 13 Mar 2018   Prob (F-statistic):               0.00\n",
      "Time:                        20:01:37   Log-Likelihood:            -1.0430e+05\n",
      "No. Observations:              118694   AIC:                         2.090e+05\n",
      "Df Residuals:                  118490   BIC:                         2.110e+05\n",
      "Df Model:                         203                                         \n",
      "Covariance Type:            nonrobust                                         \n",
      "========================================================================================\n",
      "                           coef    std err          t      P>|t|      [0.025      0.975]\n",
      "----------------------------------------------------------------------------------------\n",
      "Intercept                1.0924      0.045     24.014      0.000       1.003       1.182\n",
      "C(item_nbr)[T.2]         0.1158      0.046      2.532      0.011       0.026       0.205\n",
      "C(item_nbr)[T.3]        -0.4230      0.057     -7.385      0.000      -0.535      -0.311\n",
      "C(item_nbr)[T.4]         0.5559      0.062      8.998      0.000       0.435       0.677\n",
      "C(item_nbr)[T.5]         2.6548      0.040     65.839      0.000       2.576       2.734\n",
      "C(item_nbr)[T.6]         1.0495      0.094     11.192      0.000       0.866       1.233\n",
      "C(item_nbr)[T.7]        -0.8501      0.056    -15.262      0.000      -0.959      -0.741\n",
      "C(item_nbr)[T.8]         2.2345      0.048     46.992      0.000       2.141       2.328\n",
      "C(item_nbr)[T.9]         2.6219      0.039     66.764      0.000       2.545       2.699\n",
      "C(item_nbr)[T.10]       -0.4882      0.053     -9.241      0.000      -0.592      -0.385\n",
      "C(item_nbr)[T.11]       -0.8127      0.054    -15.158      0.000      -0.918      -0.708\n",
      "C(item_nbr)[T.12]       -1.1630      0.053    -21.936      0.000      -1.267      -1.059\n",
      "C(item_nbr)[T.13]       -0.6465      0.058    -11.099      0.000      -0.761      -0.532\n",
      "C(item_nbr)[T.14]       -0.7477      0.063    -11.809      0.000      -0.872      -0.624\n",
      "C(item_nbr)[T.15]        0.4989      0.047     10.634      0.000       0.407       0.591\n",
      "C(item_nbr)[T.16]        2.2277      0.042     53.352      0.000       2.146       2.310\n",
      "C(item_nbr)[T.17]       -0.8385      0.052    -16.267      0.000      -0.940      -0.737\n",
      "C(item_nbr)[T.18]       -1.1988      0.053    -22.437      0.000      -1.303      -1.094\n",
      "C(item_nbr)[T.19]       -0.6770      0.051    -13.237      0.000      -0.777      -0.577\n",
      "C(item_nbr)[T.20]       -0.4725      0.051     -9.326      0.000      -0.572      -0.373\n",
      "C(item_nbr)[T.21]       -0.6137      0.046    -13.475      0.000      -0.703      -0.524\n",
      "C(item_nbr)[T.22]        0.7592      0.078      9.767      0.000       0.607       0.912\n",
      "C(item_nbr)[T.23]        1.7083      0.046     37.123      0.000       1.618       1.798\n",
      "C(item_nbr)[T.24]        0.9559      0.060     16.023      0.000       0.839       1.073\n",
      "C(item_nbr)[T.25]        3.1690      0.047     67.962      0.000       3.078       3.260\n",
      "C(item_nbr)[T.26]        1.2689      0.049     25.959      0.000       1.173       1.365\n",
      "C(item_nbr)[T.27]        0.3168      0.050      6.275      0.000       0.218       0.416\n",
      "C(item_nbr)[T.28]        0.8010      0.048     16.710      0.000       0.707       0.895\n",
      "C(item_nbr)[T.29]       -0.2475      0.050     -4.946      0.000      -0.346      -0.149\n",
      "C(item_nbr)[T.30]       -0.3735      0.041     -9.067      0.000      -0.454      -0.293\n",
      "C(item_nbr)[T.31]       -0.9337      0.053    -17.659      0.000      -1.037      -0.830\n",
      "C(item_nbr)[T.32]       -0.4215      0.055     -7.639      0.000      -0.530      -0.313\n",
      "C(item_nbr)[T.33]        0.5335      0.060      8.944      0.000       0.417       0.650\n",
      "C(item_nbr)[T.34]        0.4095      0.092      4.465      0.000       0.230       0.589\n",
      "C(item_nbr)[T.35]       -0.2418      0.052     -4.622      0.000      -0.344      -0.139\n",
      "C(item_nbr)[T.36]        3.1138      0.045     68.614      0.000       3.025       3.203\n",
      "C(item_nbr)[T.37]        1.6138      0.042     38.679      0.000       1.532       1.696\n",
      "C(item_nbr)[T.38]        0.8497      0.054     15.653      0.000       0.743       0.956\n",
      "C(item_nbr)[T.39]       -0.4537      0.065     -7.017      0.000      -0.580      -0.327\n",
      "C(item_nbr)[T.40]       -0.2293      0.070     -3.270      0.001      -0.367      -0.092\n",
      "C(item_nbr)[T.41]        1.9186      0.044     43.120      0.000       1.831       2.006\n",
      "C(item_nbr)[T.42]        0.9023      0.050     18.130      0.000       0.805       1.000\n",
      "C(item_nbr)[T.43]        1.3500      0.094     14.397      0.000       1.166       1.534\n",
      "C(item_nbr)[T.44]        3.4376      0.038     89.493      0.000       3.362       3.513\n",
      "C(item_nbr)[T.45]        3.0315      0.040     74.933      0.000       2.952       3.111\n",
      "C(item_nbr)[T.46]       -0.5964      0.056    -10.681      0.000      -0.706      -0.487\n",
      "C(item_nbr)[T.47]        1.2751      0.055     23.032      0.000       1.167       1.384\n",
      "C(item_nbr)[T.48]        2.6287      0.052     50.765      0.000       2.527       2.730\n",
      "C(item_nbr)[T.49]       -0.6174      0.057    -10.784      0.000      -0.730      -0.505\n",
      "C(item_nbr)[T.50]        0.0699      0.048      1.451      0.147      -0.025       0.164\n",
      "C(item_nbr)[T.51]       -0.1957      0.048     -4.118      0.000      -0.289      -0.103\n",
      "C(item_nbr)[T.52]       -0.8599      0.045    -19.189      0.000      -0.948      -0.772\n",
      "C(item_nbr)[T.53]       -0.5133      0.053     -9.613      0.000      -0.618      -0.409\n",
      "C(item_nbr)[T.54]       -0.8314      0.054    -15.538      0.000      -0.936      -0.726\n",
      "C(item_nbr)[T.55]       -0.3544      0.052     -6.843      0.000      -0.456      -0.253\n",
      "C(item_nbr)[T.56]       -0.0758      0.048     -1.584      0.113      -0.170       0.018\n",
      "C(item_nbr)[T.57]        0.1085      0.057      1.905      0.057      -0.003       0.220\n",
      "C(item_nbr)[T.58]       -0.1548      0.052     -2.978      0.003      -0.257      -0.053\n",
      "C(item_nbr)[T.59]       -0.4003      0.052     -7.638      0.000      -0.503      -0.298\n",
      "C(item_nbr)[T.60]       -2.1372      0.096    -22.328      0.000      -2.325      -1.950\n",
      "C(item_nbr)[T.61]       -0.5639      0.045    -12.552      0.000      -0.652      -0.476\n",
      "C(item_nbr)[T.62]       -0.6359      0.055    -11.586      0.000      -0.743      -0.528\n",
      "C(item_nbr)[T.63]        0.4138      0.059      7.042      0.000       0.299       0.529\n",
      "C(item_nbr)[T.64]       -0.2867      0.063     -4.586      0.000      -0.409      -0.164\n",
      "C(item_nbr)[T.65]       -1.1713      0.054    -21.709      0.000      -1.277      -1.066\n",
      "C(item_nbr)[T.66]        1.8030      0.052     34.575      0.000       1.701       1.905\n",
      "C(item_nbr)[T.67]        1.0783      0.049     22.156      0.000       0.983       1.174\n",
      "C(item_nbr)[T.68]        2.4669      0.042     59.397      0.000       2.385       2.548\n",
      "C(item_nbr)[T.69]       -0.1894      0.054     -3.483      0.000      -0.296      -0.083\n",
      "C(item_nbr)[T.70]        1.0163      0.062     16.464      0.000       0.895       1.137\n",
      "C(item_nbr)[T.71]       -2.0356      0.057    -35.726      0.000      -2.147      -1.924\n",
      "C(item_nbr)[T.72]       -0.2381      0.052     -4.542      0.000      -0.341      -0.135\n",
      "C(item_nbr)[T.73]       -0.9111      0.056    -16.340      0.000      -1.020      -0.802\n",
      "C(item_nbr)[T.74]       -0.6839      0.055    -12.439      0.000      -0.792      -0.576\n",
      "C(item_nbr)[T.75]       -0.1697      0.060     -2.832      0.005      -0.287      -0.052\n",
      "C(item_nbr)[T.76]       -2.0622      0.101    -20.353      0.000      -2.261      -1.864\n",
      "C(item_nbr)[T.77]       -0.4529      0.060     -7.577      0.000      -0.570      -0.336\n",
      "C(item_nbr)[T.78]       -0.0782      0.058     -1.339      0.180      -0.193       0.036\n",
      "C(item_nbr)[T.79]       -0.5697      0.055    -10.385      0.000      -0.677      -0.462\n",
      "C(item_nbr)[T.80]       -0.6622      0.056    -11.809      0.000      -0.772      -0.552\n",
      "C(item_nbr)[T.81]        0.8516      0.052     16.411      0.000       0.750       0.953\n",
      "C(item_nbr)[T.82]       -0.6963      0.055    -12.721      0.000      -0.804      -0.589\n",
      "C(item_nbr)[T.83]        1.3942      0.051     27.494      0.000       1.295       1.494\n",
      "C(item_nbr)[T.84]       -0.9146      0.062    -14.685      0.000      -1.037      -0.793\n",
      "C(item_nbr)[T.85]       -1.3290      0.061    -21.835      0.000      -1.448      -1.210\n",
      "C(item_nbr)[T.86]       -0.7744      0.048    -16.059      0.000      -0.869      -0.680\n",
      "C(item_nbr)[T.87]       -0.3036      0.052     -5.871      0.000      -0.405      -0.202\n",
      "C(item_nbr)[T.88]       -0.0883      0.068     -1.305      0.192      -0.221       0.044\n",
      "C(item_nbr)[T.89]       -0.2530      0.080     -3.162      0.002      -0.410      -0.096\n",
      "C(item_nbr)[T.90]       -1.4343      0.053    -27.063      0.000      -1.538      -1.330\n",
      "C(item_nbr)[T.91]       -0.6003      0.054    -11.212      0.000      -0.705      -0.495\n",
      "C(item_nbr)[T.92]       -1.1819      0.052    -22.591      0.000      -1.284      -1.079\n",
      "C(item_nbr)[T.93]        0.1178      0.041      2.889      0.004       0.038       0.198\n",
      "C(item_nbr)[T.94]       -0.6393      0.051    -12.503      0.000      -0.740      -0.539\n",
      "C(item_nbr)[T.95]        2.4047      0.055     43.930      0.000       2.297       2.512\n",
      "C(item_nbr)[T.96]       -0.8732      0.076    -11.549      0.000      -1.021      -0.725\n",
      "C(item_nbr)[T.97]       -0.9537      0.071    -13.449      0.000      -1.093      -0.815\n",
      "C(item_nbr)[T.98]       -0.7888      0.047    -16.752      0.000      -0.881      -0.696\n",
      "C(item_nbr)[T.99]        0.1040      0.062      1.691      0.091      -0.017       0.225\n",
      "C(item_nbr)[T.100]      -0.1242      0.058     -2.137      0.033      -0.238      -0.010\n",
      "C(item_nbr)[T.101]      -1.4284      0.061    -23.456      0.000      -1.548      -1.309\n",
      "C(item_nbr)[T.102]      -0.8975      0.127     -7.084      0.000      -1.146      -0.649\n",
      "C(item_nbr)[T.103]       1.4563      0.067     21.620      0.000       1.324       1.588\n",
      "C(item_nbr)[T.104]      -0.4006      0.054     -7.436      0.000      -0.506      -0.295\n",
      "C(item_nbr)[T.105]      -0.4933      0.052     -9.455      0.000      -0.596      -0.391\n",
      "C(item_nbr)[T.106]      -0.6760      0.081     -8.334      0.000      -0.835      -0.517\n",
      "C(item_nbr)[T.107]      -0.2163      0.061     -3.557      0.000      -0.335      -0.097\n",
      "C(item_nbr)[T.108]       0.7747      0.055     14.063      0.000       0.667       0.883\n",
      "C(item_nbr)[T.109]       0.7139      0.047     15.092      0.000       0.621       0.807\n",
      "C(item_nbr)[T.110]       1.0419      0.066     15.826      0.000       0.913       1.171\n",
      "C(item_nbr)[T.111]       2.3099      0.084     27.659      0.000       2.146       2.474\n",
      "C(store_nbr)[T.2]     9.959e+08   6.45e+10      0.015      0.988   -1.25e+11    1.27e+11\n",
      "C(store_nbr)[T.3]    -2.075e+10   6.71e+10     -0.309      0.757   -1.52e+11    1.11e+11\n",
      "C(store_nbr)[T.4]     5.396e+10   5.27e+10      1.024      0.306   -4.93e+10    1.57e+11\n",
      "C(store_nbr)[T.5]    -7.215e+10   5.33e+10     -1.353      0.176   -1.77e+11    3.23e+10\n",
      "C(store_nbr)[T.6]     9.959e+08   6.45e+10      0.015      0.988   -1.25e+11    1.27e+11\n",
      "C(store_nbr)[T.7]     -5.85e+10   1.18e+11     -0.494      0.621   -2.91e+11    1.74e+11\n",
      "C(store_nbr)[T.8]    -1.922e+11   1.51e+11     -1.272      0.204   -4.88e+11    1.04e+11\n",
      "C(store_nbr)[T.9]     9.241e+10   5.94e+10      1.556      0.120    -2.4e+10    2.09e+11\n",
      "C(store_nbr)[T.10]   -7.215e+10   5.33e+10     -1.353      0.176   -1.77e+11    3.23e+10\n",
      "C(store_nbr)[T.11]   -6.723e+10   6.94e+10     -0.969      0.332   -2.03e+11    6.87e+10\n",
      "C(store_nbr)[T.12]   -3.302e+11   1.13e+11     -2.931      0.003   -5.51e+11   -1.09e+11\n",
      "C(store_nbr)[T.13]    -5.85e+10   1.18e+11     -0.494      0.621   -2.91e+11    1.74e+11\n",
      "C(store_nbr)[T.14]    2.109e+10   1.02e+11      0.207      0.836   -1.78e+11     2.2e+11\n",
      "C(store_nbr)[T.15]   -1.043e+11   5.49e+10     -1.900      0.057   -2.12e+11    3.31e+09\n",
      "C(store_nbr)[T.16]   -1.011e+12    4.2e+11     -2.408      0.016   -1.83e+12   -1.88e+11\n",
      "C(store_nbr)[T.17]     2.23e+11   7.49e+10      2.976      0.003    7.61e+10     3.7e+11\n",
      "C(store_nbr)[T.18]    9.241e+10   5.94e+10      1.556      0.120    -2.4e+10    2.09e+11\n",
      "C(store_nbr)[T.19]    6.568e+10   3.98e+11      0.165      0.869   -7.14e+11    8.46e+11\n",
      "C(store_nbr)[T.20]   -2.075e+10   6.71e+10     -0.309      0.757   -1.52e+11    1.11e+11\n",
      "C(store_nbr)[T.21]     1.32e+10   6.05e+10      0.218      0.827   -1.05e+11    1.32e+11\n",
      "C(store_nbr)[T.22]   -6.723e+10   6.94e+10     -0.969      0.332   -2.03e+11    6.87e+10\n",
      "C(store_nbr)[T.23]    9.241e+10   5.94e+10      1.556      0.120    -2.4e+10    2.09e+11\n",
      "C(store_nbr)[T.24]    5.396e+10   5.27e+10      1.024      0.306   -4.93e+10    1.57e+11\n",
      "C(store_nbr)[T.25]   -1.043e+11   5.49e+10     -1.900      0.057   -2.12e+11    3.31e+09\n",
      "C(store_nbr)[T.26]    9.241e+10   5.94e+10      1.556      0.120    -2.4e+10    2.09e+11\n",
      "C(store_nbr)[T.27]   -6.723e+10   6.94e+10     -0.969      0.332   -2.03e+11    6.87e+10\n",
      "C(store_nbr)[T.28]   -2.075e+10   6.71e+10     -0.309      0.757   -1.52e+11    1.11e+11\n",
      "C(store_nbr)[T.29]     1.32e+10   6.05e+10      0.218      0.827   -1.05e+11    1.32e+11\n",
      "C(store_nbr)[T.30]    5.159e+11   4.75e+11      1.085      0.278   -4.16e+11    1.45e+12\n",
      "C(store_nbr)[T.31]    9.241e+10   5.94e+10      1.556      0.120    -2.4e+10    2.09e+11\n",
      "C(store_nbr)[T.32]   -1.043e+11   5.49e+10     -1.900      0.057   -2.12e+11    3.31e+09\n",
      "C(store_nbr)[T.33]     1.32e+10   6.05e+10      0.218      0.827   -1.05e+11    1.32e+11\n",
      "C(store_nbr)[T.34]    9.241e+10   5.94e+10      1.556      0.120    -2.4e+10    2.09e+11\n",
      "C(store_nbr)[T.35]    6.951e+10   1.32e+11      0.528      0.598   -1.89e+11    3.28e+11\n",
      "C(store_nbr)[T.36]    4.155e+10   8.25e+10      0.504      0.614    -1.2e+11    2.03e+11\n",
      "C(store_nbr)[T.37]   -1.043e+11   5.49e+10     -1.900      0.057   -2.12e+11    3.31e+09\n",
      "C(store_nbr)[T.38]    9.959e+08   6.45e+10      0.015      0.988   -1.25e+11    1.27e+11\n",
      "C(store_nbr)[T.39]   -1.437e+11   1.28e+11     -1.121      0.262   -3.95e+11    1.08e+11\n",
      "C(store_nbr)[T.40]   -1.043e+11   5.49e+10     -1.900      0.057   -2.12e+11    3.31e+09\n",
      "C(store_nbr)[T.41]   -7.215e+10   5.33e+10     -1.353      0.176   -1.77e+11    3.23e+10\n",
      "C(store_nbr)[T.42]    9.959e+08   6.45e+10      0.015      0.988   -1.25e+11    1.27e+11\n",
      "C(store_nbr)[T.43]   -3.302e+11   1.13e+11     -2.931      0.003   -5.51e+11   -1.09e+11\n",
      "C(store_nbr)[T.44]   -7.215e+10   5.33e+10     -1.353      0.176   -1.77e+11    3.23e+10\n",
      "C(store_nbr)[T.45]    2.109e+10   1.02e+11      0.207      0.836   -1.78e+11     2.2e+11\n",
      "C(station_nbr)[T.2]   1.011e+12    4.2e+11      2.408      0.016    1.88e+11    1.83e+12\n",
      "C(station_nbr)[T.3]   -1.32e+10   6.05e+10     -0.218      0.827   -1.32e+11    1.05e+11\n",
      "C(station_nbr)[T.4]   1.922e+11   1.51e+11      1.272      0.204   -1.04e+11    4.88e+11\n",
      "C(station_nbr)[T.5]  -6.951e+10   1.32e+11     -0.528      0.598   -3.28e+11    1.89e+11\n",
      "C(station_nbr)[T.6]    5.85e+10   1.18e+11      0.494      0.621   -1.74e+11    2.91e+11\n",
      "C(station_nbr)[T.7]   2.075e+10   6.71e+10      0.309      0.757   -1.11e+11    1.52e+11\n",
      "C(station_nbr)[T.8]   1.437e+11   1.28e+11      1.121      0.262   -1.08e+11    3.95e+11\n",
      "C(station_nbr)[T.9]  -5.396e+10   5.27e+10     -1.024      0.306   -1.57e+11    4.93e+10\n",
      "C(station_nbr)[T.10]  6.723e+10   6.94e+10      0.969      0.332   -6.87e+10    2.03e+11\n",
      "C(station_nbr)[T.11]  3.302e+11   1.13e+11      2.931      0.003    1.09e+11    5.51e+11\n",
      "C(station_nbr)[T.12]  7.215e+10   5.33e+10      1.353      0.176   -3.23e+10    1.77e+11\n",
      "C(station_nbr)[T.13]  1.043e+11   5.49e+10      1.900      0.057   -3.31e+09    2.12e+11\n",
      "C(station_nbr)[T.14] -9.959e+08   6.45e+10     -0.015      0.988   -1.27e+11    1.25e+11\n",
      "C(station_nbr)[T.15] -6.568e+10   3.98e+11     -0.165      0.869   -8.46e+11    7.14e+11\n",
      "C(station_nbr)[T.16] -2.109e+10   1.02e+11     -0.207      0.836    -2.2e+11    1.78e+11\n",
      "C(station_nbr)[T.17] -9.241e+10   5.94e+10     -1.556      0.120   -2.09e+11     2.4e+10\n",
      "C(station_nbr)[T.18] -4.155e+10   8.25e+10     -0.504      0.614   -2.03e+11     1.2e+11\n",
      "C(station_nbr)[T.19] -5.159e+11   4.75e+11     -1.085      0.278   -1.45e+12    4.16e+11\n",
      "C(station_nbr)[T.20]  -2.23e+11   7.49e+10     -2.976      0.003    -3.7e+11   -7.61e+10\n",
      "C(dayofweek)[T.2]       -0.1079      0.006    -16.859      0.000      -0.120      -0.095\n",
      "C(dayofweek)[T.3]       -0.1538      0.006    -24.051      0.000      -0.166      -0.141\n",
      "C(dayofweek)[T.4]       -0.1686      0.006    -26.411      0.000      -0.181      -0.156\n",
      "C(dayofweek)[T.5]       -0.0642      0.006    -10.128      0.000      -0.077      -0.052\n",
      "C(dayofweek)[T.6]        0.1036      0.006     16.416      0.000       0.091       0.116\n",
      "C(dayofweek)[T.7]        0.1619      0.006     25.598      0.000       0.149       0.174\n",
      "C(year)[T.2013]         -0.0742      0.004    -18.240      0.000      -0.082      -0.066\n",
      "C(year)[T.2014]         -0.2402      0.005    -52.047      0.000      -0.249      -0.231\n",
      "C(month)[T.2]           -0.0400      0.008     -5.074      0.000      -0.056      -0.025\n",
      "C(month)[T.3]           -0.0868      0.008    -11.270      0.000      -0.102      -0.072\n",
      "C(month)[T.4]           -0.1378      0.008    -17.408      0.000      -0.153      -0.122\n",
      "C(month)[T.5]           -0.1371      0.008    -17.197      0.000      -0.153      -0.121\n",
      "C(month)[T.6]           -0.0846      0.008    -10.480      0.000      -0.100      -0.069\n",
      "C(month)[T.7]           -0.1014      0.008    -12.566      0.000      -0.117      -0.086\n",
      "C(month)[T.8]           -0.0594      0.008     -7.503      0.000      -0.075      -0.044\n",
      "C(month)[T.9]           -0.1260      0.008    -15.301      0.000      -0.142      -0.110\n",
      "C(month)[T.10]          -0.1596      0.008    -19.976      0.000      -0.175      -0.144\n",
      "C(month)[T.11]          -0.1933      0.009    -21.748      0.000      -0.211      -0.176\n",
      "C(month)[T.12]          -0.0770      0.009     -8.863      0.000      -0.094      -0.060\n",
      "C(day)[T.2]             -0.0852      0.013     -6.373      0.000      -0.111      -0.059\n",
      "C(day)[T.3]             -0.0903      0.013     -6.789      0.000      -0.116      -0.064\n",
      "C(day)[T.4]             -0.1293      0.013     -9.671      0.000      -0.156      -0.103\n",
      "C(day)[T.5]             -0.0122      0.013     -0.910      0.363      -0.038       0.014\n",
      "C(day)[T.6]             -0.1071      0.013     -8.074      0.000      -0.133      -0.081\n",
      "C(day)[T.7]             -0.1150      0.013     -8.687      0.000      -0.141      -0.089\n",
      "C(day)[T.8]             -0.1337      0.013    -10.052      0.000      -0.160      -0.108\n",
      "C(day)[T.9]             -0.1458      0.013    -10.935      0.000      -0.172      -0.120\n",
      "C(day)[T.10]            -0.0373      0.013     -2.810      0.005      -0.063      -0.011\n",
      "C(day)[T.11]            -0.1025      0.013     -7.711      0.000      -0.129      -0.076\n",
      "C(day)[T.12]            -0.1255      0.013     -9.393      0.000      -0.152      -0.099\n",
      "C(day)[T.13]            -0.1440      0.013    -10.823      0.000      -0.170      -0.118\n",
      "C(day)[T.14]            -0.1851      0.013    -13.838      0.000      -0.211      -0.159\n",
      "C(day)[T.15]            -0.1592      0.013    -11.874      0.000      -0.186      -0.133\n",
      "C(day)[T.16]            -0.2062      0.013    -15.403      0.000      -0.232      -0.180\n",
      "C(day)[T.17]            -0.2291      0.013    -17.166      0.000      -0.255      -0.203\n",
      "C(day)[T.18]            -0.2141      0.013    -16.128      0.000      -0.240      -0.188\n",
      "C(day)[T.19]            -0.2318      0.013    -17.474      0.000      -0.258      -0.206\n",
      "C(day)[T.20]            -0.2351      0.013    -17.739      0.000      -0.261      -0.209\n",
      "C(day)[T.21]            -0.2435      0.013    -18.441      0.000      -0.269      -0.218\n",
      "C(day)[T.22]            -0.2680      0.013    -20.321      0.000      -0.294      -0.242\n",
      "C(day)[T.23]            -0.2494      0.013    -18.896      0.000      -0.275      -0.224\n",
      "C(day)[T.24]            -0.2565      0.013    -19.490      0.000      -0.282      -0.231\n",
      "C(day)[T.25]            -0.2336      0.013    -17.398      0.000      -0.260      -0.207\n",
      "C(day)[T.26]            -0.2543      0.013    -19.222      0.000      -0.280      -0.228\n",
      "C(day)[T.27]            -0.2707      0.013    -20.403      0.000      -0.297      -0.245\n",
      "C(day)[T.28]            -0.2825      0.013    -21.232      0.000      -0.309      -0.256\n",
      "C(day)[T.29]            -0.2902      0.014    -21.370      0.000      -0.317      -0.264\n",
      "C(day)[T.30]            -0.2700      0.014    -19.595      0.000      -0.297      -0.243\n",
      "C(day)[T.31]            -0.2879      0.016    -18.337      0.000      -0.319      -0.257\n",
      "==============================================================================\n",
      "Omnibus:                     8667.278   Durbin-Watson:                   1.968\n",
      "Prob(Omnibus):                  0.000   Jarque-Bera (JB):            38355.397\n",
      "Skew:                          -0.227   Prob(JB):                         0.00\n",
      "Kurtosis:                       5.748   Cond. No.                     5.09e+14\n",
      "==============================================================================\n",
      "\n",
      "Warnings:\n",
      "[1] Standard Errors assume that the covariance matrix of the errors is correctly specified.\n",
      "[2] The smallest eigenvalue is 7.28e-25. This might indicate that there are\n",
      "strong multicollinearity problems or that the design matrix is singular.\n"
     ]
    }
   ],
   "source": [
    "model_1 = sm.OLS.from_formula('np.log(units) ~ C(item_nbr) + C(store_nbr) + C(dayofweek) + C(year) + C(month) + C(day)', data=df)\n",
    "result_1 = model_1.fit()\n",
    "print(result_1.summary())"
   ]
  },
  {
   "cell_type": "markdown",
   "metadata": {},
   "source": [
    "# Leverage & Outlier 제거 작업"
   ]
  },
  {
   "cell_type": "code",
   "execution_count": 14,
   "metadata": {},
   "outputs": [],
   "source": [
    "df_test = df"
   ]
  },
  {
   "cell_type": "code",
   "execution_count": 15,
   "metadata": {},
   "outputs": [
    {
     "data": {
      "text/plain": [
       "<statsmodels.stats.outliers_influence.OLSInfluence at 0x1165ab3c8>"
      ]
     },
     "execution_count": 15,
     "metadata": {},
     "output_type": "execute_result"
    }
   ],
   "source": [
    "influence = result_1.get_influence()\n",
    "influence"
   ]
  },
  {
   "cell_type": "markdown",
   "metadata": {},
   "source": [
    "### Cook's Distance 를 통한 leverage, outlier 구하기\n"
   ]
  },
  {
   "cell_type": "code",
   "execution_count": 16,
   "metadata": {},
   "outputs": [
    {
     "data": {
      "text/plain": [
       "6710"
      ]
     },
     "execution_count": 16,
     "metadata": {},
     "output_type": "execute_result"
    }
   ],
   "source": [
    "cooks_d2, pvals = influence.cooks_distance\n",
    "fox_cr = 4 / (len(df['units']) - 2)\n",
    "drop_idx = np.where(cooks_d2 > fox_cr)[0]\n",
    "len(drop_idx)"
   ]
  },
  {
   "cell_type": "markdown",
   "metadata": {},
   "source": [
    "### 해당 leverage&outlier 제외"
   ]
  },
  {
   "cell_type": "code",
   "execution_count": 17,
   "metadata": {},
   "outputs": [],
   "source": [
    "df_test.drop(list(drop_idx),inplace=True)"
   ]
  },
  {
   "cell_type": "code",
   "execution_count": 18,
   "metadata": {},
   "outputs": [],
   "source": [
    "df_test.reset_index(drop=True, inplace=True)"
   ]
  },
  {
   "cell_type": "markdown",
   "metadata": {},
   "source": [
    "# 쿡스디스턴스를 통한 아웃라이어 제거 후"
   ]
  },
  {
   "cell_type": "code",
   "execution_count": 19,
   "metadata": {},
   "outputs": [
    {
     "name": "stdout",
     "output_type": "stream",
     "text": [
      "                            OLS Regression Results                            \n",
      "==============================================================================\n",
      "Dep. Variable:          np.log(units)   R-squared:                       0.905\n",
      "Model:                            OLS   Adj. R-squared:                  0.905\n",
      "Method:                 Least Squares   F-statistic:                     5268.\n",
      "Date:                Tue, 13 Mar 2018   Prob (F-statistic):               0.00\n",
      "Time:                        20:20:08   Log-Likelihood:                -74581.\n",
      "No. Observations:              111984   AIC:                         1.496e+05\n",
      "Df Residuals:                  111780   BIC:                         1.515e+05\n",
      "Df Model:                         203                                         \n",
      "Covariance Type:            nonrobust                                         \n",
      "======================================================================================\n",
      "                         coef    std err          t      P>|t|      [0.025      0.975]\n",
      "--------------------------------------------------------------------------------------\n",
      "Intercept              1.0580      0.037     28.448      0.000       0.985       1.131\n",
      "C(item_nbr)[T.2]       0.1270      0.038      3.372      0.001       0.053       0.201\n",
      "C(item_nbr)[T.3]      -0.3860      0.048     -7.976      0.000      -0.481      -0.291\n",
      "C(item_nbr)[T.4]       0.5111      0.053      9.572      0.000       0.406       0.616\n",
      "C(item_nbr)[T.5]       2.6906      0.033     80.673      0.000       2.625       2.756\n",
      "C(item_nbr)[T.6]       1.1619      0.132      8.819      0.000       0.904       1.420\n",
      "C(item_nbr)[T.7]      -0.9180      0.045    -20.511      0.000      -1.006      -0.830\n",
      "C(item_nbr)[T.8]       2.2878      0.039     58.514      0.000       2.211       2.364\n",
      "C(item_nbr)[T.9]       2.7124      0.033     82.513      0.000       2.648       2.777\n",
      "C(item_nbr)[T.10]     -0.5344      0.044    -12.090      0.000      -0.621      -0.448\n",
      "C(item_nbr)[T.11]     -0.8809      0.045    -19.685      0.000      -0.969      -0.793\n",
      "C(item_nbr)[T.12]     -1.2885      0.044    -29.425      0.000      -1.374      -1.203\n",
      "C(item_nbr)[T.13]     -0.6203      0.050    -12.343      0.000      -0.719      -0.522\n",
      "C(item_nbr)[T.14]     -0.8268      0.055    -14.901      0.000      -0.936      -0.718\n",
      "C(item_nbr)[T.15]      0.4235      0.042     10.055      0.000       0.341       0.506\n",
      "C(item_nbr)[T.16]      2.3308      0.034     68.357      0.000       2.264       2.398\n",
      "C(item_nbr)[T.17]     -0.9500      0.043    -22.320      0.000      -1.033      -0.867\n",
      "C(item_nbr)[T.18]     -1.2445      0.044    -28.397      0.000      -1.330      -1.159\n",
      "C(item_nbr)[T.19]     -0.6689      0.042    -15.793      0.000      -0.752      -0.586\n",
      "C(item_nbr)[T.20]     -0.4468      0.041    -10.784      0.000      -0.528      -0.366\n",
      "C(item_nbr)[T.21]     -0.5947      0.037    -15.879      0.000      -0.668      -0.521\n",
      "C(item_nbr)[T.22]      0.8818      0.084     10.495      0.000       0.717       1.046\n",
      "C(item_nbr)[T.23]      1.7400      0.037     47.670      0.000       1.668       1.812\n",
      "C(item_nbr)[T.24]      1.2347      0.051     24.012      0.000       1.134       1.335\n",
      "C(item_nbr)[T.25]      3.3966      0.037     92.750      0.000       3.325       3.468\n",
      "C(item_nbr)[T.26]      1.3157      0.040     32.569      0.000       1.237       1.395\n",
      "C(item_nbr)[T.27]      0.3550      0.039      9.021      0.000       0.278       0.432\n",
      "C(item_nbr)[T.28]      0.9492      0.039     24.153      0.000       0.872       1.026\n",
      "C(item_nbr)[T.29]     -0.2501      0.041     -6.069      0.000      -0.331      -0.169\n",
      "C(item_nbr)[T.30]     -0.3311      0.036     -9.165      0.000      -0.402      -0.260\n",
      "C(item_nbr)[T.31]     -1.0270      0.044    -23.295      0.000      -1.113      -0.941\n",
      "C(item_nbr)[T.32]     -0.4437      0.046     -9.630      0.000      -0.534      -0.353\n",
      "C(item_nbr)[T.33]      0.6574      0.048     13.667      0.000       0.563       0.752\n",
      "C(item_nbr)[T.34]      0.2659      0.109      2.433      0.015       0.052       0.480\n",
      "C(item_nbr)[T.35]     -0.3034      0.043     -6.991      0.000      -0.388      -0.218\n",
      "C(item_nbr)[T.36]      3.0676      0.037     84.026      0.000       2.996       3.139\n",
      "C(item_nbr)[T.37]      1.6785      0.034     49.059      0.000       1.611       1.746\n",
      "C(item_nbr)[T.38]      0.9837      0.046     21.201      0.000       0.893       1.075\n",
      "C(item_nbr)[T.39]     -0.3884      0.063     -6.134      0.000      -0.513      -0.264\n",
      "C(item_nbr)[T.40]     -0.2656      0.073     -3.663      0.000      -0.408      -0.123\n",
      "C(item_nbr)[T.41]      1.9035      0.037     52.095      0.000       1.832       1.975\n",
      "C(item_nbr)[T.42]      0.9394      0.041     22.962      0.000       0.859       1.020\n",
      "C(item_nbr)[T.43]      1.4082      0.132     10.694      0.000       1.150       1.666\n",
      "C(item_nbr)[T.44]      3.4767      0.033    105.791      0.000       3.412       3.541\n",
      "C(item_nbr)[T.45]      3.0434      0.033     91.229      0.000       2.978       3.109\n",
      "C(item_nbr)[T.46]     -0.6526      0.049    -13.198      0.000      -0.749      -0.556\n",
      "C(item_nbr)[T.47]      1.4476      0.047     30.716      0.000       1.355       1.540\n",
      "C(item_nbr)[T.48]      2.6627      0.041     64.957      0.000       2.582       2.743\n",
      "C(item_nbr)[T.49]     -0.6618      0.054    -12.186      0.000      -0.768      -0.555\n",
      "C(item_nbr)[T.50]      0.0910      0.043      2.121      0.034       0.007       0.175\n",
      "C(item_nbr)[T.51]     -0.3209      0.041     -7.916      0.000      -0.400      -0.241\n",
      "C(item_nbr)[T.52]     -0.8665      0.037    -23.458      0.000      -0.939      -0.794\n",
      "C(item_nbr)[T.53]     -0.5593      0.044    -12.722      0.000      -0.645      -0.473\n",
      "C(item_nbr)[T.54]     -0.7428      0.044    -16.920      0.000      -0.829      -0.657\n",
      "C(item_nbr)[T.55]     -0.4002      0.043     -9.314      0.000      -0.484      -0.316\n",
      "C(item_nbr)[T.56]     -0.1223      0.040     -3.050      0.002      -0.201      -0.044\n",
      "C(item_nbr)[T.57]      0.0326      0.048      0.672      0.501      -0.062       0.128\n",
      "C(item_nbr)[T.58]     -0.1993      0.045     -4.441      0.000      -0.287      -0.111\n",
      "C(item_nbr)[T.59]     -0.3717      0.041     -9.019      0.000      -0.453      -0.291\n",
      "C(item_nbr)[T.60]     -2.1701      0.133    -16.360      0.000      -2.430      -1.910\n",
      "C(item_nbr)[T.61]     -0.5647      0.037    -15.256      0.000      -0.637      -0.492\n",
      "C(item_nbr)[T.62]     -0.7302      0.046    -15.988      0.000      -0.820      -0.641\n",
      "C(item_nbr)[T.63]      0.5342      0.052     10.226      0.000       0.432       0.637\n",
      "C(item_nbr)[T.64]     -0.1254      0.054     -2.343      0.019      -0.230      -0.020\n",
      "C(item_nbr)[T.65]     -1.1601      0.043    -26.863      0.000      -1.245      -1.075\n",
      "C(item_nbr)[T.66]      1.9730      0.040     49.090      0.000       1.894       2.052\n",
      "C(item_nbr)[T.67]      1.1279      0.040     28.472      0.000       1.050       1.205\n",
      "C(item_nbr)[T.68]      2.5633      0.034     74.997      0.000       2.496       2.630\n",
      "C(item_nbr)[T.69]     -0.0763      0.043     -1.757      0.079      -0.161       0.009\n",
      "C(item_nbr)[T.70]      1.2162      0.057     21.496      0.000       1.105       1.327\n",
      "C(item_nbr)[T.71]     -2.1034      0.046    -45.718      0.000      -2.194      -2.013\n",
      "C(item_nbr)[T.72]     -0.2596      0.043     -6.015      0.000      -0.344      -0.175\n",
      "C(item_nbr)[T.73]     -0.8837      0.045    -19.550      0.000      -0.972      -0.795\n",
      "C(item_nbr)[T.74]     -0.7387      0.047    -15.820      0.000      -0.830      -0.647\n",
      "C(item_nbr)[T.75]     -0.0890      0.050     -1.772      0.076      -0.187       0.009\n",
      "C(item_nbr)[T.76]     -2.1545      0.136    -15.803      0.000      -2.422      -1.887\n",
      "C(item_nbr)[T.77]     -0.3744      0.051     -7.402      0.000      -0.474      -0.275\n",
      "C(item_nbr)[T.78]      0.1435      0.055      2.588      0.010       0.035       0.252\n",
      "C(item_nbr)[T.79]     -0.5868      0.047    -12.467      0.000      -0.679      -0.495\n",
      "C(item_nbr)[T.80]     -0.6995      0.047    -14.780      0.000      -0.792      -0.607\n",
      "C(item_nbr)[T.81]      0.8838      0.043     20.740      0.000       0.800       0.967\n",
      "C(item_nbr)[T.82]     -0.7919      0.045    -17.525      0.000      -0.880      -0.703\n",
      "C(item_nbr)[T.83]      1.6181      0.040     40.381      0.000       1.540       1.697\n",
      "C(item_nbr)[T.84]     -0.9877      0.060    -16.328      0.000      -1.106      -0.869\n",
      "C(item_nbr)[T.85]     -1.4225      0.055    -26.024      0.000      -1.530      -1.315\n",
      "C(item_nbr)[T.86]     -0.8746      0.040    -21.672      0.000      -0.954      -0.795\n",
      "C(item_nbr)[T.87]     -0.2433      0.042     -5.813      0.000      -0.325      -0.161\n",
      "C(item_nbr)[T.88]      0.2420      0.074      3.270      0.001       0.097       0.387\n",
      "C(item_nbr)[T.89]     -0.1916      0.099     -1.932      0.053      -0.386       0.003\n",
      "C(item_nbr)[T.90]     -1.4733      0.041    -35.570      0.000      -1.554      -1.392\n",
      "C(item_nbr)[T.91]     -0.6668      0.044    -15.008      0.000      -0.754      -0.580\n",
      "C(item_nbr)[T.92]     -1.2516      0.045    -28.107      0.000      -1.339      -1.164\n",
      "C(item_nbr)[T.93]      0.0912      0.034      2.690      0.007       0.025       0.158\n",
      "C(item_nbr)[T.94]     -0.6307      0.042    -15.119      0.000      -0.712      -0.549\n",
      "C(item_nbr)[T.95]      2.4097      0.043     56.136      0.000       2.326       2.494\n",
      "C(item_nbr)[T.96]     -0.9587      0.091    -10.549      0.000      -1.137      -0.781\n",
      "C(item_nbr)[T.97]     -0.9525      0.089    -10.750      0.000      -1.126      -0.779\n",
      "C(item_nbr)[T.98]     -0.8366      0.039    -21.501      0.000      -0.913      -0.760\n",
      "C(item_nbr)[T.99]      0.1849      0.055      3.350      0.001       0.077       0.293\n",
      "C(item_nbr)[T.100]    -0.2001      0.047     -4.215      0.000      -0.293      -0.107\n",
      "C(item_nbr)[T.101]    -1.5651      0.050    -31.587      0.000      -1.662      -1.468\n",
      "C(item_nbr)[T.102]    -1.0013      0.127     -7.911      0.000      -1.249      -0.753\n",
      "C(item_nbr)[T.103]     1.2306      0.058     21.341      0.000       1.118       1.344\n",
      "C(item_nbr)[T.104]    -0.4707      0.048     -9.835      0.000      -0.564      -0.377\n",
      "C(item_nbr)[T.105]    -0.5601      0.044    -12.861      0.000      -0.646      -0.475\n",
      "C(item_nbr)[T.106]    -0.7967      0.087     -9.187      0.000      -0.967      -0.627\n",
      "C(item_nbr)[T.107]    -0.1261      0.051     -2.463      0.014      -0.226      -0.026\n",
      "C(item_nbr)[T.108]     0.9608      0.049     19.720      0.000       0.865       1.056\n",
      "C(item_nbr)[T.109]     0.8165      0.040     20.547      0.000       0.739       0.894\n",
      "C(item_nbr)[T.110]     1.1244      0.069     16.332      0.000       0.989       1.259\n",
      "C(item_nbr)[T.111]     2.2687      0.096     23.579      0.000       2.080       2.457\n",
      "C(store_nbr)[T.2]      0.7171      0.019     37.564      0.000       0.680       0.754\n",
      "C(store_nbr)[T.3]      0.5749      0.018     31.357      0.000       0.539       0.611\n",
      "C(store_nbr)[T.4]      1.3595      0.021     65.875      0.000       1.319       1.400\n",
      "C(store_nbr)[T.5]      0.1941      0.020      9.935      0.000       0.156       0.232\n",
      "C(store_nbr)[T.6]      0.5151      0.018     27.949      0.000       0.479       0.551\n",
      "C(store_nbr)[T.7]      0.7925      0.020     39.263      0.000       0.753       0.832\n",
      "C(store_nbr)[T.8]      0.0319      0.020      1.592      0.111      -0.007       0.071\n",
      "C(store_nbr)[T.9]      0.4758      0.019     25.713      0.000       0.440       0.512\n",
      "C(store_nbr)[T.10]     0.5610      0.018     30.447      0.000       0.525       0.597\n",
      "C(store_nbr)[T.11]     0.3046      0.018     16.655      0.000       0.269       0.340\n",
      "C(store_nbr)[T.12]     0.5153      0.019     26.664      0.000       0.477       0.553\n",
      "C(store_nbr)[T.13]     0.7273      0.020     36.703      0.000       0.688       0.766\n",
      "C(store_nbr)[T.14]    -1.1135      0.020    -55.807      0.000      -1.153      -1.074\n",
      "C(store_nbr)[T.15]     0.6907      0.018     38.755      0.000       0.656       0.726\n",
      "C(store_nbr)[T.16]     0.7009      0.021     34.152      0.000       0.661       0.741\n",
      "C(store_nbr)[T.17]     1.6653      0.019     89.474      0.000       1.629       1.702\n",
      "C(store_nbr)[T.18]    -0.2142      0.019    -11.078      0.000      -0.252      -0.176\n",
      "C(store_nbr)[T.19]    -0.0666      0.022     -3.025      0.002      -0.110      -0.023\n",
      "C(store_nbr)[T.20]     0.8272      0.020     40.808      0.000       0.788       0.867\n",
      "C(store_nbr)[T.21]     0.3437      0.019     18.035      0.000       0.306       0.381\n",
      "C(store_nbr)[T.22]     0.3812      0.018     20.878      0.000       0.345       0.417\n",
      "C(store_nbr)[T.23]    -0.0392      0.019     -2.095      0.036      -0.076      -0.003\n",
      "C(store_nbr)[T.24]     1.8010      0.127     14.138      0.000       1.551       2.051\n",
      "C(store_nbr)[T.25]     0.8909      0.018     50.501      0.000       0.856       0.925\n",
      "C(store_nbr)[T.26]     0.2859      0.019     15.373      0.000       0.249       0.322\n",
      "C(store_nbr)[T.27]     0.2350      0.018     13.084      0.000       0.200       0.270\n",
      "C(store_nbr)[T.28]     0.1637      0.019      8.705      0.000       0.127       0.201\n",
      "C(store_nbr)[T.29]     0.4706      0.020     23.415      0.000       0.431       0.510\n",
      "C(store_nbr)[T.30]     0.7064      0.020     36.051      0.000       0.668       0.745\n",
      "C(store_nbr)[T.31]     0.6129      0.018     34.665      0.000       0.578       0.648\n",
      "C(store_nbr)[T.32]     0.2278      0.017     13.168      0.000       0.194       0.262\n",
      "C(store_nbr)[T.33]     1.1943      0.019     64.410      0.000       1.158       1.231\n",
      "C(store_nbr)[T.34]     0.6971      0.018     39.493      0.000       0.663       0.732\n",
      "C(store_nbr)[T.35]     0.1384      0.022      6.248      0.000       0.095       0.182\n",
      "C(store_nbr)[T.36]     0.0847      0.019      4.565      0.000       0.048       0.121\n",
      "C(store_nbr)[T.37]     0.2235      0.018     12.156      0.000       0.187       0.260\n",
      "C(store_nbr)[T.38]     0.7814      0.018     44.345      0.000       0.747       0.816\n",
      "C(store_nbr)[T.39]    -1.6239      0.021    -78.018      0.000      -1.665      -1.583\n",
      "C(store_nbr)[T.40]     0.4167      0.018     23.138      0.000       0.381       0.452\n",
      "C(store_nbr)[T.41]     0.3978      0.019     21.346      0.000       0.361       0.434\n",
      "C(store_nbr)[T.42]     0.3498      0.019     18.233      0.000       0.312       0.387\n",
      "C(store_nbr)[T.43]     0.4600      0.020     23.361      0.000       0.421       0.499\n",
      "C(store_nbr)[T.44]     0.4196      0.019     22.371      0.000       0.383       0.456\n",
      "C(store_nbr)[T.45]    -0.6982      0.022    -32.018      0.000      -0.741      -0.655\n",
      "C(dayofweek)[T.2]     -0.1172      0.005    -22.062      0.000      -0.128      -0.107\n",
      "C(dayofweek)[T.3]     -0.1652      0.005    -31.099      0.000      -0.176      -0.155\n",
      "C(dayofweek)[T.4]     -0.1835      0.005    -34.558      0.000      -0.194      -0.173\n",
      "C(dayofweek)[T.5]     -0.0741      0.005    -14.063      0.000      -0.084      -0.064\n",
      "C(dayofweek)[T.6]      0.1075      0.005     20.463      0.000       0.097       0.118\n",
      "C(dayofweek)[T.7]      0.1908      0.005     36.231      0.000       0.180       0.201\n",
      "C(year)[T.2013]       -0.0823      0.003    -24.450      0.000      -0.089      -0.076\n",
      "C(year)[T.2014]       -0.2614      0.004    -68.597      0.000      -0.269      -0.254\n",
      "C(month)[T.2]         -0.0628      0.007     -9.554      0.000      -0.076      -0.050\n",
      "C(month)[T.3]         -0.1080      0.006    -16.867      0.000      -0.121      -0.095\n",
      "C(month)[T.4]         -0.1547      0.007    -23.537      0.000      -0.168      -0.142\n",
      "C(month)[T.5]         -0.1589      0.007    -23.981      0.000      -0.172      -0.146\n",
      "C(month)[T.6]         -0.0988      0.007    -14.732      0.000      -0.112      -0.086\n",
      "C(month)[T.7]         -0.1060      0.007    -15.834      0.000      -0.119      -0.093\n",
      "C(month)[T.8]         -0.0721      0.007    -10.967      0.000      -0.085      -0.059\n",
      "C(month)[T.9]         -0.1392      0.007    -20.352      0.000      -0.153      -0.126\n",
      "C(month)[T.10]        -0.1639      0.007    -24.671      0.000      -0.177      -0.151\n",
      "C(month)[T.11]        -0.1887      0.007    -25.456      0.000      -0.203      -0.174\n",
      "C(month)[T.12]        -0.0935      0.007    -12.821      0.000      -0.108      -0.079\n",
      "C(day)[T.2]           -0.0861      0.011     -7.735      0.000      -0.108      -0.064\n",
      "C(day)[T.3]           -0.0948      0.011     -8.541      0.000      -0.117      -0.073\n",
      "C(day)[T.4]           -0.1568      0.011    -14.062      0.000      -0.179      -0.135\n",
      "C(day)[T.5]           -0.0093      0.011     -0.834      0.404      -0.031       0.013\n",
      "C(day)[T.6]           -0.1241      0.011    -11.226      0.000      -0.146      -0.102\n",
      "C(day)[T.7]           -0.1314      0.011    -11.900      0.000      -0.153      -0.110\n",
      "C(day)[T.8]           -0.1557      0.011    -14.036      0.000      -0.177      -0.134\n",
      "C(day)[T.9]           -0.1828      0.011    -16.431      0.000      -0.205      -0.161\n",
      "C(day)[T.10]          -0.0483      0.011     -4.361      0.000      -0.070      -0.027\n",
      "C(day)[T.11]          -0.1193      0.011    -10.767      0.000      -0.141      -0.098\n",
      "C(day)[T.12]          -0.1422      0.011    -12.779      0.000      -0.164      -0.120\n",
      "C(day)[T.13]          -0.1722      0.011    -15.519      0.000      -0.194      -0.150\n",
      "C(day)[T.14]          -0.2093      0.011    -18.802      0.000      -0.231      -0.187\n",
      "C(day)[T.15]          -0.1796      0.011    -16.076      0.000      -0.202      -0.158\n",
      "C(day)[T.16]          -0.2258      0.011    -20.224      0.000      -0.248      -0.204\n",
      "C(day)[T.17]          -0.2543      0.011    -22.875      0.000      -0.276      -0.232\n",
      "C(day)[T.18]          -0.2351      0.011    -21.253      0.000      -0.257      -0.213\n",
      "C(day)[T.19]          -0.2532      0.011    -22.939      0.000      -0.275      -0.232\n",
      "C(day)[T.20]          -0.2564      0.011    -23.243      0.000      -0.278      -0.235\n",
      "C(day)[T.21]          -0.2746      0.011    -24.981      0.000      -0.296      -0.253\n",
      "C(day)[T.22]          -0.2884      0.011    -26.256      0.000      -0.310      -0.267\n",
      "C(day)[T.23]          -0.2812      0.011    -25.553      0.000      -0.303      -0.260\n",
      "C(day)[T.24]          -0.2900      0.011    -26.433      0.000      -0.311      -0.268\n",
      "C(day)[T.25]          -0.2637      0.011    -23.580      0.000      -0.286      -0.242\n",
      "C(day)[T.26]          -0.2965      0.011    -26.892      0.000      -0.318      -0.275\n",
      "C(day)[T.27]          -0.3056      0.011    -27.684      0.000      -0.327      -0.284\n",
      "C(day)[T.28]          -0.3216      0.011    -28.984      0.000      -0.343      -0.300\n",
      "C(day)[T.29]          -0.3214      0.011    -28.426      0.000      -0.344      -0.299\n",
      "C(day)[T.30]          -0.3094      0.011    -26.931      0.000      -0.332      -0.287\n",
      "C(day)[T.31]          -0.3238      0.013    -24.688      0.000      -0.349      -0.298\n",
      "==============================================================================\n",
      "Omnibus:                      858.828   Durbin-Watson:                   1.956\n",
      "Prob(Omnibus):                  0.000   Jarque-Bera (JB):              929.440\n",
      "Skew:                          -0.185   Prob(JB):                    1.50e-202\n",
      "Kurtosis:                       3.250   Cond. No.                         314.\n",
      "==============================================================================\n",
      "\n",
      "Warnings:\n",
      "[1] Standard Errors assume that the covariance matrix of the errors is correctly specified.\n"
     ]
    }
   ],
   "source": [
    "model_1 = sm.OLS.from_formula('np.log(units) ~ C(item_nbr) + C(store_nbr) + C(dayofweek) + C(year) + C(month) + C(day)', data=df_test)\n",
    "result_1 = model_1.fit()\n",
    "print(result_1.summary())"
   ]
  },
  {
   "cell_type": "code",
   "execution_count": 20,
   "metadata": {},
   "outputs": [
    {
     "data": {
      "image/png": "[encoded data removed]",
      "text/plain": [
       "<matplotlib.figure.Figure at 0x116968dd8>"
      ]
     },
     "metadata": {},
     "output_type": "display_data"
    },
    {
     "name": "stdout",
     "output_type": "stream",
     "text": [
      "Chi^2       : 858.828\n",
      "P-value     :  0.000\n"
     ]
    }
   ],
   "source": [
    "sp.stats.probplot(result_1.resid, plot=plt)\n",
    "plt.show()\n",
    "\n",
    "test = sms.omni_normtest(result_1.resid)\n",
    "for xi in zip(['Chi^2', 'P-value'], test):\n",
    "    print(\"%-12s: %6.3f\" % xi)"
   ]
  },
  {
   "cell_type": "markdown",
   "metadata": {},
   "source": [
    "개선 됨을 볼 수 있다. 하지만 이 과정을 반복 한다고 해서 더 좋아지지는 않았다.\n",
    "\n",
    "여전히 잔차의 정규성은 볼 수 없음"
   ]
  },
  {
   "cell_type": "markdown",
   "metadata": {},
   "source": [
    "# 정규화 (sci-kit learn)"
   ]
  },
  {
   "cell_type": "code",
   "execution_count": null,
   "metadata": {},
   "outputs": [],
   "source": [
    "from sklearn.datasets import make_regression\n",
    "from patsy import dmatrices\n",
    "from sklearn.model_selection import cross_val_score\n",
    "from sklearn.linear_model import LinearRegression, Ridge, Lasso, ElasticNet"
   ]
  },
  {
   "cell_type": "code",
   "execution_count": null,
   "metadata": {},
   "outputs": [],
   "source": [
    "# patsy를 통한 formula 생성\n",
    "y, X = dmatrices( \"np.log(units) ~ C(item_nbr) + C(store_nbr) + C(dayofweek) + C(year) + C(month) + C(day)\", df_test , return_type = 'dataframe' )"
   ]
  },
  {
   "cell_type": "code",
   "execution_count": null,
   "metadata": {},
   "outputs": [],
   "source": [
    "# Linear Regression, Ridge, Lasso, ElasticNet\n",
    "model1_LR = LinearRegression().fit(X, y)\n",
    "model1_ridge = Ridge(alpha=0.5).fit(X, y)\n",
    "model1_lasso = Lasso(alpha=0.5).fit(X, y)\n",
    "model1_EN = ElasticNet(alpha=0.5).fit(X, y)"
   ]
  },
  {
   "cell_type": "code",
   "execution_count": null,
   "metadata": {},
   "outputs": [],
   "source": [
    "from sklearn.model_selection import KFold\n",
    "\n",
    "cv = KFold(10, shuffle=True)\n",
    "#cross_val_score(model1_LR, X, y, scoring=\"r2\", cv=cv)\n",
    "print('[Original LR]')\n",
    "print('score : ', cross_val_score(model1_LR, X, y, scoring=\"r2\", cv=cv),'\\n',\n",
    "      'mean : ', np.mean(cross_val_score(model1_LR, X, y, scoring=\"r2\", cv=cv)),'\\n')\n",
    "\n",
    "print('[Ridge]')\n",
    "print('score : ', cross_val_score(model1_ridge, X, y, scoring=\"r2\", cv=cv),'\\n',\n",
    "      'mean : ', np.mean(cross_val_score(model1_ridge, X, y, scoring=\"r2\", cv=cv)),'\\n')\n",
    "      #'std : ', np.std(cross_val_score(model1_ridge, X, y, scoring=\"r2\", cv=cv)))\n",
    "\n",
    "print('\\n[Lasso]')\n",
    "print('score : ', cross_val_score(model1_lasso, X, y, scoring=\"r2\", cv=cv),'\\n',\n",
    "      'mean : ', np.mean(cross_val_score(model1_lasso, X, y, scoring=\"r2\", cv=cv)),'\\n')\n",
    "      #'std : ', np.std(cross_val_score(model1_lasso, X, y, scoring=\"r2\", cv=cv)))\n",
    "\n",
    "print('\\n[Elastic-net]')\n",
    "print('score : ', cross_val_score(model1_EN, X, y, scoring=\"r2\", cv=cv),'\\n',\n",
    "      'mean : ', np.mean(cross_val_score(model1_EN, X, y, scoring=\"r2\", cv=cv)),'\\n')\n",
    "#      'std : ', np.std(cross_val_score(model1_EN, X, y, scoring=\"r2\", cv=cv)))"
   ]
  },
  {
   "cell_type": "markdown",
   "metadata": {},
   "source": [
    "### 우리 모델은 Lasso, Elastic-Net하면 망하는가보오..."
   ]
  },
  {
   "cell_type": "markdown",
   "metadata": {},
   "source": [
    "# 모델에 제출하기에 앞선 cross-validation 결과 및 RMSLE 채점 결과"
   ]
  },
  {
   "cell_type": "code",
   "execution_count": null,
   "metadata": {},
   "outputs": [],
   "source": [
    "# RMSLE 구현 / 긁어왔습니다 \n",
    "from sklearn.metrics import make_scorer\n",
    "def rmsle(predict, actual):\n",
    "    predict = np.array(predict)\n",
    "    actual = np.array(actual)\n",
    "    \n",
    "    log_predict = np.log(predict + 1)\n",
    "    log_actual = np.log(actual + 1)\n",
    "    \n",
    "    difference = log_predict - log_actual\n",
    "    square_difference = difference ** 2\n",
    "    mean_square_difference = square_difference.mean()\n",
    "    \n",
    "    score = np.sqrt(mean_square_difference)\n",
    "    \n",
    "    return score\n",
    "\n",
    "rmsle_score = make_scorer(rmsle)\n",
    "rmsle_score"
   ]
  },
  {
   "cell_type": "code",
   "execution_count": null,
   "metadata": {},
   "outputs": [],
   "source": [
    "y, X = dmatrices('np.log(units) ~ C(item_nbr) + C(store_nbr) + C(dayofweek)', df_test, return_type = 'dataframe')\n",
    "\n",
    "model_LR = LinearRegression().fit(X, y)\n",
    "model_ridge = Ridge().fit(X, y)\n",
    "model_lasso = Lasso().fit(X, y)\n",
    "model_EN = ElasticNet().fit(X, y)"
   ]
  },
  {
   "cell_type": "code",
   "execution_count": null,
   "metadata": {},
   "outputs": [],
   "source": [
    "cross_val_score(model_ridge, X, y, cv=10, scoring=rmsle_score).mean()"
   ]
  },
  {
   "cell_type": "markdown",
   "metadata": {},
   "source": [
    "최종 제출 시, 0.284점 예상\n",
    "\n",
    "model_LR으로 테스트 할 때는 채점이 되지 않는 이유, 아직 모르겠습니다\n",
    "\n",
    "0.1점대 밑으로 갈 생각을 안 허네요"
   ]
  },
  {
   "cell_type": "code",
   "execution_count": null,
   "metadata": {},
   "outputs": [],
   "source": []
  },
  {
   "cell_type": "code",
   "execution_count": null,
   "metadata": {},
   "outputs": [],
   "source": []
  },
  {
   "cell_type": "code",
   "execution_count": null,
   "metadata": {},
   "outputs": [],
   "source": []
  },
  {
   "cell_type": "code",
   "execution_count": null,
   "metadata": {},
   "outputs": [],
   "source": []
  },
  {
   "cell_type": "markdown",
   "metadata": {},
   "source": [
    "# 제출을 위한 test파일 준비"
   ]
  },
  {
   "cell_type": "markdown",
   "metadata": {},
   "source": [
    "### test file preprocessing"
   ]
  },
  {
   "cell_type": "code",
   "execution_count": 12,
   "metadata": {},
   "outputs": [
    {
     "name": "stdout",
     "output_type": "stream",
     "text": [
      "(526917, 3)\n"
     ]
    },
    {
     "data": {
      "text/html": [
       "<div>\n",
       "<style scoped>\n",
       "    .dataframe tbody tr th:only-of-type {\n",
       "        vertical-align: middle;\n",
       "    }\n",
       "\n",
       "    .dataframe tbody tr th {\n",
       "        vertical-align: top;\n",
       "    }\n",
       "\n",
       "    .dataframe thead th {\n",
       "        text-align: right;\n",
       "    }\n",
       "</style>\n",
       "<table border=\"1\" class=\"dataframe\">\n",
       "  <thead>\n",
       "    <tr style=\"text-align: right;\">\n",
       "      <th></th>\n",
       "      <th>date</th>\n",
       "      <th>store_nbr</th>\n",
       "      <th>item_nbr</th>\n",
       "    </tr>\n",
       "  </thead>\n",
       "  <tbody>\n",
       "    <tr>\n",
       "      <th>0</th>\n",
       "      <td>2013-04-01</td>\n",
       "      <td>2</td>\n",
       "      <td>1</td>\n",
       "    </tr>\n",
       "    <tr>\n",
       "      <th>1</th>\n",
       "      <td>2013-04-01</td>\n",
       "      <td>2</td>\n",
       "      <td>2</td>\n",
       "    </tr>\n",
       "    <tr>\n",
       "      <th>2</th>\n",
       "      <td>2013-04-01</td>\n",
       "      <td>2</td>\n",
       "      <td>3</td>\n",
       "    </tr>\n",
       "    <tr>\n",
       "      <th>3</th>\n",
       "      <td>2013-04-01</td>\n",
       "      <td>2</td>\n",
       "      <td>4</td>\n",
       "    </tr>\n",
       "    <tr>\n",
       "      <th>4</th>\n",
       "      <td>2013-04-01</td>\n",
       "      <td>2</td>\n",
       "      <td>5</td>\n",
       "    </tr>\n",
       "  </tbody>\n",
       "</table>\n",
       "</div>"
      ],
      "text/plain": [
       "         date  store_nbr  item_nbr\n",
       "0  2013-04-01          2         1\n",
       "1  2013-04-01          2         2\n",
       "2  2013-04-01          2         3\n",
       "3  2013-04-01          2         4\n",
       "4  2013-04-01          2         5"
      ]
     },
     "execution_count": 12,
     "metadata": {},
     "output_type": "execute_result"
    }
   ],
   "source": [
    "test = pd.read_csv('../../data/basic/test.csv')\n",
    "print(test.shape)\n",
    "test.head()"
   ]
  },
  {
   "cell_type": "code",
   "execution_count": null,
   "metadata": {},
   "outputs": [],
   "source": [
    "key = pd.read_csv('../../data/basic/key.csv')\n",
    "weather = pd.read_csv('../../data/weather_v8_with_holiday.csv')"
   ]
  },
  {
   "cell_type": "code",
   "execution_count": null,
   "metadata": {},
   "outputs": [],
   "source": [
    "test = pd.merge(test, key)"
   ]
  },
  {
   "cell_type": "code",
   "execution_count": null,
   "metadata": {},
   "outputs": [],
   "source": [
    "test = pd.merge(test, weather)"
   ]
  },
  {
   "cell_type": "code",
   "execution_count": null,
   "metadata": {},
   "outputs": [],
   "source": [
    "test.columns"
   ]
  },
  {
   "cell_type": "code",
   "execution_count": null,
   "metadata": {},
   "outputs": [],
   "source": [
    "test = pd.DataFrame(test, columns=['date','dayofweek', 'is_holiday', 'store_nbr', 'item_nbr', 'station_nbr', 'tmax',\n",
    "       'tmin', 'tavg', 'depart', 'dewpoint', 'wetbulb', 'heat', 'cool',\n",
    "       'sunrise', 'sunset', 'codesum', 'codesum_YN', 'snowfall', 'preciptotal',\n",
    "       'stnpressure', 'sealevel', 'resultspeed', 'resultdir', 'avgspeed',\n",
    "       ])"
   ]
  },
  {
   "cell_type": "code",
   "execution_count": null,
   "metadata": {},
   "outputs": [],
   "source": [
    "test.head()"
   ]
  },
  {
   "cell_type": "code",
   "execution_count": null,
   "metadata": {},
   "outputs": [],
   "source": [
    "def is_holiday(holiday):\n",
    "    if holiday == 'holiday':\n",
    "        return 1\n",
    "    elif holiday == 'holiday_work':\n",
    "        return 1\n",
    "    elif holiday == \"workday\":\n",
    "        return 0"
   ]
  },
  {
   "cell_type": "code",
   "execution_count": null,
   "metadata": {},
   "outputs": [],
   "source": [
    "test['is_holiday'] = test['is_holiday'].apply(is_holiday)"
   ]
  },
  {
   "cell_type": "code",
   "execution_count": null,
   "metadata": {},
   "outputs": [],
   "source": [
    "test['year'] = test['date'].apply(make_year)\n",
    "test['month'] = test['date'].apply(make_month)\n",
    "test['day'] = test['date'].apply(make_day)\n",
    "test['dayofweek'] = test['dayofweek'].apply(dayofweek_num)"
   ]
  },
  {
   "cell_type": "code",
   "execution_count": null,
   "metadata": {},
   "outputs": [],
   "source": [
    "test_sample = test.drop(columns=['date', 'tmax', 'tmin', 'tavg', 'dewpoint', 'wetbulb',\n",
    "       'sunrise', 'sunset','depart',  'codesum', 'codesum_YN', 'snowfall',\n",
    "       'stnpressure', 'sealevel','resultdir', 'avgspeed',\n",
    "       'station_nbr', 'heat', 'cool', 'preciptotal', 'is_holiday', 'resultspeed'])"
   ]
  },
  {
   "cell_type": "code",
   "execution_count": null,
   "metadata": {},
   "outputs": [],
   "source": [
    "test_sample.head()"
   ]
  },
  {
   "cell_type": "code",
   "execution_count": null,
   "metadata": {},
   "outputs": [],
   "source": [
    "test_X_df = pd.DataFrame(columns=['item_nbr', 'store_nbr','dayofweek', 'year', 'month', 'day'])\n",
    "\n",
    "for nbr in range(1, 45+1):\n",
    "    store_nbr = df_test[df_test['store_nbr'].isin([nbr])]\n",
    "    sold_item_list = list(store_nbr['item_nbr'].unique())\n",
    "    sold_item_list\n",
    "\n",
    "    test_store_nbr = test_sample[test_sample['store_nbr'].isin([nbr])]\n",
    "    to_test_df = test_store_nbr[test_store_nbr['item_nbr'].isin(sold_item_list)]\n",
    "\n",
    "    test_X_df = pd.concat([test_X_df, to_test_df], axis = 0)\n",
    "    \n",
    "test_X_df.shape"
   ]
  },
  {
   "cell_type": "code",
   "execution_count": null,
   "metadata": {},
   "outputs": [],
   "source": [
    "test_X_df.head()"
   ]
  },
  {
   "cell_type": "code",
   "execution_count": null,
   "metadata": {},
   "outputs": [],
   "source": [
    "test_X_df['store_nbr'] = test_X_df['store_nbr'].astype(int)\n",
    "test_X_df['item_nbr'] = test_X_df['item_nbr'].astype(int)\n",
    "test_X_df['year'] = test_X_df['year'].astype(int)\n",
    "test_X_df['month'] = test_X_df['month'].astype(int)\n",
    "test_X_df['day'] = test_X_df['day'].astype(int)\n",
    "test_X_df['dayofweek'] = test_X_df['dayofweek'].astype(object)"
   ]
  },
  {
   "cell_type": "code",
   "execution_count": null,
   "metadata": {},
   "outputs": [],
   "source": [
    "test_result = result_ridge.predict(test_X_df)"
   ]
  },
  {
   "cell_type": "markdown",
   "metadata": {},
   "source": [
    "### create submission file"
   ]
  },
  {
   "cell_type": "code",
   "execution_count": null,
   "metadata": {},
   "outputs": [],
   "source": [
    "result = pd.concat([test, test_result], axis=1)"
   ]
  },
  {
   "cell_type": "code",
   "execution_count": null,
   "metadata": {},
   "outputs": [],
   "source": [
    "print(result.shape)\n",
    "result.head()"
   ]
  },
  {
   "cell_type": "code",
   "execution_count": null,
   "metadata": {},
   "outputs": [],
   "source": [
    "result['units'] = result[0]"
   ]
  },
  {
   "cell_type": "code",
   "execution_count": null,
   "metadata": {},
   "outputs": [],
   "source": [
    "def itiszero(units):\n",
    "    if units > 0:\n",
    "        return units\n",
    "    else:\n",
    "        return 0"
   ]
  },
  {
   "cell_type": "code",
   "execution_count": null,
   "metadata": {},
   "outputs": [],
   "source": [
    "result['units'] = result['units'].apply(itiszero)"
   ]
  },
  {
   "cell_type": "code",
   "execution_count": null,
   "metadata": {},
   "outputs": [],
   "source": [
    "result['units'] = result['units'].astype(int)"
   ]
  },
  {
   "cell_type": "code",
   "execution_count": null,
   "metadata": {},
   "outputs": [],
   "source": [
    "result = pd.DataFrame(data=result, columns=['store_nbr', 'item_nbr', 'date', 'units'])"
   ]
  },
  {
   "cell_type": "code",
   "execution_count": null,
   "metadata": {},
   "outputs": [],
   "source": [
    "for col in result[['store_nbr', 'item_nbr']]:\n",
    "    result[col] = result[col].astype(int)"
   ]
  },
  {
   "cell_type": "code",
   "execution_count": null,
   "metadata": {},
   "outputs": [],
   "source": [
    "result['id'] = result['store_nbr'].astype(str)+'_'+result['item_nbr'].astype(str)+'_'+result['date'].astype(str)"
   ]
  },
  {
   "cell_type": "code",
   "execution_count": null,
   "metadata": {},
   "outputs": [],
   "source": [
    "for_submission = result.loc[:,['id','units']]"
   ]
  },
  {
   "cell_type": "code",
   "execution_count": null,
   "metadata": {},
   "outputs": [],
   "source": [
    "for_submission.head()"
   ]
  },
  {
   "cell_type": "code",
   "execution_count": null,
   "metadata": {},
   "outputs": [],
   "source": [
    "for_submission.to_csv('submission_sample7.csv', index=False)"
   ]
  },
  {
   "cell_type": "code",
   "execution_count": null,
   "metadata": {},
   "outputs": [],
   "source": []
  },
  {
   "cell_type": "code",
   "execution_count": null,
   "metadata": {},
   "outputs": [],
   "source": []
  },
  {
   "cell_type": "code",
   "execution_count": null,
   "metadata": {},
   "outputs": [],
   "source": []
  },
  {
   "cell_type": "code",
   "execution_count": null,
   "metadata": {},
   "outputs": [],
   "source": []
  },
  {
   "cell_type": "markdown",
   "metadata": {},
   "source": [
    "# samplesubmission3\n",
    "### dayofweek , outlier 5번 제거 ==> 캐글 0.26513\n",
    " \n"
   ]
  },
  {
   "cell_type": "markdown",
   "metadata": {},
   "source": [
    " \n",
    "# samplesubmission4\n",
    "### dayofweek, year, month, day , outlier 5번 제거 ==> 캐글 0.25870"
   ]
  },
  {
   "cell_type": "markdown",
   "metadata": {},
   "source": [
    "# samplesubmission5\n",
    "\n",
    "### dayofweek, year, month, day, np.log(units) / outlier 5번 제거 ==> 캐글 0.33 (CV 결과도 좋지 않았음)"
   ]
  },
  {
   "cell_type": "markdown",
   "metadata": {},
   "source": [
    "# samplesubmission6\n",
    "\n",
    "### dayofweek, year, month, day, np.log(units) / cook's distance로 3번 제거 ==> 캐글 0.33"
   ]
  },
  {
   "cell_type": "markdown",
   "metadata": {},
   "source": [
    "# samplesubmission7\n",
    "\n",
    "### dayofweek, year, month, day, np.log(units) / cook's distance로 3번 제거, ridge 정규화 ==> 캐글 0.33 (CV 결과가 좋은 Ridge로 적용)"
   ]
  },
  {
   "cell_type": "code",
   "execution_count": null,
   "metadata": {},
   "outputs": [],
   "source": []
  }
 ],
 "metadata": {
  "kernelspec": {
   "display_name": "Python 3",
   "language": "python",
   "name": "python3"
  },
  "language_info": {
   "codemirror_mode": {
    "name": "ipython",
    "version": 3
   },
   "file_extension": ".py",
   "mimetype": "text/x-python",
   "name": "python",
   "nbconvert_exporter": "python",
   "pygments_lexer": "ipython3",
   "version": "3.6.2"
  }
 },
 "nbformat": 4,
 "nbformat_minor": 2
}
