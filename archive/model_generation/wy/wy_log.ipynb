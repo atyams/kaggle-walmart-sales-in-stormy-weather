{
 "cells": [
  {
   "cell_type": "markdown",
   "metadata": {},
   "source": [
    "# 기록 : 모델 생성, 피쳐 엔지니어링, 파라미터 조절, 최적화, 오버피팅 ..."
   ]
  },
  {
   "cell_type": "markdown",
   "metadata": {},
   "source": [
    "## 2018-03-10\n",
    "\n",
    "\n",
    "\n",
    "##### done\n",
    "\n",
    "**weather_v8_with_holiday**  \n",
    "- missing data 전날을 참조해서 채움\n",
    "- Category\n",
    "    - holiday data 추가 (workday, holiday, holiday_work)\n",
    "    - codsum_YS 추가 (abnormal, moderate)\n",
    "    - item_nbr\n",
    "\n",
    "_**to do**_ : \n",
    "- (1) 5월 데이터 채워 넣기 - 가장 근사치 (20_Filling_missing_data_by_previous_day)\n",
    "- (2) .corr(), VIF를 통해 numerical 변수 다시 걸러내기\n",
    "- (3) (2)를 통해 걸러낸 변수와 카테고리 변수를 가지고 OLS 모델링 시도\n",
    "- (4) 확률론적 검정값 확인"
   ]
  },
  {
   "cell_type": "markdown",
   "metadata": {},
   "source": [
    "## 2018-03-11\n",
    "\n",
    "##### done\n",
    "\n",
    "**weather_v8_with_holiday**  \n",
    "- station_5\n",
    "    - 같은 `sunrise`값을 가지고 있는 다른 `store_nbr`들의 평균값으로 채움 (30분 단위)\n",
    "    - 예) 오전 4시 30분 ~ 5시 사이의 `sunrise`값 범위 (270~300) 에 들어가는 data의 평균\n",
    "- Category\n",
    "    - codsum_YS의 one-hot encoding\n",
    "    \n",
    "**wy_modeling_trial_1**\n",
    "- Modeling\n",
    "    - 아무 것도 처리하지 않고 OLS를 시도해봄\n",
    "        - 생성 시간 대략 1시간 30분\n",
    "        - Rsquared\n",
    "\n",
    "_**to do**_ : \n",
    "1. full-merged data에 대한 전처리\n",
    "2. correlation을 통해 units와 연관관계가 큰 실수변수\n",
    "3. p, t-test를 통한 카테고리 변수 (item_nbr)에 대해서도 이야기 나눠봐야 함\n",
    "4. modeling 조합"
   ]
  },
  {
   "cell_type": "code",
   "execution_count": null,
   "metadata": {},
   "outputs": [],
   "source": []
  }
 ],
 "metadata": {
  "kernelspec": {
   "display_name": "Python 3",
   "language": "python",
   "name": "python3"
  },
  "language_info": {
   "codemirror_mode": {
    "name": "ipython",
    "version": 3
   },
   "file_extension": ".py",
   "mimetype": "text/x-python",
   "name": "python",
   "nbconvert_exporter": "python",
   "pygments_lexer": "ipython3",
   "version": "3.6.2"
  }
 },
 "nbformat": 4,
 "nbformat_minor": 2
}
