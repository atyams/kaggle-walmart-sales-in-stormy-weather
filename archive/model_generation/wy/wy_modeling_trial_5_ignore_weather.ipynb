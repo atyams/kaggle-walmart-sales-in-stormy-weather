{
 "cells": [
  {
   "cell_type": "code",
   "execution_count": null,
   "metadata": {},
   "outputs": [],
   "source": [
    "from set_math import *"
   ]
  },
  {
   "cell_type": "code",
   "execution_count": null,
   "metadata": {},
   "outputs": [],
   "source": [
    "from set_visualization import *"
   ]
  },
  {
   "cell_type": "markdown",
   "metadata": {},
   "source": [
    "# load"
   ]
  },
  {
   "cell_type": "code",
   "execution_count": null,
   "metadata": {},
   "outputs": [],
   "source": [
    "% pwd"
   ]
  },
  {
   "cell_type": "code",
   "execution_count": null,
   "metadata": {},
   "outputs": [],
   "source": [
    "df_test = pd.read_csv('train2.csv', index_col=0)"
   ]
  },
  {
   "cell_type": "code",
   "execution_count": null,
   "metadata": {},
   "outputs": [],
   "source": [
    "df_test"
   ]
  },
  {
   "cell_type": "code",
   "execution_count": null,
   "metadata": {},
   "outputs": [],
   "source": [
    "def make_year(date):\n",
    "    return int(date.split('-')[0])\n",
    "\n",
    "def make_month(date):\n",
    "    return int(date.split('-')[1])\n",
    "\n",
    "def make_day(date):\n",
    "    return int(date.split('-')[2])\n",
    "\n",
    "def make_monthday(date):\n",
    "    return (date.split('-')[1:3])"
   ]
  },
  {
   "cell_type": "code",
   "execution_count": null,
   "metadata": {},
   "outputs": [],
   "source": [
    "df_test['year'] = df_test['date'].apply(make_year)\n",
    "df_test['month'] = df_test['date'].apply(make_month)\n",
    "df_test['day'] = df_test['date'].apply(make_day)"
   ]
  },
  {
   "cell_type": "code",
   "execution_count": null,
   "metadata": {},
   "outputs": [],
   "source": [
    "df_test"
   ]
  },
  {
   "cell_type": "code",
   "execution_count": null,
   "metadata": {},
   "outputs": [],
   "source": []
  },
  {
   "cell_type": "markdown",
   "metadata": {},
   "source": [
    "## 카테고리형 독립변수"
   ]
  },
  {
   "cell_type": "code",
   "execution_count": null,
   "metadata": {},
   "outputs": [],
   "source": [
    "model_1 = sm.OLS.from_formula('units ~ C(item_nbr) + C(store_nbr) + C(dayofweek) + C(year) + C(month) + C(day)', data=df_test)\n",
    "result_1 = model_1.fit()\n",
    "print(result_1.summary())"
   ]
  },
  {
   "cell_type": "markdown",
   "metadata": {},
   "source": [
    "# Leverage & Outlier"
   ]
  },
  {
   "cell_type": "code",
   "execution_count": null,
   "metadata": {},
   "outputs": [],
   "source": [
    "# 1차\n",
    "res = result_1.resid_pearson\n",
    "index = result_1.resid.index\n",
    "outlier_index = abs(res) >= 2\n",
    "\n",
    "row = pd.Series(index=index, data=res)\n",
    "drop_index = row[outlier_index].index"
   ]
  },
  {
   "cell_type": "code",
   "execution_count": null,
   "metadata": {},
   "outputs": [],
   "source": [
    "df_test.drop(list(drop_index),inplace=True)"
   ]
  },
  {
   "cell_type": "code",
   "execution_count": null,
   "metadata": {},
   "outputs": [],
   "source": [
    "model_1 = sm.OLS.from_formula('units ~ C(item_nbr) + C(store_nbr) + C(dayofweek) + C(year) + C(month) + C(day)', data=df_test)\n",
    "result_1 = model_1.fit()\n",
    "print(result_1.summary())\n",
    "\n",
    "# 0.727 -> 0.804"
   ]
  },
  {
   "cell_type": "code",
   "execution_count": null,
   "metadata": {},
   "outputs": [],
   "source": [
    "# 2차\n",
    "res = result_1.resid_pearson\n",
    "index = result_1.resid.index\n",
    "outlier_index = abs(res) >= 2\n",
    "\n",
    "row = pd.Series(index=index, data=res)\n",
    "drop_index = row[outlier_index].index"
   ]
  },
  {
   "cell_type": "code",
   "execution_count": null,
   "metadata": {},
   "outputs": [],
   "source": [
    "df_test.drop(list(drop_index),inplace=True)"
   ]
  },
  {
   "cell_type": "code",
   "execution_count": null,
   "metadata": {},
   "outputs": [],
   "source": [
    "model_1 = sm.OLS.from_formula('units ~ C(item_nbr) + C(store_nbr) + C(dayofweek) + C(year) + C(month) + C(day) + 0', data=df_test)\n",
    "result_1 = model_1.fit()\n",
    "print(result_1.summary())\n",
    "\n",
    "# 0.727 -> 0.804 -> 0.845"
   ]
  },
  {
   "cell_type": "code",
   "execution_count": null,
   "metadata": {},
   "outputs": [],
   "source": [
    "# 3차\n",
    "res = result_1.resid_pearson\n",
    "index = result_1.resid.index\n",
    "outlier_index = abs(res) >= 2\n",
    "\n",
    "row = pd.Series(index=index, data=res)\n",
    "drop_index = row[outlier_index].index"
   ]
  },
  {
   "cell_type": "code",
   "execution_count": null,
   "metadata": {},
   "outputs": [],
   "source": [
    "df_test.drop(list(drop_index),inplace=True)"
   ]
  },
  {
   "cell_type": "code",
   "execution_count": null,
   "metadata": {},
   "outputs": [],
   "source": [
    "model_1 = sm.OLS.from_formula('units ~ C(item_nbr) + C(store_nbr) + C(dayofweek) + C(year) + C(month) + C(day) + 0', data=df_test)\n",
    "result_1 = model_1.fit()\n",
    "print(result_1.summary())\n",
    "\n",
    "# 0.727 -> 0.804 -> 0.845 -> 0.876"
   ]
  },
  {
   "cell_type": "code",
   "execution_count": null,
   "metadata": {},
   "outputs": [],
   "source": [
    "# 4차\n",
    "res = result_1.resid_pearson\n",
    "index = result_1.resid.index\n",
    "outlier_index = abs(res) >= 2\n",
    "\n",
    "row = pd.Series(index=index, data=res)\n",
    "drop_index = row[outlier_index].index"
   ]
  },
  {
   "cell_type": "code",
   "execution_count": null,
   "metadata": {},
   "outputs": [],
   "source": [
    "df_test.drop(list(drop_index),inplace=True)"
   ]
  },
  {
   "cell_type": "code",
   "execution_count": null,
   "metadata": {},
   "outputs": [],
   "source": [
    "model_1 = sm.OLS.from_formula('units ~ C(item_nbr) + C(store_nbr) + C(dayofweek) + C(year) + C(month) + C(day) + 0', data=df_test)\n",
    "result_1 = model_1.fit()\n",
    "print(result_1.summary())\n",
    "\n",
    "# 0.727 -> 0.804 -> 0.845 -> 0.876 --> 0.901"
   ]
  },
  {
   "cell_type": "code",
   "execution_count": null,
   "metadata": {},
   "outputs": [],
   "source": [
    "# 5차\n",
    "res = result_1.resid_pearson\n",
    "index = result_1.resid.index\n",
    "outlier_index = abs(res) >= 2\n",
    "\n",
    "row = pd.Series(index=index, data=res)\n",
    "drop_index = row[outlier_index].index"
   ]
  },
  {
   "cell_type": "code",
   "execution_count": null,
   "metadata": {},
   "outputs": [],
   "source": [
    "df_test.drop(list(drop_index),inplace=True)"
   ]
  },
  {
   "cell_type": "code",
   "execution_count": null,
   "metadata": {},
   "outputs": [],
   "source": [
    "model_1 = sm.OLS.from_formula('units ~ C(item_nbr) + C(store_nbr) + C(dayofweek) + C(year) + C(month) + C(day) + 0', data=df_test)\n",
    "result_1 = model_1.fit()\n",
    "print(result_1.summary())\n",
    "\n",
    "# 0.727 -> 0.804 -> 0.845 -> 0.876 -- 0.901 --> 0.919"
   ]
  },
  {
   "cell_type": "code",
   "execution_count": null,
   "metadata": {},
   "outputs": [],
   "source": [
    "sp.stats.probplot(result_1.resid, plot=plt)\n",
    "plt.show()\n",
    "\n",
    "test = sms.omni_normtest(result_1.resid)\n",
    "for xi in zip(['Chi^2', 'P-value'], test):\n",
    "    print(\"%-12s: %6.3f\" % xi)"
   ]
  },
  {
   "cell_type": "code",
   "execution_count": null,
   "metadata": {},
   "outputs": [],
   "source": []
  },
  {
   "cell_type": "markdown",
   "metadata": {},
   "source": [
    "# kfold"
   ]
  },
  {
   "cell_type": "code",
   "execution_count": null,
   "metadata": {},
   "outputs": [],
   "source": [
    "df_test.columns"
   ]
  },
  {
   "cell_type": "code",
   "execution_count": null,
   "metadata": {},
   "outputs": [],
   "source": [
    "X = pd.DataFrame(data=df_test, columns=['date', 'store_nbr', 'item_nbr', 'station_nbr', 'tmax', 'tmin',\n",
    "       'tavg', 'depart', 'dewpoint', 'wetbulb', 'heat', 'cool', 'sunrise',\n",
    "       'sunset', 'snowfall', 'preciptotal', 'stnpressure', 'sealevel',\n",
    "       'resultspeed', 'resultdir', 'avgspeed', 'codesum', 'codesum_YN',\n",
    "       'dayofweek', 'is_holiday'])\n",
    "print(X.shape)\n",
    "X.head()"
   ]
  },
  {
   "cell_type": "code",
   "execution_count": null,
   "metadata": {},
   "outputs": [],
   "source": [
    "y = pd.DataFrame(data=df_test, columns=['units'])\n",
    "print(y.shape)\n",
    "y.head()"
   ]
  },
  {
   "cell_type": "code",
   "execution_count": null,
   "metadata": {},
   "outputs": [],
   "source": [
    "from sklearn.model_selection import KFold\n",
    "\n",
    "trial = 4\n",
    "\n",
    "cv = KFold(n_splits=trial, shuffle=True, random_state=2)\n",
    "\n",
    "total = 0\n",
    "\n",
    "\n",
    "for train_index, test_index in cv.split(X):\n",
    "    print(\"test index :\", test_index, len(test_index))\n",
    "    print(\".\" * 80)\n",
    "    print(\"train index:\", train_index, len(train_index))\n",
    "    print(\"=\" * 80)\n",
    "\n",
    "    X_train = X.loc[train_index, :]\n",
    "    X_test = X.loc[test_index, :]\n",
    "    y_train = y.loc[train_index, :]\n",
    "    y_test = y.loc[test_index, :]\n",
    "\n",
    "    model = sm.OLS.from_formula('units ~ resultspeed + cool + heat + preciptotal + depart + C(item_nbr) + C(store_nbr) + is_holiday', data=pd.concat([X_train, y_train], axis=1))\n",
    "    result = model.fit()\n",
    "    \n",
    "    y_hat = result.predict(X_test)\n",
    "    \n",
    "    ESS = ((y_hat - y_hat.mean())**2).sum()\n",
    "    TSS = ((y_test-y_test.mean())**2).sum()\n",
    "    total += ESS/TSS\n",
    "    print(ESS/TSS)\n",
    "    \n",
    "total/trial"
   ]
  },
  {
   "cell_type": "code",
   "execution_count": null,
   "metadata": {},
   "outputs": [],
   "source": []
  },
  {
   "cell_type": "code",
   "execution_count": null,
   "metadata": {},
   "outputs": [],
   "source": []
  },
  {
   "cell_type": "markdown",
   "metadata": {},
   "source": [
    "# submission preparation"
   ]
  },
  {
   "cell_type": "markdown",
   "metadata": {},
   "source": [
    "### test file preprocessing"
   ]
  },
  {
   "cell_type": "code",
   "execution_count": null,
   "metadata": {},
   "outputs": [],
   "source": [
    "test = pd.read_csv('../../data/basic/test.csv')\n",
    "print(test.shape)\n",
    "test.head()"
   ]
  },
  {
   "cell_type": "code",
   "execution_count": null,
   "metadata": {},
   "outputs": [],
   "source": [
    "key = pd.read_csv('../../data/basic/key.csv')\n",
    "weather = pd.read_csv('../../data/weather_v8_with_holiday.csv')"
   ]
  },
  {
   "cell_type": "code",
   "execution_count": null,
   "metadata": {},
   "outputs": [],
   "source": [
    "test = pd.merge(test, key)"
   ]
  },
  {
   "cell_type": "code",
   "execution_count": null,
   "metadata": {},
   "outputs": [],
   "source": [
    "test = pd.merge(test, weather)"
   ]
  },
  {
   "cell_type": "code",
   "execution_count": null,
   "metadata": {},
   "outputs": [],
   "source": [
    "test.columns"
   ]
  },
  {
   "cell_type": "code",
   "execution_count": null,
   "metadata": {},
   "outputs": [],
   "source": [
    "test = pd.DataFrame(test, columns=['date','dayofweek', 'is_holiday', 'store_nbr', 'item_nbr', 'station_nbr', 'tmax',\n",
    "       'tmin', 'tavg', 'depart', 'dewpoint', 'wetbulb', 'heat', 'cool',\n",
    "       'sunrise', 'sunset', 'codesum', 'codesum_YN', 'snowfall', 'preciptotal',\n",
    "       'stnpressure', 'sealevel', 'resultspeed', 'resultdir', 'avgspeed',\n",
    "       ])"
   ]
  },
  {
   "cell_type": "code",
   "execution_count": null,
   "metadata": {},
   "outputs": [],
   "source": [
    "test.head()"
   ]
  },
  {
   "cell_type": "code",
   "execution_count": null,
   "metadata": {},
   "outputs": [],
   "source": [
    "def is_holiday(holiday):\n",
    "    if holiday == 'holiday':\n",
    "        return 1\n",
    "    elif holiday == 'holiday_work':\n",
    "        return 1\n",
    "    elif holiday == \"workday\":\n",
    "        return 0"
   ]
  },
  {
   "cell_type": "code",
   "execution_count": null,
   "metadata": {},
   "outputs": [],
   "source": [
    "test['is_holiday'] = test['is_holiday'].apply(is_holiday)"
   ]
  },
  {
   "cell_type": "code",
   "execution_count": null,
   "metadata": {},
   "outputs": [],
   "source": [
    "test['year'] = test['date'].apply(make_year)\n",
    "test['month'] = test['date'].apply(make_month)\n",
    "test['day'] = test['date'].apply(make_day)"
   ]
  },
  {
   "cell_type": "code",
   "execution_count": null,
   "metadata": {},
   "outputs": [],
   "source": [
    "test.head()"
   ]
  },
  {
   "cell_type": "code",
   "execution_count": null,
   "metadata": {},
   "outputs": [],
   "source": [
    "test_sample = test.drop(columns=['tmax', 'tmin', 'tavg', 'dewpoint', 'wetbulb',\n",
    "       'sunrise', 'sunset','depart',  'codesum', 'codesum_YN', 'snowfall',\n",
    "       'stnpressure', 'sealevel','resultdir', 'avgspeed',\n",
    "       'station_nbr', 'heat', 'cool', 'preciptotal', 'is_holiday', 'resultspeed'])"
   ]
  },
  {
   "cell_type": "code",
   "execution_count": null,
   "metadata": {},
   "outputs": [],
   "source": [
    "test_sample.head()"
   ]
  },
  {
   "cell_type": "code",
   "execution_count": null,
   "metadata": {},
   "outputs": [],
   "source": [
    "test_X_df = pd.DataFrame(columns=['date', 'item_nbr', 'store_nbr','dayofweek', 'year', 'month', 'day'])\n",
    "\n",
    "for nbr in range(1, 45+1):\n",
    "    store_nbr = df_test[df_test['store_nbr'].isin([nbr])]\n",
    "    sold_item_list = list(store_nbr['item_nbr'].unique())\n",
    "    sold_item_list\n",
    "\n",
    "    test_store_nbr = test_sample[test_sample['store_nbr'].isin([nbr])]\n",
    "    to_test_df = test_store_nbr[test_store_nbr['item_nbr'].isin(sold_item_list)]\n",
    "\n",
    "    test_X_df = pd.concat([test_X_df, to_test_df], axis = 0)\n",
    "    \n",
    "test_X_df.shape"
   ]
  },
  {
   "cell_type": "code",
   "execution_count": null,
   "metadata": {},
   "outputs": [],
   "source": [
    "df_test.info()"
   ]
  },
  {
   "cell_type": "code",
   "execution_count": null,
   "metadata": {},
   "outputs": [],
   "source": [
    "test_X_df.head()"
   ]
  },
  {
   "cell_type": "code",
   "execution_count": null,
   "metadata": {},
   "outputs": [],
   "source": [
    "test_X_df.info()"
   ]
  },
  {
   "cell_type": "code",
   "execution_count": null,
   "metadata": {},
   "outputs": [],
   "source": [
    "test_X_df['store_nbr'] = test_X_df['store_nbr'].astype(int)\n",
    "test_X_df['item_nbr'] = test_X_df['item_nbr'].astype(int)\n",
    "test_X_df['year'] = test_X_df['year'].astype(int)\n",
    "test_X_df['month'] = test_X_df['month'].astype(int)\n",
    "test_X_df['day'] = test_X_df['day'].astype(int)\n",
    "test_X_df['dayofweek'] = test_X_df['dayofweek'].astype(object)"
   ]
  },
  {
   "cell_type": "code",
   "execution_count": null,
   "metadata": {},
   "outputs": [],
   "source": [
    "test_result = result_1.predict(test_X_df)"
   ]
  },
  {
   "cell_type": "markdown",
   "metadata": {},
   "source": [
    "# create submission file"
   ]
  },
  {
   "cell_type": "code",
   "execution_count": null,
   "metadata": {},
   "outputs": [],
   "source": [
    "result = pd.concat([test, test_result], axis=1)"
   ]
  },
  {
   "cell_type": "code",
   "execution_count": null,
   "metadata": {},
   "outputs": [],
   "source": [
    "print(result.shape)\n",
    "result.head()"
   ]
  },
  {
   "cell_type": "code",
   "execution_count": null,
   "metadata": {},
   "outputs": [],
   "source": []
  },
  {
   "cell_type": "code",
   "execution_count": null,
   "metadata": {},
   "outputs": [],
   "source": [
    "result['units'] = result[0]"
   ]
  },
  {
   "cell_type": "code",
   "execution_count": null,
   "metadata": {},
   "outputs": [],
   "source": [
    "def itiszero(units):\n",
    "    if units > 0:\n",
    "        return units\n",
    "    else:\n",
    "        return 0"
   ]
  },
  {
   "cell_type": "code",
   "execution_count": null,
   "metadata": {},
   "outputs": [],
   "source": [
    "result['units'] = result['units'].apply(itiszero)"
   ]
  },
  {
   "cell_type": "code",
   "execution_count": null,
   "metadata": {},
   "outputs": [],
   "source": [
    "result['units'] = result['units'].astype(int)"
   ]
  },
  {
   "cell_type": "code",
   "execution_count": null,
   "metadata": {},
   "outputs": [],
   "source": [
    "result = pd.DataFrame(data=result, columns=['store_nbr', 'item_nbr', 'date', 'units'])"
   ]
  },
  {
   "cell_type": "code",
   "execution_count": null,
   "metadata": {},
   "outputs": [],
   "source": [
    "for col in result[['store_nbr', 'item_nbr']]:\n",
    "    result[col] = result[col].astype(int)"
   ]
  },
  {
   "cell_type": "code",
   "execution_count": null,
   "metadata": {},
   "outputs": [],
   "source": [
    "result['id'] = result['store_nbr'].astype(str)+'_'+result['item_nbr'].astype(str)+'_'+result['date'].astype(str)"
   ]
  },
  {
   "cell_type": "code",
   "execution_count": null,
   "metadata": {},
   "outputs": [],
   "source": [
    "for_submission = result.loc[:,['id','units']]"
   ]
  },
  {
   "cell_type": "code",
   "execution_count": null,
   "metadata": {},
   "outputs": [],
   "source": [
    "for_submission.head()"
   ]
  },
  {
   "cell_type": "code",
   "execution_count": null,
   "metadata": {},
   "outputs": [],
   "source": [
    "for_submission.to_csv('submission_sample4.csv', index=False)"
   ]
  },
  {
   "cell_type": "code",
   "execution_count": null,
   "metadata": {},
   "outputs": [],
   "source": []
  },
  {
   "cell_type": "code",
   "execution_count": null,
   "metadata": {},
   "outputs": [],
   "source": []
  },
  {
   "cell_type": "code",
   "execution_count": null,
   "metadata": {},
   "outputs": [],
   "source": []
  },
  {
   "cell_type": "code",
   "execution_count": null,
   "metadata": {},
   "outputs": [],
   "source": []
  },
  {
   "cell_type": "markdown",
   "metadata": {},
   "source": [
    "# samplesubmission3\n",
    "### dayofweek , outlier 5번 제거 ==> 캐글 0.26513\n",
    " \n"
   ]
  },
  {
   "cell_type": "markdown",
   "metadata": {},
   "source": [
    " \n",
    "# samplesubmission4\n",
    "### dayofweek, year, month, day , outlier 5번 제거 ==> 캐글 "
   ]
  },
  {
   "cell_type": "code",
   "execution_count": null,
   "metadata": {},
   "outputs": [],
   "source": []
  }
 ],
 "metadata": {
  "kernelspec": {
   "display_name": "Python 3",
   "language": "python",
   "name": "python3"
  },
  "language_info": {
   "codemirror_mode": {
    "name": "ipython",
    "version": 3
   },
   "file_extension": ".py",
   "mimetype": "text/x-python",
   "name": "python",
   "nbconvert_exporter": "python",
   "pygments_lexer": "ipython3",
   "version": "3.6.2"
  }
 },
 "nbformat": 4,
 "nbformat_minor": 2
}
