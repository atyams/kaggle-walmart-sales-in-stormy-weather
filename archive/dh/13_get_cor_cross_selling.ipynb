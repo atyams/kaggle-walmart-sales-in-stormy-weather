{
 "cells": [
  {
   "cell_type": "markdown",
   "metadata": {},
   "source": [
    "# store_nbr 별 item_nbr 간 상관관계를 구해보려 합니다. ( 조건 : 같은 날에 팔린 것을 기준으로..)"
   ]
  },
  {
   "cell_type": "markdown",
   "metadata": {},
   "source": [
    "# 먼저 각 store_nbr 별 팔린 item_nbr 만 추려내서 데이터 프레임을 생성하겠습니다"
   ]
  },
  {
   "cell_type": "code",
   "execution_count": 41,
   "metadata": {},
   "outputs": [],
   "source": [
    "import set_math"
   ]
  },
  {
   "cell_type": "code",
   "execution_count": 120,
   "metadata": {},
   "outputs": [],
   "source": [
    "%matplotlib inline"
   ]
  },
  {
   "cell_type": "code",
   "execution_count": 42,
   "metadata": {},
   "outputs": [
    {
     "data": {
      "text/html": [
       "<div>\n",
       "<style scoped>\n",
       "    .dataframe tbody tr th:only-of-type {\n",
       "        vertical-align: middle;\n",
       "    }\n",
       "\n",
       "    .dataframe tbody tr th {\n",
       "        vertical-align: top;\n",
       "    }\n",
       "\n",
       "    .dataframe thead th {\n",
       "        text-align: right;\n",
       "    }\n",
       "</style>\n",
       "<table border=\"1\" class=\"dataframe\">\n",
       "  <thead>\n",
       "    <tr style=\"text-align: right;\">\n",
       "      <th></th>\n",
       "      <th>date</th>\n",
       "      <th>station_nbr</th>\n",
       "      <th>store_nbr</th>\n",
       "      <th>item_nbr</th>\n",
       "      <th>units</th>\n",
       "      <th>depart</th>\n",
       "      <th>codesum</th>\n",
       "      <th>dayofweek</th>\n",
       "      <th>is_holiday</th>\n",
       "    </tr>\n",
       "  </thead>\n",
       "  <tbody>\n",
       "    <tr>\n",
       "      <th>0</th>\n",
       "      <td>2012-01-01</td>\n",
       "      <td>1</td>\n",
       "      <td>1</td>\n",
       "      <td>9</td>\n",
       "      <td>29</td>\n",
       "      <td>M</td>\n",
       "      <td>RA FZFG BR</td>\n",
       "      <td>Sun</td>\n",
       "      <td>holiday</td>\n",
       "    </tr>\n",
       "    <tr>\n",
       "      <th>1</th>\n",
       "      <td>2012-01-01</td>\n",
       "      <td>1</td>\n",
       "      <td>1</td>\n",
       "      <td>28</td>\n",
       "      <td>2</td>\n",
       "      <td>M</td>\n",
       "      <td>RA FZFG BR</td>\n",
       "      <td>Sun</td>\n",
       "      <td>holiday</td>\n",
       "    </tr>\n",
       "    <tr>\n",
       "      <th>2</th>\n",
       "      <td>2012-01-01</td>\n",
       "      <td>1</td>\n",
       "      <td>1</td>\n",
       "      <td>51</td>\n",
       "      <td>1</td>\n",
       "      <td>M</td>\n",
       "      <td>RA FZFG BR</td>\n",
       "      <td>Sun</td>\n",
       "      <td>holiday</td>\n",
       "    </tr>\n",
       "    <tr>\n",
       "      <th>3</th>\n",
       "      <td>2012-01-01</td>\n",
       "      <td>2</td>\n",
       "      <td>16</td>\n",
       "      <td>16</td>\n",
       "      <td>25</td>\n",
       "      <td>16</td>\n",
       "      <td>RA</td>\n",
       "      <td>Sun</td>\n",
       "      <td>holiday</td>\n",
       "    </tr>\n",
       "    <tr>\n",
       "      <th>4</th>\n",
       "      <td>2012-01-01</td>\n",
       "      <td>2</td>\n",
       "      <td>16</td>\n",
       "      <td>25</td>\n",
       "      <td>187</td>\n",
       "      <td>16</td>\n",
       "      <td>RA</td>\n",
       "      <td>Sun</td>\n",
       "      <td>holiday</td>\n",
       "    </tr>\n",
       "  </tbody>\n",
       "</table>\n",
       "</div>"
      ],
      "text/plain": [
       "         date  station_nbr  store_nbr  item_nbr  units depart     codesum  \\\n",
       "0  2012-01-01            1          1         9     29      M  RA FZFG BR   \n",
       "1  2012-01-01            1          1        28      2      M  RA FZFG BR   \n",
       "2  2012-01-01            1          1        51      1      M  RA FZFG BR   \n",
       "3  2012-01-01            2         16        16     25     16          RA   \n",
       "4  2012-01-01            2         16        25    187     16          RA   \n",
       "\n",
       "  dayofweek is_holiday  \n",
       "0       Sun    holiday  \n",
       "1       Sun    holiday  \n",
       "2       Sun    holiday  \n",
       "3       Sun    holiday  \n",
       "4       Sun    holiday  "
      ]
     },
     "execution_count": 42,
     "metadata": {},
     "output_type": "execute_result"
    }
   ],
   "source": [
    "data = pd.read_csv('../data/05. data_sample_V3', index_col = 0)\n",
    "data.head()"
   ]
  },
  {
   "cell_type": "code",
   "execution_count": 43,
   "metadata": {},
   "outputs": [],
   "source": [
    "item_unit_df = pd.DataFrame(data, columns=['date','station_nbr', 'store_nbr', 'item_nbr', 'units'])"
   ]
  },
  {
   "cell_type": "code",
   "execution_count": 44,
   "metadata": {},
   "outputs": [
    {
     "data": {
      "text/html": [
       "<div>\n",
       "<style scoped>\n",
       "    .dataframe tbody tr th:only-of-type {\n",
       "        vertical-align: middle;\n",
       "    }\n",
       "\n",
       "    .dataframe tbody tr th {\n",
       "        vertical-align: top;\n",
       "    }\n",
       "\n",
       "    .dataframe thead th {\n",
       "        text-align: right;\n",
       "    }\n",
       "</style>\n",
       "<table border=\"1\" class=\"dataframe\">\n",
       "  <thead>\n",
       "    <tr style=\"text-align: right;\">\n",
       "      <th></th>\n",
       "      <th>date</th>\n",
       "      <th>station_nbr</th>\n",
       "      <th>store_nbr</th>\n",
       "      <th>item_nbr</th>\n",
       "      <th>units</th>\n",
       "    </tr>\n",
       "  </thead>\n",
       "  <tbody>\n",
       "    <tr>\n",
       "      <th>118689</th>\n",
       "      <td>2014-10-31</td>\n",
       "      <td>19</td>\n",
       "      <td>30</td>\n",
       "      <td>16</td>\n",
       "      <td>19</td>\n",
       "    </tr>\n",
       "    <tr>\n",
       "      <th>118690</th>\n",
       "      <td>2014-10-31</td>\n",
       "      <td>19</td>\n",
       "      <td>30</td>\n",
       "      <td>44</td>\n",
       "      <td>69</td>\n",
       "    </tr>\n",
       "    <tr>\n",
       "      <th>118691</th>\n",
       "      <td>2014-10-31</td>\n",
       "      <td>19</td>\n",
       "      <td>30</td>\n",
       "      <td>65</td>\n",
       "      <td>1</td>\n",
       "    </tr>\n",
       "    <tr>\n",
       "      <th>118692</th>\n",
       "      <td>2014-10-31</td>\n",
       "      <td>20</td>\n",
       "      <td>17</td>\n",
       "      <td>9</td>\n",
       "      <td>24</td>\n",
       "    </tr>\n",
       "    <tr>\n",
       "      <th>118693</th>\n",
       "      <td>2014-10-31</td>\n",
       "      <td>20</td>\n",
       "      <td>17</td>\n",
       "      <td>37</td>\n",
       "      <td>25</td>\n",
       "    </tr>\n",
       "  </tbody>\n",
       "</table>\n",
       "</div>"
      ],
      "text/plain": [
       "              date  station_nbr  store_nbr  item_nbr  units\n",
       "118689  2014-10-31           19         30        16     19\n",
       "118690  2014-10-31           19         30        44     69\n",
       "118691  2014-10-31           19         30        65      1\n",
       "118692  2014-10-31           20         17         9     24\n",
       "118693  2014-10-31           20         17        37     25"
      ]
     },
     "execution_count": 44,
     "metadata": {},
     "output_type": "execute_result"
    }
   ],
   "source": [
    "item_unit_df.tail()"
   ]
  },
  {
   "cell_type": "markdown",
   "metadata": {},
   "source": [
    "# store_nbr = 1 인 것들만 실험적으로 해보죠"
   ]
  },
  {
   "cell_type": "code",
   "execution_count": 64,
   "metadata": {},
   "outputs": [
    {
     "data": {
      "text/html": [
       "<div>\n",
       "<style scoped>\n",
       "    .dataframe tbody tr th:only-of-type {\n",
       "        vertical-align: middle;\n",
       "    }\n",
       "\n",
       "    .dataframe tbody tr th {\n",
       "        vertical-align: top;\n",
       "    }\n",
       "\n",
       "    .dataframe thead th {\n",
       "        text-align: right;\n",
       "    }\n",
       "</style>\n",
       "<table border=\"1\" class=\"dataframe\">\n",
       "  <thead>\n",
       "    <tr style=\"text-align: right;\">\n",
       "      <th></th>\n",
       "      <th>date</th>\n",
       "      <th>station_nbr</th>\n",
       "      <th>store_nbr</th>\n",
       "      <th>item_nbr</th>\n",
       "      <th>units</th>\n",
       "    </tr>\n",
       "  </thead>\n",
       "  <tbody>\n",
       "    <tr>\n",
       "      <th>0</th>\n",
       "      <td>2012-01-01</td>\n",
       "      <td>1</td>\n",
       "      <td>1</td>\n",
       "      <td>9</td>\n",
       "      <td>29</td>\n",
       "    </tr>\n",
       "    <tr>\n",
       "      <th>1</th>\n",
       "      <td>2012-01-01</td>\n",
       "      <td>1</td>\n",
       "      <td>1</td>\n",
       "      <td>28</td>\n",
       "      <td>2</td>\n",
       "    </tr>\n",
       "    <tr>\n",
       "      <th>2</th>\n",
       "      <td>2012-01-01</td>\n",
       "      <td>1</td>\n",
       "      <td>1</td>\n",
       "      <td>51</td>\n",
       "      <td>1</td>\n",
       "    </tr>\n",
       "    <tr>\n",
       "      <th>3</th>\n",
       "      <td>2012-01-07</td>\n",
       "      <td>1</td>\n",
       "      <td>1</td>\n",
       "      <td>9</td>\n",
       "      <td>2</td>\n",
       "    </tr>\n",
       "    <tr>\n",
       "      <th>4</th>\n",
       "      <td>2012-01-07</td>\n",
       "      <td>1</td>\n",
       "      <td>1</td>\n",
       "      <td>28</td>\n",
       "      <td>1</td>\n",
       "    </tr>\n",
       "  </tbody>\n",
       "</table>\n",
       "</div>"
      ],
      "text/plain": [
       "         date  station_nbr  store_nbr  item_nbr  units\n",
       "0  2012-01-01            1          1         9     29\n",
       "1  2012-01-01            1          1        28      2\n",
       "2  2012-01-01            1          1        51      1\n",
       "3  2012-01-07            1          1         9      2\n",
       "4  2012-01-07            1          1        28      1"
      ]
     },
     "execution_count": 64,
     "metadata": {},
     "output_type": "execute_result"
    }
   ],
   "source": [
    "store_nbr_1 = item_unit_df[item_unit_df['store_nbr'].isin([1])].reset_index(drop = True)\n",
    "store_nbr_1.head()"
   ]
  },
  {
   "cell_type": "code",
   "execution_count": 65,
   "metadata": {
    "scrolled": true
   },
   "outputs": [],
   "source": [
    "store_nbr_1 = store_nbr_1.pivot_table(values = 'units', index = ['date'], columns=['item_nbr'], aggfunc = np.sum, fill_value = 0)"
   ]
  },
  {
   "cell_type": "code",
   "execution_count": 66,
   "metadata": {},
   "outputs": [
    {
     "data": {
      "text/html": [
       "<div>\n",
       "<style scoped>\n",
       "    .dataframe tbody tr th:only-of-type {\n",
       "        vertical-align: middle;\n",
       "    }\n",
       "\n",
       "    .dataframe tbody tr th {\n",
       "        vertical-align: top;\n",
       "    }\n",
       "\n",
       "    .dataframe thead th {\n",
       "        text-align: right;\n",
       "    }\n",
       "</style>\n",
       "<table border=\"1\" class=\"dataframe\">\n",
       "  <thead>\n",
       "    <tr style=\"text-align: right;\">\n",
       "      <th>item_nbr</th>\n",
       "      <th>9</th>\n",
       "      <th>28</th>\n",
       "      <th>40</th>\n",
       "      <th>47</th>\n",
       "      <th>51</th>\n",
       "      <th>89</th>\n",
       "      <th>93</th>\n",
       "      <th>99</th>\n",
       "    </tr>\n",
       "    <tr>\n",
       "      <th>date</th>\n",
       "      <th></th>\n",
       "      <th></th>\n",
       "      <th></th>\n",
       "      <th></th>\n",
       "      <th></th>\n",
       "      <th></th>\n",
       "      <th></th>\n",
       "      <th></th>\n",
       "    </tr>\n",
       "  </thead>\n",
       "  <tbody>\n",
       "    <tr>\n",
       "      <th>2012-01-01</th>\n",
       "      <td>29</td>\n",
       "      <td>2</td>\n",
       "      <td>0</td>\n",
       "      <td>0</td>\n",
       "      <td>1</td>\n",
       "      <td>0</td>\n",
       "      <td>0</td>\n",
       "      <td>0</td>\n",
       "    </tr>\n",
       "    <tr>\n",
       "      <th>2012-01-02</th>\n",
       "      <td>60</td>\n",
       "      <td>5</td>\n",
       "      <td>0</td>\n",
       "      <td>0</td>\n",
       "      <td>1</td>\n",
       "      <td>0</td>\n",
       "      <td>0</td>\n",
       "      <td>0</td>\n",
       "    </tr>\n",
       "    <tr>\n",
       "      <th>2012-01-03</th>\n",
       "      <td>15</td>\n",
       "      <td>9</td>\n",
       "      <td>0</td>\n",
       "      <td>0</td>\n",
       "      <td>0</td>\n",
       "      <td>0</td>\n",
       "      <td>0</td>\n",
       "      <td>0</td>\n",
       "    </tr>\n",
       "    <tr>\n",
       "      <th>2012-01-04</th>\n",
       "      <td>20</td>\n",
       "      <td>3</td>\n",
       "      <td>0</td>\n",
       "      <td>0</td>\n",
       "      <td>0</td>\n",
       "      <td>0</td>\n",
       "      <td>0</td>\n",
       "      <td>0</td>\n",
       "    </tr>\n",
       "    <tr>\n",
       "      <th>2012-01-05</th>\n",
       "      <td>16</td>\n",
       "      <td>1</td>\n",
       "      <td>0</td>\n",
       "      <td>0</td>\n",
       "      <td>0</td>\n",
       "      <td>0</td>\n",
       "      <td>0</td>\n",
       "      <td>0</td>\n",
       "    </tr>\n",
       "  </tbody>\n",
       "</table>\n",
       "</div>"
      ],
      "text/plain": [
       "item_nbr    9   28  40  47  51  89  93  99\n",
       "date                                      \n",
       "2012-01-01  29   2   0   0   1   0   0   0\n",
       "2012-01-02  60   5   0   0   1   0   0   0\n",
       "2012-01-03  15   9   0   0   0   0   0   0\n",
       "2012-01-04  20   3   0   0   0   0   0   0\n",
       "2012-01-05  16   1   0   0   0   0   0   0"
      ]
     },
     "execution_count": 66,
     "metadata": {},
     "output_type": "execute_result"
    }
   ],
   "source": [
    "store_nbr_1.head()"
   ]
  },
  {
   "cell_type": "markdown",
   "metadata": {},
   "source": [
    "# item_nbr 별로 array를 생성해 줍니다."
   ]
  },
  {
   "cell_type": "code",
   "execution_count": 110,
   "metadata": {},
   "outputs": [
    {
     "data": {
      "text/html": [
       "<div>\n",
       "<style scoped>\n",
       "    .dataframe tbody tr th:only-of-type {\n",
       "        vertical-align: middle;\n",
       "    }\n",
       "\n",
       "    .dataframe tbody tr th {\n",
       "        vertical-align: top;\n",
       "    }\n",
       "\n",
       "    .dataframe thead th {\n",
       "        text-align: right;\n",
       "    }\n",
       "</style>\n",
       "<table border=\"1\" class=\"dataframe\">\n",
       "  <thead>\n",
       "    <tr style=\"text-align: right;\">\n",
       "      <th>item_nbr</th>\n",
       "      <th>9</th>\n",
       "      <th>28</th>\n",
       "      <th>40</th>\n",
       "      <th>47</th>\n",
       "      <th>51</th>\n",
       "      <th>89</th>\n",
       "      <th>93</th>\n",
       "      <th>99</th>\n",
       "    </tr>\n",
       "    <tr>\n",
       "      <th>item_nbr</th>\n",
       "      <th></th>\n",
       "      <th></th>\n",
       "      <th></th>\n",
       "      <th></th>\n",
       "      <th></th>\n",
       "      <th></th>\n",
       "      <th></th>\n",
       "      <th></th>\n",
       "    </tr>\n",
       "  </thead>\n",
       "  <tbody>\n",
       "    <tr>\n",
       "      <th>9</th>\n",
       "      <td>1.000000</td>\n",
       "      <td>0.118978</td>\n",
       "      <td>0.107190</td>\n",
       "      <td>-0.007694</td>\n",
       "      <td>0.105353</td>\n",
       "      <td>0.035821</td>\n",
       "      <td>0.013317</td>\n",
       "      <td>0.044022</td>\n",
       "    </tr>\n",
       "    <tr>\n",
       "      <th>28</th>\n",
       "      <td>0.118978</td>\n",
       "      <td>1.000000</td>\n",
       "      <td>0.090358</td>\n",
       "      <td>0.224022</td>\n",
       "      <td>0.087682</td>\n",
       "      <td>-0.003938</td>\n",
       "      <td>-0.099449</td>\n",
       "      <td>0.055952</td>\n",
       "    </tr>\n",
       "    <tr>\n",
       "      <th>40</th>\n",
       "      <td>0.107190</td>\n",
       "      <td>0.090358</td>\n",
       "      <td>1.000000</td>\n",
       "      <td>0.036602</td>\n",
       "      <td>0.219022</td>\n",
       "      <td>0.002646</td>\n",
       "      <td>-0.041844</td>\n",
       "      <td>0.087471</td>\n",
       "    </tr>\n",
       "    <tr>\n",
       "      <th>47</th>\n",
       "      <td>-0.007694</td>\n",
       "      <td>0.224022</td>\n",
       "      <td>0.036602</td>\n",
       "      <td>1.000000</td>\n",
       "      <td>-0.042762</td>\n",
       "      <td>-0.116828</td>\n",
       "      <td>-0.163624</td>\n",
       "      <td>0.305509</td>\n",
       "    </tr>\n",
       "    <tr>\n",
       "      <th>51</th>\n",
       "      <td>0.105353</td>\n",
       "      <td>0.087682</td>\n",
       "      <td>0.219022</td>\n",
       "      <td>-0.042762</td>\n",
       "      <td>1.000000</td>\n",
       "      <td>0.011336</td>\n",
       "      <td>-0.046455</td>\n",
       "      <td>-0.013525</td>\n",
       "    </tr>\n",
       "    <tr>\n",
       "      <th>89</th>\n",
       "      <td>0.035821</td>\n",
       "      <td>-0.003938</td>\n",
       "      <td>0.002646</td>\n",
       "      <td>-0.116828</td>\n",
       "      <td>0.011336</td>\n",
       "      <td>1.000000</td>\n",
       "      <td>0.113808</td>\n",
       "      <td>-0.069894</td>\n",
       "    </tr>\n",
       "    <tr>\n",
       "      <th>93</th>\n",
       "      <td>0.013317</td>\n",
       "      <td>-0.099449</td>\n",
       "      <td>-0.041844</td>\n",
       "      <td>-0.163624</td>\n",
       "      <td>-0.046455</td>\n",
       "      <td>0.113808</td>\n",
       "      <td>1.000000</td>\n",
       "      <td>-0.105892</td>\n",
       "    </tr>\n",
       "    <tr>\n",
       "      <th>99</th>\n",
       "      <td>0.044022</td>\n",
       "      <td>0.055952</td>\n",
       "      <td>0.087471</td>\n",
       "      <td>0.305509</td>\n",
       "      <td>-0.013525</td>\n",
       "      <td>-0.069894</td>\n",
       "      <td>-0.105892</td>\n",
       "      <td>1.000000</td>\n",
       "    </tr>\n",
       "  </tbody>\n",
       "</table>\n",
       "</div>"
      ],
      "text/plain": [
       "item_nbr        9         28        40        47        51        89  \\\n",
       "item_nbr                                                               \n",
       "9         1.000000  0.118978  0.107190 -0.007694  0.105353  0.035821   \n",
       "28        0.118978  1.000000  0.090358  0.224022  0.087682 -0.003938   \n",
       "40        0.107190  0.090358  1.000000  0.036602  0.219022  0.002646   \n",
       "47       -0.007694  0.224022  0.036602  1.000000 -0.042762 -0.116828   \n",
       "51        0.105353  0.087682  0.219022 -0.042762  1.000000  0.011336   \n",
       "89        0.035821 -0.003938  0.002646 -0.116828  0.011336  1.000000   \n",
       "93        0.013317 -0.099449 -0.041844 -0.163624 -0.046455  0.113808   \n",
       "99        0.044022  0.055952  0.087471  0.305509 -0.013525 -0.069894   \n",
       "\n",
       "item_nbr        93        99  \n",
       "item_nbr                      \n",
       "9         0.013317  0.044022  \n",
       "28       -0.099449  0.055952  \n",
       "40       -0.041844  0.087471  \n",
       "47       -0.163624  0.305509  \n",
       "51       -0.046455 -0.013525  \n",
       "89        0.113808 -0.069894  \n",
       "93        1.000000 -0.105892  \n",
       "99       -0.105892  1.000000  "
      ]
     },
     "execution_count": 110,
     "metadata": {},
     "output_type": "execute_result"
    }
   ],
   "source": [
    "store_nbr_1_corr = store_nbr_1.corr()\n",
    "store_nbr_1_corr"
   ]
  },
  {
   "cell_type": "markdown",
   "metadata": {},
   "source": [
    "# heatmap으로 시각화 해야겠죠?"
   ]
  },
  {
   "cell_type": "code",
   "execution_count": 121,
   "metadata": {
    "scrolled": false
   },
   "outputs": [
    {
     "data": {
      "text/plain": [
       "<matplotlib.axes._subplots.AxesSubplot at 0x117c0f358>"
      ]
     },
     "execution_count": 121,
     "metadata": {},
     "output_type": "execute_result"
    },
    {
     "data": {
      "image/png": "[encoded data removed]",
      "text/plain": [
       "<matplotlib.figure.Figure at 0x117c15828>"
      ]
     },
     "metadata": {},
     "output_type": "display_data"
    }
   ],
   "source": [
    "sns.heatmap(store_nbr_1_corr, cmap = \"YlGnBu\", annot = True, fmt = \".2f\")"
   ]
  },
  {
   "cell_type": "markdown",
   "metadata": {},
   "source": [
    "# 간단히 보면 1번 store의 47번 아이템과 99번 아이템이 가장 상관계수가 높네요! 그리고 40번과 51번이 0.22로 높은 것을 알 수 있습니다."
   ]
  },
  {
   "cell_type": "code",
   "execution_count": 133,
   "metadata": {},
   "outputs": [],
   "source": [
    "def store_item_nbr_cor(df,nbr):\n",
    "\n",
    "    df_nbr = df[item_unit_df['store_nbr'].isin([nbr])].reset_index(drop = True)\n",
    "    df_nbr = df_nbr.pivot_table(values = 'units', index = ['date'], columns=['item_nbr'], aggfunc = np.sum, fill_value = 0)\n",
    "    corr = df_nbr.corr()\n",
    "    sns.heatmap(corr, cmap = \"YlGnBu\", annot = True, fmt = \".2f\")"
   ]
  },
  {
   "cell_type": "code",
   "execution_count": 134,
   "metadata": {},
   "outputs": [
    {
     "data": {
      "image/png": "[encoded data removed]",
      "text/plain": [
       "<matplotlib.figure.Figure at 0x118a911d0>"
      ]
     },
     "metadata": {},
     "output_type": "display_data"
    }
   ],
   "source": [
    "store_item_nbr_cor(item_unit_df,1)"
   ]
  },
  {
   "cell_type": "code",
   "execution_count": 135,
   "metadata": {},
   "outputs": [
    {
     "data": {
      "image/png": "[encoded data removed]",
      "text/plain": [
       "<matplotlib.figure.Figure at 0x118a819b0>"
      ]
     },
     "metadata": {},
     "output_type": "display_data"
    }
   ],
   "source": [
    "store_item_nbr_cor(item_unit_df,2)"
   ]
  },
  {
   "cell_type": "code",
   "execution_count": null,
   "metadata": {},
   "outputs": [],
   "source": []
  }
 ],
 "metadata": {
  "kernelspec": {
   "display_name": "Python 3",
   "language": "python",
   "name": "python3"
  },
  "language_info": {
   "codemirror_mode": {
    "name": "ipython",
    "version": 3
   },
   "file_extension": ".py",
   "mimetype": "text/x-python",
   "name": "python",
   "nbconvert_exporter": "python",
   "pygments_lexer": "ipython3",
   "version": "3.5.0"
  }
 },
 "nbformat": 4,
 "nbformat_minor": 2
}
