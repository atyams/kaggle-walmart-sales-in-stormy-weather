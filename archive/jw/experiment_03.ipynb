{
 "cells": [
  {
   "cell_type": "code",
   "execution_count": 1,
   "metadata": {},
   "outputs": [
    {
     "name": "stdout",
     "output_type": "stream",
     "text": [
      "import configuration completed !\n",
      "train + key + weather merging started\n",
      "train + key + weather merging finished\n",
      "function configuration completed ! \n",
      "Good to go !\n"
     ]
    }
   ],
   "source": [
    "from jw_package import *\n",
    "from functools import reduce"
   ]
  },
  {
   "cell_type": "code",
   "execution_count": 22,
   "metadata": {},
   "outputs": [],
   "source": [
    "results =[]\n",
    "\n",
    "for each in range(1,21):\n",
    "    file_path = '../data/weather_mean/{:02}.csv'.format(each)\n",
    "    results.append(pd.read_csv(file_path,index_col=0))\n",
    "\n",
    "mean = reduce((lambda x,y: x.append(y)),results)"
   ]
  },
  {
   "cell_type": "code",
   "execution_count": 24,
   "metadata": {},
   "outputs": [],
   "source": [
    "sales = pd.read_csv('../data/basic/train.csv')\n",
    "keys = pd.read_csv('../data/basic/key.csv')"
   ]
  },
  {
   "cell_type": "code",
   "execution_count": 25,
   "metadata": {},
   "outputs": [],
   "source": [
    "data = sales.merge(keys).merge(mean)"
   ]
  },
  {
   "cell_type": "code",
   "execution_count": 41,
   "metadata": {},
   "outputs": [],
   "source": [
    "cols = list(data.columns[3:])\n",
    "cols.remove('station_nbr')\n",
    "cols.remove('sunset')\n",
    "cols.remove('sunrise')\n",
    "cols.remove('codesum')\n",
    "cols.remove('snowfall')\n",
    "cols.remove('day')\n",
    "cols.remove('month')\n",
    "cols.remove('year')"
   ]
  },
  {
   "cell_type": "code",
   "execution_count": 42,
   "metadata": {},
   "outputs": [],
   "source": [
    "formula = columns_to_relation(cols,None,'units',False)"
   ]
  },
  {
   "cell_type": "code",
   "execution_count": 43,
   "metadata": {},
   "outputs": [
    {
     "data": {
      "text/plain": [
       "'units ~ avgspeed + cool + depart + dewpoint + heat + preciptotal + resultdir + resultspeed + sealevel + stnpressure + tavg + tmax + tmin + wetbulb'"
      ]
     },
     "execution_count": 43,
     "metadata": {},
     "output_type": "execute_result"
    }
   ],
   "source": [
    "formula"
   ]
  },
  {
   "cell_type": "code",
   "execution_count": 44,
   "metadata": {},
   "outputs": [
    {
     "name": "stderr",
     "output_type": "stream",
     "text": [
      "d:\\anaconda\\lib\\site-packages\\statsmodels\\regression\\linear_model.py:1386: RuntimeWarning: invalid value encountered in double_scalars\n",
      "  return 1 - self.ssr/self.centered_tss\n"
     ]
    },
    {
     "name": "stdout",
     "output_type": "stream",
     "text": [
      "37 0.344841906815\n",
      "45 0.343439939064\n"
     ]
    }
   ],
   "source": [
    "results=[0,]\n",
    "mean = 0\n",
    "n = 0\n",
    "for item_nbr in range(1,112):\n",
    "    frame = data[data['item_nbr']==item_nbr]\n",
    "    \n",
    "    model = sm.OLS.from_formula(formula,data=frame)\n",
    "    \n",
    "    r2 = model.fit().rsquared\n",
    "    \n",
    "    if not np.isnan(r2):\n",
    "#         print(item_nbr, r2)\n",
    "        mean+=r2\n",
    "        n+=1\n",
    "    \n",
    "    if r2>=0.3:\n",
    "        print(item_nbr,r2)\n",
    "    \n",
    "    results.append(model)"
   ]
  },
  {
   "cell_type": "code",
   "execution_count": 45,
   "metadata": {},
   "outputs": [
    {
     "data": {
      "text/plain": [
       "0.048168484135546336"
      ]
     },
     "execution_count": 45,
     "metadata": {},
     "output_type": "execute_result"
    }
   ],
   "source": [
    "mean/n"
   ]
  },
  {
   "cell_type": "code",
   "execution_count": 52,
   "metadata": {},
   "outputs": [
    {
     "name": "stdout",
     "output_type": "stream",
     "text": [
      "[ 1  2  6 38 42  3 20 28  4 24  5 10 41 44  7 13  8  9 18 23 26 31 34 11 22\n",
      " 27 12 43 14 45 15 25 32 37 40 16 17 19 21 29 33 30 36 39 35]\n",
      "1 [ 9 28 51 40 93 89 99 47]\n",
      "2 [ 5 44 11 85 93]\n",
      "6 [  9  45  14 107]\n",
      "38 [ 9 45 52 93 86 98]\n",
      "42 [ 5 45 82]\n",
      "3 [  5  45  93   2 102 109]\n",
      "20 [  5  41  74  18  93 106]\n",
      "28 [ 5 45 35  2]\n",
      "4 [  9  27  90  93 101  97  96]\n",
      "24 [ 6 43 60 76 97]\n",
      "5 [ 16  32  37  20  93 105]\n",
      "10 [ 5 37 93 21 86]\n",
      "41 [ 16  68  61  93  86 108]\n",
      "44 [  5  68  62  93  94 105]\n",
      "7 [ 5  7 23 93 95]\n",
      "13 [  5  36  46  93 104]\n",
      "8 [  5  23  59  93  84 100]\n",
      "9 [  5  10  45  93  42 105]\n",
      "18 [ 5 37 72 57]\n",
      "23 [ 5 29 45 56]\n",
      "26 [ 5 45  2]\n",
      "31 [  9  45  93  67  98 104]\n",
      "34 [ 9 31 45 52 93 84]\n",
      "11 [  9  68  61  86  87 110]\n",
      "22 [  9  68  93  78  54 104]\n",
      "27 [ 9 68 80 21 93]\n",
      "12 [16 37 79 93 86]\n",
      "43 [ 16  37  73  93   3 105]\n",
      "14 [ 9 50 70 25 93 88 33 15]\n",
      "45 [ 9 50 34 26  4 22]\n",
      "15 [ 5 17 45 49 61 93 86 15]\n",
      "25 [ 9 45 81 12 50 84 93]\n",
      "32 [ 9 45 58 93 19 51 86]\n",
      "37 [  5  45  53  15 104 105  38]\n",
      "40 [  5  45  51  55  93  15 106]\n",
      "16 [16 25 39 50 85 93 77 64]\n",
      "17 [ 9 37 48 71]\n",
      "19 [16 83 39 69 93 88 75 15]\n",
      "21 [  5  44  91 109]\n",
      "29 [ 8 41 45 56]\n",
      "33 [ 9 44 85 92 93]\n",
      "30 [16 44 49 51 65 13]\n",
      "36 [ 9 44 30  1]\n",
      "39 [  9  36 103 111]\n",
      "35 [ 16  66  93  63  24  50  49 105]\n"
     ]
    }
   ],
   "source": [
    "no_zero = data.copy()\n",
    "result=[]\n",
    "stores = data['store_nbr'].unique()\n",
    "print(stores)\n",
    "for store in list(stores):\n",
    "    item_nbr = data[(data['store_nbr']==store) & (data['units']!=0)]\n",
    "    this_stores_items = item_nbr['item_nbr'].unique()\n",
    "    print(store, this_stores_items)\n",
    "    for each in list(this_stores_items):\n",
    "        tok = no_zero[(no_zero['store_nbr']==store) & (no_zero['item_nbr']==each)]\n",
    "        result.append(tok)\n",
    "      \n",
    "no_zero = reduce((lambda x,y : x.append(y)), result)"
   ]
  },
  {
   "cell_type": "code",
   "execution_count": 49,
   "metadata": {},
   "outputs": [
    {
     "data": {
      "text/plain": [
       "21"
      ]
     },
     "execution_count": 49,
     "metadata": {},
     "output_type": "execute_result"
    }
   ],
   "source": [
    "len(no_zero.dropna(axis=1).columns)"
   ]
  },
  {
   "cell_type": "code",
   "execution_count": 67,
   "metadata": {},
   "outputs": [],
   "source": [
    "no_zero = no_zero.dropna(axis=1,how='any')\n",
    "\n",
    "formula = columns_to_relation(cols,None,'units',False)\n",
    "\n",
    "\n",
    "cols = list(no_zero.columns)\n",
    "remove = ['date','store_nbr','item_nbr','station_nbr','codesum','day','month','year','sunrise','sunset']\n",
    "\n",
    "for each in remove:\n",
    "    cols.remove(each)\n",
    "\n",
    "formula = columns_to_relation(cols,None,'units',False)"
   ]
  },
  {
   "cell_type": "code",
   "execution_count": 68,
   "metadata": {},
   "outputs": [
    {
     "data": {
      "text/plain": [
       "'units ~ avgspeed + cool + dewpoint + heat + preciptotal + resultdir + resultspeed + tavg + tmax + tmin'"
      ]
     },
     "execution_count": 68,
     "metadata": {},
     "output_type": "execute_result"
    }
   ],
   "source": [
    "formula"
   ]
  },
  {
   "cell_type": "code",
   "execution_count": 70,
   "metadata": {
    "scrolled": false
   },
   "outputs": [
    {
     "name": "stdout",
     "output_type": "stream",
     "text": [
      "[  9  28  51  40  93  89  99  47   5  44  11  85  45  14 107  52  86  98\n",
      "  82   2 102 109  41  74  18 106  35  27  90 101  97  96   6  43  60  76\n",
      "  16  32  37  20 105  21  68  61 108  62  94   7  23  95  36  46 104  59\n",
      "  84 100  10  42  72  57  29  56  67  31  87 110  78  54  80  79  73   3\n",
      "  50  70  25  88  33  15  34  26   4  22  17  49  81  12  58  19  53  38\n",
      "  55  39  77  64  48  71  83  69  75  91   8  92  65  13  30   1 103 111\n",
      "  66  63  24]\n"
     ]
    }
   ],
   "source": [
    "results=[0,]\n",
    "mean = 0\n",
    "n = 0\n",
    "print(no_zero['item_nbr'].unique())\n",
    "for item_nbr in no_zero['item_nbr'].unique():\n",
    "    frame = no_zero[no_zero['item_nbr']==item_nbr]\n",
    "    \n",
    "    model = sm.OLS.from_formula(formula,data=frame)\n",
    "    \n",
    "    r2 = model.fit().rsquared\n",
    "    \n",
    "    if not np.isnan(r2):\n",
    "        mean+=r2\n",
    "        n+=1\n",
    "        \n",
    "        if r2>=0.3:\n",
    "            print(item_nbr, r2)\n",
    "    \n",
    "    results.append(model)"
   ]
  },
  {
   "cell_type": "code",
   "execution_count": 72,
   "metadata": {},
   "outputs": [
    {
     "data": {
      "text/plain": [
       "0.037502832466783986"
      ]
     },
     "execution_count": 72,
     "metadata": {},
     "output_type": "execute_result"
    }
   ],
   "source": [
    "mean/n"
   ]
  },
  {
   "cell_type": "code",
   "execution_count": 73,
   "metadata": {},
   "outputs": [
    {
     "name": "stdout",
     "output_type": "stream",
     "text": [
      "[ 1  2  6 38 42  3 20 28  4 24  5 10 41 44  7 13  8  9 18 23 26 31 34 11 22\n",
      " 27 12 43 14 45 15 25 32 37 40 16 17 19 21 29 33 30 36 39 35]\n",
      "1 [ 9 28 51 40 93 89 99 47]\n",
      "2 [ 5 44 11 85 93]\n",
      "6 [  9  45  14 107]\n",
      "38 [ 9 45 52 93 86 98]\n",
      "42 [ 5 45 82]\n",
      "3 [  5  45  93   2 102 109]\n",
      "20 [  5  41  74  18  93 106]\n",
      "28 [ 5 45 35  2]\n",
      "4 [  9  27  90  93 101  97  96]\n",
      "24 [ 6 43 60 76 97]\n",
      "5 [ 16  32  37  20  93 105]\n",
      "10 [ 5 37 93 21 86]\n",
      "41 [ 16  68  61  93  86 108]\n",
      "44 [  5  68  62  93  94 105]\n",
      "7 [ 5  7 23 93 95]\n",
      "13 [  5  36  46  93 104]\n",
      "8 [  5  23  59  93  84 100]\n",
      "9 [  5  10  45  93  42 105]\n",
      "18 [ 5 37 72 57]\n",
      "23 [ 5 29 45 56]\n",
      "26 [ 5 45  2]\n",
      "31 [  9  45  93  67  98 104]\n",
      "34 [ 9 31 45 52 93 84]\n",
      "11 [  9  68  61  86  87 110]\n",
      "22 [  9  68  93  78  54 104]\n",
      "27 [ 9 68 80 21 93]\n",
      "12 [16 37 79 93 86]\n",
      "43 [ 16  37  73  93   3 105]\n",
      "14 [ 9 50 70 25 93 88 33 15]\n",
      "45 [ 9 50 34 26  4 22]\n",
      "15 [ 5 17 45 49 61 93 86 15]\n",
      "25 [ 9 45 81 12 50 84 93]\n",
      "32 [ 9 45 58 93 19 51 86]\n",
      "37 [  5  45  53  15 104 105  38]\n",
      "40 [  5  45  51  55  93  15 106]\n",
      "16 [16 25 39 50 85 93 77 64]\n",
      "17 [ 9 37 48 71]\n",
      "19 [16 83 39 69 93 88 75 15]\n",
      "21 [  5  44  91 109]\n",
      "29 [ 8 41 45 56]\n",
      "33 [ 9 44 85 92 93]\n",
      "30 [16 44 49 51 65 13]\n",
      "36 [ 9 44 30  1]\n",
      "39 [  9  36 103 111]\n",
      "35 [ 16  66  93  63  24  50  49 105]\n"
     ]
    }
   ],
   "source": [
    "results=[0,]\n",
    "mean = 0\n",
    "n = 0\n",
    "print(no_zero['store_nbr'].unique())\n",
    "for store_nbr in no_zero['store_nbr'].unique():\n",
    "    store = no_zero[no_zero['store_nbr']==store_nbr]\n",
    "    \n",
    "    store_result=[]\n",
    "    \n",
    "    print(store_nbr, store['item_nbr'].unique())\n",
    "    \n",
    "    for item_nbr in store['item_nbr'].unique():\n",
    "        \n",
    "        frame = store[store['item_nbr']==item_nbr]\n",
    "        \n",
    "        model = sm.OLS.from_formula(formula,data=frame)\n",
    "        \n",
    "        r2 = model.fit().rsquared\n",
    "        \n",
    "        if not np.isnan(r2):\n",
    "            if r2>=0.3:\n",
    "                print(store_nbr, item_nbr, r2)\n",
    "            mean+=r2\n",
    "            n+=1\n",
    "        \n",
    "        store_result.append(model)\n",
    "        \n",
    "    results.append(store_result)\n",
    "    \n"
   ]
  },
  {
   "cell_type": "code",
   "execution_count": 74,
   "metadata": {},
   "outputs": [
    {
     "data": {
      "text/plain": [
       "0.041543020092726118"
      ]
     },
     "execution_count": 74,
     "metadata": {},
     "output_type": "execute_result"
    }
   ],
   "source": [
    "mean/n"
   ]
  },
  {
   "cell_type": "code",
   "execution_count": null,
   "metadata": {},
   "outputs": [],
   "source": []
  }
 ],
 "metadata": {
  "kernelspec": {
   "display_name": "Python 3",
   "language": "python",
   "name": "python3"
  },
  "language_info": {
   "codemirror_mode": {
    "name": "ipython",
    "version": 3
   },
   "file_extension": ".py",
   "mimetype": "text/x-python",
   "name": "python",
   "nbconvert_exporter": "python",
   "pygments_lexer": "ipython3",
   "version": "3.6.3"
  }
 },
 "nbformat": 4,
 "nbformat_minor": 2
}
