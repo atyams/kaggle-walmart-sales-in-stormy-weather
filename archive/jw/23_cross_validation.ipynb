{
 "cells": [
  {
   "cell_type": "code",
   "execution_count": 1,
   "metadata": {},
   "outputs": [
    {
     "name": "stdout",
     "output_type": "stream",
     "text": [
      "import configuration completed !\n",
      "train + key + weather merging started\n",
      "train + key + weather merging finished\n",
      "function configuration completed ! \n",
      "Good to go !\n"
     ]
    }
   ],
   "source": [
    "from jw_package import *"
   ]
  },
  {
   "cell_type": "code",
   "execution_count": null,
   "metadata": {},
   "outputs": [],
   "source": []
  },
  {
   "cell_type": "code",
   "execution_count": 4,
   "metadata": {},
   "outputs": [],
   "source": [
    "tmp = pd.read_csv('tmp.csv',index_col=0)\n",
    "X = pd.read_csv('X.csv',index_col=0)\n",
    "y = pd.read_csv('y.csv',index_col=0)\n",
    "formula = 'units ~ C(store_nbr) + C(item_nbr)+ scale(cool) + scale(heat) + scale(preciptotal) + scale(snowfall) + is_holiday'\n",
    "\n",
    "X = tmp.loc[:, ['store_nbr', 'item_nbr', 'cool', 'heat', 'preciptotal','snowfall', 'is_holiday']]\n",
    "y = tmp.loc[:, ['units']]"
   ]
  },
  {
   "cell_type": "code",
   "execution_count": 5,
   "metadata": {},
   "outputs": [
    {
     "name": "stdout",
     "output_type": "stream",
     "text": [
      "test index : [     7     10     14 ..., 118676 118684 118695] 29674\n",
      "................................................................................\n",
      "train index: [     0      1      2 ..., 118692 118693 118694] 89022\n",
      "================================================================================\n",
      "units    0.689229\n",
      "dtype: float64\n",
      "test index : [     0      1      2 ..., 118688 118692 118694] 29674\n",
      "................................................................................\n",
      "train index: [     3      5      6 ..., 118691 118693 118695] 89022\n",
      "================================================================================\n",
      "units    0.704055\n",
      "dtype: float64\n",
      "test index : [     5      6      8 ..., 118686 118689 118693] 29674\n",
      "................................................................................\n",
      "train index: [     0      1      2 ..., 118692 118694 118695] 89022\n",
      "================================================================================\n",
      "units    0.406551\n",
      "dtype: float64\n",
      "test index : [     3     12     15 ..., 118680 118690 118691] 29674\n",
      "................................................................................\n",
      "train index: [     0      1      2 ..., 118693 118694 118695] 89022\n",
      "================================================================================\n",
      "units    0.703355\n",
      "dtype: float64\n"
     ]
    },
    {
     "data": {
      "text/plain": [
       "units    0.625798\n",
       "dtype: float64"
      ]
     },
     "execution_count": 5,
     "metadata": {},
     "output_type": "execute_result"
    }
   ],
   "source": [
    "from sklearn.model_selection import KFold\n",
    "\n",
    "trial = 4\n",
    "\n",
    "cv = KFold(n_splits=trial, shuffle=True, random_state=2)\n",
    "\n",
    "total = 0\n",
    "\n",
    "\n",
    "for train_index, test_index in cv.split(X):\n",
    "    print(\"test index :\", test_index, len(test_index))\n",
    "    print(\".\" * 80)\n",
    "    print(\"train index:\", train_index, len(train_index))\n",
    "    print(\"=\" * 80)\n",
    "\n",
    "    X_train = X.loc[train_index, :]\n",
    "    X_test = X.loc[test_index, :]\n",
    "    y_train = y.loc[train_index, :]\n",
    "    y_test = y.loc[test_index, :]\n",
    "\n",
    "    model = sm.OLS.from_formula(formula, data=pd.concat([X_train, y_train], axis=1))\n",
    "    result = model.fit()\n",
    "    \n",
    "    y_hat = result.predict(X_test)\n",
    "    \n",
    "    ESS = ((y_hat - y_hat.mean())**2).sum()\n",
    "    TSS = ((y_test-y_test.mean())**2).sum()\n",
    "    total += ESS/TSS\n",
    "    print(ESS/TSS)\n",
    "    \n",
    "total/trial"
   ]
  },
  {
   "cell_type": "code",
   "execution_count": 6,
   "metadata": {},
   "outputs": [],
   "source": [
    "res = result.resid_pearson\n",
    "index = result.resid.index\n",
    "outlier_index = abs(res) >= 2\n",
    "\n",
    "row = pd.Series(index=index, data=res)\n",
    "drop_index = row[outlier_index].index\n",
    "len(drop_index)\n",
    "\n",
    "tmp.drop(list(drop_index),inplace=True)\n",
    "tmp.reset_index(drop = True, inplace = True)\n",
    "\n",
    "X = tmp.loc[:, ['store_nbr', 'item_nbr', 'cool', 'heat', 'preciptotal','snowfall', 'is_holiday']]\n",
    "y = tmp.loc[:, ['units']]"
   ]
  },
  {
   "cell_type": "code",
   "execution_count": null,
   "metadata": {},
   "outputs": [],
   "source": []
  }
 ],
 "metadata": {
  "kernelspec": {
   "display_name": "Python 3",
   "language": "python",
   "name": "python3"
  },
  "language_info": {
   "codemirror_mode": {
    "name": "ipython",
    "version": 3
   },
   "file_extension": ".py",
   "mimetype": "text/x-python",
   "name": "python",
   "nbconvert_exporter": "python",
   "pygments_lexer": "ipython3",
   "version": "3.6.3"
  }
 },
 "nbformat": 4,
 "nbformat_minor": 2
}
