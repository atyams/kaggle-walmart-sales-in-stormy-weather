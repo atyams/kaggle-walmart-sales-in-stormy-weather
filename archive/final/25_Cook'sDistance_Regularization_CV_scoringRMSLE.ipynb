{
 "cells": [
  {
   "cell_type": "code",
   "execution_count": 1,
   "metadata": {},
   "outputs": [
    {
     "name": "stdout",
     "output_type": "stream",
     "text": [
      "sympy imported\n",
      "pandas imported\n",
      "numpy imported\n",
      "scipy imported\n"
     ]
    },
    {
     "name": "stderr",
     "output_type": "stream",
     "text": [
      "/Library/Frameworks/Python.framework/Versions/3.6/lib/python3.6/site-packages/statsmodels/compat/pandas.py:56: FutureWarning: The pandas.core.datetools module is deprecated and will be removed in a future version. Please use the pandas.tseries module instead.\n",
      "  from pandas.core import datetools\n"
     ]
    },
    {
     "name": "stdout",
     "output_type": "stream",
     "text": [
      "statsmodels imported\n",
      "statsmodels.formula imported\n",
      "statasmodels.stats.api imported\n"
     ]
    }
   ],
   "source": [
    "from set_math import *"
   ]
  },
  {
   "cell_type": "code",
   "execution_count": 2,
   "metadata": {},
   "outputs": [
    {
     "name": "stdout",
     "output_type": "stream",
     "text": [
      "matplotlib imported\n",
      "pyplot imported\n",
      "seaborn imported\n",
      "sns.set\n",
      "sns.set_style(whitegrid)\n",
      "sns.set_color_codes()\n",
      "type (% matplotlib inline) if necessary\n",
      "type (% config InlineBackend.figure_formats = {‘png’, ‘retina’}) if necessary\n"
     ]
    }
   ],
   "source": [
    "from set_visualization import *"
   ]
  },
  {
   "cell_type": "markdown",
   "metadata": {},
   "source": [
    "# load dataset"
   ]
  },
  {
   "cell_type": "markdown",
   "metadata": {},
   "source": [
    "train2.csv 파일 경로 : dss7-walmart-project/model_generation/wy"
   ]
  },
  {
   "cell_type": "code",
   "execution_count": 4,
   "metadata": {},
   "outputs": [],
   "source": [
    "df = pd.read_csv('../model_generation/wy/train2.csv', index_col=0)"
   ]
  },
  {
   "cell_type": "code",
   "execution_count": 5,
   "metadata": {},
   "outputs": [
    {
     "name": "stdout",
     "output_type": "stream",
     "text": [
      "(118694, 26)\n"
     ]
    }
   ],
   "source": [
    "print(df.shape)"
   ]
  },
  {
   "cell_type": "code",
   "execution_count": 7,
   "metadata": {},
   "outputs": [],
   "source": [
    "def make_year(date):\n",
    "    return int(date.split('-')[0])\n",
    "\n",
    "def make_month(date):\n",
    "    return int(date.split('-')[1])\n",
    "\n",
    "def make_day(date):\n",
    "    return int(date.split('-')[2])\n",
    "\n",
    "def make_monthday(date):\n",
    "    return (date.split('-')[1:3])\n",
    "\n",
    "def dayofweek_num(dayofweek):\n",
    "    if dayofweek == 'Mon':\n",
    "        return 1\n",
    "    elif dayofweek == 'Tue':\n",
    "        return 2\n",
    "    elif dayofweek == 'Wed':\n",
    "        return 3\n",
    "    elif dayofweek == 'Thi':\n",
    "        return 4\n",
    "    elif dayofweek == 'Fri':\n",
    "        return 5\n",
    "    elif dayofweek == 'Sat':\n",
    "        return 6\n",
    "    elif dayofweek == 'Sun':\n",
    "        return 7"
   ]
  },
  {
   "cell_type": "code",
   "execution_count": 8,
   "metadata": {},
   "outputs": [],
   "source": [
    "df['year'] = df['date'].apply(make_year)\n",
    "df['month'] = df['date'].apply(make_month)\n",
    "df['day'] = df['date'].apply(make_day)\n",
    "df['dayofweek'] = df['dayofweek'].apply(dayofweek_num)\n",
    "df['dayofweek'] = df['dayofweek'].astype(int)"
   ]
  },
  {
   "cell_type": "code",
   "execution_count": 6,
   "metadata": {},
   "outputs": [],
   "source": [
    "## 분포 그리기\n",
    "# fig = plt.figure(figsize=(20, 15))\n",
    "# for i in range(0,30):\n",
    "#     plt.subplot(10, 3, i+1)\n",
    "#     plt.hist(df[df.columns[i]], bins=50)\n",
    "#     plt.xlabel(df.columns[i], fontsize = 20)\n",
    "# plt.tight_layout()"
   ]
  },
  {
   "cell_type": "code",
   "execution_count": null,
   "metadata": {},
   "outputs": [],
   "source": []
  },
  {
   "cell_type": "markdown",
   "metadata": {},
   "source": [
    "# 카테고리형 독립변수만 고려"
   ]
  },
  {
   "cell_type": "code",
   "execution_count": 9,
   "metadata": {},
   "outputs": [
    {
     "name": "stdout",
     "output_type": "stream",
     "text": [
      "                            OLS Regression Results                            \n",
      "==============================================================================\n",
      "Dep. Variable:          np.log(units)   R-squared:                       0.860\n",
      "Model:                            OLS   Adj. R-squared:                  0.860\n",
      "Method:                 Least Squares   F-statistic:                     3600.\n",
      "Date:                Tue, 13 Mar 2018   Prob (F-statistic):               0.00\n",
      "Time:                        17:26:52   Log-Likelihood:            -1.0428e+05\n",
      "No. Observations:              118694   AIC:                         2.090e+05\n",
      "Df Residuals:                  118490   BIC:                         2.109e+05\n",
      "Df Model:                         203                                         \n",
      "Covariance Type:            nonrobust                                         \n",
      "======================================================================================\n",
      "                         coef    std err          t      P>|t|      [0.025      0.975]\n",
      "--------------------------------------------------------------------------------------\n",
      "Intercept              1.1059      0.042     26.344      0.000       1.024       1.188\n",
      "C(item_nbr)[T.2]       0.1106      0.043      2.596      0.009       0.027       0.194\n",
      "C(item_nbr)[T.3]      -0.4043      0.054     -7.496      0.000      -0.510      -0.299\n",
      "C(item_nbr)[T.4]       0.5430      0.059      9.142      0.000       0.427       0.659\n",
      "C(item_nbr)[T.5]       2.6518      0.037     71.112      0.000       2.579       2.725\n",
      "C(item_nbr)[T.6]       1.0498      0.093     11.348      0.000       0.868       1.231\n",
      "C(item_nbr)[T.7]      -0.8558      0.051    -16.715      0.000      -0.956      -0.755\n",
      "C(item_nbr)[T.8]       2.2312      0.045     49.851      0.000       2.144       2.319\n",
      "C(item_nbr)[T.9]       2.6134      0.037     71.294      0.000       2.542       2.685\n",
      "C(item_nbr)[T.10]     -0.4991      0.050     -9.897      0.000      -0.598      -0.400\n",
      "C(item_nbr)[T.11]     -0.8113      0.051    -15.890      0.000      -0.911      -0.711\n",
      "C(item_nbr)[T.12]     -1.1525      0.050    -22.907      0.000      -1.251      -1.054\n",
      "C(item_nbr)[T.13]     -0.6288      0.055    -11.514      0.000      -0.736      -0.522\n",
      "C(item_nbr)[T.14]     -0.7679      0.060    -12.705      0.000      -0.886      -0.649\n",
      "C(item_nbr)[T.15]      0.5016      0.044     11.408      0.000       0.415       0.588\n",
      "C(item_nbr)[T.16]      2.2256      0.038     58.221      0.000       2.151       2.301\n",
      "C(item_nbr)[T.17]     -0.8344      0.049    -17.062      0.000      -0.930      -0.739\n",
      "C(item_nbr)[T.18]     -1.2044      0.051    -23.689      0.000      -1.304      -1.105\n",
      "C(item_nbr)[T.19]     -0.6778      0.049    -13.843      0.000      -0.774      -0.582\n",
      "C(item_nbr)[T.20]     -0.5001      0.048    -10.470      0.000      -0.594      -0.406\n",
      "C(item_nbr)[T.21]     -0.6193      0.043    -14.505      0.000      -0.703      -0.536\n",
      "C(item_nbr)[T.22]      0.7455      0.076      9.830      0.000       0.597       0.894\n",
      "C(item_nbr)[T.23]      1.7130      0.041     41.345      0.000       1.632       1.794\n",
      "C(item_nbr)[T.24]      0.9665      0.054     17.771      0.000       0.860       1.073\n",
      "C(item_nbr)[T.25]      3.1378      0.041     76.052      0.000       3.057       3.219\n",
      "C(item_nbr)[T.26]      1.2555      0.046     27.397      0.000       1.166       1.345\n",
      "C(item_nbr)[T.27]      0.3233      0.045      7.194      0.000       0.235       0.411\n",
      "C(item_nbr)[T.28]      0.7874      0.045     17.645      0.000       0.700       0.875\n",
      "C(item_nbr)[T.29]     -0.2480      0.048     -5.214      0.000      -0.341      -0.155\n",
      "C(item_nbr)[T.30]     -0.3714      0.041     -9.051      0.000      -0.452      -0.291\n",
      "C(item_nbr)[T.31]     -0.9468      0.051    -18.739      0.000      -1.046      -0.848\n",
      "C(item_nbr)[T.32]     -0.4484      0.053     -8.536      0.000      -0.551      -0.345\n",
      "C(item_nbr)[T.33]      0.5187      0.055      9.371      0.000       0.410       0.627\n",
      "C(item_nbr)[T.34]      0.3965      0.090      4.401      0.000       0.220       0.573\n",
      "C(item_nbr)[T.35]     -0.2482      0.050     -4.979      0.000      -0.346      -0.150\n",
      "C(item_nbr)[T.36]      3.0918      0.041     74.914      0.000       3.011       3.173\n",
      "C(item_nbr)[T.37]      1.6056      0.038     41.770      0.000       1.530       1.681\n",
      "C(item_nbr)[T.38]      0.8559      0.051     16.625      0.000       0.755       0.957\n",
      "C(item_nbr)[T.39]     -0.4705      0.061     -7.713      0.000      -0.590      -0.351\n",
      "C(item_nbr)[T.40]     -0.2432      0.068     -3.582      0.000      -0.376      -0.110\n",
      "C(item_nbr)[T.41]      1.9143      0.042     46.089      0.000       1.833       1.996\n",
      "C(item_nbr)[T.42]      0.8913      0.047     18.860      0.000       0.799       0.984\n",
      "C(item_nbr)[T.43]      1.3507      0.093     14.601      0.000       1.169       1.532\n",
      "C(item_nbr)[T.44]      3.4409      0.037     93.866      0.000       3.369       3.513\n",
      "C(item_nbr)[T.45]      3.0278      0.037     81.161      0.000       2.955       3.101\n",
      "C(item_nbr)[T.46]     -0.6120      0.054    -11.428      0.000      -0.717      -0.507\n",
      "C(item_nbr)[T.47]      1.2611      0.053     24.020      0.000       1.158       1.364\n",
      "C(item_nbr)[T.48]      2.5852      0.047     54.430      0.000       2.492       2.678\n",
      "C(item_nbr)[T.49]     -0.6086      0.055    -11.098      0.000      -0.716      -0.501\n",
      "C(item_nbr)[T.50]      0.0607      0.045      1.351      0.177      -0.027       0.149\n",
      "C(item_nbr)[T.51]     -0.1967      0.045     -4.386      0.000      -0.285      -0.109\n",
      "C(item_nbr)[T.52]     -0.8695      0.042    -20.655      0.000      -0.952      -0.787\n",
      "C(item_nbr)[T.53]     -0.5071      0.051    -10.030      0.000      -0.606      -0.408\n",
      "C(item_nbr)[T.54]     -0.8304      0.051    -16.302      0.000      -0.930      -0.731\n",
      "C(item_nbr)[T.55]     -0.3495      0.049     -7.130      0.000      -0.446      -0.253\n",
      "C(item_nbr)[T.56]     -0.0773      0.045     -1.710      0.087      -0.166       0.011\n",
      "C(item_nbr)[T.57]      0.1139      0.055      2.079      0.038       0.007       0.221\n",
      "C(item_nbr)[T.58]     -0.1564      0.050     -3.137      0.002      -0.254      -0.059\n",
      "C(item_nbr)[T.59]     -0.3845      0.048     -8.088      0.000      -0.478      -0.291\n",
      "C(item_nbr)[T.60]     -2.1368      0.094    -22.619      0.000      -2.322      -1.952\n",
      "C(item_nbr)[T.61]     -0.5630      0.042    -13.370      0.000      -0.646      -0.480\n",
      "C(item_nbr)[T.62]     -0.6579      0.052    -12.611      0.000      -0.760      -0.556\n",
      "C(item_nbr)[T.63]      0.4245      0.053      7.945      0.000       0.320       0.529\n",
      "C(item_nbr)[T.64]     -0.3338      0.057     -5.847      0.000      -0.446      -0.222\n",
      "C(item_nbr)[T.65]     -1.1532      0.050    -23.083      0.000      -1.251      -1.055\n",
      "C(item_nbr)[T.66]      1.8140      0.046     39.383      0.000       1.724       1.904\n",
      "C(item_nbr)[T.67]      1.0630      0.046     23.350      0.000       0.974       1.152\n",
      "C(item_nbr)[T.68]      2.4624      0.038     64.114      0.000       2.387       2.538\n",
      "C(item_nbr)[T.69]     -0.1824      0.050     -3.665      0.000      -0.280      -0.085\n",
      "C(item_nbr)[T.70]      1.0008      0.058     17.393      0.000       0.888       1.114\n",
      "C(item_nbr)[T.71]     -2.0791      0.053    -39.164      0.000      -2.183      -1.975\n",
      "C(item_nbr)[T.72]     -0.2328      0.050     -4.648      0.000      -0.331      -0.135\n",
      "C(item_nbr)[T.73]     -0.8933      0.052    -17.059      0.000      -0.996      -0.791\n",
      "C(item_nbr)[T.74]     -0.6895      0.052    -13.135      0.000      -0.792      -0.587\n",
      "C(item_nbr)[T.75]     -0.1624      0.056     -2.913      0.004      -0.272      -0.053\n",
      "C(item_nbr)[T.76]     -2.0627      0.100    -20.595      0.000      -2.259      -1.866\n",
      "C(item_nbr)[T.77]     -0.5021      0.054     -9.338      0.000      -0.608      -0.397\n",
      "C(item_nbr)[T.78]     -0.0770      0.056     -1.374      0.169      -0.187       0.033\n",
      "C(item_nbr)[T.79]     -0.5601      0.052    -10.759      0.000      -0.662      -0.458\n",
      "C(item_nbr)[T.80]     -0.6640      0.054    -12.289      0.000      -0.770      -0.558\n",
      "C(item_nbr)[T.81]      0.8612      0.049     17.518      0.000       0.765       0.958\n",
      "C(item_nbr)[T.82]     -0.7050      0.052    -13.486      0.000      -0.807      -0.603\n",
      "C(item_nbr)[T.83]      1.4009      0.046     30.636      0.000       1.311       1.491\n",
      "C(item_nbr)[T.84]     -0.9079      0.060    -15.131      0.000      -1.026      -0.790\n",
      "C(item_nbr)[T.85]     -1.3452      0.059    -22.910      0.000      -1.460      -1.230\n",
      "C(item_nbr)[T.86]     -0.7748      0.046    -16.957      0.000      -0.864      -0.685\n",
      "C(item_nbr)[T.87]     -0.2986      0.048     -6.190      0.000      -0.393      -0.204\n",
      "C(item_nbr)[T.88]     -0.0897      0.065     -1.386      0.166      -0.217       0.037\n",
      "C(item_nbr)[T.89]     -0.2661      0.078     -3.410      0.001      -0.419      -0.113\n",
      "C(item_nbr)[T.90]     -1.4281      0.048    -29.903      0.000      -1.522      -1.335\n",
      "C(item_nbr)[T.91]     -0.6008      0.051    -11.786      0.000      -0.701      -0.501\n",
      "C(item_nbr)[T.92]     -1.1875      0.051    -23.486      0.000      -1.287      -1.088\n",
      "C(item_nbr)[T.93]      0.1132      0.038      2.993      0.003       0.039       0.187\n",
      "C(item_nbr)[T.94]     -0.6612      0.048    -13.708      0.000      -0.756      -0.567\n",
      "C(item_nbr)[T.95]      2.3985      0.050     47.989      0.000       2.301       2.496\n",
      "C(item_nbr)[T.96]     -0.8669      0.072    -12.040      0.000      -1.008      -0.726\n",
      "C(item_nbr)[T.97]     -0.9523      0.069    -13.874      0.000      -1.087      -0.818\n",
      "C(item_nbr)[T.98]     -0.7905      0.044    -17.787      0.000      -0.878      -0.703\n",
      "C(item_nbr)[T.99]      0.0877      0.058      1.504      0.133      -0.027       0.202\n",
      "C(item_nbr)[T.100]    -0.1113      0.054     -2.072      0.038      -0.217      -0.006\n",
      "C(item_nbr)[T.101]    -1.4254      0.056    -25.351      0.000      -1.536      -1.315\n",
      "C(item_nbr)[T.102]    -0.8964      0.125     -7.157      0.000      -1.142      -0.651\n",
      "C(item_nbr)[T.103]     1.4278      0.063     22.566      0.000       1.304       1.552\n",
      "C(item_nbr)[T.104]    -0.3982      0.051     -7.769      0.000      -0.499      -0.298\n",
      "C(item_nbr)[T.105]    -0.4928      0.049    -10.044      0.000      -0.589      -0.397\n",
      "C(item_nbr)[T.106]    -0.6760      0.079     -8.546      0.000      -0.831      -0.521\n",
      "C(item_nbr)[T.107]    -0.2419      0.056     -4.282      0.000      -0.353      -0.131\n",
      "C(item_nbr)[T.108]     0.7651      0.053     14.562      0.000       0.662       0.868\n",
      "C(item_nbr)[T.109]     0.7128      0.045     16.002      0.000       0.625       0.800\n",
      "C(item_nbr)[T.110]     1.0426      0.063     16.477      0.000       0.919       1.167\n",
      "C(item_nbr)[T.111]     2.2795      0.080     28.382      0.000       2.122       2.437\n",
      "C(store_nbr)[T.2]      0.6344      0.023     28.017      0.000       0.590       0.679\n",
      "C(store_nbr)[T.3]      0.4582      0.022     21.100      0.000       0.416       0.501\n",
      "C(store_nbr)[T.4]      1.2486      0.024     51.066      0.000       1.201       1.297\n",
      "C(store_nbr)[T.5]      0.1990      0.023      8.597      0.000       0.154       0.244\n",
      "C(store_nbr)[T.6]      0.4670      0.022     21.224      0.000       0.424       0.510\n",
      "C(store_nbr)[T.7]      0.7026      0.024     29.307      0.000       0.656       0.750\n",
      "C(store_nbr)[T.8]     -0.0255      0.024     -1.079      0.281      -0.072       0.021\n",
      "C(store_nbr)[T.9]      0.4008      0.022     18.217      0.000       0.358       0.444\n",
      "C(store_nbr)[T.10]     0.5083      0.022     23.234      0.000       0.465       0.551\n",
      "C(store_nbr)[T.11]     0.2864      0.022     13.171      0.000       0.244       0.329\n",
      "C(store_nbr)[T.12]     0.5034      0.023     21.958      0.000       0.458       0.548\n",
      "C(store_nbr)[T.13]     0.6155      0.023     26.316      0.000       0.570       0.661\n",
      "C(store_nbr)[T.14]    -0.9936      0.023    -43.589      0.000      -1.038      -0.949\n",
      "C(store_nbr)[T.15]     0.5641      0.021     26.798      0.000       0.523       0.605\n",
      "C(store_nbr)[T.16]     0.7054      0.024     29.341      0.000       0.658       0.753\n",
      "C(store_nbr)[T.17]     1.6427      0.022     73.975      0.000       1.599       1.686\n",
      "C(store_nbr)[T.18]    -0.3014      0.023    -13.118      0.000      -0.346      -0.256\n",
      "C(store_nbr)[T.19]     0.0158      0.026      0.616      0.538      -0.034       0.066\n",
      "C(store_nbr)[T.20]     0.7354      0.024     30.558      0.000       0.688       0.783\n",
      "C(store_nbr)[T.21]     0.3094      0.023     13.643      0.000       0.265       0.354\n",
      "C(store_nbr)[T.22]     0.4080      0.022     18.893      0.000       0.366       0.450\n",
      "C(store_nbr)[T.23]    -0.0891      0.022     -4.000      0.000      -0.133      -0.045\n",
      "C(store_nbr)[T.24]     1.7162      0.084     20.312      0.000       1.551       1.882\n",
      "C(store_nbr)[T.25]     0.7706      0.021     36.956      0.000       0.730       0.811\n",
      "C(store_nbr)[T.26]     0.2220      0.022     10.035      0.000       0.179       0.265\n",
      "C(store_nbr)[T.27]     0.2313      0.021     10.868      0.000       0.190       0.273\n",
      "C(store_nbr)[T.28]     0.0952      0.022      4.249      0.000       0.051       0.139\n",
      "C(store_nbr)[T.29]     0.3508      0.024     14.619      0.000       0.304       0.398\n",
      "C(store_nbr)[T.30]     0.6520      0.023     28.171      0.000       0.607       0.697\n",
      "C(store_nbr)[T.31]     0.5526      0.021     26.331      0.000       0.511       0.594\n",
      "C(store_nbr)[T.32]     0.1886      0.020      9.222      0.000       0.148       0.229\n",
      "C(store_nbr)[T.33]     1.1081      0.022     50.436      0.000       1.065       1.151\n",
      "C(store_nbr)[T.34]     0.6285      0.021     29.994      0.000       0.587       0.670\n",
      "C(store_nbr)[T.35]     0.1849      0.026      7.112      0.000       0.134       0.236\n",
      "C(store_nbr)[T.36]     0.0449      0.022      2.028      0.043       0.002       0.088\n",
      "C(store_nbr)[T.37]     0.1652      0.022      7.605      0.000       0.123       0.208\n",
      "C(store_nbr)[T.38]     0.7126      0.021     34.048      0.000       0.672       0.754\n",
      "C(store_nbr)[T.39]    -1.7620      0.024    -72.995      0.000      -1.809      -1.715\n",
      "C(store_nbr)[T.40]     0.3169      0.021     14.920      0.000       0.275       0.358\n",
      "C(store_nbr)[T.41]     0.3936      0.022     17.792      0.000       0.350       0.437\n",
      "C(store_nbr)[T.42]     0.2456      0.023     10.749      0.000       0.201       0.290\n",
      "C(store_nbr)[T.43]     0.4376      0.023     18.706      0.000       0.392       0.483\n",
      "C(store_nbr)[T.44]     0.3879      0.022     17.377      0.000       0.344       0.432\n",
      "C(store_nbr)[T.45]    -0.7662      0.025    -30.544      0.000      -0.815      -0.717\n",
      "C(dayofweek)[T.2]     -0.1080      0.006    -16.873      0.000      -0.121      -0.095\n",
      "C(dayofweek)[T.3]     -0.1538      0.006    -24.053      0.000      -0.166      -0.141\n",
      "C(dayofweek)[T.4]     -0.1686      0.006    -26.417      0.000      -0.181      -0.156\n",
      "C(dayofweek)[T.5]     -0.0641      0.006    -10.116      0.000      -0.077      -0.052\n",
      "C(dayofweek)[T.6]      0.1036      0.006     16.418      0.000       0.091       0.116\n",
      "C(dayofweek)[T.7]      0.1620      0.006     25.621      0.000       0.150       0.174\n",
      "C(year)[T.2013]       -0.0741      0.004    -18.224      0.000      -0.082      -0.066\n",
      "C(year)[T.2014]       -0.2402      0.005    -52.058      0.000      -0.249      -0.231\n",
      "C(month)[T.2]         -0.0401      0.008     -5.090      0.000      -0.056      -0.025\n",
      "C(month)[T.3]         -0.0868      0.008    -11.277      0.000      -0.102      -0.072\n",
      "C(month)[T.4]         -0.1379      0.008    -17.417      0.000      -0.153      -0.122\n",
      "C(month)[T.5]         -0.1373      0.008    -17.221      0.000      -0.153      -0.122\n",
      "C(month)[T.6]         -0.0846      0.008    -10.475      0.000      -0.100      -0.069\n",
      "C(month)[T.7]         -0.1015      0.008    -12.578      0.000      -0.117      -0.086\n",
      "C(month)[T.8]         -0.0594      0.008     -7.510      0.000      -0.075      -0.044\n",
      "C(month)[T.9]         -0.1261      0.008    -15.312      0.000      -0.142      -0.110\n",
      "C(month)[T.10]        -0.1596      0.008    -19.982      0.000      -0.175      -0.144\n",
      "C(month)[T.11]        -0.1935      0.009    -21.773      0.000      -0.211      -0.176\n",
      "C(month)[T.12]        -0.0769      0.009     -8.862      0.000      -0.094      -0.060\n",
      "C(day)[T.2]           -0.0852      0.013     -6.380      0.000      -0.111      -0.059\n",
      "C(day)[T.3]           -0.0902      0.013     -6.780      0.000      -0.116      -0.064\n",
      "C(day)[T.4]           -0.1291      0.013     -9.654      0.000      -0.155      -0.103\n",
      "C(day)[T.5]           -0.0121      0.013     -0.905      0.366      -0.038       0.014\n",
      "C(day)[T.6]           -0.1070      0.013     -8.073      0.000      -0.133      -0.081\n",
      "C(day)[T.7]           -0.1149      0.013     -8.685      0.000      -0.141      -0.089\n",
      "C(day)[T.8]           -0.1336      0.013    -10.043      0.000      -0.160      -0.108\n",
      "C(day)[T.9]           -0.1459      0.013    -10.945      0.000      -0.172      -0.120\n",
      "C(day)[T.10]          -0.0372      0.013     -2.807      0.005      -0.063      -0.011\n",
      "C(day)[T.11]          -0.1026      0.013     -7.721      0.000      -0.129      -0.077\n",
      "C(day)[T.12]          -0.1253      0.013     -9.382      0.000      -0.152      -0.099\n",
      "C(day)[T.13]          -0.1440      0.013    -10.822      0.000      -0.170      -0.118\n",
      "C(day)[T.14]          -0.1854      0.013    -13.871      0.000      -0.212      -0.159\n",
      "C(day)[T.15]          -0.1596      0.013    -11.906      0.000      -0.186      -0.133\n",
      "C(day)[T.16]          -0.2061      0.013    -15.399      0.000      -0.232      -0.180\n",
      "C(day)[T.17]          -0.2290      0.013    -17.164      0.000      -0.255      -0.203\n",
      "C(day)[T.18]          -0.2142      0.013    -16.137      0.000      -0.240      -0.188\n",
      "C(day)[T.19]          -0.2316      0.013    -17.461      0.000      -0.258      -0.206\n",
      "C(day)[T.20]          -0.2353      0.013    -17.754      0.000      -0.261      -0.209\n",
      "C(day)[T.21]          -0.2435      0.013    -18.451      0.000      -0.269      -0.218\n",
      "C(day)[T.22]          -0.2677      0.013    -20.304      0.000      -0.294      -0.242\n",
      "C(day)[T.23]          -0.2493      0.013    -18.895      0.000      -0.275      -0.223\n",
      "C(day)[T.24]          -0.2561      0.013    -19.469      0.000      -0.282      -0.230\n",
      "C(day)[T.25]          -0.2335      0.013    -17.398      0.000      -0.260      -0.207\n",
      "C(day)[T.26]          -0.2542      0.013    -19.218      0.000      -0.280      -0.228\n",
      "C(day)[T.27]          -0.2706      0.013    -20.403      0.000      -0.297      -0.245\n",
      "C(day)[T.28]          -0.2825      0.013    -21.232      0.000      -0.309      -0.256\n",
      "C(day)[T.29]          -0.2902      0.014    -21.374      0.000      -0.317      -0.264\n",
      "C(day)[T.30]          -0.2701      0.014    -19.609      0.000      -0.297      -0.243\n",
      "C(day)[T.31]          -0.2877      0.016    -18.325      0.000      -0.318      -0.257\n",
      "==============================================================================\n",
      "Omnibus:                     8634.496   Durbin-Watson:                   1.969\n",
      "Prob(Omnibus):                  0.000   Jarque-Bera (JB):            38220.594\n",
      "Skew:                          -0.225   Prob(JB):                         0.00\n",
      "Kurtosis:                       5.743   Cond. No.                         283.\n",
      "==============================================================================\n",
      "\n",
      "Warnings:\n",
      "[1] Standard Errors assume that the covariance matrix of the errors is correctly specified.\n"
     ]
    }
   ],
   "source": [
    "model_1 = sm.OLS.from_formula('np.log(units) ~ C(item_nbr) + C(store_nbr) + C(dayofweek) + C(year) + C(month) + C(day)', data=df)\n",
    "result_1 = model_1.fit()\n",
    "print(result_1.summary())"
   ]
  },
  {
   "cell_type": "code",
   "execution_count": 10,
   "metadata": {},
   "outputs": [
    {
     "data": {
      "image/png": "[encoded data removed]",
      "text/plain": [
       "<matplotlib.figure.Figure at 0x1157cd588>"
      ]
     },
     "metadata": {},
     "output_type": "display_data"
    }
   ],
   "source": [
    "sp.stats.probplot(result_1.resid, plot=plt)\n",
    "plt.show()"
   ]
  },
  {
   "cell_type": "markdown",
   "metadata": {},
   "source": [
    "# Leverage & Outlier 제거 작업"
   ]
  },
  {
   "cell_type": "code",
   "execution_count": 11,
   "metadata": {},
   "outputs": [],
   "source": [
    "df_test = df"
   ]
  },
  {
   "cell_type": "code",
   "execution_count": 12,
   "metadata": {},
   "outputs": [
    {
     "data": {
      "text/plain": [
       "<statsmodels.stats.outliers_influence.OLSInfluence at 0x1197b9208>"
      ]
     },
     "execution_count": 12,
     "metadata": {},
     "output_type": "execute_result"
    }
   ],
   "source": [
    "influence = result_1.get_influence()\n",
    "influence"
   ]
  },
  {
   "cell_type": "markdown",
   "metadata": {},
   "source": [
    "### Cook's Distance 를 통한 leverage, outlier 구하기\n"
   ]
  },
  {
   "cell_type": "code",
   "execution_count": 13,
   "metadata": {},
   "outputs": [
    {
     "data": {
      "text/plain": [
       "7551"
      ]
     },
     "execution_count": 13,
     "metadata": {},
     "output_type": "execute_result"
    }
   ],
   "source": [
    "cooks_d2, pvals = influence.cooks_distance\n",
    "fox_cr = 4 / (len(df['units']) - 2)\n",
    "drop_idx = np.where(cooks_d2 > fox_cr)[0]\n",
    "len(drop_idx)"
   ]
  },
  {
   "cell_type": "markdown",
   "metadata": {},
   "source": [
    "### 해당 leverage&outlier 제외"
   ]
  },
  {
   "cell_type": "code",
   "execution_count": 14,
   "metadata": {},
   "outputs": [],
   "source": [
    "df_test.drop(list(drop_idx),inplace=True)"
   ]
  },
  {
   "cell_type": "code",
   "execution_count": 15,
   "metadata": {},
   "outputs": [],
   "source": [
    "df_test.reset_index(drop=True, inplace=True)"
   ]
  },
  {
   "cell_type": "markdown",
   "metadata": {},
   "source": [
    "# 쿡스디스턴스를 통한 아웃라이어 제거 후"
   ]
  },
  {
   "cell_type": "code",
   "execution_count": 17,
   "metadata": {},
   "outputs": [
    {
     "name": "stdout",
     "output_type": "stream",
     "text": [
      "                            OLS Regression Results                            \n",
      "==============================================================================\n",
      "Dep. Variable:          np.log(units)   R-squared:                       0.908\n",
      "Model:                            OLS   Adj. R-squared:                  0.908\n",
      "Method:                 Least Squares   F-statistic:                     5413.\n",
      "Date:                Tue, 13 Mar 2018   Prob (F-statistic):               0.00\n",
      "Time:                        17:28:42   Log-Likelihood:                -71935.\n",
      "No. Observations:              111143   AIC:                         1.443e+05\n",
      "Df Residuals:                  110939   BIC:                         1.462e+05\n",
      "Df Model:                         203                                         \n",
      "Covariance Type:            nonrobust                                         \n",
      "======================================================================================\n",
      "                         coef    std err          t      P>|t|      [0.025      0.975]\n",
      "--------------------------------------------------------------------------------------\n",
      "Intercept              1.0662      0.037     28.877      0.000       0.994       1.139\n",
      "C(item_nbr)[T.2]       0.1229      0.037      3.281      0.001       0.049       0.196\n",
      "C(item_nbr)[T.3]      -0.3732      0.048     -7.707      0.000      -0.468      -0.278\n",
      "C(item_nbr)[T.4]       0.5164      0.053      9.689      0.000       0.412       0.621\n",
      "C(item_nbr)[T.5]       2.6824      0.033     80.915      0.000       2.617       2.747\n",
      "C(item_nbr)[T.6]       1.1750      0.131      8.974      0.000       0.918       1.432\n",
      "C(item_nbr)[T.7]      -0.9267      0.044    -20.869      0.000      -1.014      -0.840\n",
      "C(item_nbr)[T.8]       2.2736      0.039     58.672      0.000       2.198       2.350\n",
      "C(item_nbr)[T.9]       2.7053      0.033     82.771      0.000       2.641       2.769\n",
      "C(item_nbr)[T.10]     -0.5398      0.044    -12.282      0.000      -0.626      -0.454\n",
      "C(item_nbr)[T.11]     -0.8925      0.045    -20.007      0.000      -0.980      -0.805\n",
      "C(item_nbr)[T.12]     -1.3091      0.043    -30.197      0.000      -1.394      -1.224\n",
      "C(item_nbr)[T.13]     -0.6046      0.050    -12.072      0.000      -0.703      -0.506\n",
      "C(item_nbr)[T.14]     -0.8331      0.056    -14.991      0.000      -0.942      -0.724\n",
      "C(item_nbr)[T.15]      0.4028      0.042      9.629      0.000       0.321       0.485\n",
      "C(item_nbr)[T.16]      2.3246      0.034     68.612      0.000       2.258       2.391\n",
      "C(item_nbr)[T.17]     -0.9826      0.042    -23.246      0.000      -1.065      -0.900\n",
      "C(item_nbr)[T.18]     -1.2723      0.043    -29.277      0.000      -1.357      -1.187\n",
      "C(item_nbr)[T.19]     -0.6899      0.042    -16.434      0.000      -0.772      -0.608\n",
      "C(item_nbr)[T.20]     -0.4583      0.041    -11.172      0.000      -0.539      -0.378\n",
      "C(item_nbr)[T.21]     -0.6069      0.037    -16.339      0.000      -0.680      -0.534\n",
      "C(item_nbr)[T.22]      0.8753      0.085     10.252      0.000       0.708       1.043\n",
      "C(item_nbr)[T.23]      1.7358      0.036     47.927      0.000       1.665       1.807\n",
      "C(item_nbr)[T.24]      1.2220      0.051     23.930      0.000       1.122       1.322\n",
      "C(item_nbr)[T.25]      3.3913      0.036     93.311      0.000       3.320       3.463\n",
      "C(item_nbr)[T.26]      1.3299      0.040     33.144      0.000       1.251       1.409\n",
      "C(item_nbr)[T.27]      0.3442      0.039      8.825      0.000       0.268       0.421\n",
      "C(item_nbr)[T.28]      0.9461      0.039     24.265      0.000       0.870       1.022\n",
      "C(item_nbr)[T.29]     -0.2687      0.041     -6.578      0.000      -0.349      -0.189\n",
      "C(item_nbr)[T.30]     -0.3457      0.036     -9.639      0.000      -0.416      -0.275\n",
      "C(item_nbr)[T.31]     -1.0472      0.044    -23.977      0.000      -1.133      -0.962\n",
      "C(item_nbr)[T.32]     -0.4580      0.046    -10.002      0.000      -0.548      -0.368\n",
      "C(item_nbr)[T.33]      0.6484      0.048     13.631      0.000       0.555       0.742\n",
      "C(item_nbr)[T.34]      0.2733      0.110      2.490      0.013       0.058       0.488\n",
      "C(item_nbr)[T.35]     -0.3223      0.043     -7.466      0.000      -0.407      -0.238\n",
      "C(item_nbr)[T.36]      3.0508      0.036     84.173      0.000       2.980       3.122\n",
      "C(item_nbr)[T.37]      1.6705      0.034     49.145      0.000       1.604       1.737\n",
      "C(item_nbr)[T.38]      0.9759      0.046     21.064      0.000       0.885       1.067\n",
      "C(item_nbr)[T.39]     -0.4000      0.063     -6.386      0.000      -0.523      -0.277\n",
      "C(item_nbr)[T.40]     -0.2060      0.076     -2.721      0.007      -0.354      -0.058\n",
      "C(item_nbr)[T.41]      1.8898      0.036     52.135      0.000       1.819       1.961\n",
      "C(item_nbr)[T.42]      0.9284      0.041     22.892      0.000       0.849       1.008\n",
      "C(item_nbr)[T.43]      1.4253      0.131     10.893      0.000       1.169       1.682\n",
      "C(item_nbr)[T.44]      3.4673      0.033    106.110      0.000       3.403       3.531\n",
      "C(item_nbr)[T.45]      3.0309      0.033     91.407      0.000       2.966       3.096\n",
      "C(item_nbr)[T.46]     -0.6445      0.049    -13.097      0.000      -0.741      -0.548\n",
      "C(item_nbr)[T.47]      1.4348      0.047     30.637      0.000       1.343       1.527\n",
      "C(item_nbr)[T.48]      2.6497      0.041     65.302      0.000       2.570       2.729\n",
      "C(item_nbr)[T.49]     -0.6493      0.055    -11.807      0.000      -0.757      -0.542\n",
      "C(item_nbr)[T.50]      0.0807      0.043      1.888      0.059      -0.003       0.164\n",
      "C(item_nbr)[T.51]     -0.3238      0.040     -8.035      0.000      -0.403      -0.245\n",
      "C(item_nbr)[T.52]     -0.8921      0.037    -24.339      0.000      -0.964      -0.820\n",
      "C(item_nbr)[T.53]     -0.5830      0.044    -13.373      0.000      -0.669      -0.498\n",
      "C(item_nbr)[T.54]     -0.7645      0.043    -17.580      0.000      -0.850      -0.679\n",
      "C(item_nbr)[T.55]     -0.4266      0.043     -9.982      0.000      -0.510      -0.343\n",
      "C(item_nbr)[T.56]     -0.1255      0.040     -3.146      0.002      -0.204      -0.047\n",
      "C(item_nbr)[T.57]      0.0087      0.048      0.180      0.857      -0.085       0.103\n",
      "C(item_nbr)[T.58]     -0.1873      0.045     -4.182      0.000      -0.275      -0.100\n",
      "C(item_nbr)[T.59]     -0.3743      0.041     -9.173      0.000      -0.454      -0.294\n",
      "C(item_nbr)[T.60]     -2.1656      0.132    -16.434      0.000      -2.424      -1.907\n",
      "C(item_nbr)[T.61]     -0.5824      0.037    -15.861      0.000      -0.654      -0.510\n",
      "C(item_nbr)[T.62]     -0.7654      0.046    -16.802      0.000      -0.855      -0.676\n",
      "C(item_nbr)[T.63]      0.5515      0.052     10.539      0.000       0.449       0.654\n",
      "C(item_nbr)[T.64]     -0.1429      0.053     -2.696      0.007      -0.247      -0.039\n",
      "C(item_nbr)[T.65]     -1.1702      0.043    -27.397      0.000      -1.254      -1.086\n",
      "C(item_nbr)[T.66]      1.9778      0.040     49.644      0.000       1.900       2.056\n",
      "C(item_nbr)[T.67]      1.1234      0.039     28.612      0.000       1.046       1.200\n",
      "C(item_nbr)[T.68]      2.5516      0.034     75.145      0.000       2.485       2.618\n",
      "C(item_nbr)[T.69]     -0.0724      0.043     -1.683      0.092      -0.157       0.012\n",
      "C(item_nbr)[T.70]      1.1989      0.057     21.145      0.000       1.088       1.310\n",
      "C(item_nbr)[T.71]     -2.1235      0.046    -46.629      0.000      -2.213      -2.034\n",
      "C(item_nbr)[T.72]     -0.2790      0.043     -6.527      0.000      -0.363      -0.195\n",
      "C(item_nbr)[T.73]     -0.8985      0.045    -20.094      0.000      -0.986      -0.811\n",
      "C(item_nbr)[T.74]     -0.7318      0.047    -15.728      0.000      -0.823      -0.641\n",
      "C(item_nbr)[T.75]     -0.0749      0.050     -1.489      0.137      -0.174       0.024\n",
      "C(item_nbr)[T.76]     -2.1495      0.135    -15.869      0.000      -2.415      -1.884\n",
      "C(item_nbr)[T.77]     -0.3883      0.050     -7.720      0.000      -0.487      -0.290\n",
      "C(item_nbr)[T.78]      0.1210      0.055      2.189      0.029       0.013       0.229\n",
      "C(item_nbr)[T.79]     -0.5826      0.047    -12.431      0.000      -0.674      -0.491\n",
      "C(item_nbr)[T.80]     -0.7160      0.047    -15.282      0.000      -0.808      -0.624\n",
      "C(item_nbr)[T.81]      0.8723      0.042     20.664      0.000       0.790       0.955\n",
      "C(item_nbr)[T.82]     -0.8105      0.045    -18.135      0.000      -0.898      -0.723\n",
      "C(item_nbr)[T.83]      1.6225      0.040     40.851      0.000       1.545       1.700\n",
      "C(item_nbr)[T.84]     -0.9734      0.061    -16.068      0.000      -1.092      -0.855\n",
      "C(item_nbr)[T.85]     -1.4361      0.054    -26.499      0.000      -1.542      -1.330\n",
      "C(item_nbr)[T.86]     -0.8907      0.040    -22.235      0.000      -0.969      -0.812\n",
      "C(item_nbr)[T.87]     -0.2547      0.042     -6.133      0.000      -0.336      -0.173\n",
      "C(item_nbr)[T.88]      0.2314      0.073      3.152      0.002       0.088       0.375\n",
      "C(item_nbr)[T.89]     -0.2003      0.097     -2.055      0.040      -0.391      -0.009\n",
      "C(item_nbr)[T.90]     -1.4890      0.041    -36.284      0.000      -1.569      -1.409\n",
      "C(item_nbr)[T.91]     -0.6621      0.044    -15.021      0.000      -0.749      -0.576\n",
      "C(item_nbr)[T.92]     -1.2656      0.044    -28.598      0.000      -1.352      -1.179\n",
      "C(item_nbr)[T.93]      0.0888      0.034      2.637      0.008       0.023       0.155\n",
      "C(item_nbr)[T.94]     -0.6555      0.041    -15.853      0.000      -0.737      -0.574\n",
      "C(item_nbr)[T.95]      2.4027      0.042     56.585      0.000       2.319       2.486\n",
      "C(item_nbr)[T.96]     -0.9554      0.091    -10.551      0.000      -1.133      -0.778\n",
      "C(item_nbr)[T.97]     -0.9615      0.087    -11.037      0.000      -1.132      -0.791\n",
      "C(item_nbr)[T.98]     -0.8566      0.039    -22.191      0.000      -0.932      -0.781\n",
      "C(item_nbr)[T.99]      0.1984      0.056      3.575      0.000       0.090       0.307\n",
      "C(item_nbr)[T.100]    -0.1905      0.047     -4.045      0.000      -0.283      -0.098\n",
      "C(item_nbr)[T.101]    -1.5817      0.049    -32.139      0.000      -1.678      -1.485\n",
      "C(item_nbr)[T.102]    -1.0179      0.124     -8.187      0.000      -1.262      -0.774\n",
      "C(item_nbr)[T.103]     1.2200      0.057     21.333      0.000       1.108       1.332\n",
      "C(item_nbr)[T.104]    -0.4662      0.048     -9.769      0.000      -0.560      -0.373\n",
      "C(item_nbr)[T.105]    -0.5795      0.043    -13.358      0.000      -0.665      -0.494\n",
      "C(item_nbr)[T.106]    -0.7964      0.090     -8.871      0.000      -0.972      -0.620\n",
      "C(item_nbr)[T.107]    -0.1174      0.051     -2.300      0.021      -0.217      -0.017\n",
      "C(item_nbr)[T.108]     0.9491      0.048     19.653      0.000       0.854       1.044\n",
      "C(item_nbr)[T.109]     0.7973      0.040     20.145      0.000       0.720       0.875\n",
      "C(item_nbr)[T.110]     1.1117      0.069     16.208      0.000       0.977       1.246\n",
      "C(item_nbr)[T.111]     2.2512      0.095     23.797      0.000       2.066       2.437\n",
      "C(store_nbr)[T.2]      0.7202      0.019     38.247      0.000       0.683       0.757\n",
      "C(store_nbr)[T.3]      0.5830      0.018     32.204      0.000       0.548       0.619\n",
      "C(store_nbr)[T.4]      1.3604      0.020     66.899      0.000       1.321       1.400\n",
      "C(store_nbr)[T.5]      0.1943      0.019     10.085      0.000       0.157       0.232\n",
      "C(store_nbr)[T.6]      0.5181      0.018     28.508      0.000       0.482       0.554\n",
      "C(store_nbr)[T.7]      0.7912      0.020     39.753      0.000       0.752       0.830\n",
      "C(store_nbr)[T.8]      0.0256      0.020      1.297      0.195      -0.013       0.064\n",
      "C(store_nbr)[T.9]      0.4802      0.018     26.297      0.000       0.444       0.516\n",
      "C(store_nbr)[T.10]     0.5620      0.018     30.903      0.000       0.526       0.598\n",
      "C(store_nbr)[T.11]     0.3098      0.018     17.170      0.000       0.274       0.345\n",
      "C(store_nbr)[T.12]     0.5138      0.019     26.945      0.000       0.476       0.551\n",
      "C(store_nbr)[T.13]     0.7347      0.020     37.555      0.000       0.696       0.773\n",
      "C(store_nbr)[T.14]    -1.1174      0.020    -56.712      0.000      -1.156      -1.079\n",
      "C(store_nbr)[T.15]     0.6922      0.018     39.358      0.000       0.658       0.727\n",
      "C(store_nbr)[T.16]     0.7018      0.020     34.659      0.000       0.662       0.742\n",
      "C(store_nbr)[T.17]     1.6691      0.018     90.896      0.000       1.633       1.705\n",
      "C(store_nbr)[T.18]    -0.2114      0.019    -11.086      0.000      -0.249      -0.174\n",
      "C(store_nbr)[T.19]    -0.0752      0.022     -3.457      0.001      -0.118      -0.033\n",
      "C(store_nbr)[T.20]     0.8299      0.020     41.542      0.000       0.791       0.869\n",
      "C(store_nbr)[T.21]     0.3373      0.019     17.942      0.000       0.300       0.374\n",
      "C(store_nbr)[T.22]     0.3861      0.018     21.426      0.000       0.351       0.421\n",
      "C(store_nbr)[T.23]    -0.0410      0.018     -2.222      0.026      -0.077      -0.005\n",
      "C(store_nbr)[T.24]     1.7809      0.127     14.069      0.000       1.533       2.029\n",
      "C(store_nbr)[T.25]     0.8963      0.017     51.488      0.000       0.862       0.930\n",
      "C(store_nbr)[T.26]     0.2869      0.018     15.637      0.000       0.251       0.323\n",
      "C(store_nbr)[T.27]     0.2343      0.018     13.221      0.000       0.200       0.269\n",
      "C(store_nbr)[T.28]     0.1689      0.019      9.101      0.000       0.133       0.205\n",
      "C(store_nbr)[T.29]     0.4795      0.020     24.191      0.000       0.441       0.518\n",
      "C(store_nbr)[T.30]     0.7076      0.019     36.611      0.000       0.670       0.745\n",
      "C(store_nbr)[T.31]     0.6161      0.017     35.316      0.000       0.582       0.650\n",
      "C(store_nbr)[T.32]     0.2296      0.017     13.443      0.000       0.196       0.263\n",
      "C(store_nbr)[T.33]     1.2014      0.018     65.642      0.000       1.166       1.237\n",
      "C(store_nbr)[T.34]     0.7046      0.017     40.437      0.000       0.670       0.739\n",
      "C(store_nbr)[T.35]     0.1266      0.022      5.784      0.000       0.084       0.169\n",
      "C(store_nbr)[T.36]     0.0851      0.018      4.649      0.000       0.049       0.121\n",
      "C(store_nbr)[T.37]     0.2231      0.018     12.299      0.000       0.188       0.259\n",
      "C(store_nbr)[T.38]     0.7889      0.017     45.349      0.000       0.755       0.823\n",
      "C(store_nbr)[T.39]    -1.6137      0.021    -78.304      0.000      -1.654      -1.573\n",
      "C(store_nbr)[T.40]     0.4193      0.018     23.594      0.000       0.384       0.454\n",
      "C(store_nbr)[T.41]     0.3988      0.018     21.682      0.000       0.363       0.435\n",
      "C(store_nbr)[T.42]     0.3561      0.019     18.825      0.000       0.319       0.393\n",
      "C(store_nbr)[T.43]     0.4625      0.019     23.801      0.000       0.424       0.501\n",
      "C(store_nbr)[T.44]     0.4308      0.019     23.256      0.000       0.394       0.467\n",
      "C(store_nbr)[T.45]    -0.7045      0.022    -32.609      0.000      -0.747      -0.662\n",
      "C(dayofweek)[T.2]     -0.1176      0.005    -22.471      0.000      -0.128      -0.107\n",
      "C(dayofweek)[T.3]     -0.1642      0.005    -31.384      0.000      -0.174      -0.154\n",
      "C(dayofweek)[T.4]     -0.1847      0.005    -35.298      0.000      -0.195      -0.174\n",
      "C(dayofweek)[T.5]     -0.0752      0.005    -14.483      0.000      -0.085      -0.065\n",
      "C(dayofweek)[T.6]      0.1074      0.005     20.758      0.000       0.097       0.118\n",
      "C(dayofweek)[T.7]      0.1929      0.005     37.174      0.000       0.183       0.203\n",
      "C(year)[T.2013]       -0.0827      0.003    -24.931      0.000      -0.089      -0.076\n",
      "C(year)[T.2014]       -0.2627      0.004    -70.044      0.000      -0.270      -0.255\n",
      "C(month)[T.2]         -0.0610      0.006     -9.409      0.000      -0.074      -0.048\n",
      "C(month)[T.3]         -0.1077      0.006    -17.079      0.000      -0.120      -0.095\n",
      "C(month)[T.4]         -0.1562      0.006    -24.127      0.000      -0.169      -0.144\n",
      "C(month)[T.5]         -0.1591      0.007    -24.373      0.000      -0.172      -0.146\n",
      "C(month)[T.6]         -0.0984      0.007    -14.884      0.000      -0.111      -0.085\n",
      "C(month)[T.7]         -0.1052      0.007    -15.950      0.000      -0.118      -0.092\n",
      "C(month)[T.8]         -0.0724      0.006    -11.184      0.000      -0.085      -0.060\n",
      "C(month)[T.9]         -0.1405      0.007    -20.861      0.000      -0.154      -0.127\n",
      "C(month)[T.10]        -0.1648      0.007    -25.174      0.000      -0.178      -0.152\n",
      "C(month)[T.11]        -0.1882      0.007    -25.799      0.000      -0.203      -0.174\n",
      "C(month)[T.12]        -0.0937      0.007    -13.031      0.000      -0.108      -0.080\n",
      "C(day)[T.2]           -0.0828      0.011     -7.557      0.000      -0.104      -0.061\n",
      "C(day)[T.3]           -0.0913      0.011     -8.349      0.000      -0.113      -0.070\n",
      "C(day)[T.4]           -0.1573      0.011    -14.314      0.000      -0.179      -0.136\n",
      "C(day)[T.5]           -0.0042      0.011     -0.383      0.702      -0.026       0.017\n",
      "C(day)[T.6]           -0.1220      0.011    -11.208      0.000      -0.143      -0.101\n",
      "C(day)[T.7]           -0.1295      0.011    -11.903      0.000      -0.151      -0.108\n",
      "C(day)[T.8]           -0.1556      0.011    -14.232      0.000      -0.177      -0.134\n",
      "C(day)[T.9]           -0.1832      0.011    -16.717      0.000      -0.205      -0.162\n",
      "C(day)[T.10]          -0.0484      0.011     -4.432      0.000      -0.070      -0.027\n",
      "C(day)[T.11]          -0.1181      0.011    -10.815      0.000      -0.139      -0.097\n",
      "C(day)[T.12]          -0.1403      0.011    -12.802      0.000      -0.162      -0.119\n",
      "C(day)[T.13]          -0.1712      0.011    -15.667      0.000      -0.193      -0.150\n",
      "C(day)[T.14]          -0.2096      0.011    -19.110      0.000      -0.231      -0.188\n",
      "C(day)[T.15]          -0.1779      0.011    -16.161      0.000      -0.199      -0.156\n",
      "C(day)[T.16]          -0.2273      0.011    -20.661      0.000      -0.249      -0.206\n",
      "C(day)[T.17]          -0.2532      0.011    -23.123      0.000      -0.275      -0.232\n",
      "C(day)[T.18]          -0.2357      0.011    -21.631      0.000      -0.257      -0.214\n",
      "C(day)[T.19]          -0.2526      0.011    -23.233      0.000      -0.274      -0.231\n",
      "C(day)[T.20]          -0.2572      0.011    -23.648      0.000      -0.279      -0.236\n",
      "C(day)[T.21]          -0.2745      0.011    -25.357      0.000      -0.296      -0.253\n",
      "C(day)[T.22]          -0.2884      0.011    -26.654      0.000      -0.310      -0.267\n",
      "C(day)[T.23]          -0.2832      0.011    -26.103      0.000      -0.304      -0.262\n",
      "C(day)[T.24]          -0.2863      0.011    -26.486      0.000      -0.308      -0.265\n",
      "C(day)[T.25]          -0.2603      0.011    -23.615      0.000      -0.282      -0.239\n",
      "C(day)[T.26]          -0.2941      0.011    -27.079      0.000      -0.315      -0.273\n",
      "C(day)[T.27]          -0.3048      0.011    -28.016      0.000      -0.326      -0.283\n",
      "C(day)[T.28]          -0.3191      0.011    -29.207      0.000      -0.341      -0.298\n",
      "C(day)[T.29]          -0.3198      0.011    -28.695      0.000      -0.342      -0.298\n",
      "C(day)[T.30]          -0.3101      0.011    -27.406      0.000      -0.332      -0.288\n",
      "C(day)[T.31]          -0.3232      0.013    -25.024      0.000      -0.349      -0.298\n",
      "==============================================================================\n",
      "Omnibus:                      680.633   Durbin-Watson:                   1.957\n",
      "Prob(Omnibus):                  0.000   Jarque-Bera (JB):              709.252\n",
      "Skew:                          -0.176   Prob(JB):                    9.73e-155\n",
      "Kurtosis:                       3.171   Cond. No.                         317.\n",
      "==============================================================================\n",
      "\n",
      "Warnings:\n",
      "[1] Standard Errors assume that the covariance matrix of the errors is correctly specified.\n"
     ]
    }
   ],
   "source": [
    "model_1 = sm.OLS.from_formula('np.log(units) ~ C(item_nbr) + C(store_nbr) + C(dayofweek) + C(year) + C(month) + C(day)', data=df_test)\n",
    "result_1 = model_1.fit()\n",
    "print(result_1.summary())"
   ]
  },
  {
   "cell_type": "code",
   "execution_count": 18,
   "metadata": {},
   "outputs": [
    {
     "data": {
      "image/png": "[encoded data removed]",
      "text/plain": [
       "<matplotlib.figure.Figure at 0x115bfdbe0>"
      ]
     },
     "metadata": {},
     "output_type": "display_data"
    },
    {
     "name": "stdout",
     "output_type": "stream",
     "text": [
      "Chi^2       : 680.633\n",
      "P-value     :  0.000\n"
     ]
    }
   ],
   "source": [
    "sp.stats.probplot(result_1.resid, plot=plt)\n",
    "plt.show()\n",
    "\n",
    "test = sms.omni_normtest(result_1.resid)\n",
    "for xi in zip(['Chi^2', 'P-value'], test):\n",
    "    print(\"%-12s: %6.3f\" % xi)"
   ]
  },
  {
   "cell_type": "markdown",
   "metadata": {},
   "source": [
    "개선 됨을 볼 수 있다. 하지만 이 과정을 반복 한다고 해서 더 좋아지지는 않았다.\n",
    "\n",
    "여전히 잔차의 정규성은 볼 수 없음"
   ]
  },
  {
   "cell_type": "markdown",
   "metadata": {},
   "source": [
    "# 정규화 (sci-kit learn)"
   ]
  },
  {
   "cell_type": "code",
   "execution_count": 21,
   "metadata": {},
   "outputs": [],
   "source": [
    "from sklearn.datasets import make_regression\n",
    "from patsy import dmatrices\n",
    "from sklearn.model_selection import cross_val_score\n",
    "from sklearn.linear_model import LinearRegression, Ridge, Lasso, ElasticNet"
   ]
  },
  {
   "cell_type": "code",
   "execution_count": 22,
   "metadata": {},
   "outputs": [],
   "source": [
    "# patsy를 통한 formula 생성\n",
    "y, X = dmatrices( \"np.log(units) ~ C(item_nbr) + C(store_nbr) + C(dayofweek) + C(year) + C(month) + C(day)\", df_test , return_type = 'dataframe' )"
   ]
  },
  {
   "cell_type": "code",
   "execution_count": 23,
   "metadata": {},
   "outputs": [
    {
     "name": "stderr",
     "output_type": "stream",
     "text": [
      "/Library/Frameworks/Python.framework/Versions/3.6/lib/python3.6/site-packages/scipy/linalg/basic.py:1226: RuntimeWarning: internal gelsd driver lwork query error, required iwork dimension not returned. This is likely the result of LAPACK bug 0038, fixed in LAPACK 3.2.2 (released July 21, 2010). Falling back to 'gelss' driver.\n",
      "  warnings.warn(mesg, RuntimeWarning)\n"
     ]
    }
   ],
   "source": [
    "# Linear Regression, Ridge, Lasso, ElasticNet\n",
    "model1_LR = LinearRegression().fit(X, y)\n",
    "model1_ridge = Ridge(alpha=0.01).fit(X, y)\n",
    "model1_lasso = Lasso(alpha=0.01).fit(X, y)\n",
    "model1_EN = ElasticNet(alpha=0.01).fit(X, y)"
   ]
  },
  {
   "cell_type": "code",
   "execution_count": 24,
   "metadata": {},
   "outputs": [
    {
     "name": "stdout",
     "output_type": "stream",
     "text": [
      "[Original LR]\n",
      "score :  [ 0.90878393  0.90746207  0.90931093  0.90666502  0.90549921  0.91046388\n",
      "  0.91092029  0.90411239  0.90692539  0.90952826] \n",
      " mean :  0.907921169283 \n",
      "\n",
      "[Ridge]\n",
      "score :  [ 0.90878609  0.90474634  0.90795845  0.9107903   0.90697986  0.9104346\n",
      "  0.90854499  0.90768176  0.90684806  0.9067054 ] \n",
      " mean :  0.907963513161 \n",
      "\n",
      "\n",
      "[Lasso]\n",
      "score :  [ 0.70775777  0.70175431  0.71029396  0.70367364  0.70588228  0.7096821\n",
      "  0.70929549  0.71508927  0.71156238  0.70757187] \n",
      " mean :  0.70823950351 \n",
      "\n",
      "\n",
      "[Elastic-net]\n",
      "score :  [ 0.72400194  0.72134558  0.72192188  0.7250227   0.72324699  0.72965905\n",
      "  0.72037671  0.72519779  0.72643617  0.7240565 ] \n",
      " mean :  0.724185648716 \n",
      "\n"
     ]
    }
   ],
   "source": [
    "from sklearn.model_selection import KFold\n",
    "\n",
    "cv = KFold(10, shuffle=True)\n",
    "#cross_val_score(model1_LR, X, y, scoring=\"r2\", cv=cv)\n",
    "print('[Original LR]')\n",
    "print('score : ', cross_val_score(model1_LR, X, y, scoring=\"r2\", cv=cv),'\\n',\n",
    "      'mean : ', np.mean(cross_val_score(model1_LR, X, y, scoring=\"r2\", cv=cv)),'\\n')\n",
    "\n",
    "print('[Ridge]')\n",
    "print('score : ', cross_val_score(model1_ridge, X, y, scoring=\"r2\", cv=cv),'\\n',\n",
    "      'mean : ', np.mean(cross_val_score(model1_ridge, X, y, scoring=\"r2\", cv=cv)),'\\n')\n",
    "      #'std : ', np.std(cross_val_score(model1_ridge, X, y, scoring=\"r2\", cv=cv)))\n",
    "\n",
    "print('\\n[Lasso]')\n",
    "print('score : ', cross_val_score(model1_lasso, X, y, scoring=\"r2\", cv=cv),'\\n',\n",
    "      'mean : ', np.mean(cross_val_score(model1_lasso, X, y, scoring=\"r2\", cv=cv)),'\\n')\n",
    "      #'std : ', np.std(cross_val_score(model1_lasso, X, y, scoring=\"r2\", cv=cv)))\n",
    "\n",
    "print('\\n[Elastic-net]')\n",
    "print('score : ', cross_val_score(model1_EN, X, y, scoring=\"r2\", cv=cv),'\\n',\n",
    "      'mean : ', np.mean(cross_val_score(model1_EN, X, y, scoring=\"r2\", cv=cv)),'\\n')\n",
    "#      'std : ', np.std(cross_val_score(model1_EN, X, y, scoring=\"r2\", cv=cv)))"
   ]
  },
  {
   "cell_type": "markdown",
   "metadata": {},
   "source": [
    "### 우리 모델은 Lasso, Elastic-Net하면 망하는가보오..."
   ]
  },
  {
   "cell_type": "markdown",
   "metadata": {},
   "source": [
    "# 모델에 제출하기에 앞선 cross-validation 결과 및 RMSLE 채점 결과"
   ]
  },
  {
   "cell_type": "code",
   "execution_count": 25,
   "metadata": {},
   "outputs": [
    {
     "data": {
      "text/plain": [
       "make_scorer(rmsle)"
      ]
     },
     "execution_count": 25,
     "metadata": {},
     "output_type": "execute_result"
    }
   ],
   "source": [
    "# RMSLE 구현 / 긁어왔습니다 \n",
    "from sklearn.metrics import make_scorer\n",
    "def rmsle(predict, actual):\n",
    "    predict = np.array(predict)\n",
    "    actual = np.array(actual)\n",
    "    \n",
    "    log_predict = np.log(predict + 1)\n",
    "    log_actual = np.log(actual + 1)\n",
    "    \n",
    "    difference = log_predict - log_actual\n",
    "    square_difference = difference ** 2\n",
    "    mean_square_difference = square_difference.mean()\n",
    "    \n",
    "    score = np.sqrt(mean_square_difference)\n",
    "    \n",
    "    return score\n",
    "\n",
    "rmsle_score = make_scorer(rmsle)\n",
    "rmsle_score"
   ]
  },
  {
   "cell_type": "code",
   "execution_count": 26,
   "metadata": {},
   "outputs": [],
   "source": [
    "y, X = dmatrices('np.log(units) ~ C(item_nbr) + C(store_nbr) + C(dayofweek)', df_test, return_type = 'dataframe')\n",
    "\n",
    "model_LR = LinearRegression().fit(X, y)\n",
    "model_ridge = Ridge().fit(X, y)\n",
    "model_lasso = Lasso().fit(X, y)\n",
    "model_EN = ElasticNet().fit(X, y)"
   ]
  },
  {
   "cell_type": "code",
   "execution_count": 27,
   "metadata": {},
   "outputs": [
    {
     "data": {
      "text/plain": [
       "0.28410331641112269"
      ]
     },
     "execution_count": 27,
     "metadata": {},
     "output_type": "execute_result"
    }
   ],
   "source": [
    "cross_val_score(model_ridge, X, y, cv=10, scoring=rmsle_score).mean()"
   ]
  },
  {
   "cell_type": "markdown",
   "metadata": {},
   "source": [
    "최종 제출 시, 0.284점 예상\n",
    "\n",
    "model_LR으로 테스트 할 때는 채점이 되지 않는 이유, 아직 모르겠습니다\n",
    "\n",
    "0.1점대 밑으로 갈 생각을 안 허네요"
   ]
  },
  {
   "cell_type": "code",
   "execution_count": null,
   "metadata": {},
   "outputs": [],
   "source": []
  },
  {
   "cell_type": "code",
   "execution_count": null,
   "metadata": {},
   "outputs": [],
   "source": []
  },
  {
   "cell_type": "code",
   "execution_count": null,
   "metadata": {},
   "outputs": [],
   "source": []
  },
  {
   "cell_type": "code",
   "execution_count": null,
   "metadata": {},
   "outputs": [],
   "source": []
  },
  {
   "cell_type": "markdown",
   "metadata": {},
   "source": [
    "# 제출을 위한 test파일 준비"
   ]
  },
  {
   "cell_type": "markdown",
   "metadata": {},
   "source": [
    "### test file preprocessing"
   ]
  },
  {
   "cell_type": "code",
   "execution_count": null,
   "metadata": {},
   "outputs": [],
   "source": [
    "test = pd.read_csv('../../data/basic/test.csv')\n",
    "print(test.shape)\n",
    "test.head()"
   ]
  },
  {
   "cell_type": "code",
   "execution_count": null,
   "metadata": {},
   "outputs": [],
   "source": [
    "key = pd.read_csv('../../data/basic/key.csv')\n",
    "weather = pd.read_csv('../../data/weather_v8_with_holiday.csv')"
   ]
  },
  {
   "cell_type": "code",
   "execution_count": null,
   "metadata": {},
   "outputs": [],
   "source": [
    "test = pd.merge(test, key)"
   ]
  },
  {
   "cell_type": "code",
   "execution_count": null,
   "metadata": {},
   "outputs": [],
   "source": [
    "test = pd.merge(test, weather)"
   ]
  },
  {
   "cell_type": "code",
   "execution_count": null,
   "metadata": {},
   "outputs": [],
   "source": [
    "test.columns"
   ]
  },
  {
   "cell_type": "code",
   "execution_count": null,
   "metadata": {},
   "outputs": [],
   "source": [
    "test = pd.DataFrame(test, columns=['date','dayofweek', 'is_holiday', 'store_nbr', 'item_nbr', 'station_nbr', 'tmax',\n",
    "       'tmin', 'tavg', 'depart', 'dewpoint', 'wetbulb', 'heat', 'cool',\n",
    "       'sunrise', 'sunset', 'codesum', 'codesum_YN', 'snowfall', 'preciptotal',\n",
    "       'stnpressure', 'sealevel', 'resultspeed', 'resultdir', 'avgspeed',\n",
    "       ])"
   ]
  },
  {
   "cell_type": "code",
   "execution_count": null,
   "metadata": {},
   "outputs": [],
   "source": [
    "test.head()"
   ]
  },
  {
   "cell_type": "code",
   "execution_count": null,
   "metadata": {},
   "outputs": [],
   "source": [
    "def is_holiday(holiday):\n",
    "    if holiday == 'holiday':\n",
    "        return 1\n",
    "    elif holiday == 'holiday_work':\n",
    "        return 1\n",
    "    elif holiday == \"workday\":\n",
    "        return 0"
   ]
  },
  {
   "cell_type": "code",
   "execution_count": null,
   "metadata": {},
   "outputs": [],
   "source": [
    "test['is_holiday'] = test['is_holiday'].apply(is_holiday)"
   ]
  },
  {
   "cell_type": "code",
   "execution_count": null,
   "metadata": {},
   "outputs": [],
   "source": [
    "test['year'] = test['date'].apply(make_year)\n",
    "test['month'] = test['date'].apply(make_month)\n",
    "test['day'] = test['date'].apply(make_day)\n",
    "test['dayofweek'] = test['dayofweek'].apply(dayofweek_num)"
   ]
  },
  {
   "cell_type": "code",
   "execution_count": null,
   "metadata": {},
   "outputs": [],
   "source": [
    "test_sample = test.drop(columns=['date', 'tmax', 'tmin', 'tavg', 'dewpoint', 'wetbulb',\n",
    "       'sunrise', 'sunset','depart',  'codesum', 'codesum_YN', 'snowfall',\n",
    "       'stnpressure', 'sealevel','resultdir', 'avgspeed',\n",
    "       'station_nbr', 'heat', 'cool', 'preciptotal', 'is_holiday', 'resultspeed'])"
   ]
  },
  {
   "cell_type": "code",
   "execution_count": null,
   "metadata": {},
   "outputs": [],
   "source": [
    "test_sample.head()"
   ]
  },
  {
   "cell_type": "code",
   "execution_count": null,
   "metadata": {},
   "outputs": [],
   "source": [
    "test_X_df = pd.DataFrame(columns=['item_nbr', 'store_nbr','dayofweek', 'year', 'month', 'day'])\n",
    "\n",
    "for nbr in range(1, 45+1):\n",
    "    store_nbr = df_test[df_test['store_nbr'].isin([nbr])]\n",
    "    sold_item_list = list(store_nbr['item_nbr'].unique())\n",
    "    sold_item_list\n",
    "\n",
    "    test_store_nbr = test_sample[test_sample['store_nbr'].isin([nbr])]\n",
    "    to_test_df = test_store_nbr[test_store_nbr['item_nbr'].isin(sold_item_list)]\n",
    "\n",
    "    test_X_df = pd.concat([test_X_df, to_test_df], axis = 0)\n",
    "    \n",
    "test_X_df.shape"
   ]
  },
  {
   "cell_type": "code",
   "execution_count": null,
   "metadata": {},
   "outputs": [],
   "source": [
    "test_X_df.head()"
   ]
  },
  {
   "cell_type": "code",
   "execution_count": null,
   "metadata": {},
   "outputs": [],
   "source": [
    "test_X_df['store_nbr'] = test_X_df['store_nbr'].astype(int)\n",
    "test_X_df['item_nbr'] = test_X_df['item_nbr'].astype(int)\n",
    "test_X_df['year'] = test_X_df['year'].astype(int)\n",
    "test_X_df['month'] = test_X_df['month'].astype(int)\n",
    "test_X_df['day'] = test_X_df['day'].astype(int)\n",
    "test_X_df['dayofweek'] = test_X_df['dayofweek'].astype(object)"
   ]
  },
  {
   "cell_type": "code",
   "execution_count": null,
   "metadata": {},
   "outputs": [],
   "source": [
    "test_result = result_ridge.predict(test_X_df)"
   ]
  },
  {
   "cell_type": "markdown",
   "metadata": {},
   "source": [
    "### create submission file"
   ]
  },
  {
   "cell_type": "code",
   "execution_count": null,
   "metadata": {},
   "outputs": [],
   "source": [
    "result = pd.concat([test, test_result], axis=1)"
   ]
  },
  {
   "cell_type": "code",
   "execution_count": null,
   "metadata": {},
   "outputs": [],
   "source": [
    "print(result.shape)\n",
    "result.head()"
   ]
  },
  {
   "cell_type": "code",
   "execution_count": null,
   "metadata": {},
   "outputs": [],
   "source": [
    "result['units'] = result[0]"
   ]
  },
  {
   "cell_type": "code",
   "execution_count": null,
   "metadata": {},
   "outputs": [],
   "source": [
    "def itiszero(units):\n",
    "    if units > 0:\n",
    "        return units\n",
    "    else:\n",
    "        return 0"
   ]
  },
  {
   "cell_type": "code",
   "execution_count": null,
   "metadata": {},
   "outputs": [],
   "source": [
    "result['units'] = result['units'].apply(itiszero)"
   ]
  },
  {
   "cell_type": "code",
   "execution_count": null,
   "metadata": {},
   "outputs": [],
   "source": [
    "result['units'] = result['units'].astype(int)"
   ]
  },
  {
   "cell_type": "code",
   "execution_count": null,
   "metadata": {},
   "outputs": [],
   "source": [
    "result = pd.DataFrame(data=result, columns=['store_nbr', 'item_nbr', 'date', 'units'])"
   ]
  },
  {
   "cell_type": "code",
   "execution_count": null,
   "metadata": {},
   "outputs": [],
   "source": [
    "for col in result[['store_nbr', 'item_nbr']]:\n",
    "    result[col] = result[col].astype(int)"
   ]
  },
  {
   "cell_type": "code",
   "execution_count": null,
   "metadata": {},
   "outputs": [],
   "source": [
    "result['id'] = result['store_nbr'].astype(str)+'_'+result['item_nbr'].astype(str)+'_'+result['date'].astype(str)"
   ]
  },
  {
   "cell_type": "code",
   "execution_count": null,
   "metadata": {},
   "outputs": [],
   "source": [
    "for_submission = result.loc[:,['id','units']]"
   ]
  },
  {
   "cell_type": "code",
   "execution_count": null,
   "metadata": {},
   "outputs": [],
   "source": [
    "for_submission.head()"
   ]
  },
  {
   "cell_type": "code",
   "execution_count": null,
   "metadata": {},
   "outputs": [],
   "source": [
    "for_submission.to_csv('submission_sample7.csv', index=False)"
   ]
  },
  {
   "cell_type": "code",
   "execution_count": null,
   "metadata": {},
   "outputs": [],
   "source": []
  },
  {
   "cell_type": "code",
   "execution_count": null,
   "metadata": {},
   "outputs": [],
   "source": []
  },
  {
   "cell_type": "code",
   "execution_count": null,
   "metadata": {},
   "outputs": [],
   "source": []
  },
  {
   "cell_type": "code",
   "execution_count": null,
   "metadata": {},
   "outputs": [],
   "source": []
  },
  {
   "cell_type": "markdown",
   "metadata": {},
   "source": [
    "# samplesubmission3\n",
    "### dayofweek , outlier 5번 제거 ==> 캐글 0.26513\n",
    " \n"
   ]
  },
  {
   "cell_type": "markdown",
   "metadata": {},
   "source": [
    " \n",
    "# samplesubmission4\n",
    "### dayofweek, year, month, day , outlier 5번 제거 ==> 캐글 0.25870"
   ]
  },
  {
   "cell_type": "markdown",
   "metadata": {},
   "source": [
    "# samplesubmission5\n",
    "\n",
    "### dayofweek, year, month, day, np.log(units) / outlier 5번 제거 ==> 캐글 0.33 (CV 결과도 좋지 않았음)"
   ]
  },
  {
   "cell_type": "markdown",
   "metadata": {},
   "source": [
    "# samplesubmission6\n",
    "\n",
    "### dayofweek, year, month, day, np.log(units) / cook's distance로 3번 제거 ==> 캐글 0.33"
   ]
  },
  {
   "cell_type": "markdown",
   "metadata": {},
   "source": [
    "# samplesubmission7\n",
    "\n",
    "### dayofweek, year, month, day, np.log(units) / cook's distance로 3번 제거, ridge 정규화 ==> 캐글 0.33 (CV 결과가 좋은 Ridge로 적용)"
   ]
  },
  {
   "cell_type": "code",
   "execution_count": null,
   "metadata": {},
   "outputs": [],
   "source": []
  }
 ],
 "metadata": {
  "kernelspec": {
   "display_name": "Python 3",
   "language": "python",
   "name": "python3"
  },
  "language_info": {
   "codemirror_mode": {
    "name": "ipython",
    "version": 3
   },
   "file_extension": ".py",
   "mimetype": "text/x-python",
   "name": "python",
   "nbconvert_exporter": "python",
   "pygments_lexer": "ipython3",
   "version": "3.6.2"
  }
 },
 "nbformat": 4,
 "nbformat_minor": 2
}
