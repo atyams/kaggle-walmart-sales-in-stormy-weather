{
 "cells": [
  {
   "cell_type": "code",
   "execution_count": 2,
   "metadata": {},
   "outputs": [
    {
     "name": "stdout",
     "output_type": "stream",
     "text": [
      "success import scipy\n",
      "success import pandas\n",
      "success import numpy\n",
      "success import sympy\n",
      "success import matplotlib.pyplot\n",
      "Hangul OK in your MAC !!!\n"
     ]
    }
   ],
   "source": [
    "import set_math"
   ]
  },
  {
   "cell_type": "code",
   "execution_count": 3,
   "metadata": {},
   "outputs": [
    {
     "data": {
      "text/html": [
       "<div>\n",
       "<style scoped>\n",
       "    .dataframe tbody tr th:only-of-type {\n",
       "        vertical-align: middle;\n",
       "    }\n",
       "\n",
       "    .dataframe tbody tr th {\n",
       "        vertical-align: top;\n",
       "    }\n",
       "\n",
       "    .dataframe thead th {\n",
       "        text-align: right;\n",
       "    }\n",
       "</style>\n",
       "<table border=\"1\" class=\"dataframe\">\n",
       "  <thead>\n",
       "    <tr style=\"text-align: right;\">\n",
       "      <th></th>\n",
       "      <th>date</th>\n",
       "      <th>station_nbr</th>\n",
       "      <th>store_nbr</th>\n",
       "      <th>item_nbr</th>\n",
       "      <th>units</th>\n",
       "      <th>depart</th>\n",
       "      <th>codesum</th>\n",
       "      <th>dayofweek</th>\n",
       "      <th>is_holiday</th>\n",
       "    </tr>\n",
       "  </thead>\n",
       "  <tbody>\n",
       "    <tr>\n",
       "      <th>0</th>\n",
       "      <td>2012-01-01</td>\n",
       "      <td>1</td>\n",
       "      <td>1</td>\n",
       "      <td>9</td>\n",
       "      <td>29</td>\n",
       "      <td>M</td>\n",
       "      <td>RA FZFG BR</td>\n",
       "      <td>Sun</td>\n",
       "      <td>holiday</td>\n",
       "    </tr>\n",
       "    <tr>\n",
       "      <th>1</th>\n",
       "      <td>2012-01-01</td>\n",
       "      <td>1</td>\n",
       "      <td>1</td>\n",
       "      <td>28</td>\n",
       "      <td>2</td>\n",
       "      <td>M</td>\n",
       "      <td>RA FZFG BR</td>\n",
       "      <td>Sun</td>\n",
       "      <td>holiday</td>\n",
       "    </tr>\n",
       "    <tr>\n",
       "      <th>2</th>\n",
       "      <td>2012-01-01</td>\n",
       "      <td>1</td>\n",
       "      <td>1</td>\n",
       "      <td>51</td>\n",
       "      <td>1</td>\n",
       "      <td>M</td>\n",
       "      <td>RA FZFG BR</td>\n",
       "      <td>Sun</td>\n",
       "      <td>holiday</td>\n",
       "    </tr>\n",
       "    <tr>\n",
       "      <th>3</th>\n",
       "      <td>2012-01-01</td>\n",
       "      <td>2</td>\n",
       "      <td>16</td>\n",
       "      <td>16</td>\n",
       "      <td>25</td>\n",
       "      <td>16</td>\n",
       "      <td>RA</td>\n",
       "      <td>Sun</td>\n",
       "      <td>holiday</td>\n",
       "    </tr>\n",
       "    <tr>\n",
       "      <th>4</th>\n",
       "      <td>2012-01-01</td>\n",
       "      <td>2</td>\n",
       "      <td>16</td>\n",
       "      <td>25</td>\n",
       "      <td>187</td>\n",
       "      <td>16</td>\n",
       "      <td>RA</td>\n",
       "      <td>Sun</td>\n",
       "      <td>holiday</td>\n",
       "    </tr>\n",
       "  </tbody>\n",
       "</table>\n",
       "</div>"
      ],
      "text/plain": [
       "         date  station_nbr  store_nbr  item_nbr  units depart     codesum  \\\n",
       "0  2012-01-01            1          1         9     29      M  RA FZFG BR   \n",
       "1  2012-01-01            1          1        28      2      M  RA FZFG BR   \n",
       "2  2012-01-01            1          1        51      1      M  RA FZFG BR   \n",
       "3  2012-01-01            2         16        16     25     16          RA   \n",
       "4  2012-01-01            2         16        25    187     16          RA   \n",
       "\n",
       "  dayofweek is_holiday  \n",
       "0       Sun    holiday  \n",
       "1       Sun    holiday  \n",
       "2       Sun    holiday  \n",
       "3       Sun    holiday  \n",
       "4       Sun    holiday  "
      ]
     },
     "execution_count": 3,
     "metadata": {},
     "output_type": "execute_result"
    }
   ],
   "source": [
    "data = pd.read_csv('../data/05. data_sample_V3', index_col = 0)\n",
    "data.head()"
   ]
  },
  {
   "cell_type": "code",
   "execution_count": 4,
   "metadata": {},
   "outputs": [],
   "source": [
    "item_unit_df = pd.DataFrame(data, columns=['date','station_nbr', 'store_nbr', 'item_nbr', 'units'])"
   ]
  },
  {
   "cell_type": "code",
   "execution_count": 5,
   "metadata": {},
   "outputs": [
    {
     "data": {
      "text/html": [
       "<div>\n",
       "<style scoped>\n",
       "    .dataframe tbody tr th:only-of-type {\n",
       "        vertical-align: middle;\n",
       "    }\n",
       "\n",
       "    .dataframe tbody tr th {\n",
       "        vertical-align: top;\n",
       "    }\n",
       "\n",
       "    .dataframe thead th {\n",
       "        text-align: right;\n",
       "    }\n",
       "</style>\n",
       "<table border=\"1\" class=\"dataframe\">\n",
       "  <thead>\n",
       "    <tr style=\"text-align: right;\">\n",
       "      <th></th>\n",
       "      <th>date</th>\n",
       "      <th>station_nbr</th>\n",
       "      <th>store_nbr</th>\n",
       "      <th>item_nbr</th>\n",
       "      <th>units</th>\n",
       "    </tr>\n",
       "  </thead>\n",
       "  <tbody>\n",
       "    <tr>\n",
       "      <th>118689</th>\n",
       "      <td>2014-10-31</td>\n",
       "      <td>19</td>\n",
       "      <td>30</td>\n",
       "      <td>16</td>\n",
       "      <td>19</td>\n",
       "    </tr>\n",
       "    <tr>\n",
       "      <th>118690</th>\n",
       "      <td>2014-10-31</td>\n",
       "      <td>19</td>\n",
       "      <td>30</td>\n",
       "      <td>44</td>\n",
       "      <td>69</td>\n",
       "    </tr>\n",
       "    <tr>\n",
       "      <th>118691</th>\n",
       "      <td>2014-10-31</td>\n",
       "      <td>19</td>\n",
       "      <td>30</td>\n",
       "      <td>65</td>\n",
       "      <td>1</td>\n",
       "    </tr>\n",
       "    <tr>\n",
       "      <th>118692</th>\n",
       "      <td>2014-10-31</td>\n",
       "      <td>20</td>\n",
       "      <td>17</td>\n",
       "      <td>9</td>\n",
       "      <td>24</td>\n",
       "    </tr>\n",
       "    <tr>\n",
       "      <th>118693</th>\n",
       "      <td>2014-10-31</td>\n",
       "      <td>20</td>\n",
       "      <td>17</td>\n",
       "      <td>37</td>\n",
       "      <td>25</td>\n",
       "    </tr>\n",
       "  </tbody>\n",
       "</table>\n",
       "</div>"
      ],
      "text/plain": [
       "              date  station_nbr  store_nbr  item_nbr  units\n",
       "118689  2014-10-31           19         30        16     19\n",
       "118690  2014-10-31           19         30        44     69\n",
       "118691  2014-10-31           19         30        65      1\n",
       "118692  2014-10-31           20         17         9     24\n",
       "118693  2014-10-31           20         17        37     25"
      ]
     },
     "execution_count": 5,
     "metadata": {},
     "output_type": "execute_result"
    }
   ],
   "source": [
    "item_unit_df.tail()"
   ]
  },
  {
   "cell_type": "code",
   "execution_count": 6,
   "metadata": {},
   "outputs": [
    {
     "data": {
      "text/html": [
       "<div>\n",
       "<style scoped>\n",
       "    .dataframe tbody tr th:only-of-type {\n",
       "        vertical-align: middle;\n",
       "    }\n",
       "\n",
       "    .dataframe tbody tr th {\n",
       "        vertical-align: top;\n",
       "    }\n",
       "\n",
       "    .dataframe thead th {\n",
       "        text-align: right;\n",
       "    }\n",
       "</style>\n",
       "<table border=\"1\" class=\"dataframe\">\n",
       "  <thead>\n",
       "    <tr style=\"text-align: right;\">\n",
       "      <th></th>\n",
       "      <th>date</th>\n",
       "      <th>station_nbr</th>\n",
       "      <th>store_nbr</th>\n",
       "      <th>item_nbr</th>\n",
       "      <th>units</th>\n",
       "    </tr>\n",
       "  </thead>\n",
       "  <tbody>\n",
       "    <tr>\n",
       "      <th>0</th>\n",
       "      <td>2012-01-01</td>\n",
       "      <td>1</td>\n",
       "      <td>1</td>\n",
       "      <td>9</td>\n",
       "      <td>29</td>\n",
       "    </tr>\n",
       "    <tr>\n",
       "      <th>1</th>\n",
       "      <td>2012-01-01</td>\n",
       "      <td>1</td>\n",
       "      <td>1</td>\n",
       "      <td>28</td>\n",
       "      <td>2</td>\n",
       "    </tr>\n",
       "    <tr>\n",
       "      <th>2</th>\n",
       "      <td>2012-01-01</td>\n",
       "      <td>1</td>\n",
       "      <td>1</td>\n",
       "      <td>51</td>\n",
       "      <td>1</td>\n",
       "    </tr>\n",
       "    <tr>\n",
       "      <th>3</th>\n",
       "      <td>2012-01-07</td>\n",
       "      <td>1</td>\n",
       "      <td>1</td>\n",
       "      <td>9</td>\n",
       "      <td>2</td>\n",
       "    </tr>\n",
       "    <tr>\n",
       "      <th>4</th>\n",
       "      <td>2012-01-07</td>\n",
       "      <td>1</td>\n",
       "      <td>1</td>\n",
       "      <td>28</td>\n",
       "      <td>1</td>\n",
       "    </tr>\n",
       "  </tbody>\n",
       "</table>\n",
       "</div>"
      ],
      "text/plain": [
       "         date  station_nbr  store_nbr  item_nbr  units\n",
       "0  2012-01-01            1          1         9     29\n",
       "1  2012-01-01            1          1        28      2\n",
       "2  2012-01-01            1          1        51      1\n",
       "3  2012-01-07            1          1         9      2\n",
       "4  2012-01-07            1          1        28      1"
      ]
     },
     "execution_count": 6,
     "metadata": {},
     "output_type": "execute_result"
    }
   ],
   "source": [
    "store_nbr_1 = item_unit_df[item_unit_df['store_nbr'].isin([1])].reset_index(drop = True)\n",
    "store_nbr_1.head()"
   ]
  },
  {
   "cell_type": "code",
   "execution_count": 7,
   "metadata": {
    "scrolled": true
   },
   "outputs": [],
   "source": [
    "store_nbr_1 = store_nbr_1.pivot_table(values = 'units', index = ['date'], columns=['item_nbr'], aggfunc = np.sum, fill_value = 0)"
   ]
  },
  {
   "cell_type": "code",
   "execution_count": 8,
   "metadata": {
    "scrolled": true
   },
   "outputs": [],
   "source": [
    "store_nbr_1 = store_nbr_1.reset_index()"
   ]
  },
  {
   "cell_type": "code",
   "execution_count": 19,
   "metadata": {},
   "outputs": [
    {
     "data": {
      "text/html": [
       "<div>\n",
       "<style scoped>\n",
       "    .dataframe tbody tr th:only-of-type {\n",
       "        vertical-align: middle;\n",
       "    }\n",
       "\n",
       "    .dataframe tbody tr th {\n",
       "        vertical-align: top;\n",
       "    }\n",
       "\n",
       "    .dataframe thead th {\n",
       "        text-align: right;\n",
       "    }\n",
       "</style>\n",
       "<table border=\"1\" class=\"dataframe\">\n",
       "  <thead>\n",
       "    <tr style=\"text-align: right;\">\n",
       "      <th>item_nbr</th>\n",
       "      <th>date</th>\n",
       "      <th>9</th>\n",
       "      <th>28</th>\n",
       "      <th>40</th>\n",
       "      <th>47</th>\n",
       "      <th>51</th>\n",
       "      <th>89</th>\n",
       "      <th>93</th>\n",
       "      <th>99</th>\n",
       "    </tr>\n",
       "  </thead>\n",
       "  <tbody>\n",
       "    <tr>\n",
       "      <th>0</th>\n",
       "      <td>2012-01-01</td>\n",
       "      <td>29</td>\n",
       "      <td>2</td>\n",
       "      <td>0</td>\n",
       "      <td>0</td>\n",
       "      <td>1</td>\n",
       "      <td>0</td>\n",
       "      <td>0</td>\n",
       "      <td>0</td>\n",
       "    </tr>\n",
       "    <tr>\n",
       "      <th>1</th>\n",
       "      <td>2012-01-02</td>\n",
       "      <td>60</td>\n",
       "      <td>5</td>\n",
       "      <td>0</td>\n",
       "      <td>0</td>\n",
       "      <td>1</td>\n",
       "      <td>0</td>\n",
       "      <td>0</td>\n",
       "      <td>0</td>\n",
       "    </tr>\n",
       "    <tr>\n",
       "      <th>2</th>\n",
       "      <td>2012-01-03</td>\n",
       "      <td>15</td>\n",
       "      <td>9</td>\n",
       "      <td>0</td>\n",
       "      <td>0</td>\n",
       "      <td>0</td>\n",
       "      <td>0</td>\n",
       "      <td>0</td>\n",
       "      <td>0</td>\n",
       "    </tr>\n",
       "    <tr>\n",
       "      <th>3</th>\n",
       "      <td>2012-01-04</td>\n",
       "      <td>20</td>\n",
       "      <td>3</td>\n",
       "      <td>0</td>\n",
       "      <td>0</td>\n",
       "      <td>0</td>\n",
       "      <td>0</td>\n",
       "      <td>0</td>\n",
       "      <td>0</td>\n",
       "    </tr>\n",
       "    <tr>\n",
       "      <th>4</th>\n",
       "      <td>2012-01-05</td>\n",
       "      <td>16</td>\n",
       "      <td>1</td>\n",
       "      <td>0</td>\n",
       "      <td>0</td>\n",
       "      <td>0</td>\n",
       "      <td>0</td>\n",
       "      <td>0</td>\n",
       "      <td>0</td>\n",
       "    </tr>\n",
       "  </tbody>\n",
       "</table>\n",
       "</div>"
      ],
      "text/plain": [
       "item_nbr        date   9  28  40  47  51  89  93  99\n",
       "0         2012-01-01  29   2   0   0   1   0   0   0\n",
       "1         2012-01-02  60   5   0   0   1   0   0   0\n",
       "2         2012-01-03  15   9   0   0   0   0   0   0\n",
       "3         2012-01-04  20   3   0   0   0   0   0   0\n",
       "4         2012-01-05  16   1   0   0   0   0   0   0"
      ]
     },
     "execution_count": 19,
     "metadata": {},
     "output_type": "execute_result"
    }
   ],
   "source": [
    "store_nbr_1.head()"
   ]
  },
  {
   "cell_type": "code",
   "execution_count": 27,
   "metadata": {
    "scrolled": true
   },
   "outputs": [],
   "source": [
    "nbr_9_array = np.array(store_nbr_1[9])"
   ]
  },
  {
   "cell_type": "code",
   "execution_count": 28,
   "metadata": {},
   "outputs": [],
   "source": [
    "nbr_28_array = np.array(store_nbr_1[28])"
   ]
  },
  {
   "cell_type": "code",
   "execution_count": 30,
   "metadata": {},
   "outputs": [],
   "source": [
    "nbr_40_array = np.array(store_nbr_1[40])"
   ]
  },
  {
   "cell_type": "code",
   "execution_count": 32,
   "metadata": {},
   "outputs": [
    {
     "data": {
      "text/plain": [
       "array([[ 1.        ,  0.11897802],\n",
       "       [ 0.11897802,  1.        ]])"
      ]
     },
     "execution_count": 32,
     "metadata": {},
     "output_type": "execute_result"
    }
   ],
   "source": [
    "np.corrcoef(nbr_9_array,nbr_28_array)"
   ]
  },
  {
   "cell_type": "code",
   "execution_count": 33,
   "metadata": {},
   "outputs": [
    {
     "data": {
      "text/plain": [
       "array([[ 1.        ,  0.10718982],\n",
       "       [ 0.10718982,  1.        ]])"
      ]
     },
     "execution_count": 33,
     "metadata": {},
     "output_type": "execute_result"
    }
   ],
   "source": [
    "np.corrcoef(nbr_9_array,nbr_40_array)"
   ]
  },
  {
   "cell_type": "code",
   "execution_count": 10,
   "metadata": {},
   "outputs": [
    {
     "data": {
      "text/plain": [
       "array([[ 1.        ,  0.11897802],\n",
       "       [ 0.11897802,  1.        ]])"
      ]
     },
     "execution_count": 10,
     "metadata": {},
     "output_type": "execute_result"
    }
   ],
   "source": [
    "np.corrcoef(store_nbr_1[9],store_nbr_1[28])"
   ]
  },
  {
   "cell_type": "code",
   "execution_count": 11,
   "metadata": {},
   "outputs": [],
   "source": [
    "list_ = [9,28,40,47,51,89,93,99]"
   ]
  },
  {
   "cell_type": "code",
   "execution_count": 101,
   "metadata": {},
   "outputs": [],
   "source": [
    "corr = pd.DataFrame()"
   ]
  },
  {
   "cell_type": "code",
   "execution_count": 108,
   "metadata": {},
   "outputs": [
    {
     "data": {
      "text/html": [
       "<div>\n",
       "<style scoped>\n",
       "    .dataframe tbody tr th:only-of-type {\n",
       "        vertical-align: middle;\n",
       "    }\n",
       "\n",
       "    .dataframe tbody tr th {\n",
       "        vertical-align: top;\n",
       "    }\n",
       "\n",
       "    .dataframe thead th {\n",
       "        text-align: right;\n",
       "    }\n",
       "</style>\n",
       "<table border=\"1\" class=\"dataframe\">\n",
       "  <thead>\n",
       "    <tr style=\"text-align: right;\">\n",
       "      <th>item_nbr</th>\n",
       "      <th>9</th>\n",
       "      <th>28</th>\n",
       "      <th>40</th>\n",
       "      <th>47</th>\n",
       "      <th>51</th>\n",
       "      <th>89</th>\n",
       "      <th>93</th>\n",
       "      <th>99</th>\n",
       "    </tr>\n",
       "    <tr>\n",
       "      <th>item_nbr</th>\n",
       "      <th></th>\n",
       "      <th></th>\n",
       "      <th></th>\n",
       "      <th></th>\n",
       "      <th></th>\n",
       "      <th></th>\n",
       "      <th></th>\n",
       "      <th></th>\n",
       "    </tr>\n",
       "  </thead>\n",
       "  <tbody>\n",
       "    <tr>\n",
       "      <th>9</th>\n",
       "      <td>1.000000</td>\n",
       "      <td>0.118978</td>\n",
       "      <td>0.107190</td>\n",
       "      <td>-0.007694</td>\n",
       "      <td>0.105353</td>\n",
       "      <td>0.035821</td>\n",
       "      <td>0.013317</td>\n",
       "      <td>0.044022</td>\n",
       "    </tr>\n",
       "    <tr>\n",
       "      <th>28</th>\n",
       "      <td>0.118978</td>\n",
       "      <td>1.000000</td>\n",
       "      <td>0.090358</td>\n",
       "      <td>0.224022</td>\n",
       "      <td>0.087682</td>\n",
       "      <td>-0.003938</td>\n",
       "      <td>-0.099449</td>\n",
       "      <td>0.055952</td>\n",
       "    </tr>\n",
       "    <tr>\n",
       "      <th>40</th>\n",
       "      <td>0.107190</td>\n",
       "      <td>0.090358</td>\n",
       "      <td>1.000000</td>\n",
       "      <td>0.036602</td>\n",
       "      <td>0.219022</td>\n",
       "      <td>0.002646</td>\n",
       "      <td>-0.041844</td>\n",
       "      <td>0.087471</td>\n",
       "    </tr>\n",
       "    <tr>\n",
       "      <th>47</th>\n",
       "      <td>-0.007694</td>\n",
       "      <td>0.224022</td>\n",
       "      <td>0.036602</td>\n",
       "      <td>1.000000</td>\n",
       "      <td>-0.042762</td>\n",
       "      <td>-0.116828</td>\n",
       "      <td>-0.163624</td>\n",
       "      <td>0.305509</td>\n",
       "    </tr>\n",
       "    <tr>\n",
       "      <th>51</th>\n",
       "      <td>0.105353</td>\n",
       "      <td>0.087682</td>\n",
       "      <td>0.219022</td>\n",
       "      <td>-0.042762</td>\n",
       "      <td>1.000000</td>\n",
       "      <td>0.011336</td>\n",
       "      <td>-0.046455</td>\n",
       "      <td>-0.013525</td>\n",
       "    </tr>\n",
       "    <tr>\n",
       "      <th>89</th>\n",
       "      <td>0.035821</td>\n",
       "      <td>-0.003938</td>\n",
       "      <td>0.002646</td>\n",
       "      <td>-0.116828</td>\n",
       "      <td>0.011336</td>\n",
       "      <td>1.000000</td>\n",
       "      <td>0.113808</td>\n",
       "      <td>-0.069894</td>\n",
       "    </tr>\n",
       "    <tr>\n",
       "      <th>93</th>\n",
       "      <td>0.013317</td>\n",
       "      <td>-0.099449</td>\n",
       "      <td>-0.041844</td>\n",
       "      <td>-0.163624</td>\n",
       "      <td>-0.046455</td>\n",
       "      <td>0.113808</td>\n",
       "      <td>1.000000</td>\n",
       "      <td>-0.105892</td>\n",
       "    </tr>\n",
       "    <tr>\n",
       "      <th>99</th>\n",
       "      <td>0.044022</td>\n",
       "      <td>0.055952</td>\n",
       "      <td>0.087471</td>\n",
       "      <td>0.305509</td>\n",
       "      <td>-0.013525</td>\n",
       "      <td>-0.069894</td>\n",
       "      <td>-0.105892</td>\n",
       "      <td>1.000000</td>\n",
       "    </tr>\n",
       "  </tbody>\n",
       "</table>\n",
       "</div>"
      ],
      "text/plain": [
       "item_nbr        9         28        40        47        51        89  \\\n",
       "item_nbr                                                               \n",
       "9         1.000000  0.118978  0.107190 -0.007694  0.105353  0.035821   \n",
       "28        0.118978  1.000000  0.090358  0.224022  0.087682 -0.003938   \n",
       "40        0.107190  0.090358  1.000000  0.036602  0.219022  0.002646   \n",
       "47       -0.007694  0.224022  0.036602  1.000000 -0.042762 -0.116828   \n",
       "51        0.105353  0.087682  0.219022 -0.042762  1.000000  0.011336   \n",
       "89        0.035821 -0.003938  0.002646 -0.116828  0.011336  1.000000   \n",
       "93        0.013317 -0.099449 -0.041844 -0.163624 -0.046455  0.113808   \n",
       "99        0.044022  0.055952  0.087471  0.305509 -0.013525 -0.069894   \n",
       "\n",
       "item_nbr        93        99  \n",
       "item_nbr                      \n",
       "9         0.013317  0.044022  \n",
       "28       -0.099449  0.055952  \n",
       "40       -0.041844  0.087471  \n",
       "47       -0.163624  0.305509  \n",
       "51       -0.046455 -0.013525  \n",
       "89        0.113808 -0.069894  \n",
       "93        1.000000 -0.105892  \n",
       "99       -0.105892  1.000000  "
      ]
     },
     "execution_count": 108,
     "metadata": {},
     "output_type": "execute_result"
    }
   ],
   "source": [
    "store_nbr_1.corr()"
   ]
  },
  {
   "cell_type": "code",
   "execution_count": 103,
   "metadata": {},
   "outputs": [],
   "source": [
    "from matplotlib import pyplot as plt\n",
    "from matplotlib import cm as cm"
   ]
  },
  {
   "cell_type": "code",
   "execution_count": 105,
   "metadata": {},
   "outputs": [
    {
     "data": {
      "image/png": "[encoded data removed]",
      "text/plain": [
       "<matplotlib.figure.Figure at 0x10ddbd9e8>"
      ]
     },
     "metadata": {},
     "output_type": "display_data"
    }
   ],
   "source": [
    "fig = plt.figure()\n",
    "ax1 = fig.add_subplot(111)\n",
    "cmap = cm.get_cmap('jet', 30)\n",
    "cax = ax1.imshow(store_nbr_1.corr(), interpolation=\"nearest\", cmap=cmap)\n",
    "ax1.grid(True)\n",
    "plt.title('store_nbr1 - item_nbr Correlation')\n",
    "labels=[9,28,40,47,51,89,93,99]\n",
    "ax1.set_xticklabels(labels,fontsize=6)\n",
    "ax1.set_yticklabels(labels,fontsize=6)\n",
    "# Add colorbar, make sure to specify tick locations to match desired ticklabels\n",
    "fig.colorbar(cax, ticks=[-1,-.8,-0.6,-.04,-0.2,0,.2,0.4,0.6,0.8,1])\n",
    "plt.show()"
   ]
  },
  {
   "cell_type": "code",
   "execution_count": null,
   "metadata": {},
   "outputs": [],
   "source": []
  }
 ],
 "metadata": {
  "kernelspec": {
   "display_name": "Python 3",
   "language": "python",
   "name": "python3"
  },
  "language_info": {
   "codemirror_mode": {
    "name": "ipython",
    "version": 3
   },
   "file_extension": ".py",
   "mimetype": "text/x-python",
   "name": "python",
   "nbconvert_exporter": "python",
   "pygments_lexer": "ipython3",
   "version": "3.5.0"
  }
 },
 "nbformat": 4,
 "nbformat_minor": 2
}
