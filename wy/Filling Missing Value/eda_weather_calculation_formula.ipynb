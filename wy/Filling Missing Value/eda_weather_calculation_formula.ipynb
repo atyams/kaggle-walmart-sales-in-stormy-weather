{
 "cells": [
  {
   "cell_type": "code",
   "execution_count": 98,
   "metadata": {},
   "outputs": [],
   "source": [
    "# https://github.com/remcmurry/Psychropy/blob/master/psychropy.py\n",
    "\n",
    "import math\n",
    "\n",
    "\n",
    "def to_Cel(tf):\n",
    "    '''\n",
    "    Convert Celcius to Fahrenheit\n",
    "    '''\n",
    "    tc = 5/9 * (tf - 32)\n",
    "    return tc\n",
    "\n",
    "\n",
    "def to_Fah(tc):\n",
    "    '''\n",
    "    Convert Fahrenheit to Celcius\n",
    "    '''\n",
    "    tf = tc * (9/5) + 32\n",
    "    return tf\n",
    "\n",
    "\n",
    "def inhg_to_kPa(inhg):\n",
    "    '''\n",
    "    Calculates kilopascal (kPa)\n",
    "        inhg = inches in mercury (station pressure)\n",
    "        https://www.metric-conversions.org/pressure/inches-of-mercury-to-pascals.htm\n",
    "    '''\n",
    "    result = (inhg / 0.00029530) / 1000\n",
    "    return result\n",
    "\n",
    "\n",
    "def Part_press(kPa, HR):\n",
    "    \n",
    "    ''' \n",
    "    Function to compute partial vapor pressure in [kPa]\n",
    "    From page 6.9 equation 38 in ASHRAE Fundamentals handbook (2005)\n",
    "        kPa = ambient pressure [kPa]\n",
    "        HR = humidity ratio [kg/kg dry air]\n",
    "    '''\n",
    "    result = kPa * HR / (0.62198 + HR)\n",
    "    return result\n",
    "\n",
    "\n",
    "def Sat_press(Tdb):\n",
    "\n",
    "    ''' \n",
    "    Function to compute saturation vapor pressure in [kPa]\n",
    "    ASHRAE Fundamentals handbood (2005) p 6.2, equation 5 and 6\n",
    "        Tdb = Dry bulb temperature [degC]\n",
    "        Valid from -100C to 200 C\n",
    "    '''\n",
    "\n",
    "    C1 = -5674.5359\n",
    "    C2 = 6.3925247\n",
    "    C3 = -0.009677843\n",
    "    C4 = 0.00000062215701\n",
    "    C5 = 2.0747825E-09\n",
    "    C6 = -9.484024E-13\n",
    "    C7 = 4.1635019\n",
    "    C8 = -5800.2206\n",
    "    C9 = 1.3914993\n",
    "    C10 = -0.048640239\n",
    "    C11 = 0.000041764768\n",
    "    C12 = -0.000000014452093\n",
    "    C13 = 6.5459673\n",
    " \n",
    "    TK = Tdb + 273.15                     # Converts from degC to degK\n",
    "    \n",
    "    if TK <= 273.15:\n",
    "        result = math.exp(C1/TK + C2 + C3*TK + C4*TK**2 + C5*TK**3 + \n",
    "                          C6*TK**4 + C7*math.log(TK)) / 1000\n",
    "    else:\n",
    "        result = math.exp(C8/TK + C9 + C10*TK + C11*TK**2 + C12*TK**3 + \n",
    "                          C13*math.log(TK)) / 1000\n",
    "    return result\n",
    "\n",
    "\n",
    "\n",
    "def Hum_rat(Tdb, Twb, kPa):\n",
    "    \n",
    "    ''' \n",
    "    Function to calculate humidity ratio [kg H2O/kg air]\n",
    "    Given dry bulb and wet bulb temp inputs [degC]\n",
    "    ASHRAE Fundamentals handbood (2005)\n",
    "        Tdb = Dry bulb temperature [degC]\n",
    "        Twb = Wet bulb temperature [degC]\n",
    "        kPa = Ambient Pressure [kPa]\n",
    "    '''\n",
    "\n",
    "    Pws = Sat_press(Twb)\n",
    "    Ws = 0.62198 * Pws / (kPa - Pws)          # Equation 23, p6.8\n",
    "    if Tdb >= 0:                            # Equation 35, p6.9\n",
    "        result = (((2501 - 2.326*Twb)*Ws - 1.006*(Tdb - Twb))/\n",
    "                  (2501 + 1.86*Tdb - 4.186*Twb))\n",
    "    else:                                   # Equation 37, p6.9\n",
    "        result = (((2830 - 0.24*Twb)*Ws - 1.006*(Tdb - Twb))/\n",
    "                  (2830 + 1.86*Tdb - 2.1*Twb))\n",
    "    return result\n",
    "\n",
    "\n",
    "\n",
    "def Hum_rat2(Tdb, rHR, kPa):\n",
    "\n",
    "    ''' \n",
    "    Function to calculate humidity ratio [kg H2O/kg air]\n",
    "    Given dry bulb and wet bulb temperature inputs [degC]\n",
    "    ASHRAE Fundamentals handbood (2005)\n",
    "        Tdb = Dry bulb temperature [degC]\n",
    "        rRH = Relative Humidity [Fraction]\n",
    "        P = Ambient Pressure [kPa]\n",
    "    '''\n",
    "    \n",
    "    \n",
    "    Pws = Sat_press(Tdb)\n",
    "    result = 0.62198*rHR*Pws/(kPa - rHR*Pws)    # Equation 22, 24, p6.8\n",
    "    return result\n",
    "\n",
    "\n",
    "\n",
    "def Rel_hum(Tdb, Twb, kPa):\n",
    "\n",
    "    ''' \n",
    "    Calculates relative humidity ratio\n",
    "    ASHRAE Fundamentals handbood (2005)\n",
    "        Tdb = Dry bulb temperature [degC]\n",
    "        Twb = Wet bulb temperature [degC]\n",
    "        kPa = Ambient Pressure [kPa]\n",
    "    '''\n",
    "      \n",
    "    W = Hum_rat(Tdb, Twb, kPa)\n",
    "    result = Part_press(kPa, W) / Sat_press(Tdb)   # Equation 24, p6.8\n",
    "    return result\n",
    "\n",
    "\n",
    "\n",
    "def Rel_Hum2(Tdb, Tdp):\n",
    "    '''\n",
    "    Calculates relative humidity ratio\n",
    "        Tdb = Dry bulb temperature [degC]\n",
    "        Tdp = Dew point temperature [degC]\n",
    "    '''\n",
    "    \n",
    "    # calculate saturation vapor pressure(sav) and actual vapor pressure(avp) in millibars.\n",
    "    svp = 6.11*10**(7.5*Tdb/(237.7+Tdb))\n",
    "    acp = 6.11*10**(7.5*Tdp/(237.7+Tdp))\n",
    "                    \n",
    "    # calculate Relative Humidity Ratio\n",
    "    rHR = (acp/svp)\n",
    "                    \n",
    "    return rHR\n",
    "\n",
    "\n",
    "\n",
    "def Rel_Hu3(Tdb, HR, kPa):\n",
    "    \n",
    "    ''' \n",
    "    Calculates the relative humidity given:\n",
    "        Tdb = Dry bulb temperature [degC]\n",
    "        kPa = ambient pressure [kPa]\n",
    "        HR = humidity ratio [kg/kg dry air]\n",
    "    '''\n",
    "\n",
    "    Pw = Part_press(kPa, HR)\n",
    "    Pws = Sat_press(Tdb)\n",
    "    result = Pw / Pws\n",
    "    return result\n",
    "\n",
    "\n",
    "def Wet_bulb(Tdb, rHR, P):\n",
    "    \n",
    "    ''' \n",
    "    Calculates the Wet Bulb temp given:        \n",
    "        Tdb = Dry bulb temperature [degC]\n",
    "        rHR = Relative humidity ratio [Fraction]\n",
    "        kPa = Ambient Pressure [kPa]\n",
    "    Uses Newton-Rhapson iteration to converge quickly\n",
    "    '''\n",
    "\n",
    "    # convert Fahrenheit to Celsius\n",
    "    \n",
    "    W_normal = Hum_rat2(Tdb, rHR, kPa)\n",
    "    result = Tdb\n",
    "    \n",
    "    ' Solves to within 0.001% accuracy using Newton-Rhapson'    \n",
    "    W_new = Hum_rat(Tdb, result, kPa)\n",
    "    while abs((W_new - W_normal) / W_normal) > 0.00001:\n",
    "        W_new2 = Hum_rat(Tdb, result - 0.001, kPa)\n",
    "        dw_dtwb = (W_new - W_new2) / 0.001\n",
    "        result = result - (W_new - W_normal) / dw_dtwb\n",
    "        W_new = Hum_rat(Tdb, result, kPa)\n",
    "    return result\n",
    "\n",
    "\n",
    "\n",
    "\n",
    "\n",
    "def Dew_point(kPa, HR):\n",
    "\n",
    "    ''' \n",
    "    Function to compute the dew point temperature (deg C)\n",
    "    From page 6.9 equation 39 and 40 in ASHRAE Fundamentals handbook (2005)\n",
    "        kPa = ambient pressure [kPa]\n",
    "        HR = humidity ratio [kg/kg dry air]\n",
    "    Valid for Dew Points less than 93 C\n",
    "    '''\n",
    "\n",
    "    C14 = 6.54\n",
    "    C15 = 14.526\n",
    "    C16 = 0.7389\n",
    "    C17 = 0.09486\n",
    "    C18 = 0.4569\n",
    "    \n",
    "    print(Pw)\n",
    "    alpha = math.log(Pw)\n",
    "    Tdp1 = C14 + C15*alpha + C16*alpha**2 + C17*alpha**3 + C18*Pw**0.1984\n",
    "    Tdp2 = 6.09 + 12.608*alpha + 0.4959*alpha**2\n",
    "    if Tdp1 >= 0:\n",
    "        result = Tdp1\n",
    "    else:\n",
    "        result = Tdp2\n",
    "    return result\n",
    "\n",
    "\n"
   ]
  },
  {
   "cell_type": "code",
   "execution_count": null,
   "metadata": {},
   "outputs": [],
   "source": []
  },
  {
   "cell_type": "code",
   "execution_count": 99,
   "metadata": {},
   "outputs": [
    {
     "data": {
      "text/plain": [
       "10.0"
      ]
     },
     "execution_count": 99,
     "metadata": {},
     "output_type": "execute_result"
    }
   ],
   "source": [
    "tc = to_Cel(50)\n",
    "tc"
   ]
  },
  {
   "cell_type": "code",
   "execution_count": 100,
   "metadata": {},
   "outputs": [
    {
     "data": {
      "text/plain": [
       "4.444444444444445"
      ]
     },
     "execution_count": 100,
     "metadata": {},
     "output_type": "execute_result"
    }
   ],
   "source": [
    "twc = to_Cel(40)\n",
    "twc"
   ]
  },
  {
   "cell_type": "code",
   "execution_count": 101,
   "metadata": {},
   "outputs": [
    {
     "data": {
      "text/plain": [
       "101.52387402641381"
      ]
     },
     "execution_count": 101,
     "metadata": {},
     "output_type": "execute_result"
    }
   ],
   "source": [
    "kPa = inhg_to_kPa(29.98)\n",
    "kPa"
   ]
  },
  {
   "cell_type": "code",
   "execution_count": 105,
   "metadata": {},
   "outputs": [],
   "source": [
    "HR = Hum_rat(tc, twc, kPa)"
   ]
  },
  {
   "cell_type": "code",
   "execution_count": 110,
   "metadata": {},
   "outputs": [
    {
     "name": "stdout",
     "output_type": "stream",
     "text": [
      "0.4757561561172093\n"
     ]
    }
   ],
   "source": [
    "tdp = Dew_point(kPa, HR)"
   ]
  },
  {
   "cell_type": "code",
   "execution_count": 111,
   "metadata": {},
   "outputs": [
    {
     "data": {
      "text/plain": [
       "26.596039560377143"
      ]
     },
     "execution_count": 111,
     "metadata": {},
     "output_type": "execute_result"
    }
   ],
   "source": [
    "to_Fah(tdp)"
   ]
  },
  {
   "cell_type": "code",
   "execution_count": null,
   "metadata": {},
   "outputs": [],
   "source": []
  },
  {
   "cell_type": "code",
   "execution_count": 54,
   "metadata": {},
   "outputs": [],
   "source": [
    "tdew = Dew_point(kPa, W)"
   ]
  },
  {
   "cell_type": "code",
   "execution_count": 108,
   "metadata": {},
   "outputs": [
    {
     "data": {
      "text/plain": [
       "26.596039560377143"
      ]
     },
     "execution_count": 108,
     "metadata": {},
     "output_type": "execute_result"
    }
   ],
   "source": [
    "to_Fah(tdew)"
   ]
  },
  {
   "cell_type": "code",
   "execution_count": null,
   "metadata": {},
   "outputs": [],
   "source": []
  },
  {
   "cell_type": "code",
   "execution_count": null,
   "metadata": {},
   "outputs": [],
   "source": []
  },
  {
   "cell_type": "code",
   "execution_count": 59,
   "metadata": {},
   "outputs": [
    {
     "data": {
      "text/plain": [
       "9.444444444444445"
      ]
     },
     "execution_count": 59,
     "metadata": {},
     "output_type": "execute_result"
    }
   ],
   "source": [
    "tc = to_Cel(49)\n",
    "tc"
   ]
  },
  {
   "cell_type": "code",
   "execution_count": 60,
   "metadata": {},
   "outputs": [
    {
     "data": {
      "text/plain": [
       "-4.444444444444445"
      ]
     },
     "execution_count": 60,
     "metadata": {},
     "output_type": "execute_result"
    }
   ],
   "source": [
    "tdc = to_Cel(24)\n",
    "tdc"
   ]
  },
  {
   "cell_type": "code",
   "execution_count": 61,
   "metadata": {},
   "outputs": [
    {
     "data": {
      "text/plain": [
       "100.30477480528275"
      ]
     },
     "execution_count": 61,
     "metadata": {},
     "output_type": "execute_result"
    }
   ],
   "source": [
    "kPa = inhg_to_kPa(29.62)\n",
    "kPa"
   ]
  },
  {
   "cell_type": "code",
   "execution_count": 63,
   "metadata": {},
   "outputs": [
    {
     "data": {
      "text/plain": [
       "0.523674785634248"
      ]
     },
     "execution_count": 63,
     "metadata": {},
     "output_type": "execute_result"
    }
   ],
   "source": [
    "rh = Rel_Hu(tc, tdc)\n",
    "rh"
   ]
  },
  {
   "cell_type": "code",
   "execution_count": 65,
   "metadata": {},
   "outputs": [],
   "source": [
    "wet = Wet_bulb(tc, rh, kPa)"
   ]
  },
  {
   "cell_type": "code",
   "execution_count": 66,
   "metadata": {},
   "outputs": [
    {
     "data": {
      "text/plain": [
       "41.492095805484915"
      ]
     },
     "execution_count": 66,
     "metadata": {},
     "output_type": "execute_result"
    }
   ],
   "source": [
    "to_Fah(wet)"
   ]
  },
  {
   "cell_type": "code",
   "execution_count": null,
   "metadata": {},
   "outputs": [],
   "source": []
  }
 ],
 "metadata": {
  "kernelspec": {
   "display_name": "Python 3",
   "language": "python",
   "name": "python3"
  },
  "language_info": {
   "codemirror_mode": {
    "name": "ipython",
    "version": 3
   },
   "file_extension": ".py",
   "mimetype": "text/x-python",
   "name": "python",
   "nbconvert_exporter": "python",
   "pygments_lexer": "ipython3",
   "version": "3.6.2"
  }
 },
 "nbformat": 4,
 "nbformat_minor": 2
}
