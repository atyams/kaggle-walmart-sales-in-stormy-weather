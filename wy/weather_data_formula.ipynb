{
 "cells": [
  {
   "cell_type": "code",
   "execution_count": 1,
   "metadata": {},
   "outputs": [],
   "source": [
    "# convert inhg value of station pressure to PA\n",
    "def inhg_to_PA(inhg):\n",
    "    '''\n",
    "    The following functions receives pressure as PA value.\n",
    "    This function is to convert stationpressure in inches mercury to pasckal\n",
    "    https://www.metric-conversions.org/pressure/inches-of-mercury-to-pascals.htm\n",
    "    '''\n",
    "    result = inhg / 0.00029530\n",
    "    return result"
   ]
  },
  {
   "cell_type": "code",
   "execution_count": 5,
   "metadata": {},
   "outputs": [],
   "source": [
    "def rel_Hu(tavg, dewp):\n",
    "    '''\n",
    "    The following functions receives dry bulb temperature and dewpoint temperature in Fahrenheit\n",
    "    and calculate the relative humidity retio in order to utilize for other usage\n",
    "    '''\n",
    "    \n",
    "    # convert Fahrenheit to Celsius\n",
    "    tc = 5/9 * (tavg-32)\n",
    "    dewc = 5/9 * (dewp-32)\n",
    "    \n",
    "    # calculate saturation vapor pressure(sav) and actual vapor pressure(avp) in millibars.\n",
    "    svp = 6.11*10**(7.5*tc/(237.7+tc))\n",
    "    acp = 6.11*10**(7.5*dewc/(237.7+dewc))\n",
    "                    \n",
    "    # calculate Relative Humidity Ratio\n",
    "    rh = (acp/svp)\n",
    "                    \n",
    "    return rh"
   ]
  },
  {
   "cell_type": "code",
   "execution_count": 6,
   "metadata": {},
   "outputs": [
    {
     "data": {
      "text/plain": [
       "0.5133286671338524"
      ]
     },
     "execution_count": 6,
     "metadata": {},
     "output_type": "execute_result"
    }
   ],
   "source": [
    "rel_Hu(85, 65)"
   ]
  },
  {
   "cell_type": "code",
   "execution_count": null,
   "metadata": {},
   "outputs": [],
   "source": []
  }
 ],
 "metadata": {
  "kernelspec": {
   "display_name": "Python 3",
   "language": "python",
   "name": "python3"
  },
  "language_info": {
   "codemirror_mode": {
    "name": "ipython",
    "version": 3
   },
   "file_extension": ".py",
   "mimetype": "text/x-python",
   "name": "python",
   "nbconvert_exporter": "python",
   "pygments_lexer": "ipython3",
   "version": "3.6.2"
  }
 },
 "nbformat": 4,
 "nbformat_minor": 2
}
