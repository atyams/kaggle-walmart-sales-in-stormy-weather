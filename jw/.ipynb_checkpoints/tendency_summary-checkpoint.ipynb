{
 "cells": [
  {
   "cell_type": "markdown",
   "metadata": {},
   "source": [
    "# store별 tendency 느낌정리\n",
    "* {2, 3} 얘네는 거의 같음\n",
    "   > 상관관계가 높은 feature를 살피고 그게 다른 store에도 적용되는지 확인\n",
    "* {1, 5} 2014년만 다르고 나머지는 거의 같음\n",
    "   > 1번, 5번 store의 2014년 차이를 조사\n",
    "* {7} 2013, 2014 매출이 상반기를 제외하고 거의 같음\n",
    "   > 2012년과도 거의 경향이 같아서 이 때의 feature를 다른 store에도 적용해서 분석해보자\n",
    "* {4} 2014년 6월달 매출이 드라마틱하게 내려감\n",
    "   > 이 시점의 날씨를 분석하면 뭔가 나올듯"
   ]
  },
  {
   "cell_type": "markdown",
   "metadata": {},
   "source": [
    "# 또 느낀 점\n",
    "1. 월마트가 원하는 건 전체 45개 지점의 날씨와 관련한 예측이다\n",
    "2. 여기서 문제점, 전체지점을 통합해서 예측한다면 각 지점별 중요한 경향이 무시될 수도 있지 않을까?\n",
    "3. 제대로 하려면 각 지점에 대한 예측모델을 전부 따로 설정해야 맞지 않을까"
   ]
  },
  {
   "cell_type": "markdown",
   "metadata": {},
   "source": [
    "1. 스토어마다 비슷한 아이템이 많이 팔린 애들은 같은 지역일 확률이 높다\n",
    "2. 같은 지역이 아닌데도 스토어마다 비슷한 아이템이 많이 팔리면 그 때 날씨를 추적해서 각 지역간 날씨차이를 살펴본다\n",
    "3. 이 때 날씨에 따른 item_nbr를 분석한다\n",
    "3. 12달동안 비슷한 달이 많았던 지역"
   ]
  },
  {
   "cell_type": "markdown",
   "metadata": {},
   "source": [
    "----------"
   ]
  },
  {
   "cell_type": "markdown",
   "metadata": {},
   "source": [
    "1. Linear regression equation modeling\n",
    "$$ A*w = b$$\n",
    "    * A = M X N matrix that row = tuples, column = features\n",
    "    * w = N vector that weight for each feature\n",
    "    * b = M vector that label for desired 'units'"
   ]
  },
  {
   "cell_type": "code",
   "execution_count": null,
   "metadata": {},
   "outputs": [],
   "source": []
  }
 ],
 "metadata": {
  "kernelspec": {
   "display_name": "Python 3",
   "language": "python",
   "name": "python3"
  },
  "language_info": {
   "codemirror_mode": {
    "name": "ipython",
    "version": 3
   },
   "file_extension": ".py",
   "mimetype": "text/x-python",
   "name": "python",
   "nbconvert_exporter": "python",
   "pygments_lexer": "ipython3",
   "version": "3.6.3"
  }
 },
 "nbformat": 4,
 "nbformat_minor": 2
}
