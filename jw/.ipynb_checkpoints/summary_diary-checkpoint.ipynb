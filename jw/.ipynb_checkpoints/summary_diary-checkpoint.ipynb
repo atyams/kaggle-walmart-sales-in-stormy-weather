{
 "cells": [
  {
   "cell_type": "markdown",
   "metadata": {},
   "source": [
    "# store별 tendency 느낌정리\n",
    "* {2, 3} 얘네는 거의 같음\n",
    "   > 상관관계가 높은 feature를 살피고 그게 다른 store에도 적용되는지 확인\n",
    "* {1, 5} 2014년만 다르고 나머지는 거의 같음\n",
    "   > 1번, 5번 store의 2014년 차이를 조사\n",
    "* {7} 2013, 2014 매출이 상반기를 제외하고 거의 같음\n",
    "   > 2012년과도 거의 경향이 같아서 이 때의 feature를 다른 store에도 적용해서 분석해보자\n",
    "* {4} 2014년 6월달 매출이 드라마틱하게 내려감\n",
    "   > 이 시점의 날씨를 분석하면 뭔가 나올듯"
   ]
  },
  {
   "cell_type": "markdown",
   "metadata": {},
   "source": [
    "# 또 느낀 점\n",
    "1. 월마트가 원하는 건 전체 45개 지점의 날씨와 관련한 예측이다\n",
    "2. 여기서 문제점, 전체지점을 통합해서 예측한다면 각 지점별 중요한 경향이 무시될 수도 있지 않을까?\n",
    "3. 제대로 하려면 각 지점에 대한 예측모델을 전부 따로 설정해야 맞지 않을까"
   ]
  },
  {
   "cell_type": "markdown",
   "metadata": {},
   "source": [
    "1. 스토어마다 비슷한 아이템이 많이 팔린 애들은 같은 지역일 확률이 높다\n",
    "2. 같은 지역이 아닌데도 스토어마다 비슷한 아이템이 많이 팔리면 그 때 날씨를 추적해서 각 지역간 날씨차이를 살펴본다\n",
    "3. 이 때 날씨에 따른 item_nbr를 분석한다\n",
    "3. 12달동안 비슷한 달이 많았던 지역"
   ]
  },
  {
   "cell_type": "markdown",
   "metadata": {},
   "source": [
    "# 2018 2 14\n",
    "   * 7번 store를 파다가,\n",
    "        1. 2013년 7월에 95번 item이 출현\n",
    "        2. 2013년 3월에 93번 item이 없어짐\n",
    "        3. 얘네들을 기존의 codesum, 월단위로 item_nbr을 비교하는 함수로만 비교했는데,\n",
    "       > # codesum만 가지고 뭘 알아내긴 어렵다는 결론에 도달\n",
    "       > (천둥치고 비내리는 정도의 codesum은 거의 모든 연도,월에 비슷했음)\n",
    "       \n",
    "       > # 다른 weather feature를 고려해야 할 것 같다\n",
    "       \n",
    "   * 그리고 월단위로 item_nbr를 비교하니 정확히 어느 날짜에 무슨 일이 있었는지 알기가 힘듦\n",
    "       > 일단위로 item_nbr의 units를 비교해야 함 => __item_nbr_tendency_finely__ 함수작성\n",
    "       \n",
    "       > 특정 월의 모든 weather정보를 출력하는 __weather_tendency__ 함수작성   \n",
    "       \n",
    "   * ## wetbulb, tavg, BR은 강한 양의 상관관계를 보인다\n",
    "   \n",
    "   \n",
    "   * ## 7번 store 2017년 1월 93번 item, heating과 약한 음의 상관관계를 가지는 듯\n",
    "   \n",
    "   * ## 7번 store 2017년 1월 5번, 23번 item의 units이 양의 상관관계를 보인다\n",
    "       > 5번이 팔리면 23번도 팔림\n",
    "       \n",
    "   * jointplot으로 각 feature들 넣었는데 str 에러뜸\n",
    "       > 알고보니 겉으론 int인데 자료형이 object라 그랬던듯\n",
    "       \n",
    "       > astype(int)해주니 잘됨\n",
    "   \n",
    "   * 남은 것\n",
    "       1. weather_tendency 첫 행에 평균값을 가지는 mean row 추가 (vstack)"
   ]
  },
  {
   "cell_type": "markdown",
   "metadata": {},
   "source": [
    "# 2018 2 15\n",
    "   * 하나하나 파보는데 45개 store, 열두달에 대해서 언제 다하나 생각이 듦\n",
    "   * ## 하나하나 하지 말고 아예 모조리 구해버리자\n",
    "   * # 즉, 한 달을 기준으로 각 item_nbr와 weature feature에 대한 피어슨계수를 구하자\n",
    "   * # 상관관계를 정량적으로 표현했기 때문에 상관계수가 높은 애들의 특징만 추려보면 된다\n",
    "   * ## __get_correlation__함수에 구현해놨다\n",
    "   \n",
    "   * ## 더 해야할 것\n",
    "       1. 총 세가지를 구현해야 한다. (item_nbr | weather) (weather | weather) (item | item)\n",
    "       2. item_nbr | weather는 구현했고 나머지 둘만 더 하면된다\n",
    "       3. 나머지 둘은 왜하나? wetbulb, tavg, BR 등 날씨끼리, 품목끼리 상관관계가 있는 경우가 있기 때문이다"
   ]
  },
  {
   "cell_type": "markdown",
   "metadata": {},
   "source": [
    "----------"
   ]
  },
  {
   "cell_type": "markdown",
   "metadata": {},
   "source": [
    "1. Linear regression equation modeling\n",
    "$$ A*w = b$$\n",
    "    * A = M X N matrix that row = tuples, column = features\n",
    "    * w = N vector that weight for each feature\n",
    "    * b = M vector that label for desired 'units'"
   ]
  },
  {
   "cell_type": "code",
   "execution_count": null,
   "metadata": {},
   "outputs": [],
   "source": []
  }
 ],
 "metadata": {
  "kernelspec": {
   "display_name": "Python 3",
   "language": "python",
   "name": "python3"
  },
  "language_info": {
   "codemirror_mode": {
    "name": "ipython",
    "version": 3
   },
   "file_extension": ".py",
   "mimetype": "text/x-python",
   "name": "python",
   "nbconvert_exporter": "python",
   "pygments_lexer": "ipython3",
   "version": "3.6.3"
  }
 },
 "nbformat": 4,
 "nbformat_minor": 2
}
