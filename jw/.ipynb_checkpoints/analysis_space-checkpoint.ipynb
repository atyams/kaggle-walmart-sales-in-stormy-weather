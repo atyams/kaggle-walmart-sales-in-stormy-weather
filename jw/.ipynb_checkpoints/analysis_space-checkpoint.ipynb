{
 "cells": [
  {
   "cell_type": "code",
   "execution_count": 1,
   "metadata": {},
   "outputs": [],
   "source": [
    "from ml_config import *"
   ]
  },
  {
   "cell_type": "code",
   "execution_count": 2,
   "metadata": {},
   "outputs": [],
   "source": [
    "sample = pd.read_csv('../data/01. final_sample', index_col = 0)"
   ]
  },
  {
   "cell_type": "code",
   "execution_count": 3,
   "metadata": {},
   "outputs": [],
   "source": [
    "store_month = sample.pivot_table(index=['year','month'],columns='store_nbr',values='units',aggfunc=np.sum)"
   ]
  },
  {
   "cell_type": "code",
   "execution_count": 22,
   "metadata": {},
   "outputs": [],
   "source": [
    "sales = pd.read_csv('../data/train.csv', parse_dates=['date'])\n",
    "keys = pd.read_csv('../data/key.csv')\n",
    "weather = pd.read_csv('../data/weather.csv',parse_dates=['date'])\n",
    "df_1 = pd.merge(weather,keys)\n",
    "df_1 = pd.merge(df_1, sales)\n",
    "\n",
    "dates = df_1['date'].dt\n",
    "df_1['year'] = dates.year\n",
    "df_1['month'] = dates.month\n",
    "df_1['day'] = dates.day"
   ]
  },
  {
   "cell_type": "code",
   "execution_count": 23,
   "metadata": {},
   "outputs": [
    {
     "data": {
      "text/html": [
       "<div>\n",
       "<style>\n",
       "    .dataframe thead tr:only-child th {\n",
       "        text-align: right;\n",
       "    }\n",
       "\n",
       "    .dataframe thead th {\n",
       "        text-align: left;\n",
       "    }\n",
       "\n",
       "    .dataframe tbody tr th {\n",
       "        vertical-align: top;\n",
       "    }\n",
       "</style>\n",
       "<table border=\"1\" class=\"dataframe\">\n",
       "  <thead>\n",
       "    <tr style=\"text-align: right;\">\n",
       "      <th></th>\n",
       "      <th>station_nbr</th>\n",
       "      <th>date</th>\n",
       "      <th>tmax</th>\n",
       "      <th>tmin</th>\n",
       "      <th>tavg</th>\n",
       "      <th>depart</th>\n",
       "      <th>dewpoint</th>\n",
       "      <th>wetbulb</th>\n",
       "      <th>heat</th>\n",
       "      <th>cool</th>\n",
       "      <th>...</th>\n",
       "      <th>sealevel</th>\n",
       "      <th>resultspeed</th>\n",
       "      <th>resultdir</th>\n",
       "      <th>avgspeed</th>\n",
       "      <th>store_nbr</th>\n",
       "      <th>item_nbr</th>\n",
       "      <th>units</th>\n",
       "      <th>year</th>\n",
       "      <th>month</th>\n",
       "      <th>day</th>\n",
       "    </tr>\n",
       "  </thead>\n",
       "  <tbody>\n",
       "    <tr>\n",
       "      <th>0</th>\n",
       "      <td>1</td>\n",
       "      <td>2012-01-01</td>\n",
       "      <td>52</td>\n",
       "      <td>31</td>\n",
       "      <td>42</td>\n",
       "      <td>M</td>\n",
       "      <td>36</td>\n",
       "      <td>40</td>\n",
       "      <td>23</td>\n",
       "      <td>0</td>\n",
       "      <td>...</td>\n",
       "      <td>29.92</td>\n",
       "      <td>3.6</td>\n",
       "      <td>20</td>\n",
       "      <td>4.6</td>\n",
       "      <td>1</td>\n",
       "      <td>1</td>\n",
       "      <td>0</td>\n",
       "      <td>2012</td>\n",
       "      <td>1</td>\n",
       "      <td>1</td>\n",
       "    </tr>\n",
       "    <tr>\n",
       "      <th>1</th>\n",
       "      <td>1</td>\n",
       "      <td>2012-01-01</td>\n",
       "      <td>52</td>\n",
       "      <td>31</td>\n",
       "      <td>42</td>\n",
       "      <td>M</td>\n",
       "      <td>36</td>\n",
       "      <td>40</td>\n",
       "      <td>23</td>\n",
       "      <td>0</td>\n",
       "      <td>...</td>\n",
       "      <td>29.92</td>\n",
       "      <td>3.6</td>\n",
       "      <td>20</td>\n",
       "      <td>4.6</td>\n",
       "      <td>1</td>\n",
       "      <td>2</td>\n",
       "      <td>0</td>\n",
       "      <td>2012</td>\n",
       "      <td>1</td>\n",
       "      <td>1</td>\n",
       "    </tr>\n",
       "    <tr>\n",
       "      <th>2</th>\n",
       "      <td>1</td>\n",
       "      <td>2012-01-01</td>\n",
       "      <td>52</td>\n",
       "      <td>31</td>\n",
       "      <td>42</td>\n",
       "      <td>M</td>\n",
       "      <td>36</td>\n",
       "      <td>40</td>\n",
       "      <td>23</td>\n",
       "      <td>0</td>\n",
       "      <td>...</td>\n",
       "      <td>29.92</td>\n",
       "      <td>3.6</td>\n",
       "      <td>20</td>\n",
       "      <td>4.6</td>\n",
       "      <td>1</td>\n",
       "      <td>3</td>\n",
       "      <td>0</td>\n",
       "      <td>2012</td>\n",
       "      <td>1</td>\n",
       "      <td>1</td>\n",
       "    </tr>\n",
       "    <tr>\n",
       "      <th>3</th>\n",
       "      <td>1</td>\n",
       "      <td>2012-01-01</td>\n",
       "      <td>52</td>\n",
       "      <td>31</td>\n",
       "      <td>42</td>\n",
       "      <td>M</td>\n",
       "      <td>36</td>\n",
       "      <td>40</td>\n",
       "      <td>23</td>\n",
       "      <td>0</td>\n",
       "      <td>...</td>\n",
       "      <td>29.92</td>\n",
       "      <td>3.6</td>\n",
       "      <td>20</td>\n",
       "      <td>4.6</td>\n",
       "      <td>1</td>\n",
       "      <td>4</td>\n",
       "      <td>0</td>\n",
       "      <td>2012</td>\n",
       "      <td>1</td>\n",
       "      <td>1</td>\n",
       "    </tr>\n",
       "    <tr>\n",
       "      <th>4</th>\n",
       "      <td>1</td>\n",
       "      <td>2012-01-01</td>\n",
       "      <td>52</td>\n",
       "      <td>31</td>\n",
       "      <td>42</td>\n",
       "      <td>M</td>\n",
       "      <td>36</td>\n",
       "      <td>40</td>\n",
       "      <td>23</td>\n",
       "      <td>0</td>\n",
       "      <td>...</td>\n",
       "      <td>29.92</td>\n",
       "      <td>3.6</td>\n",
       "      <td>20</td>\n",
       "      <td>4.6</td>\n",
       "      <td>1</td>\n",
       "      <td>5</td>\n",
       "      <td>0</td>\n",
       "      <td>2012</td>\n",
       "      <td>1</td>\n",
       "      <td>1</td>\n",
       "    </tr>\n",
       "  </tbody>\n",
       "</table>\n",
       "<p>5 rows × 26 columns</p>\n",
       "</div>"
      ],
      "text/plain": [
       "   station_nbr       date tmax tmin tavg depart dewpoint wetbulb heat cool  \\\n",
       "0            1 2012-01-01   52   31   42      M       36      40   23    0   \n",
       "1            1 2012-01-01   52   31   42      M       36      40   23    0   \n",
       "2            1 2012-01-01   52   31   42      M       36      40   23    0   \n",
       "3            1 2012-01-01   52   31   42      M       36      40   23    0   \n",
       "4            1 2012-01-01   52   31   42      M       36      40   23    0   \n",
       "\n",
       "  ... sealevel resultspeed resultdir avgspeed store_nbr item_nbr units  year  \\\n",
       "0 ...    29.92         3.6        20      4.6         1        1     0  2012   \n",
       "1 ...    29.92         3.6        20      4.6         1        2     0  2012   \n",
       "2 ...    29.92         3.6        20      4.6         1        3     0  2012   \n",
       "3 ...    29.92         3.6        20      4.6         1        4     0  2012   \n",
       "4 ...    29.92         3.6        20      4.6         1        5     0  2012   \n",
       "\n",
       "  month day  \n",
       "0     1   1  \n",
       "1     1   1  \n",
       "2     1   1  \n",
       "3     1   1  \n",
       "4     1   1  \n",
       "\n",
       "[5 rows x 26 columns]"
      ]
     },
     "execution_count": 23,
     "metadata": {},
     "output_type": "execute_result"
    }
   ],
   "source": [
    "df_1.head()"
   ]
  },
  {
   "cell_type": "code",
   "execution_count": 36,
   "metadata": {},
   "outputs": [],
   "source": [
    "# 7번 가게의 13, 14년도 5월에서 9월까지가 비슷함\n",
    "store_7 = df_1[df_1['store_nbr']==7]"
   ]
  },
  {
   "cell_type": "code",
   "execution_count": 27,
   "metadata": {},
   "outputs": [
    {
     "data": {
      "text/plain": [
       "array([ 7, 13], dtype=int64)"
      ]
     },
     "execution_count": 27,
     "metadata": {},
     "output_type": "execute_result"
    }
   ],
   "source": [
    "station_6 = df_1[df_1['station_nbr']==6]\n",
    "station_6['store_nbr'].unique()\n",
    "# 6번 관측소는 7번, 13번 지점을 관리한다"
   ]
  },
  {
   "cell_type": "code",
   "execution_count": 45,
   "metadata": {},
   "outputs": [
    {
     "data": {
      "text/plain": [
       "(array([ 5,  7, 23, 93, 95], dtype=int64),\n",
       " array([  5,  36,  93, 104], dtype=int64))"
      ]
     },
     "execution_count": 45,
     "metadata": {},
     "output_type": "execute_result"
    }
   ],
   "source": [
    "# 7번 13번 지점의 2013년, 2014년 units그래프가 비슷하다\n",
    "# 다만 7번은 13,14년과 12년 그래프가 붙어있는 반면\n",
    "# 13번은 13,14년과 12년 그래프가 떨어져있다\n",
    "# 일단 item_nbr로 13, 14년도에 뭐가 팔렸는지 조사함\n",
    "store_13 = df_1[df_1['store_nbr']==13]\n",
    "\n",
    "# store_7 = store_7[store_7['units']!=0]\n",
    "# store_7 = store_7[(store_7['year']==2013) | (store_7['year']==2014)]\n",
    "\n",
    "store_7 = store_7[(store_7['year']==2013) | (store_7['year']==2014)]\n",
    "store_7 = store_7[store_7['units']!=0]\n",
    "\n",
    "store_13 = store_13[(store_13['year']==2013) | (store_13['year']==2013)]\n",
    "store_13 = store_13[store_13['units']!=0]\n",
    "\n",
    "store_7['item_nbr'].unique(), store_13['item_nbr'].unique()"
   ]
  },
  {
   "cell_type": "markdown",
   "metadata": {},
   "source": [
    "# 13, 14년도\n",
    "# 7번, 13번 가게에서\n",
    "# 5번, 93번 아이템이 동시에 팔림"
   ]
  },
  {
   "cell_type": "code",
   "execution_count": null,
   "metadata": {},
   "outputs": [],
   "source": [
    "store_7_2013\n",
    "store_7_2014\n",
    "\n",
    "store_13_2013\n",
    "store_13_2014"
   ]
  }
 ],
 "metadata": {
  "kernelspec": {
   "display_name": "Python 3",
   "language": "python",
   "name": "python3"
  },
  "language_info": {
   "codemirror_mode": {
    "name": "ipython",
    "version": 3
   },
   "file_extension": ".py",
   "mimetype": "text/x-python",
   "name": "python",
   "nbconvert_exporter": "python",
   "pygments_lexer": "ipython3",
   "version": "3.6.3"
  }
 },
 "nbformat": 4,
 "nbformat_minor": 2
}
