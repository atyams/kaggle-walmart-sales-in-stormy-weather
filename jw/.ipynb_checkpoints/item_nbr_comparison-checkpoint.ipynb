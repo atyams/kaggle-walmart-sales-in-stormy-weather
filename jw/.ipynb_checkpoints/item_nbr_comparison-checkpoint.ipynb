{
 "cells": [
  {
   "cell_type": "code",
   "execution_count": 1,
   "metadata": {},
   "outputs": [],
   "source": [
    "from ml_config import *"
   ]
  },
  {
   "cell_type": "code",
   "execution_count": 8,
   "metadata": {},
   "outputs": [],
   "source": [
    "sales = pd.read_csv('../data/train.csv', parse_dates=['date'])\n",
    "keys = pd.read_csv('../data/key.csv')\n",
    "weather = pd.read_csv('../data/weather.csv',parse_dates=['date'])\n",
    "df_1 = pd.merge(weather,keys)\n",
    "df_1 = pd.merge(df_1, sales)\n",
    "\n",
    "dates = df_1['date'].dt\n",
    "df_1['year'] = dates.year\n",
    "df_1['month'] = dates.month\n",
    "df_1['day'] = dates.day"
   ]
  },
  {
   "cell_type": "code",
   "execution_count": 9,
   "metadata": {},
   "outputs": [],
   "source": [
    "def find_store(station_nbr):\n",
    "    '''\n",
    "    input : station_nbr\n",
    "    output : store_nbrs dependent to station_nbr\n",
    "    '''\n",
    "    \n",
    "    station = df_1[df_1['station_nbr']==station_nbr]\n",
    "    return station['store_nbr'].unique()"
   ]
  },
  {
   "cell_type": "code",
   "execution_count": 10,
   "metadata": {},
   "outputs": [],
   "source": [
    "def item_nbr_tendency(store_nbr):\n",
    "    '''\n",
    "    input : store_nbr\n",
    "    output : item_nbr heatmap for each year\n",
    "    '''\n",
    "    \n",
    "    store = df_1[df_1['store_nbr'] == store_nbr]\n",
    "\n",
    "    store = store[store['units'] != 0]\n",
    "\n",
    "    store_2012 = store[store['year'] == 2012]\n",
    "    store_2013 = store[store['year'] == 2013]\n",
    "    store_2014 = store[store['year'] == 2014]\n",
    "\n",
    "    pivot_2012 = store_2012.pivot_table(index=['month'], columns=['item_nbr'],values='units').fillna(value=0).astype(int)\n",
    "    pivot_2013 = store_2013.pivot_table(index=['month'], columns=['item_nbr'],values='units').fillna(value=0).astype(int)\n",
    "    pivot_2014 = store_2014.pivot_table(index=['month'], columns=['item_nbr'],values='units').fillna(value=0).astype(int)\n",
    "    \n",
    "    plt.figure(figsize=(12,8))\n",
    "    plt.subplot(131)\n",
    "    sns.heatmap(pivot_2012,cmap=\"YlGnBu\", annot = True, fmt = '.0f')\n",
    "    plt.subplot(132)\n",
    "    sns.heatmap(pivot_2013,cmap=\"YlGnBu\", annot = True, fmt = '.0f')\n",
    "    plt.subplot(133)\n",
    "    sns.heatmap(pivot_2014,cmap=\"YlGnBu\", annot = True, fmt = '.0f')\n",
    "    plt.show()"
   ]
  },
  {
   "cell_type": "code",
   "execution_count": null,
   "metadata": {},
   "outputs": [],
   "source": []
  }
 ],
 "metadata": {
  "kernelspec": {
   "display_name": "Python 3",
   "language": "python",
   "name": "python3"
  },
  "language_info": {
   "codemirror_mode": {
    "name": "ipython",
    "version": 3
   },
   "file_extension": ".py",
   "mimetype": "text/x-python",
   "name": "python",
   "nbconvert_exporter": "python",
   "pygments_lexer": "ipython3",
   "version": "3.6.3"
  }
 },
 "nbformat": 4,
 "nbformat_minor": 2
}
