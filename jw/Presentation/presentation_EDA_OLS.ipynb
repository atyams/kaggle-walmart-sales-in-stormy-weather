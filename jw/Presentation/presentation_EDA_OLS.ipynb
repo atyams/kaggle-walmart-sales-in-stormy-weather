{
 "cells": [
  {
   "cell_type": "code",
   "execution_count": 2,
   "metadata": {},
   "outputs": [
    {
     "name": "stdout",
     "output_type": "stream",
     "text": [
      "import configuration completed !\n",
      "train + key + weather merging started\n",
      "train + key + weather merging finished\n",
      "function configuration completed ! \n",
      "Good to go !\n"
     ]
    }
   ],
   "source": [
    "from jw_package import *"
   ]
  },
  {
   "cell_type": "markdown",
   "metadata": {},
   "source": [
    "1. 본격적으로 회귀를 시작하기 앞서, 우리가 가지고 있는 데이터에 대해 EDA를 했음\n",
    "2. "
   ]
  }
 ],
 "metadata": {
  "kernelspec": {
   "display_name": "Python 3",
   "language": "python",
   "name": "python3"
  },
  "language_info": {
   "codemirror_mode": {
    "name": "ipython",
    "version": 3
   },
   "file_extension": ".py",
   "mimetype": "text/x-python",
   "name": "python",
   "nbconvert_exporter": "python",
   "pygments_lexer": "ipython3",
   "version": "3.6.3"
  }
 },
 "nbformat": 4,
 "nbformat_minor": 2
}
