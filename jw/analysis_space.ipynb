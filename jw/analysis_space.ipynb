{
 "cells": [
  {
   "cell_type": "code",
   "execution_count": 1,
   "metadata": {},
   "outputs": [],
   "source": [
    "from ml_config import *"
   ]
  },
  {
   "cell_type": "code",
   "execution_count": 2,
   "metadata": {},
   "outputs": [],
   "source": [
    "sample = pd.read_csv('../data/01. final_sample', index_col = 0)"
   ]
  },
  {
   "cell_type": "code",
   "execution_count": 3,
   "metadata": {},
   "outputs": [],
   "source": [
    "store_month = sample.pivot_table(index=['year','month'],columns='store_nbr',values='units',aggfunc=np.sum)"
   ]
  },
  {
   "cell_type": "code",
   "execution_count": 4,
   "metadata": {},
   "outputs": [],
   "source": [
    "sales = pd.read_csv('../data/train.csv', parse_dates=['date'])\n",
    "keys = pd.read_csv('../data/key.csv')\n",
    "weather = pd.read_csv('../data/weather.csv', parse_dates=['date'])\n",
    "df_1 = pd.merge(weather, keys)\n",
    "df_1 = pd.merge(df_1, sales)\n",
    "\n",
    "dates = df_1['date'].dt\n",
    "df_1['year'] = dates.year\n",
    "df_1['month'] = dates.month\n",
    "df_1['day'] = dates.day"
   ]
  },
  {
   "cell_type": "code",
   "execution_count": 5,
   "metadata": {},
   "outputs": [],
   "source": [
    "def find_store(station_nbr):\n",
    "    '''\n",
    "    input : station_nbr\n",
    "    output : store_nbrs dependent to station_nbr\n",
    "    '''\n",
    "    \n",
    "    station = df_1[df_1['station_nbr']==station_nbr]\n",
    "    return station['store_nbr'].unique()"
   ]
  },
  {
   "cell_type": "code",
   "execution_count": 6,
   "metadata": {},
   "outputs": [],
   "source": [
    "def item_nbr_tendency(store_nbr):\n",
    "    '''\n",
    "    input : store_nbr\n",
    "    output : item_nbr heatmap for each year\n",
    "    '''\n",
    "    \n",
    "    store = df_1[df_1['store_nbr'] == store_nbr]\n",
    "\n",
    "    store = store[store['units'] != 0]\n",
    "\n",
    "    store_2012 = store[store['year'] == 2012]\n",
    "    store_2013 = store[store['year'] == 2013]\n",
    "    store_2014 = store[store['year'] == 2014]\n",
    "\n",
    "    pivot_2012 = store_2012.pivot_table(index=['month'], columns=['item_nbr'],values='units').fillna(value=0).astype(int)\n",
    "    pivot_2013 = store_2013.pivot_table(index=['month'], columns=['item_nbr'],values='units').fillna(value=0).astype(int)\n",
    "    pivot_2014 = store_2014.pivot_table(index=['month'], columns=['item_nbr'],values='units').fillna(value=0).astype(int)\n",
    "    \n",
    "    plt.figure(figsize=(12,8))\n",
    "    plt.subplot(131)\n",
    "    sns.heatmap(pivot_2012,cmap=\"YlGnBu\", annot = True, fmt = '.0f')\n",
    "    plt.subplot(132)\n",
    "    sns.heatmap(pivot_2013,cmap=\"YlGnBu\", annot = True, fmt = '.0f')\n",
    "    plt.subplot(133)\n",
    "    sns.heatmap(pivot_2014,cmap=\"YlGnBu\", annot = True, fmt = '.0f')\n",
    "    plt.show()"
   ]
  },
  {
   "cell_type": "code",
   "execution_count": 7,
   "metadata": {},
   "outputs": [
    {
     "data": {
      "text/html": [
       "<div>\n",
       "<style>\n",
       "    .dataframe thead tr:only-child th {\n",
       "        text-align: right;\n",
       "    }\n",
       "\n",
       "    .dataframe thead th {\n",
       "        text-align: left;\n",
       "    }\n",
       "\n",
       "    .dataframe tbody tr th {\n",
       "        vertical-align: top;\n",
       "    }\n",
       "</style>\n",
       "<table border=\"1\" class=\"dataframe\">\n",
       "  <thead>\n",
       "    <tr style=\"text-align: right;\">\n",
       "      <th></th>\n",
       "      <th>station_nbr</th>\n",
       "      <th>date</th>\n",
       "      <th>tmax</th>\n",
       "      <th>tmin</th>\n",
       "      <th>tavg</th>\n",
       "      <th>depart</th>\n",
       "      <th>dewpoint</th>\n",
       "      <th>wetbulb</th>\n",
       "      <th>heat</th>\n",
       "      <th>cool</th>\n",
       "      <th>...</th>\n",
       "      <th>sealevel</th>\n",
       "      <th>resultspeed</th>\n",
       "      <th>resultdir</th>\n",
       "      <th>avgspeed</th>\n",
       "      <th>store_nbr</th>\n",
       "      <th>item_nbr</th>\n",
       "      <th>units</th>\n",
       "      <th>year</th>\n",
       "      <th>month</th>\n",
       "      <th>day</th>\n",
       "    </tr>\n",
       "  </thead>\n",
       "  <tbody>\n",
       "    <tr>\n",
       "      <th>0</th>\n",
       "      <td>1</td>\n",
       "      <td>2012-01-01</td>\n",
       "      <td>52</td>\n",
       "      <td>31</td>\n",
       "      <td>42</td>\n",
       "      <td>M</td>\n",
       "      <td>36</td>\n",
       "      <td>40</td>\n",
       "      <td>23</td>\n",
       "      <td>0</td>\n",
       "      <td>...</td>\n",
       "      <td>29.92</td>\n",
       "      <td>3.6</td>\n",
       "      <td>20</td>\n",
       "      <td>4.6</td>\n",
       "      <td>1</td>\n",
       "      <td>1</td>\n",
       "      <td>0</td>\n",
       "      <td>2012</td>\n",
       "      <td>1</td>\n",
       "      <td>1</td>\n",
       "    </tr>\n",
       "    <tr>\n",
       "      <th>1</th>\n",
       "      <td>1</td>\n",
       "      <td>2012-01-01</td>\n",
       "      <td>52</td>\n",
       "      <td>31</td>\n",
       "      <td>42</td>\n",
       "      <td>M</td>\n",
       "      <td>36</td>\n",
       "      <td>40</td>\n",
       "      <td>23</td>\n",
       "      <td>0</td>\n",
       "      <td>...</td>\n",
       "      <td>29.92</td>\n",
       "      <td>3.6</td>\n",
       "      <td>20</td>\n",
       "      <td>4.6</td>\n",
       "      <td>1</td>\n",
       "      <td>2</td>\n",
       "      <td>0</td>\n",
       "      <td>2012</td>\n",
       "      <td>1</td>\n",
       "      <td>1</td>\n",
       "    </tr>\n",
       "    <tr>\n",
       "      <th>2</th>\n",
       "      <td>1</td>\n",
       "      <td>2012-01-01</td>\n",
       "      <td>52</td>\n",
       "      <td>31</td>\n",
       "      <td>42</td>\n",
       "      <td>M</td>\n",
       "      <td>36</td>\n",
       "      <td>40</td>\n",
       "      <td>23</td>\n",
       "      <td>0</td>\n",
       "      <td>...</td>\n",
       "      <td>29.92</td>\n",
       "      <td>3.6</td>\n",
       "      <td>20</td>\n",
       "      <td>4.6</td>\n",
       "      <td>1</td>\n",
       "      <td>3</td>\n",
       "      <td>0</td>\n",
       "      <td>2012</td>\n",
       "      <td>1</td>\n",
       "      <td>1</td>\n",
       "    </tr>\n",
       "    <tr>\n",
       "      <th>3</th>\n",
       "      <td>1</td>\n",
       "      <td>2012-01-01</td>\n",
       "      <td>52</td>\n",
       "      <td>31</td>\n",
       "      <td>42</td>\n",
       "      <td>M</td>\n",
       "      <td>36</td>\n",
       "      <td>40</td>\n",
       "      <td>23</td>\n",
       "      <td>0</td>\n",
       "      <td>...</td>\n",
       "      <td>29.92</td>\n",
       "      <td>3.6</td>\n",
       "      <td>20</td>\n",
       "      <td>4.6</td>\n",
       "      <td>1</td>\n",
       "      <td>4</td>\n",
       "      <td>0</td>\n",
       "      <td>2012</td>\n",
       "      <td>1</td>\n",
       "      <td>1</td>\n",
       "    </tr>\n",
       "    <tr>\n",
       "      <th>4</th>\n",
       "      <td>1</td>\n",
       "      <td>2012-01-01</td>\n",
       "      <td>52</td>\n",
       "      <td>31</td>\n",
       "      <td>42</td>\n",
       "      <td>M</td>\n",
       "      <td>36</td>\n",
       "      <td>40</td>\n",
       "      <td>23</td>\n",
       "      <td>0</td>\n",
       "      <td>...</td>\n",
       "      <td>29.92</td>\n",
       "      <td>3.6</td>\n",
       "      <td>20</td>\n",
       "      <td>4.6</td>\n",
       "      <td>1</td>\n",
       "      <td>5</td>\n",
       "      <td>0</td>\n",
       "      <td>2012</td>\n",
       "      <td>1</td>\n",
       "      <td>1</td>\n",
       "    </tr>\n",
       "  </tbody>\n",
       "</table>\n",
       "<p>5 rows × 26 columns</p>\n",
       "</div>"
      ],
      "text/plain": [
       "   station_nbr       date tmax tmin tavg depart dewpoint wetbulb heat cool  \\\n",
       "0            1 2012-01-01   52   31   42      M       36      40   23    0   \n",
       "1            1 2012-01-01   52   31   42      M       36      40   23    0   \n",
       "2            1 2012-01-01   52   31   42      M       36      40   23    0   \n",
       "3            1 2012-01-01   52   31   42      M       36      40   23    0   \n",
       "4            1 2012-01-01   52   31   42      M       36      40   23    0   \n",
       "\n",
       "  ... sealevel resultspeed resultdir avgspeed store_nbr item_nbr units  year  \\\n",
       "0 ...    29.92         3.6        20      4.6         1        1     0  2012   \n",
       "1 ...    29.92         3.6        20      4.6         1        2     0  2012   \n",
       "2 ...    29.92         3.6        20      4.6         1        3     0  2012   \n",
       "3 ...    29.92         3.6        20      4.6         1        4     0  2012   \n",
       "4 ...    29.92         3.6        20      4.6         1        5     0  2012   \n",
       "\n",
       "  month day  \n",
       "0     1   1  \n",
       "1     1   1  \n",
       "2     1   1  \n",
       "3     1   1  \n",
       "4     1   1  \n",
       "\n",
       "[5 rows x 26 columns]"
      ]
     },
     "execution_count": 7,
     "metadata": {},
     "output_type": "execute_result"
    }
   ],
   "source": [
    "df_1.head()"
   ]
  },
  {
   "cell_type": "code",
   "execution_count": 8,
   "metadata": {},
   "outputs": [],
   "source": [
    "# 7번 가게의 13, 14년도 5월에서 9월까지가 비슷함\n",
    "store_7 = df_1[df_1['store_nbr']==7]"
   ]
  },
  {
   "cell_type": "code",
   "execution_count": 9,
   "metadata": {},
   "outputs": [
    {
     "data": {
      "text/plain": [
       "array([ 7, 13], dtype=int64)"
      ]
     },
     "execution_count": 9,
     "metadata": {},
     "output_type": "execute_result"
    }
   ],
   "source": [
    "station_6 = df_1[df_1['station_nbr'] == 6]\n",
    "station_6['store_nbr'].unique()\n",
    "# 6번 관측소는 7번, 13번 지점을 관리한다"
   ]
  },
  {
   "cell_type": "code",
   "execution_count": 10,
   "metadata": {},
   "outputs": [
    {
     "data": {
      "text/plain": [
       "(array([ 5,  7, 23, 93, 95], dtype=int64),\n",
       " array([  5,  36,  93, 104], dtype=int64))"
      ]
     },
     "execution_count": 10,
     "metadata": {},
     "output_type": "execute_result"
    }
   ],
   "source": [
    "# 7번 13번 지점의 2013년, 2014년 units그래프가 비슷하다\n",
    "# 다만 7번은 13,14년과 12년 그래프가 붙어있는 반면\n",
    "# 13번은 13,14년과 12년 그래프가 떨어져있다\n",
    "# 일단 item_nbr로 13, 14년도에 뭐가 팔렸는지 조사함\n",
    "store_13 = df_1[df_1['store_nbr'] == 13]\n",
    "\n",
    "# store_7 = store_7[store_7['units']!=0]\n",
    "# store_7 = store_7[(store_7['year']==2013) | (store_7['year']==2014)]\n",
    "\n",
    "store_7 = store_7[(store_7['year'] == 2013) | (store_7['year'] == 2014)]\n",
    "store_7 = store_7[store_7['units'] != 0]\n",
    "\n",
    "store_13 = store_13[(store_13['year'] == 2013) | (store_13['year'] == 2013)]\n",
    "store_13 = store_13[store_13['units'] != 0]\n",
    "\n",
    "store_7['item_nbr'].unique(), store_13['item_nbr'].unique()"
   ]
  },
  {
   "cell_type": "markdown",
   "metadata": {},
   "source": [
    "# 13, 14년도\n",
    "# 7번, 13번 가게에서\n",
    "# 5번, 93번 아이템이 동시에 팔림"
   ]
  },
  {
   "cell_type": "code",
   "execution_count": 11,
   "metadata": {},
   "outputs": [],
   "source": [
    "final_sample = pd.read_csv('../data/01. final_sample')\n",
    "trimmed = final_sample.iloc[:, 1:]\n",
    "store_7 = trimmed[trimmed['store_nbr'] == 7].reset_index(drop=True)\n",
    "\n",
    "a = store_7[(store_7['year'] == 2013) & (\n",
    "    5 <= store_7['month']) & (store_7['month'] <= 9)]\n",
    "b = store_7[(store_7['year'] == 2014) & (\n",
    "    5 <= store_7['month']) & (store_7['month'] <= 9)]"
   ]
  },
  {
   "cell_type": "code",
   "execution_count": 12,
   "metadata": {},
   "outputs": [
    {
     "data": {
      "text/html": [
       "<div>\n",
       "<style>\n",
       "    .dataframe thead tr:only-child th {\n",
       "        text-align: right;\n",
       "    }\n",
       "\n",
       "    .dataframe thead th {\n",
       "        text-align: left;\n",
       "    }\n",
       "\n",
       "    .dataframe tbody tr th {\n",
       "        vertical-align: top;\n",
       "    }\n",
       "</style>\n",
       "<table border=\"1\" class=\"dataframe\">\n",
       "  <thead>\n",
       "    <tr style=\"text-align: right;\">\n",
       "      <th></th>\n",
       "      <th>year</th>\n",
       "      <th>month</th>\n",
       "      <th>day</th>\n",
       "      <th>store_nbr</th>\n",
       "      <th>station_nbr</th>\n",
       "      <th>codesum</th>\n",
       "      <th>units</th>\n",
       "    </tr>\n",
       "  </thead>\n",
       "  <tbody>\n",
       "    <tr>\n",
       "      <th>475</th>\n",
       "      <td>2013</td>\n",
       "      <td>5</td>\n",
       "      <td>3</td>\n",
       "      <td>7</td>\n",
       "      <td>6</td>\n",
       "      <td></td>\n",
       "      <td>87</td>\n",
       "    </tr>\n",
       "    <tr>\n",
       "      <th>476</th>\n",
       "      <td>2013</td>\n",
       "      <td>5</td>\n",
       "      <td>4</td>\n",
       "      <td>7</td>\n",
       "      <td>6</td>\n",
       "      <td></td>\n",
       "      <td>64</td>\n",
       "    </tr>\n",
       "    <tr>\n",
       "      <th>477</th>\n",
       "      <td>2013</td>\n",
       "      <td>5</td>\n",
       "      <td>5</td>\n",
       "      <td>7</td>\n",
       "      <td>6</td>\n",
       "      <td></td>\n",
       "      <td>142</td>\n",
       "    </tr>\n",
       "    <tr>\n",
       "      <th>478</th>\n",
       "      <td>2013</td>\n",
       "      <td>5</td>\n",
       "      <td>6</td>\n",
       "      <td>7</td>\n",
       "      <td>6</td>\n",
       "      <td>RA</td>\n",
       "      <td>151</td>\n",
       "    </tr>\n",
       "    <tr>\n",
       "      <th>479</th>\n",
       "      <td>2013</td>\n",
       "      <td>5</td>\n",
       "      <td>14</td>\n",
       "      <td>7</td>\n",
       "      <td>6</td>\n",
       "      <td>BR</td>\n",
       "      <td>107</td>\n",
       "    </tr>\n",
       "  </tbody>\n",
       "</table>\n",
       "</div>"
      ],
      "text/plain": [
       "     year  month  day  store_nbr  station_nbr codesum  units\n",
       "475  2013      5    3          7            6             87\n",
       "476  2013      5    4          7            6             64\n",
       "477  2013      5    5          7            6            142\n",
       "478  2013      5    6          7            6      RA    151\n",
       "479  2013      5   14          7            6      BR    107"
      ]
     },
     "execution_count": 12,
     "metadata": {},
     "output_type": "execute_result"
    }
   ],
   "source": [
    "a.head()"
   ]
  },
  {
   "cell_type": "markdown",
   "metadata": {},
   "source": [
    "1. x = day\n",
    "2. y = units\n",
    "3. hue = codesum"
   ]
  },
  {
   "cell_type": "code",
   "execution_count": 13,
   "metadata": {},
   "outputs": [
    {
     "data": {
      "image/png": "[encoded data removed]",
      "text/plain": [
       "<matplotlib.figure.Figure at 0x1f4cb453898>"
      ]
     },
     "metadata": {},
     "output_type": "display_data"
    }
   ],
   "source": [
    "item_nbr_tendency(7)"
   ]
  },
  {
   "cell_type": "code",
   "execution_count": 15,
   "metadata": {},
   "outputs": [],
   "source": [
    "store_7 = df_1[df_1['store_nbr']==7]"
   ]
  },
  {
   "cell_type": "code",
   "execution_count": 34,
   "metadata": {},
   "outputs": [],
   "source": [
    "def show_codesum(store_nbr, year, month):\n",
    "    final_sample = pd.read_csv('../data/01. final_sample')\n",
    "    trimmed = final_sample.iloc[:, 1:]\n",
    "\n",
    "    return trimmed[(trimmed['year'] == year) & (trimmed['store_nbr'] == store_nbr) & (trimmed['month'] == month)]"
   ]
  },
  {
   "cell_type": "code",
   "execution_count": 80,
   "metadata": {},
   "outputs": [
    {
     "data": {
      "text/html": [
       "<div>\n",
       "<style>\n",
       "    .dataframe thead tr:only-child th {\n",
       "        text-align: right;\n",
       "    }\n",
       "\n",
       "    .dataframe thead th {\n",
       "        text-align: left;\n",
       "    }\n",
       "\n",
       "    .dataframe tbody tr th {\n",
       "        vertical-align: top;\n",
       "    }\n",
       "</style>\n",
       "<table border=\"1\" class=\"dataframe\">\n",
       "  <thead>\n",
       "    <tr style=\"text-align: right;\">\n",
       "      <th>item_nbr</th>\n",
       "      <th>5</th>\n",
       "      <th>7</th>\n",
       "      <th>23</th>\n",
       "      <th>93</th>\n",
       "    </tr>\n",
       "    <tr>\n",
       "      <th>month</th>\n",
       "      <th></th>\n",
       "      <th></th>\n",
       "      <th></th>\n",
       "      <th></th>\n",
       "    </tr>\n",
       "  </thead>\n",
       "  <tbody>\n",
       "    <tr>\n",
       "      <th>1</th>\n",
       "      <td>3531</td>\n",
       "      <td>61</td>\n",
       "      <td>621</td>\n",
       "      <td>22</td>\n",
       "    </tr>\n",
       "  </tbody>\n",
       "</table>\n",
       "</div>"
      ],
      "text/plain": [
       "item_nbr    5   7    23  93\n",
       "month                      \n",
       "1         3531  61  621  22"
      ]
     },
     "execution_count": 80,
     "metadata": {},
     "output_type": "execute_result"
    }
   ],
   "source": [
    "df_1 = df_1[df_1['store_nbr']==7]\n",
    "df_1 = df_1[df_1['year']==2012]\n",
    "df_1 = df_1[df_1['month']==1]\n",
    "\n",
    "tmp = df_1.pivot_table(index='month', columns='item_nbr',values='units',aggfunc=np.sum)\n",
    "a = tmp[tmp!=0].dropna(axis=1)\n",
    "a"
   ]
  },
  {
   "cell_type": "code",
   "execution_count": 74,
   "metadata": {},
   "outputs": [
    {
     "data": {
      "text/plain": [
       "4235"
      ]
     },
     "execution_count": 74,
     "metadata": {},
     "output_type": "execute_result"
    }
   ],
   "source": [
    "trimmed = trimmed[trimmed['year']==2012]\n",
    "trimmed = trimmed[trimmed['month']==1]\n",
    "trimmed = trimmed[trimmed['store_nbr']==7]\n",
    "sum(trimmed['units'])"
   ]
  },
  {
   "cell_type": "code",
   "execution_count": null,
   "metadata": {},
   "outputs": [],
   "source": []
  }
 ],
 "metadata": {
  "kernelspec": {
   "display_name": "Python 3",
   "language": "python",
   "name": "python3"
  },
  "language_info": {
   "codemirror_mode": {
    "name": "ipython",
    "version": 3
   },
   "file_extension": ".py",
   "mimetype": "text/x-python",
   "name": "python",
   "nbconvert_exporter": "python",
   "pygments_lexer": "ipython3",
   "version": "3.6.3"
  }
 },
 "nbformat": 4,
 "nbformat_minor": 2
}
