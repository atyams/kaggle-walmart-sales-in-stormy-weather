{
 "cells": [
  {
   "cell_type": "code",
   "execution_count": 3,
   "metadata": {},
   "outputs": [
    {
     "name": "stdout",
     "output_type": "stream",
     "text": [
      "import configuration completed !\n",
      "function configuration completed ! \n",
      "Good to go !\n"
     ]
    }
   ],
   "source": [
    "from ml_config import *\n",
    "from jw_package import *"
   ]
  },
  {
   "cell_type": "code",
   "execution_count": 290,
   "metadata": {
    "scrolled": true
   },
   "outputs": [],
   "source": [
    "def missing_to_nan(store_nbr):\n",
    "    store = df_1[df_1['store_nbr'] == store_nbr]\n",
    "    \n",
    "    # sunrise, sunset, category는 연속형변수가 아니므로 일단 뺌\n",
    "    weathers = set(list(store.columns)[2:20])\n",
    "    targets = weathers - {'sunset','sunrise','codesum'}\n",
    "    \n",
    "    def trim_str(x):\n",
    "                            # 실수 추출\n",
    "        result = re.findall('(\\d+(?:\\.\\d+)?)',x)\n",
    "        if result:\n",
    "            return float(result[0])\n",
    "        return ''\n",
    "    \n",
    "    for weather in targets:\n",
    "        feature = store[weather].astype(str).apply(trim_str)\n",
    "        store.loc[feature == '', weather] = np.nan\n",
    "        store.loc[:,weather] = store[weather].astype(float)\n",
    "\n",
    "    return store.reset_index(drop=True)"
   ]
  },
  {
   "cell_type": "code",
   "execution_count": 182,
   "metadata": {},
   "outputs": [],
   "source": [
    "def how_many_missing(nan_store, weather):\n",
    "    total = len(nan_store)\n",
    "    not_missing = len(nan_store[weather].dropna())\n",
    "    \n",
    "    msg = weather + ' : '\n",
    "    msg += 'total = '+ str(total) +' '\n",
    "    msg += ', missing = '+ str(total - not_missing)\n",
    "    \n",
    "    return msg"
   ]
  },
  {
   "cell_type": "code",
   "execution_count": 310,
   "metadata": {},
   "outputs": [
    {
     "name": "stderr",
     "output_type": "stream",
     "text": [
      "d:\\anaconda\\lib\\site-packages\\pandas\\core\\indexing.py:517: SettingWithCopyWarning: \n",
      "A value is trying to be set on a copy of a slice from a DataFrame.\n",
      "Try using .loc[row_indexer,col_indexer] = value instead\n",
      "\n",
      "See the caveats in the documentation: http://pandas.pydata.org/pandas-docs/stable/indexing.html#indexing-view-versus-copy\n",
      "  self.obj[item] = s\n"
     ]
    }
   ],
   "source": [
    "store = missing_to_nan(1)"
   ]
  },
  {
   "cell_type": "code",
   "execution_count": 230,
   "metadata": {},
   "outputs": [
    {
     "data": {
      "text/plain": [
       "'tmax : total = 103119 , missing = 222'"
      ]
     },
     "execution_count": 230,
     "metadata": {},
     "output_type": "execute_result"
    }
   ],
   "source": [
    "how_many_missing(store,'tmax')"
   ]
  },
  {
   "cell_type": "code",
   "execution_count": null,
   "metadata": {},
   "outputs": [],
   "source": [
    "def all_missing(nan_store, weather):\n",
    "    # 1. 같은 station을 가지는 store를 찾음\n",
    "    # 2. 걔네들의 해당 feature 평균값을 구함\n",
    "    # 3. 평균값을 missing자리에 넣음\n",
    "    \n",
    "    "
   ]
  },
  {
   "cell_type": "code",
   "execution_count": 301,
   "metadata": {},
   "outputs": [],
   "source": [
    "def partial_missing(nan_store, weather):\n",
    "    nan_feature = nan_store[weather]\n",
    "\n",
    "    nan_feature[nan_feature.isnull()] = nan_feature.mean()\n",
    "\n",
    "    nan_store[weather] = nan_feature\n",
    "\n",
    "    return nan_store"
   ]
  },
  {
   "cell_type": "code",
   "execution_count": 304,
   "metadata": {},
   "outputs": [],
   "source": [
    "def replace_by_mean(nan_store, weather):\n",
    "    total = len(nan_store)\n",
    "    not_missing = len(nan_store[weather].dropna())\n",
    "    \n",
    "    # 1. 아예 없다\n",
    "    # 같은 station의 store의 평균\n",
    "    if not_missing == 0:\n",
    "        return all_gone(nan_store, weather)\n",
    "        \n",
    "    # 2. 있긴 있다\n",
    "    # 그 store의 평균\n",
    "    elif 0 < not_missing < total:\n",
    "        return partial_gone(nan_store, weather)\n",
    "    \n",
    "    # missing이 없는 경우는 아무것도 안함    "
   ]
  },
  {
   "cell_type": "code",
   "execution_count": 311,
   "metadata": {},
   "outputs": [
    {
     "name": "stderr",
     "output_type": "stream",
     "text": [
      "d:\\anaconda\\lib\\site-packages\\ipykernel_launcher.py:4: SettingWithCopyWarning: \n",
      "A value is trying to be set on a copy of a slice from a DataFrame\n",
      "\n",
      "See the caveats in the documentation: http://pandas.pydata.org/pandas-docs/stable/indexing.html#indexing-view-versus-copy\n",
      "  after removing the cwd from sys.path.\n"
     ]
    }
   ],
   "source": [
    "filled = replace_by_mean(store,'tmax')"
   ]
  },
  {
   "cell_type": "code",
   "execution_count": 313,
   "metadata": {},
   "outputs": [
    {
     "data": {
      "text/plain": [
       "'tmax : total = 103119 , missing = 0'"
      ]
     },
     "execution_count": 313,
     "metadata": {},
     "output_type": "execute_result"
    }
   ],
   "source": [
    "how_many_missing(filled,'tmax')"
   ]
  },
  {
   "cell_type": "code",
   "execution_count": null,
   "metadata": {},
   "outputs": [],
   "source": []
  }
 ],
 "metadata": {
  "kernelspec": {
   "display_name": "Python 3",
   "language": "python",
   "name": "python3"
  },
  "language_info": {
   "codemirror_mode": {
    "name": "ipython",
    "version": 3
   },
   "file_extension": ".py",
   "mimetype": "text/x-python",
   "name": "python",
   "nbconvert_exporter": "python",
   "pygments_lexer": "ipython3",
   "version": "3.6.3"
  }
 },
 "nbformat": 4,
 "nbformat_minor": 2
}
