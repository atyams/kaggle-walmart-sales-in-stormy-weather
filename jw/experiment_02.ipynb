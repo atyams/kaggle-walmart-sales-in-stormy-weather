{
 "cells": [
  {
   "cell_type": "code",
   "execution_count": 22,
   "metadata": {},
   "outputs": [],
   "source": [
    "from jw_package import *\n",
    "from functools import reduce"
   ]
  },
  {
   "cell_type": "markdown",
   "metadata": {},
   "source": [
    "# 1. weather_v4\n",
    "# 2. 전체 item, 한번이라도 팔린 item\n",
    "# 3. 전체 store vs 각 store별\n",
    "\n",
    "# 전체 item + 전체 store = 0.052\n",
    "# 한번이라도 팔린 item + 전체 store = 0.075\n",
    "# 전체 item + 각 store별 = 0.071\n",
    "# 한번이라도 팔린 item + 각 store별 = 0.071"
   ]
  },
  {
   "cell_type": "code",
   "execution_count": 6,
   "metadata": {},
   "outputs": [],
   "source": [
    "sales = pd.read_csv('../data/basic/train.csv')\n",
    "keys = pd.read_csv('../data/basic/key.csv')\n",
    "raw = pd.read_csv('../data/weather_v4_delete_nan.csv',index_col=0)"
   ]
  },
  {
   "cell_type": "code",
   "execution_count": 7,
   "metadata": {},
   "outputs": [],
   "source": [
    "data = sales.merge(keys).merge(raw)"
   ]
  },
  {
   "cell_type": "code",
   "execution_count": 14,
   "metadata": {},
   "outputs": [],
   "source": [
    "cols = list(data.columns[3:])\n",
    "cols.remove('station_nbr')\n",
    "cols.remove('sunset')\n",
    "cols.remove('sunrise')\n",
    "cols.remove('codesum')"
   ]
  },
  {
   "cell_type": "code",
   "execution_count": 15,
   "metadata": {},
   "outputs": [
    {
     "data": {
      "text/plain": [
       "['units',\n",
       " 'tmax',\n",
       " 'tmin',\n",
       " 'tavg',\n",
       " 'depart',\n",
       " 'dewpoint',\n",
       " 'wetbulb',\n",
       " 'heat',\n",
       " 'cool',\n",
       " 'snowfall',\n",
       " 'preciptotal',\n",
       " 'stnpressure',\n",
       " 'sealevel',\n",
       " 'resultspeed',\n",
       " 'resultdir',\n",
       " 'avgspeed']"
      ]
     },
     "execution_count": 15,
     "metadata": {},
     "output_type": "execute_result"
    }
   ],
   "source": [
    "cols"
   ]
  },
  {
   "cell_type": "code",
   "execution_count": 16,
   "metadata": {},
   "outputs": [],
   "source": [
    "formula = columns_to_relation(cols,None,'units',False)"
   ]
  },
  {
   "cell_type": "code",
   "execution_count": 17,
   "metadata": {},
   "outputs": [
    {
     "data": {
      "text/plain": [
       "'units ~ tmax + tmin + tavg + depart + dewpoint + wetbulb + heat + cool + snowfall + preciptotal + stnpressure + sealevel + resultspeed + resultdir + avgspeed'"
      ]
     },
     "execution_count": 17,
     "metadata": {},
     "output_type": "execute_result"
    }
   ],
   "source": [
    "formula"
   ]
  },
  {
   "cell_type": "code",
   "execution_count": 18,
   "metadata": {},
   "outputs": [
    {
     "name": "stderr",
     "output_type": "stream",
     "text": [
      "d:\\anaconda\\lib\\site-packages\\statsmodels\\regression\\linear_model.py:1386: RuntimeWarning: invalid value encountered in double_scalars\n",
      "  return 1 - self.ssr/self.centered_tss\n"
     ]
    },
    {
     "name": "stdout",
     "output_type": "stream",
     "text": [
      "37 0.343402842785\n",
      "45 0.343709594869\n"
     ]
    }
   ],
   "source": [
    "results=[0,]\n",
    "mean = 0\n",
    "n = 0\n",
    "for item_nbr in range(1,112):\n",
    "    frame = data[data['item_nbr']==item_nbr]\n",
    "    \n",
    "    model = sm.OLS.from_formula(formula,data=frame)\n",
    "    \n",
    "    r2 = model.fit().rsquared\n",
    "    \n",
    "    if not np.isnan(r2):\n",
    "#         print(item_nbr, r2)\n",
    "        mean+=r2\n",
    "        n+=1\n",
    "    \n",
    "    if r2>=0.3:\n",
    "        print(item_nbr,r2)\n",
    "    \n",
    "    results.append(model)"
   ]
  },
  {
   "cell_type": "code",
   "execution_count": 19,
   "metadata": {},
   "outputs": [
    {
     "data": {
      "text/plain": [
       "0.052193409068744728"
      ]
     },
     "execution_count": 19,
     "metadata": {},
     "output_type": "execute_result"
    }
   ],
   "source": [
    "mean/n"
   ]
  },
  {
   "cell_type": "code",
   "execution_count": 23,
   "metadata": {},
   "outputs": [
    {
     "name": "stdout",
     "output_type": "stream",
     "text": [
      "[ 2  6 38 42  7 13  8 12 43 16 19 21 29 33 30 36]\n",
      "2 [ 5 44 11 85 93]\n",
      "6 [  9  45  14 107]\n",
      "38 [ 9 45 52 93 86 98]\n",
      "42 [ 5 45 82]\n",
      "7 [ 5  7 23 93 95]\n",
      "13 [  5  36  46  93 104]\n",
      "8 [  5  23  59  93  84 100]\n",
      "12 [16 37 79 93 86]\n",
      "43 [ 16  37  73  93   3 105]\n",
      "16 [16 25 39 50 85 93 77 64]\n",
      "19 [16 83 39 69 93 88 75 15]\n",
      "21 [  5  44  91 109]\n",
      "29 [ 8 41 45 56]\n",
      "33 [ 9 44 85 92 93]\n",
      "30 [16 44 49 51 65 13]\n",
      "36 [ 9 44 30  1]\n"
     ]
    }
   ],
   "source": [
    "no_zero = data.copy()\n",
    "result=[]\n",
    "stores = data['store_nbr'].unique()\n",
    "print(stores)\n",
    "for store in list(stores):\n",
    "    item_nbr = data[(data['store_nbr']==store) & (data['units']!=0)]\n",
    "    this_stores_items = item_nbr['item_nbr'].unique()\n",
    "    print(store, this_stores_items)\n",
    "    for each in list(this_stores_items):\n",
    "        tok = no_zero[(no_zero['store_nbr']==store) & (no_zero['item_nbr']==each)]\n",
    "        result.append(tok)\n",
    "      \n",
    "no_zero = reduce((lambda x,y : x.append(y)), result)"
   ]
  },
  {
   "cell_type": "code",
   "execution_count": 24,
   "metadata": {},
   "outputs": [
    {
     "name": "stdout",
     "output_type": "stream",
     "text": [
      "[  5  44  11  85  93   9  45  14 107  52  86  98  82   7  23  95  36  46\n",
      " 104  59  84 100  16  37  79  73   3 105  25  39  50  77  64  83  69  88\n",
      "  75  15  91 109   8  41  56  92  49  51  65  13  30   1]\n",
      "23 0.506585851142\n",
      "51 0.373154356158\n"
     ]
    }
   ],
   "source": [
    "results=[0,]\n",
    "mean = 0\n",
    "n = 0\n",
    "print(no_zero['item_nbr'].unique())\n",
    "for item_nbr in no_zero['item_nbr'].unique():\n",
    "    frame = no_zero[no_zero['item_nbr']==item_nbr]\n",
    "    \n",
    "    model = sm.OLS.from_formula(formula,data=frame)\n",
    "    \n",
    "    r2 = model.fit().rsquared\n",
    "    \n",
    "    if not np.isnan(r2):\n",
    "        mean+=r2\n",
    "        n+=1\n",
    "        \n",
    "        if r2>=0.3:\n",
    "            print(item_nbr, r2)\n",
    "    \n",
    "    results.append(model)"
   ]
  },
  {
   "cell_type": "code",
   "execution_count": 25,
   "metadata": {},
   "outputs": [
    {
     "data": {
      "text/plain": [
       "0.075314044365546715"
      ]
     },
     "execution_count": 25,
     "metadata": {},
     "output_type": "execute_result"
    }
   ],
   "source": [
    "mean/n"
   ]
  },
  {
   "cell_type": "code",
   "execution_count": 26,
   "metadata": {},
   "outputs": [
    {
     "name": "stdout",
     "output_type": "stream",
     "text": [
      "[ 2  6 38 42  7 13  8 12 43 16 19 21 29 33 30 36]\n",
      "2 5 0.0262456702298\n"
     ]
    },
    {
     "name": "stderr",
     "output_type": "stream",
     "text": [
      "d:\\anaconda\\lib\\site-packages\\statsmodels\\regression\\linear_model.py:1386: RuntimeWarning: invalid value encountered in double_scalars\n",
      "  return 1 - self.ssr/self.centered_tss\n"
     ]
    },
    {
     "name": "stdout",
     "output_type": "stream",
     "text": [
      "2 11 0.0458359707646\n",
      "2 44 0.0365560285157\n",
      "2 85 0.218020605943\n",
      "2 93 0.0663645282834\n",
      "6 9 0.0202528746617\n",
      "6 14 0.0474672019245\n",
      "6 45 0.0345134855461\n",
      "6 107 0.0453388092174\n",
      "38 9 0.0491750232671\n",
      "38 45 0.0573994909263\n",
      "38 52 0.0182300448955\n",
      "38 86 0.0553785386226\n",
      "38 93 0.067188627668\n",
      "38 98 0.111120265442\n",
      "42 5 0.0252134883723\n",
      "42 45 0.0774639235104\n",
      "42 82 0.0405864828644\n",
      "7 5 0.0490712022305\n",
      "7 7 0.0218443930545\n",
      "7 23 0.043375609305\n",
      "7 93 0.0784041273424\n",
      "7 95 0.0995740430863\n",
      "13 5 0.0499218617447\n",
      "13 36 0.0585603932047\n",
      "13 46 0.0476179954609\n",
      "13 93 0.0645701691375\n",
      "13 104 0.105161171042\n",
      "8 5 0.0810882466955\n",
      "8 23 0.0216062121299\n",
      "8 59 0.0138820697173\n",
      "8 84 0.0511082532839\n",
      "8 93 0.0739625951392\n",
      "8 100 0.0235550925493\n",
      "12 16 0.0841545445382\n",
      "12 37 0.0574378265037\n",
      "12 79 0.0199817950011\n",
      "12 86 0.0493217453524\n",
      "12 93 0.142975580846\n",
      "43 3 0.104303368209\n",
      "43 16 0.112190032346\n",
      "43 37 0.105706161238\n",
      "43 73 0.0307693978641\n",
      "43 93 0.0624698221011\n",
      "43 105 0.0230421082421\n",
      "16 16 0.109916051021\n",
      "16 25 0.0482650529755\n",
      "16 39 0.154904572807\n",
      "16 50 0.104043229389\n",
      "16 64 0.0633100336954\n",
      "16 77 0.0545883802164\n",
      "16 85 0.0986183351592\n",
      "16 93 0.0548662026742\n",
      "19 15 0.162093326537\n",
      "19 16 0.0721550861334\n",
      "19 39 0.208201891135\n",
      "19 69 0.0287188609842\n",
      "19 75 0.0559949406758\n",
      "19 83 0.0381651906816\n",
      "19 88 0.0877296752023\n",
      "19 93 0.1159156314\n",
      "21 5 0.0388601742526\n",
      "21 44 0.058813355382\n",
      "21 91 0.0122738441432\n",
      "21 109 0.0845005979787\n",
      "29 8 0.0281475670645\n",
      "29 41 0.0222186499827\n",
      "29 45 0.0807289592989\n",
      "29 56 0.0313414704359\n",
      "33 9 0.0354631952709\n",
      "33 44 0.0290126557106\n",
      "33 85 0.116877005253\n",
      "33 92 0.11219033961\n",
      "33 93 0.0604471602904\n",
      "30 13 0.115640047624\n",
      "30 16 0.0930741277434\n",
      "30 44 0.148421349143\n",
      "30 49 0.105555713183\n",
      "30 51 0.373154356158\n",
      "30 65 0.0212608104934\n",
      "36 1 0.0779250783253\n",
      "36 9 0.0321304333717\n",
      "36 30 0.0157337646652\n",
      "36 44 0.111911382493\n"
     ]
    }
   ],
   "source": [
    "results=[0,]\n",
    "mean = 0\n",
    "n = 0\n",
    "print(data['store_nbr'].unique())\n",
    "for store_nbr in data['store_nbr'].unique():\n",
    "    store = data[data['store_nbr']==store_nbr]\n",
    "    \n",
    "    store_result=[]\n",
    "    \n",
    "    for item_nbr in store['item_nbr'].unique():\n",
    "        \n",
    "        frame = store[store['item_nbr']==item_nbr]\n",
    "        \n",
    "        model = sm.OLS.from_formula(formula,data=frame)\n",
    "        \n",
    "        r2 = model.fit().rsquared\n",
    "        \n",
    "        if not np.isnan(r2):\n",
    "            \n",
    "            if r2>=0.3\n",
    "                print(store_nbr, item_nbr, r2)\n",
    "            mean+=r2\n",
    "            n+=1\n",
    "        \n",
    "        store_result.append(model)\n",
    "        \n",
    "    results.append(store_result)\n",
    "    \n"
   ]
  },
  {
   "cell_type": "code",
   "execution_count": 27,
   "metadata": {},
   "outputs": [
    {
     "data": {
      "text/plain": [
       "0.071204468768795021"
      ]
     },
     "execution_count": 27,
     "metadata": {},
     "output_type": "execute_result"
    }
   ],
   "source": [
    "mean/n"
   ]
  },
  {
   "cell_type": "code",
   "execution_count": 30,
   "metadata": {},
   "outputs": [
    {
     "name": "stdout",
     "output_type": "stream",
     "text": [
      "[ 2  6 38 42  7 13  8 12 43 16 19 21 29 33 30 36]\n",
      "2 [ 5 44 11 85 93]\n",
      "6 [  9  45  14 107]\n",
      "38 [ 9 45 52 93 86 98]\n",
      "42 [ 5 45 82]\n",
      "7 [ 5  7 23 93 95]\n",
      "13 [  5  36  46  93 104]\n",
      "8 [  5  23  59  93  84 100]\n",
      "12 [16 37 79 93 86]\n",
      "43 [ 16  37  73  93   3 105]\n",
      "16 [16 25 39 50 85 93 77 64]\n",
      "19 [16 83 39 69 93 88 75 15]\n",
      "21 [  5  44  91 109]\n",
      "29 [ 8 41 45 56]\n",
      "33 [ 9 44 85 92 93]\n",
      "30 [16 44 49 51 65 13]\n",
      "30 51 0.373154356158\n",
      "36 [ 9 44 30  1]\n"
     ]
    }
   ],
   "source": [
    "results=[0,]\n",
    "mean = 0\n",
    "n = 0\n",
    "print(no_zero['store_nbr'].unique())\n",
    "for store_nbr in no_zero['store_nbr'].unique():\n",
    "    store = no_zero[no_zero['store_nbr']==store_nbr]\n",
    "    \n",
    "    store_result=[]\n",
    "    \n",
    "    print(store_nbr, store['item_nbr'].unique())\n",
    "    \n",
    "    for item_nbr in store['item_nbr'].unique():\n",
    "        \n",
    "        frame = store[store['item_nbr']==item_nbr]\n",
    "        \n",
    "        model = sm.OLS.from_formula(formula,data=frame)\n",
    "        \n",
    "        r2 = model.fit().rsquared\n",
    "        \n",
    "        if not np.isnan(r2):\n",
    "            if r2>=0.3:\n",
    "                print(store_nbr, item_nbr, r2)\n",
    "            mean+=r2\n",
    "            n+=1\n",
    "        \n",
    "        store_result.append(model)\n",
    "        \n",
    "    results.append(store_result)\n",
    "    \n"
   ]
  },
  {
   "cell_type": "code",
   "execution_count": 31,
   "metadata": {},
   "outputs": [
    {
     "data": {
      "text/plain": [
       "0.071204468768795021"
      ]
     },
     "execution_count": 31,
     "metadata": {},
     "output_type": "execute_result"
    }
   ],
   "source": [
    "mean/n"
   ]
  },
  {
   "cell_type": "code",
   "execution_count": null,
   "metadata": {},
   "outputs": [],
   "source": []
  }
 ],
 "metadata": {
  "kernelspec": {
   "display_name": "Python 3",
   "language": "python",
   "name": "python3"
  },
  "language_info": {
   "codemirror_mode": {
    "name": "ipython",
    "version": 3
   },
   "file_extension": ".py",
   "mimetype": "text/x-python",
   "name": "python",
   "nbconvert_exporter": "python",
   "pygments_lexer": "ipython3",
   "version": "3.6.3"
  }
 },
 "nbformat": 4,
 "nbformat_minor": 2
}
