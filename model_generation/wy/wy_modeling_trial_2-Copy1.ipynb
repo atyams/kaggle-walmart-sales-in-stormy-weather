{
 "cells": [
  {
   "cell_type": "code",
   "execution_count": null,
   "metadata": {},
   "outputs": [],
   "source": [
    "from set_math import *"
   ]
  },
  {
   "cell_type": "code",
   "execution_count": null,
   "metadata": {},
   "outputs": [],
   "source": [
    "from set_visualization import *"
   ]
  },
  {
   "cell_type": "markdown",
   "metadata": {},
   "source": [
    "# load and merge data"
   ]
  },
  {
   "cell_type": "code",
   "execution_count": null,
   "metadata": {},
   "outputs": [],
   "source": [
    "train = pd.read_csv(\"../../data/basic/train.csv\")\n",
    "key = pd.read_csv(\"../../data/basic/key.csv\")\n",
    "weather1 = pd.read_csv(\"../../data/weather_v8_with_holiday.csv\", index_col = 0)"
   ]
  },
  {
   "cell_type": "code",
   "execution_count": null,
   "metadata": {},
   "outputs": [],
   "source": [
    "df = pd.merge(train, key)"
   ]
  },
  {
   "cell_type": "code",
   "execution_count": null,
   "metadata": {},
   "outputs": [],
   "source": [
    "df1 = pd.merge(df, weather1)\n",
    "df1 = pd.DataFrame(data=df1, columns=['date', 'units','store_nbr','item_nbr', 'station_nbr', \n",
    "                                      'tmax', 'tmin', 'tavg', 'depart', 'dewpoint', 'wetbulb', 'heat', 'cool', \n",
    "                                      'sunrise', 'sunset', 'snowfall', 'preciptotal',\n",
    "                                      'stnpressure', 'sealevel', 'resultspeed', 'resultdir', 'avgspeed', \n",
    "                                      'codesum', 'codesum_YN', 'dayofweek', 'is_holiday'])\n",
    "print(df1.shape)\n",
    "print(df1.columns)\n",
    "df1.head()"
   ]
  },
  {
   "cell_type": "markdown",
   "metadata": {},
   "source": [
    "# 단 한번도 팔리지 않은 item_nbr 가 있는지 확인."
   ]
  },
  {
   "cell_type": "code",
   "execution_count": null,
   "metadata": {},
   "outputs": [],
   "source": [
    "df_test = df1"
   ]
  },
  {
   "cell_type": "code",
   "execution_count": null,
   "metadata": {},
   "outputs": [],
   "source": [
    "table = pd.pivot_table(df_test, values = ['units'], index=['store_nbr'], columns=['item_nbr'], aggfunc=np.sum)"
   ]
  },
  {
   "cell_type": "code",
   "execution_count": null,
   "metadata": {},
   "outputs": [],
   "source": [
    "table = table['units']"
   ]
  },
  {
   "cell_type": "code",
   "execution_count": null,
   "metadata": {},
   "outputs": [],
   "source": [
    "sold_item = []\n",
    "for j in range(1, 45+1):\n",
    "    for i in range(1, 111+1):\n",
    "        if table[i].loc[j] != 0:\n",
    "            sold_item.append(i)\n",
    "\n",
    "print(sold_item)"
   ]
  },
  {
   "cell_type": "code",
   "execution_count": null,
   "metadata": {},
   "outputs": [],
   "source": [
    "not_sold=[]\n",
    "for num in range(1, 111+1):\n",
    "    if num not in sold_item == True:\n",
    "        not_sold.append(num)\n",
    "        \n",
    "print(not_sold)"
   ]
  },
  {
   "cell_type": "markdown",
   "metadata": {},
   "source": [
    "### 단 한번도 팔리지 않은 아이템은 없다"
   ]
  },
  {
   "cell_type": "markdown",
   "metadata": {},
   "source": [
    "# units이 0이면 제외"
   ]
  },
  {
   "cell_type": "code",
   "execution_count": null,
   "metadata": {
    "scrolled": true
   },
   "outputs": [],
   "source": [
    "df_test = df_test[df_test[\"units\"] > 0].reset_index(drop=True)\n",
    "print(df_test.shape)\n",
    "df_test.head()"
   ]
  },
  {
   "cell_type": "code",
   "execution_count": null,
   "metadata": {},
   "outputs": [],
   "source": []
  },
  {
   "cell_type": "code",
   "execution_count": null,
   "metadata": {},
   "outputs": [],
   "source": []
  },
  {
   "cell_type": "code",
   "execution_count": null,
   "metadata": {},
   "outputs": [],
   "source": []
  },
  {
   "cell_type": "code",
   "execution_count": null,
   "metadata": {},
   "outputs": [],
   "source": []
  },
  {
   "cell_type": "code",
   "execution_count": null,
   "metadata": {},
   "outputs": [],
   "source": []
  },
  {
   "cell_type": "code",
   "execution_count": null,
   "metadata": {},
   "outputs": [],
   "source": []
  },
  {
   "cell_type": "code",
   "execution_count": null,
   "metadata": {},
   "outputs": [],
   "source": []
  },
  {
   "cell_type": "code",
   "execution_count": null,
   "metadata": {},
   "outputs": [],
   "source": []
  },
  {
   "cell_type": "code",
   "execution_count": null,
   "metadata": {},
   "outputs": [],
   "source": []
  },
  {
   "cell_type": "markdown",
   "metadata": {},
   "source": [
    "# Trial 0 : units=0을 제외한 모든 데이터 & 모든 독립변수\n",
    "\n",
    "- 실수형 : 모든 실수형 피쳐\n",
    "- 카테고리형 : item_nbr, store_nbr"
   ]
  },
  {
   "cell_type": "code",
   "execution_count": null,
   "metadata": {
    "scrolled": true
   },
   "outputs": [],
   "source": [
    "model_1 = sm.OLS.from_formula('units ~ tmax + tmin + tavg + depart + dewpoint + wetbulb + heat + cool + sunrise + sunset + codesum_YN + snowfall + preciptotal + stnpressure + sealevel + resultspeed + resultdir + avgspeed + C(item_nbr) + C(store_nbr) + codesum_YN + is_holiday + 0', data=df_test)\n",
    "result_1 = model_1.fit()\n",
    "print(result_1.summary())"
   ]
  },
  {
   "cell_type": "code",
   "execution_count": null,
   "metadata": {},
   "outputs": [],
   "source": []
  },
  {
   "cell_type": "code",
   "execution_count": null,
   "metadata": {},
   "outputs": [],
   "source": []
  },
  {
   "cell_type": "code",
   "execution_count": null,
   "metadata": {},
   "outputs": [],
   "source": []
  },
  {
   "cell_type": "markdown",
   "metadata": {},
   "source": [
    "# 1. Correlation & VIF"
   ]
  },
  {
   "cell_type": "markdown",
   "metadata": {},
   "source": [
    "### 실수형 독립변수 corrleation"
   ]
  },
  {
   "cell_type": "code",
   "execution_count": null,
   "metadata": {},
   "outputs": [],
   "source": [
    "df_test.columns"
   ]
  },
  {
   "cell_type": "code",
   "execution_count": null,
   "metadata": {},
   "outputs": [],
   "source": [
    "dfX1 = df_test[['units', 'tmax', 'tmin',\n",
    "               'tavg', 'depart', 'dewpoint', 'wetbulb', 'heat', 'cool', 'sunrise','sunset',\n",
    "               'snowfall', 'preciptotal', 'stnpressure', 'sealevel',\n",
    "               'resultspeed', 'resultdir', 'avgspeed']]"
   ]
  },
  {
   "cell_type": "code",
   "execution_count": null,
   "metadata": {},
   "outputs": [],
   "source": [
    "fig = plt.figure(figsize=(20, 15))\n",
    "for i in range(0,18):\n",
    "    plt.subplot(6, 3, i+1)\n",
    "    plt.hist(dfX1[dfX1.columns[i]], bins=50)\n",
    "    plt.xlabel(dfX1.columns[i], fontsize = 20)\n",
    "plt.tight_layout()"
   ]
  },
  {
   "cell_type": "code",
   "execution_count": null,
   "metadata": {},
   "outputs": [],
   "source": []
  },
  {
   "cell_type": "code",
   "execution_count": null,
   "metadata": {},
   "outputs": [],
   "source": [
    "dfX1_corr = dfX1.corr()"
   ]
  },
  {
   "cell_type": "code",
   "execution_count": null,
   "metadata": {},
   "outputs": [],
   "source": [
    "dfX1_corr"
   ]
  },
  {
   "cell_type": "code",
   "execution_count": null,
   "metadata": {},
   "outputs": [],
   "source": [
    "dfX1_corr['units'] > 0.05\n",
    "\n",
    "# heat, sunset, resultspeed, avgspeed"
   ]
  },
  {
   "cell_type": "code",
   "execution_count": null,
   "metadata": {},
   "outputs": [],
   "source": [
    "dfX1_corr['units'] < -0.05\n",
    "\n",
    "#tmin, dewpoint, wetbulb, stnpressure "
   ]
  },
  {
   "cell_type": "markdown",
   "metadata": {},
   "source": [
    "##### `units와 그나마 높은 상관관계를 보이는 resultspeed, avgspeed, stnpressure`"
   ]
  },
  {
   "cell_type": "markdown",
   "metadata": {},
   "source": [
    "### 카테고리 독립변수 one-hot-encoding"
   ]
  },
  {
   "cell_type": "code",
   "execution_count": null,
   "metadata": {},
   "outputs": [],
   "source": [
    "def is_holiday(holiday):\n",
    "    if holiday == 'holiday':\n",
    "        return 1\n",
    "    elif holiday == 'holiday_work':\n",
    "        return 1\n",
    "    elif holiday == \"workday\":\n",
    "        return 0"
   ]
  },
  {
   "cell_type": "code",
   "execution_count": null,
   "metadata": {},
   "outputs": [],
   "source": [
    "df_test['is_holiday'] = df_test['is_holiday'].apply(is_holiday)"
   ]
  },
  {
   "cell_type": "code",
   "execution_count": null,
   "metadata": {},
   "outputs": [],
   "source": [
    "df_test[['codesum_YN', 'is_holiday']].head()"
   ]
  },
  {
   "cell_type": "markdown",
   "metadata": {},
   "source": [
    "## 1-1 : Correlation으로 거른 실수형 + 카테고리형 독립변수"
   ]
  },
  {
   "cell_type": "code",
   "execution_count": null,
   "metadata": {},
   "outputs": [],
   "source": [
    "df_test.columns"
   ]
  },
  {
   "cell_type": "code",
   "execution_count": null,
   "metadata": {},
   "outputs": [],
   "source": [
    "features = ['date', 'store_nbr', 'item_nbr', 'units', 'station_nbr', 'tmax', 'tmin',\n",
    "       'tavg', 'depart', 'dewpoint', 'wetbulb', 'heat', 'cool', 'sunrise',\n",
    "       'sunset', 'codesum', 'codesum_YN', 'snowfall', 'preciptotal',\n",
    "       'stnpressure', 'sealevel', 'resultspeed', 'resultdir', 'avgspeed',\n",
    "       'dayofweek', 'is_holiday']\n",
    "features = \" \".join(features)\n",
    "features = features.replace(\" \", \" + \")\n",
    "features"
   ]
  },
  {
   "cell_type": "markdown",
   "metadata": {},
   "source": [
    "### 1-1-1\n",
    "\n",
    "- 실수형 : resultspeed, avgspeed, stnpressure\n",
    "- 카테고리 : item_nbr, store_nbr"
   ]
  },
  {
   "cell_type": "code",
   "execution_count": null,
   "metadata": {
    "scrolled": true
   },
   "outputs": [],
   "source": [
    "model_1 = sm.OLS.from_formula('units ~ resultspeed + avgspeed + stnpressure  + C(item_nbr) + C(store_nbr)', data=df_test)\n",
    "result_1 = model_1.fit()\n",
    "print(result_1.summary())"
   ]
  },
  {
   "cell_type": "markdown",
   "metadata": {},
   "source": [
    "### 1-1-2\n",
    "\n",
    "- 실수형 : resultspeed, avgspeed, stnpressure\n",
    "- 카테고리 : item_nbr, store_nbr, codesum_YN"
   ]
  },
  {
   "cell_type": "code",
   "execution_count": null,
   "metadata": {},
   "outputs": [],
   "source": [
    "model_1 = sm.OLS.from_formula('units ~ resultspeed + avgspeed + stnpressure + codesum_YN + C(item_nbr) + C(store_nbr)', data=df_test)\n",
    "result_1 = model_1.fit()\n",
    "print(result_1.summary())"
   ]
  },
  {
   "cell_type": "markdown",
   "metadata": {},
   "source": [
    "### 1-1-3\n",
    "\n",
    "- 실수형 : resultspeed, avgspeed, stnpressure\n",
    "- 카테고리 : item_nbr, store_nbr, is_holiday"
   ]
  },
  {
   "cell_type": "code",
   "execution_count": null,
   "metadata": {
    "scrolled": true
   },
   "outputs": [],
   "source": [
    "model_1 = sm.OLS.from_formula('units ~ resultspeed + avgspeed + stnpressure + is_holiday + C(item_nbr) + C(store_nbr)', data=df_test)\n",
    "result_1 = model_1.fit()\n",
    "print(result_1.summary())"
   ]
  },
  {
   "cell_type": "markdown",
   "metadata": {},
   "source": [
    "### 1-1-4\n",
    "\n",
    "- 실수형 : resultspeed, avgspeed, stnpressure\n",
    "- 카테고리 : item_nbr, store_nbr, is_holiday, codesum_YN"
   ]
  },
  {
   "cell_type": "code",
   "execution_count": null,
   "metadata": {
    "scrolled": true
   },
   "outputs": [],
   "source": [
    "model_1 = sm.OLS.from_formula('units ~ resultspeed + avgspeed + stnpressure + is_holiday+ codesum_YN + C(item_nbr) + C(store_nbr)', data=df_test)\n",
    "result_1 = model_1.fit()\n",
    "print(result_1.summary())"
   ]
  },
  {
   "cell_type": "code",
   "execution_count": null,
   "metadata": {},
   "outputs": [],
   "source": []
  },
  {
   "cell_type": "markdown",
   "metadata": {},
   "source": [
    "### 1-2 : VIF 로 거른 실수형 + 카테고리형 독립변수\n",
    "\n",
    "\n",
    "#### VIF를 통한 실수형 독립변수 정리"
   ]
  },
  {
   "cell_type": "code",
   "execution_count": null,
   "metadata": {},
   "outputs": [],
   "source": [
    "df_for_vif = df_test[['tmax', 'tmin',\n",
    "       'tavg', 'depart', 'dewpoint', 'wetbulb', 'heat', 'cool', 'sunrise',\n",
    "       'sunset', 'snowfall', 'preciptotal', 'stnpressure', 'sealevel',\n",
    "       'resultspeed', 'resultdir', 'avgspeed']]"
   ]
  },
  {
   "cell_type": "code",
   "execution_count": null,
   "metadata": {},
   "outputs": [],
   "source": [
    "from statsmodels.stats.outliers_influence import variance_inflation_factor\n",
    "\n",
    "vif = pd.DataFrame()\n",
    "vif[\"VIF Factor\"] = [variance_inflation_factor(df_for_vif.values, i) for i in range(df_for_vif.shape[1])]\n",
    "vif[\"features\"] = df_for_vif.columns"
   ]
  },
  {
   "cell_type": "code",
   "execution_count": null,
   "metadata": {},
   "outputs": [],
   "source": [
    "vif.sort_values(by=['VIF Factor'], ascending=False).reset_index(drop=True)"
   ]
  },
  {
   "cell_type": "code",
   "execution_count": null,
   "metadata": {},
   "outputs": [],
   "source": [
    "del df_for_vif['tavg']"
   ]
  },
  {
   "cell_type": "code",
   "execution_count": null,
   "metadata": {},
   "outputs": [],
   "source": [
    "vif = pd.DataFrame()\n",
    "vif[\"VIF Factor\"] = [variance_inflation_factor(df_for_vif.values, i) for i in range(df_for_vif.shape[1])]\n",
    "vif[\"features\"] = df_for_vif.columns\n",
    "vif.sort_values(by=['VIF Factor'], ascending=False).reset_index(drop=True)"
   ]
  },
  {
   "cell_type": "code",
   "execution_count": null,
   "metadata": {},
   "outputs": [],
   "source": [
    "del df_for_vif['sealevel']"
   ]
  },
  {
   "cell_type": "code",
   "execution_count": null,
   "metadata": {},
   "outputs": [],
   "source": [
    "vif = pd.DataFrame()\n",
    "vif[\"VIF Factor\"] = [variance_inflation_factor(df_for_vif.values, i) for i in range(df_for_vif.shape[1])]\n",
    "vif[\"features\"] = df_for_vif.columns\n",
    "vif.sort_values(by=['VIF Factor'], ascending=False).reset_index(drop=True)"
   ]
  },
  {
   "cell_type": "code",
   "execution_count": null,
   "metadata": {},
   "outputs": [],
   "source": [
    "del df_for_vif['wetbulb']"
   ]
  },
  {
   "cell_type": "code",
   "execution_count": null,
   "metadata": {},
   "outputs": [],
   "source": [
    "vif = pd.DataFrame()\n",
    "vif[\"VIF Factor\"] = [variance_inflation_factor(df_for_vif.values, i) for i in range(df_for_vif.shape[1])]\n",
    "vif[\"features\"] = df_for_vif.columns\n",
    "vif.sort_values(by=['VIF Factor'], ascending=False).reset_index(drop=True)"
   ]
  },
  {
   "cell_type": "code",
   "execution_count": null,
   "metadata": {},
   "outputs": [],
   "source": [
    "del df_for_vif['sunset']\n",
    "vif = pd.DataFrame()\n",
    "vif[\"VIF Factor\"] = [variance_inflation_factor(df_for_vif.values, i) for i in range(df_for_vif.shape[1])]\n",
    "vif[\"features\"] = df_for_vif.columns\n",
    "vif.sort_values(by=['VIF Factor'], ascending=False).reset_index(drop=True)"
   ]
  },
  {
   "cell_type": "code",
   "execution_count": null,
   "metadata": {},
   "outputs": [],
   "source": [
    "del df_for_vif['stnpressure']\n",
    "vif = pd.DataFrame()\n",
    "vif[\"VIF Factor\"] = [variance_inflation_factor(df_for_vif.values, i) for i in range(df_for_vif.shape[1])]\n",
    "vif[\"features\"] = df_for_vif.columns\n",
    "vif.sort_values(by=['VIF Factor'], ascending=False).reset_index(drop=True)"
   ]
  },
  {
   "cell_type": "code",
   "execution_count": null,
   "metadata": {},
   "outputs": [],
   "source": [
    "del df_for_vif['tmin']\n",
    "vif = pd.DataFrame()\n",
    "vif[\"VIF Factor\"] = [variance_inflation_factor(df_for_vif.values, i) for i in range(df_for_vif.shape[1])]\n",
    "vif[\"features\"] = df_for_vif.columns\n",
    "vif.sort_values(by=['VIF Factor'], ascending=False).reset_index(drop=True)"
   ]
  },
  {
   "cell_type": "code",
   "execution_count": null,
   "metadata": {},
   "outputs": [],
   "source": [
    "del df_for_vif['tmax']\n",
    "vif = pd.DataFrame()\n",
    "vif[\"VIF Factor\"] = [variance_inflation_factor(df_for_vif.values, i) for i in range(df_for_vif.shape[1])]\n",
    "vif[\"features\"] = df_for_vif.columns\n",
    "vif.sort_values(by=['VIF Factor'], ascending=False).reset_index(drop=True)"
   ]
  },
  {
   "cell_type": "code",
   "execution_count": null,
   "metadata": {},
   "outputs": [],
   "source": [
    "del df_for_vif['sunrise']\n",
    "vif = pd.DataFrame()\n",
    "vif[\"VIF Factor\"] = [variance_inflation_factor(df_for_vif.values, i) for i in range(df_for_vif.shape[1])]\n",
    "vif[\"features\"] = df_for_vif.columns\n",
    "vif.sort_values(by=['VIF Factor'], ascending=False).reset_index(drop=True)"
   ]
  },
  {
   "cell_type": "code",
   "execution_count": null,
   "metadata": {},
   "outputs": [],
   "source": [
    "del df_for_vif['avgspeed']\n",
    "vif = pd.DataFrame()\n",
    "vif[\"VIF Factor\"] = [variance_inflation_factor(df_for_vif.values, i) for i in range(df_for_vif.shape[1])]\n",
    "vif[\"features\"] = df_for_vif.columns\n",
    "vif.sort_values(by=['VIF Factor'], ascending=False).reset_index(drop=True)"
   ]
  },
  {
   "cell_type": "markdown",
   "metadata": {},
   "source": [
    "dewpoint, resultdir, resultspeed, cool, heat, preciptotal, snowfall, depart"
   ]
  },
  {
   "cell_type": "markdown",
   "metadata": {},
   "source": [
    "depart, heat, cool, sunrise, snowfall, preciptotal,  resultspeed,  resultdir"
   ]
  },
  {
   "cell_type": "markdown",
   "metadata": {},
   "source": [
    "### 1-2-1\n",
    "\n",
    "- 실수형 : dewpoint, resultdir, resultspeed, cool, heat, preciptotal, snowfall, depart\n",
    "- 카테고리 : item_nbr, store_nbr"
   ]
  },
  {
   "cell_type": "code",
   "execution_count": null,
   "metadata": {
    "scrolled": true
   },
   "outputs": [],
   "source": [
    "model_1 = sm.OLS.from_formula('units ~ dewpoint + resultdir + resultspeed + cool + heat + preciptotal + snowfall + depart + C(item_nbr) + C(store_nbr) + 0', data=df_test)\n",
    "result_1 = model_1.fit()\n",
    "print(result_1.summary())"
   ]
  },
  {
   "cell_type": "markdown",
   "metadata": {},
   "source": [
    "### 1-2-2\n",
    "\n",
    "- 실수형 : resultdir, resultspeed, cool, heat, preciptotal, snowfall, depart\n",
    "- 카테고리 : item_nbr, store_nbr, is_holiday"
   ]
  },
  {
   "cell_type": "code",
   "execution_count": null,
   "metadata": {
    "scrolled": true
   },
   "outputs": [],
   "source": [
    "model_1 = sm.OLS.from_formula('units ~ resultdir + resultspeed + cool + heat + preciptotal + snowfall + depart + C(item_nbr) + C(store_nbr) + is_holiday + 0', data=df_test)\n",
    "result_1 = model_1.fit()\n",
    "print(result_1.summary())"
   ]
  },
  {
   "cell_type": "markdown",
   "metadata": {},
   "source": [
    "### 2-3\n",
    "\n",
    "- 실수형 : resultdir, resultspeed, cool, heat, preciptotal, snowfall, depart\n",
    "- 카테고리 : item_nbr, store_nbr, codesum_YN"
   ]
  },
  {
   "cell_type": "code",
   "execution_count": null,
   "metadata": {},
   "outputs": [],
   "source": [
    "model_1 = sm.OLS.from_formula('units ~ resultdir + resultspeed + cool + heat + preciptotal + snowfall + depart + C(item_nbr) + C(store_nbr) + codesum_YN + 0', data=df_test)\n",
    "result_1 = model_1.fit()\n",
    "print(result_1.summary())"
   ]
  },
  {
   "cell_type": "markdown",
   "metadata": {},
   "source": [
    "### 2-4\n",
    "\n",
    "- 실수형 : resultdir, resultspeed, cool, heat, preciptotal, snowfall, depart\n",
    "- 카테고리 : item_nbr, store_nbr, codesum_YN, is_holiday"
   ]
  },
  {
   "cell_type": "code",
   "execution_count": null,
   "metadata": {},
   "outputs": [],
   "source": [
    "model_1 = sm.OLS.from_formula('units ~ resultdir + resultspeed + cool + heat + preciptotal + snowfall + depart + C(item_nbr) + C(store_nbr) + codesum_YN + is_holiday + 0', data=df_test)\n",
    "result_1 = model_1.fit()\n",
    "print(result_1.summary())"
   ]
  },
  {
   "cell_type": "code",
   "execution_count": null,
   "metadata": {},
   "outputs": [],
   "source": []
  },
  {
   "cell_type": "code",
   "execution_count": null,
   "metadata": {},
   "outputs": [],
   "source": []
  },
  {
   "cell_type": "code",
   "execution_count": null,
   "metadata": {},
   "outputs": [],
   "source": []
  },
  {
   "cell_type": "markdown",
   "metadata": {},
   "source": [
    "# 최종 결정"
   ]
  },
  {
   "cell_type": "markdown",
   "metadata": {},
   "source": [
    "### 1-2-2\n",
    "\n",
    "- 실수형 : resultdir, resultspeed, cool, heat, preciptotal, snowfall, depart\n",
    "- 카테고리 : item_nbr, store_nbr, is_holiday"
   ]
  },
  {
   "cell_type": "code",
   "execution_count": null,
   "metadata": {},
   "outputs": [],
   "source": [
    "model_1 = sm.OLS.from_formula('units ~ resultdir + resultspeed + cool + heat + preciptotal + snowfall + depart + C(item_nbr) + C(store_nbr) + is_holiday + 0', data=df_test)\n",
    "result_1 = model_1.fit()\n",
    "print(result_1.summary())"
   ]
  },
  {
   "cell_type": "markdown",
   "metadata": {},
   "source": [
    "# Scaling 적용"
   ]
  },
  {
   "cell_type": "code",
   "execution_count": null,
   "metadata": {},
   "outputs": [],
   "source": [
    "model_s = sm.OLS.from_formula('units ~ scale(resultdir) + scale(resultspeed) + scale(cool) + scale(heat) + scale(preciptotal) + scale(snowfall) + scale(depart) + C(item_nbr) + C(store_nbr) + is_holiday + 0', data=df_test)\n",
    "result_s = model_s.fit()\n",
    "print(result_s.summary())"
   ]
  },
  {
   "cell_type": "code",
   "execution_count": null,
   "metadata": {},
   "outputs": [],
   "source": [
    " "
   ]
  },
  {
   "cell_type": "code",
   "execution_count": null,
   "metadata": {},
   "outputs": [],
   "source": [
    "model_s = sm.OLS.from_formula('units ~ scale(resultspeed) + scale(cool) + scale(heat) + scale(preciptotal) + scale(depart) + C(item_nbr) + C(store_nbr) + is_holiday + 0', data=df_test)\n",
    "result_s = model_s.fit()\n",
    "print(result_s.summary())"
   ]
  },
  {
   "cell_type": "code",
   "execution_count": null,
   "metadata": {},
   "outputs": [],
   "source": []
  },
  {
   "cell_type": "code",
   "execution_count": null,
   "metadata": {},
   "outputs": [],
   "source": []
  },
  {
   "cell_type": "code",
   "execution_count": null,
   "metadata": {},
   "outputs": [],
   "source": []
  },
  {
   "cell_type": "code",
   "execution_count": null,
   "metadata": {},
   "outputs": [],
   "source": []
  },
  {
   "cell_type": "code",
   "execution_count": null,
   "metadata": {},
   "outputs": [],
   "source": []
  },
  {
   "cell_type": "code",
   "execution_count": null,
   "metadata": {},
   "outputs": [],
   "source": []
  },
  {
   "cell_type": "code",
   "execution_count": null,
   "metadata": {},
   "outputs": [],
   "source": []
  },
  {
   "cell_type": "code",
   "execution_count": null,
   "metadata": {},
   "outputs": [],
   "source": []
  },
  {
   "cell_type": "code",
   "execution_count": null,
   "metadata": {},
   "outputs": [],
   "source": []
  },
  {
   "cell_type": "code",
   "execution_count": null,
   "metadata": {},
   "outputs": [],
   "source": []
  },
  {
   "cell_type": "code",
   "execution_count": null,
   "metadata": {},
   "outputs": [],
   "source": []
  },
  {
   "cell_type": "code",
   "execution_count": null,
   "metadata": {},
   "outputs": [],
   "source": []
  },
  {
   "cell_type": "code",
   "execution_count": null,
   "metadata": {},
   "outputs": [],
   "source": []
  },
  {
   "cell_type": "code",
   "execution_count": null,
   "metadata": {},
   "outputs": [],
   "source": []
  },
  {
   "cell_type": "markdown",
   "metadata": {},
   "source": [
    "# Outlier 제거"
   ]
  },
  {
   "cell_type": "code",
   "execution_count": null,
   "metadata": {},
   "outputs": [],
   "source": [
    "# 1차\n",
    "res = result_1.resid_pearson\n",
    "index = result_1.resid.index\n",
    "outlier_index = abs(res) >= 2\n",
    "\n",
    "row = pd.Series(index=index, data=res)\n",
    "drop_index = row[outlier_index].index"
   ]
  },
  {
   "cell_type": "code",
   "execution_count": null,
   "metadata": {},
   "outputs": [],
   "source": [
    "df_test.drop(list(drop_index),inplace=True)"
   ]
  },
  {
   "cell_type": "code",
   "execution_count": null,
   "metadata": {},
   "outputs": [],
   "source": [
    "model_1 = sm.OLS.from_formula('units ~ resultdir + resultspeed + cool + heat + preciptotal + snowfall + depart + C(item_nbr) + C(store_nbr) + is_holiday + 0',data=df_test)\n",
    "result_1 = model_1.fit()\n",
    "print(result_1.summary())"
   ]
  },
  {
   "cell_type": "code",
   "execution_count": null,
   "metadata": {},
   "outputs": [],
   "source": [
    "# 2차\n",
    "res = result_1.resid_pearson\n",
    "index = result_1.resid.index\n",
    "outlier_index = abs(res) >= 2\n",
    "\n",
    "row = pd.Series(index=index, data=res)\n",
    "drop_index = row[outlier_index].index"
   ]
  },
  {
   "cell_type": "code",
   "execution_count": null,
   "metadata": {},
   "outputs": [],
   "source": [
    "df_test.drop(list(drop_index),inplace=True)"
   ]
  },
  {
   "cell_type": "code",
   "execution_count": null,
   "metadata": {},
   "outputs": [],
   "source": [
    "model_1 = sm.OLS.from_formula('units ~ resultdir + resultspeed + cool + heat + preciptotal + snowfall + depart + C(item_nbr) + C(store_nbr) + is_holiday + 0',data=df_test)\n",
    "result_1 = model_1.fit()\n",
    "print(result_1.summary())"
   ]
  },
  {
   "cell_type": "code",
   "execution_count": null,
   "metadata": {},
   "outputs": [],
   "source": [
    "# 3차\n",
    "res = result_1.resid_pearson\n",
    "index = result_1.resid.index\n",
    "outlier_index = abs(res) >= 2\n",
    "\n",
    "row = pd.Series(index=index, data=res)\n",
    "drop_index = row[outlier_index].index"
   ]
  },
  {
   "cell_type": "code",
   "execution_count": null,
   "metadata": {},
   "outputs": [],
   "source": [
    "df_test.drop(list(drop_index),inplace=True)"
   ]
  },
  {
   "cell_type": "code",
   "execution_count": null,
   "metadata": {},
   "outputs": [],
   "source": [
    "model_1 = sm.OLS.from_formula('units ~ resultdir + resultspeed + cool + heat + preciptotal + snowfall + depart + C(item_nbr) + C(store_nbr) + is_holiday + 0',data=df_test)\n",
    "result_1 = model_1.fit()\n",
    "print(result_1.summary())"
   ]
  },
  {
   "cell_type": "code",
   "execution_count": null,
   "metadata": {},
   "outputs": [],
   "source": [
    "# 4차\n",
    "res = result_1.resid_pearson\n",
    "index = result_1.resid.index\n",
    "outlier_index = abs(res) >= 2\n",
    "\n",
    "row = pd.Series(index=index, data=res)\n",
    "drop_index = row[outlier_index].index"
   ]
  },
  {
   "cell_type": "code",
   "execution_count": null,
   "metadata": {},
   "outputs": [],
   "source": [
    "df_test.drop(list(drop_index),inplace=True)"
   ]
  },
  {
   "cell_type": "code",
   "execution_count": null,
   "metadata": {},
   "outputs": [],
   "source": [
    "model_1 = sm.OLS.from_formula('units ~ resultdir + resultspeed + cool + heat + preciptotal + snowfall + depart + C(item_nbr) + C(store_nbr) + is_holiday + 0',data=df_test)\n",
    "result_1 = model_1.fit()\n",
    "print(result_1.summary())"
   ]
  },
  {
   "cell_type": "code",
   "execution_count": null,
   "metadata": {},
   "outputs": [],
   "source": []
  }
 ],
 "metadata": {
  "kernelspec": {
   "display_name": "Python 3",
   "language": "python",
   "name": "python3"
  },
  "language_info": {
   "codemirror_mode": {
    "name": "ipython",
    "version": 3
   },
   "file_extension": ".py",
   "mimetype": "text/x-python",
   "name": "python",
   "nbconvert_exporter": "python",
   "pygments_lexer": "ipython3",
   "version": "3.6.2"
  }
 },
 "nbformat": 4,
 "nbformat_minor": 2
}
